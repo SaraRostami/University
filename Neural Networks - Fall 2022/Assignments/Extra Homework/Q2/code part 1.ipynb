{
  "nbformat": 4,
  "nbformat_minor": 0,
  "metadata": {
    "colab": {
      "provenance": []
    },
    "kernelspec": {
      "name": "python3",
      "display_name": "Python 3"
    },
    "language_info": {
      "name": "python"
    },
    "accelerator": "GPU",
    "gpuClass": "standard"
  },
  "cells": [
    {
      "cell_type": "code",
      "execution_count": null,
      "metadata": {
        "colab": {
          "base_uri": "https://localhost:8080/"
        },
        "id": "kz6P56kA4iUK",
        "outputId": "a992dbe0-653b-4b2e-ef5a-e9ed606a8bf2"
      },
      "outputs": [
        {
          "output_type": "stream",
          "name": "stdout",
          "text": [
            "Mounted at /content/drive\n"
          ]
        }
      ],
      "source": [
        "from google.colab import drive\n",
        "drive.mount('/content/drive')"
      ]
    },
    {
      "cell_type": "code",
      "source": [
        "\n",
        "import matplotlib.pyplot as plt\n",
        "from PIL import Image\n",
        "import numpy as np\n",
        "import math\n",
        "import copy\n",
        "import numpy as np\n",
        "from google.colab import files\n",
        "from keras.models import Sequential, Model\n",
        "from keras.layers import Input, Dense, Flatten, Dropout, Activation, Lambda, Permute, Reshape\n",
        "from keras.layers import Convolution2D, ZeroPadding2D, MaxPooling2D\n",
        "from keras.preprocessing import image\n",
        "from keras.preprocessing.image import ImageDataGenerator\n",
        "\n",
        "from sklearn.datasets import load_files       \n",
        "from keras.utils import np_utils\n",
        "import numpy as np\n",
        "from glob import glob\n",
        "import pandas as pd\n",
        "import cv2\n",
        "import scipy.misc\n",
        "import matplotlib.pyplot as plt\n",
        "from tqdm import tqdm\n"
      ],
      "metadata": {
        "id": "i8iL-2WJ5pqy"
      },
      "execution_count": null,
      "outputs": []
    },
    {
      "cell_type": "code",
      "source": [
        "base_path = 'drive/My Drive/Extra/Q2/data/'\n",
        "image_gen = ImageDataGenerator(rescale=1./255.)\n",
        "batch_size = 16\n",
        "train_flow = image_gen.flow_from_directory(\n",
        "    base_path + 'train/',\n",
        "    target_size=(224, 224),\n",
        "    batch_size=batch_size,\n",
        "    class_mode='binary'\n",
        ")\n",
        "valid_flow = image_gen.flow_from_directory(\n",
        "    base_path + 'valid/',\n",
        "    target_size=(224, 224),\n",
        "    batch_size=batch_size,\n",
        "    class_mode='binary'\n",
        ")"
      ],
      "metadata": {
        "id": "pppmDB3K5sDT",
        "colab": {
          "base_uri": "https://localhost:8080/"
        },
        "outputId": "18b10d3a-dae6-4255-cc19-4814f12e2285"
      },
      "execution_count": null,
      "outputs": [
        {
          "output_type": "stream",
          "name": "stdout",
          "text": [
            "Found 480 images belonging to 2 classes.\n",
            "Found 120 images belonging to 2 classes.\n"
          ]
        }
      ]
    },
    {
      "cell_type": "code",
      "source": [
        "from keras.layers import Conv2D, MaxPooling2D, GlobalAveragePooling2D\n",
        "from keras.layers import Dropout, Flatten, Dense\n",
        "from keras.models import Sequential\n",
        "from tensorflow.keras.layers import BatchNormalization"
      ],
      "metadata": {
        "id": "w9UFPQWj5urx"
      },
      "execution_count": null,
      "outputs": []
    },
    {
      "cell_type": "code",
      "source": [
        "model = Sequential()\n",
        "\n",
        "input_shape = (224,224,3)\n",
        "activation = 'relu'\n",
        "padding = 'same'\n",
        "droprate = 0.1\n",
        "epsilon=0.001\n",
        "\n",
        "model = Sequential()\n",
        "\n",
        "model.add(BatchNormalization(input_shape=input_shape))\n",
        "model.add(Conv2D(filters=8, kernel_size=3, activation=activation, padding=padding))\n",
        "model.add(MaxPooling2D(pool_size=2))\n",
        "model.add(BatchNormalization(epsilon=epsilon))\n",
        "\n",
        "\n",
        "model.add(Conv2D(filters=16, kernel_size=3, activation=activation, padding=padding))\n",
        "model.add(MaxPooling2D(pool_size=2))\n",
        "model.add(BatchNormalization(epsilon=epsilon))\n",
        "model.add(Dropout(droprate))\n",
        "\n",
        "\n",
        "model.add(Conv2D(filters=128, kernel_size=3, activation=activation, padding=padding))\n",
        "model.add(MaxPooling2D(pool_size=2))\n",
        "model.add(BatchNormalization(epsilon=epsilon))\n",
        "model.add(Dropout(droprate))\n",
        "\n",
        "\n",
        "\n",
        "model.add(GlobalAveragePooling2D())\n",
        "\n",
        "model.add(Dense(1, activation='sigmoid'))\n",
        "\n",
        "model.summary() "
      ],
      "metadata": {
        "id": "ZO1T-oLp52Zg",
        "colab": {
          "base_uri": "https://localhost:8080/"
        },
        "outputId": "2bc21c74-8f0b-4a38-e591-48000de955fc"
      },
      "execution_count": null,
      "outputs": [
        {
          "output_type": "stream",
          "name": "stdout",
          "text": [
            "Model: \"sequential_1\"\n",
            "_________________________________________________________________\n",
            " Layer (type)                Output Shape              Param #   \n",
            "=================================================================\n",
            " batch_normalization (BatchN  (None, 224, 224, 3)      12        \n",
            " ormalization)                                                   \n",
            "                                                                 \n",
            " conv2d (Conv2D)             (None, 224, 224, 8)       224       \n",
            "                                                                 \n",
            " max_pooling2d (MaxPooling2D  (None, 112, 112, 8)      0         \n",
            " )                                                               \n",
            "                                                                 \n",
            " batch_normalization_1 (Batc  (None, 112, 112, 8)      32        \n",
            " hNormalization)                                                 \n",
            "                                                                 \n",
            " conv2d_1 (Conv2D)           (None, 112, 112, 16)      1168      \n",
            "                                                                 \n",
            " max_pooling2d_1 (MaxPooling  (None, 56, 56, 16)       0         \n",
            " 2D)                                                             \n",
            "                                                                 \n",
            " batch_normalization_2 (Batc  (None, 56, 56, 16)       64        \n",
            " hNormalization)                                                 \n",
            "                                                                 \n",
            " dropout (Dropout)           (None, 56, 56, 16)        0         \n",
            "                                                                 \n",
            " conv2d_2 (Conv2D)           (None, 56, 56, 128)       18560     \n",
            "                                                                 \n",
            " max_pooling2d_2 (MaxPooling  (None, 28, 28, 128)      0         \n",
            " 2D)                                                             \n",
            "                                                                 \n",
            " batch_normalization_3 (Batc  (None, 28, 28, 128)      512       \n",
            " hNormalization)                                                 \n",
            "                                                                 \n",
            " dropout_1 (Dropout)         (None, 28, 28, 128)       0         \n",
            "                                                                 \n",
            " global_average_pooling2d (G  (None, 128)              0         \n",
            " lobalAveragePooling2D)                                          \n",
            "                                                                 \n",
            " dense (Dense)               (None, 1)                 129       \n",
            "                                                                 \n",
            "=================================================================\n",
            "Total params: 20,701\n",
            "Trainable params: 20,391\n",
            "Non-trainable params: 310\n",
            "_________________________________________________________________\n"
          ]
        }
      ]
    },
    {
      "cell_type": "code",
      "source": [
        "import tensorflow as tf\n",
        "device_name = tf.test.gpu_device_name()\n",
        "from tensorflow.keras.optimizers import RMSprop,SGD,Adam,Adadelta\n",
        "\n",
        "\n",
        "\n",
        "model.compile(loss='binary_crossentropy',optimizer=Adam(0.0001), metrics=['accuracy'])\n",
        "\n",
        "\n",
        "train_steps = 480//batch_size\n",
        "valid_steps = 120//batch_size\n",
        "history = model.fit(\n",
        "    train_flow,\n",
        "    epochs=25,\n",
        "    steps_per_epoch = train_steps,\n",
        "    validation_data = valid_flow,\n",
        "    validation_steps = valid_steps\n",
        ")\n",
        "\n"
      ],
      "metadata": {
        "id": "3c_lzkLu55D_",
        "colab": {
          "base_uri": "https://localhost:8080/"
        },
        "outputId": "2e1d6995-fdb6-43e5-f878-3910bcb9a322"
      },
      "execution_count": null,
      "outputs": [
        {
          "output_type": "stream",
          "name": "stdout",
          "text": [
            "Epoch 1/25\n",
            "30/30 [==============================] - 289s 10s/step - loss: 0.5782 - accuracy: 0.6458 - val_loss: 0.6965 - val_accuracy: 0.4821\n",
            "Epoch 2/25\n",
            "30/30 [==============================] - 4s 128ms/step - loss: 0.4362 - accuracy: 0.8042 - val_loss: 0.6868 - val_accuracy: 0.5089\n",
            "Epoch 3/25\n",
            "30/30 [==============================] - 4s 128ms/step - loss: 0.3832 - accuracy: 0.8417 - val_loss: 0.6713 - val_accuracy: 0.5804\n",
            "Epoch 4/25\n",
            "30/30 [==============================] - 4s 128ms/step - loss: 0.3689 - accuracy: 0.8417 - val_loss: 0.6494 - val_accuracy: 0.6696\n",
            "Epoch 5/25\n",
            "30/30 [==============================] - 4s 126ms/step - loss: 0.3635 - accuracy: 0.8479 - val_loss: 0.6380 - val_accuracy: 0.5893\n",
            "Epoch 6/25\n",
            "30/30 [==============================] - 4s 124ms/step - loss: 0.3449 - accuracy: 0.8729 - val_loss: 0.6223 - val_accuracy: 0.5625\n",
            "Epoch 7/25\n",
            "30/30 [==============================] - 4s 127ms/step - loss: 0.3430 - accuracy: 0.8604 - val_loss: 0.6284 - val_accuracy: 0.5536\n",
            "Epoch 8/25\n",
            "30/30 [==============================] - 4s 126ms/step - loss: 0.3260 - accuracy: 0.8750 - val_loss: 0.5925 - val_accuracy: 0.5893\n",
            "Epoch 9/25\n",
            "30/30 [==============================] - 4s 126ms/step - loss: 0.3363 - accuracy: 0.8396 - val_loss: 0.5447 - val_accuracy: 0.6250\n",
            "Epoch 10/25\n",
            "30/30 [==============================] - 4s 129ms/step - loss: 0.3162 - accuracy: 0.8667 - val_loss: 0.4916 - val_accuracy: 0.7143\n",
            "Epoch 11/25\n",
            "30/30 [==============================] - 4s 129ms/step - loss: 0.3325 - accuracy: 0.8667 - val_loss: 0.4459 - val_accuracy: 0.7500\n",
            "Epoch 12/25\n",
            "30/30 [==============================] - 4s 127ms/step - loss: 0.3289 - accuracy: 0.8604 - val_loss: 0.3687 - val_accuracy: 0.8571\n",
            "Epoch 13/25\n",
            "30/30 [==============================] - 4s 128ms/step - loss: 0.3106 - accuracy: 0.8708 - val_loss: 0.3363 - val_accuracy: 0.8929\n",
            "Epoch 14/25\n",
            "30/30 [==============================] - 4s 128ms/step - loss: 0.3058 - accuracy: 0.8708 - val_loss: 0.3147 - val_accuracy: 0.9018\n",
            "Epoch 15/25\n",
            "30/30 [==============================] - 4s 128ms/step - loss: 0.2945 - accuracy: 0.8708 - val_loss: 0.2903 - val_accuracy: 0.9196\n",
            "Epoch 16/25\n",
            "30/30 [==============================] - 4s 126ms/step - loss: 0.3030 - accuracy: 0.8687 - val_loss: 0.2681 - val_accuracy: 0.9375\n",
            "Epoch 17/25\n",
            "30/30 [==============================] - 4s 125ms/step - loss: 0.2924 - accuracy: 0.8792 - val_loss: 0.2627 - val_accuracy: 0.9375\n",
            "Epoch 18/25\n",
            "30/30 [==============================] - 4s 128ms/step - loss: 0.2905 - accuracy: 0.8854 - val_loss: 0.2542 - val_accuracy: 0.9464\n",
            "Epoch 19/25\n",
            "30/30 [==============================] - 4s 128ms/step - loss: 0.2722 - accuracy: 0.9062 - val_loss: 0.2593 - val_accuracy: 0.9107\n",
            "Epoch 20/25\n",
            "30/30 [==============================] - 4s 127ms/step - loss: 0.3179 - accuracy: 0.8729 - val_loss: 0.2506 - val_accuracy: 0.9464\n",
            "Epoch 21/25\n",
            "30/30 [==============================] - 4s 127ms/step - loss: 0.2723 - accuracy: 0.8813 - val_loss: 0.2476 - val_accuracy: 0.9464\n",
            "Epoch 22/25\n",
            "30/30 [==============================] - 4s 125ms/step - loss: 0.2690 - accuracy: 0.8979 - val_loss: 0.2481 - val_accuracy: 0.9464\n",
            "Epoch 23/25\n",
            "30/30 [==============================] - 4s 126ms/step - loss: 0.2638 - accuracy: 0.8813 - val_loss: 0.2348 - val_accuracy: 0.9464\n",
            "Epoch 24/25\n",
            "30/30 [==============================] - 4s 127ms/step - loss: 0.2863 - accuracy: 0.8917 - val_loss: 0.2338 - val_accuracy: 0.9375\n",
            "Epoch 25/25\n",
            "30/30 [==============================] - 4s 130ms/step - loss: 0.2715 - accuracy: 0.8958 - val_loss: 0.2195 - val_accuracy: 0.9554\n"
          ]
        }
      ]
    },
    {
      "cell_type": "code",
      "source": [
        "history.history"
      ],
      "metadata": {
        "id": "0mkSsqFJVp0W"
      },
      "execution_count": null,
      "outputs": []
    },
    {
      "cell_type": "code",
      "source": [
        "\n",
        "from matplotlib import pyplot as plt\n",
        "\n",
        "plt.plot(history.history['accuracy'])\n",
        "plt.plot(history.history['val_accuracy'])\n",
        "plt.title('model accuracy')\n",
        "plt.ylabel('accuracy')\n",
        "plt.xlabel('epoch')\n",
        "plt.legend(['train', 'val'], loc='upper left')\n",
        "plt.show()\n",
        "\n",
        "\n",
        "plt.plot(history.history['loss'])\n",
        "plt.plot(history.history['val_loss'])\n",
        "plt.title('model loss')\n",
        "plt.ylabel('loss')\n",
        "plt.xlabel('epoch')\n",
        "plt.legend(['train', 'val'], loc='upper left')\n",
        "plt.show()"
      ],
      "metadata": {
        "id": "4r6c6cO257NX",
        "colab": {
          "base_uri": "https://localhost:8080/",
          "height": 573
        },
        "outputId": "b13cc265-241b-465b-d6b7-a602a0d4b2db"
      },
      "execution_count": null,
      "outputs": [
        {
          "output_type": "display_data",
          "data": {
            "text/plain": [
              "<Figure size 432x288 with 1 Axes>"
            ],
            "image/png": "[encoded data removed]"
          },
          "metadata": {
            "needs_background": "light"
          }
        },
        {
          "output_type": "display_data",
          "data": {
            "text/plain": [
              "<Figure size 432x288 with 1 Axes>"
            ],
            "image/png": "[encoded data removed]"
          },
          "metadata": {
            "needs_background": "light"
          }
        }
      ]
    }
  ]
}