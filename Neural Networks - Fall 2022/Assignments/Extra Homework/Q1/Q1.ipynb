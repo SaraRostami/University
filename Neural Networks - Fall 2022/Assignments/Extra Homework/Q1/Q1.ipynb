{
  "cells": [
    {
      "cell_type": "code",
      "execution_count": 2,
      "metadata": {
        "colab": {
          "base_uri": "https://localhost:8080/"
        },
        "id": "wYfybcKEcUwQ",
        "outputId": "b5ab5c39-57fa-44db-9519-59dc91353b63"
      },
      "outputs": [
        {
          "output_type": "stream",
          "name": "stdout",
          "text": [
            "Mounted at /content/drive\n"
          ]
        }
      ],
      "source": [
        "from google.colab import drive\n",
        "drive.mount('/content/drive')"
      ]
    },
    {
      "cell_type": "code",
      "execution_count": 3,
      "metadata": {
        "id": "qZhDyAQiiqTm"
      },
      "outputs": [],
      "source": [
        "import pandas as pd\n",
        "import tensorflow as tf\n",
        "import  matplotlib.pyplot as plt\n",
        "from imblearn.over_sampling import SMOTE\n",
        "from sklearn.svm import SVC\n",
        "import numpy as np\n",
        "from sklearn.model_selection import train_test_split\n",
        "from sklearn.linear_model import LogisticRegression\n",
        "from sklearn.metrics import confusion_matrix, classification_report\n",
        "  "
      ]
    },
    {
      "cell_type": "code",
      "execution_count": 4,
      "metadata": {
        "id": "kviZDYT1ir5d"
      },
      "outputs": [],
      "source": [
        "df = pd.read_csv('drive/My Drive/creditcard.csv')\n",
        "del df[\"Time\"]\n",
        "df[\"Amount\"] = (df['Amount'] - df[\"Amount\"].min()) / (df[\"Amount\"].max() - df[\"Amount\"].min())"
      ]
    },
    {
      "cell_type": "code",
      "execution_count": 56,
      "metadata": {
        "colab": {
          "base_uri": "https://localhost:8080/"
        },
        "id": "tLCsrpVpjLtn",
        "outputId": "c9ff5362-42cb-4ee5-da5d-6db492b5c542"
      },
      "outputs": [
        {
          "output_type": "stream",
          "name": "stdout",
          "text": [
            "Number transactions X_train dataset:  (199364, 29)\n",
            "Number transactions y_train dataset:  (199364, 1)\n",
            "Number transactions X_test dataset:  (85443, 29)\n",
            "Number transactions y_test dataset:  (85443, 1)\n"
          ]
        }
      ],
      "source": [
        "X=df.copy()\n",
        "\n",
        "y=df.copy()\n",
        "\n",
        "\n",
        "del X[\"Class\"]\n",
        "y=y[\"Class\"]\n",
        "y = np.expand_dims(y, axis=1)\n",
        "# split into 70:30 ration\n",
        "X_train, X_test, y_train, y_test = train_test_split(X, y, test_size = 0.3, random_state = 0)\n",
        "  \n",
        "# describes info about train and test set\n",
        "print(\"Number transactions X_train dataset: \", X_train.shape)\n",
        "print(\"Number transactions y_train dataset: \", y_train.shape)\n",
        "print(\"Number transactions X_test dataset: \", X_test.shape)\n",
        "print(\"Number transactions y_test dataset: \", y_test.shape)"
      ]
    },
    {
      "cell_type": "code",
      "execution_count": 6,
      "metadata": {
        "colab": {
          "base_uri": "https://localhost:8080/"
        },
        "id": "1ni9utYormOm",
        "outputId": "a4fb25c7-e9cc-4d5c-d3d8-5f2d55c534ff"
      },
      "outputs": [
        {
          "output_type": "stream",
          "name": "stdout",
          "text": [
            "Before OverSampling, counts of label '1': [345]\n",
            "Before OverSampling, counts of label '0': [199019] \n",
            "\n",
            "After OverSampling, the shape of train_X: (398038, 29)\n",
            "After OverSampling, the shape of train_y: (398038, 1) \n",
            "\n",
            "After OverSampling, counts of label '1': [199019]\n",
            "After OverSampling, counts of label '0': [199019]\n"
          ]
        }
      ],
      "source": [
        "print(\"Before OverSampling, counts of label '1': {}\".format(sum(y_train == 1)))\n",
        "print(\"Before OverSampling, counts of label '0': {} \\n\".format(sum(y_train == 0)))\n",
        "  \n",
        "# import SMOTE module from imblearn library\n",
        "# pip install imblearn (if you don't have imblearn in your system)\n",
        "\n",
        "sm = SMOTE(random_state = 2)\n",
        "X_train_res, y_train_res = sm.fit_resample(X_train, y_train.ravel())\n",
        "y_train_res = np.expand_dims(y_train_res, axis=1)\n",
        "  \n",
        "print('After OverSampling, the shape of train_X: {}'.format(X_train_res.shape))\n",
        "print('After OverSampling, the shape of train_y: {} \\n'.format(y_train_res.shape))\n",
        "  \n",
        "print(\"After OverSampling, counts of label '1': {}\".format(sum(y_train_res == 1)))\n",
        "print(\"After OverSampling, counts of label '0': {}\".format(sum(y_train_res == 0)))"
      ]
    },
    {
      "cell_type": "markdown",
      "metadata": {
        "id": "NV2k0n6oxivk"
      },
      "source": [
        "# Adding Noise"
      ]
    },
    {
      "cell_type": "code",
      "execution_count": 7,
      "metadata": {
        "colab": {
          "base_uri": "https://localhost:8080/"
        },
        "id": "hDljiYYsxhat",
        "outputId": "495cb15a-5efb-4b1e-98ee-8f2462a06088"
      },
      "outputs": [
        {
          "output_type": "execute_result",
          "data": {
            "text/plain": [
              "array([[-3.99369517e-03,  3.96855365e-02,  1.22430146e-01, ...,\n",
              "        -7.07570657e-02, -2.49160731e-04,  1.09982682e-01],\n",
              "       [ 1.07193180e-01, -1.01919961e-01,  8.61340039e-02, ...,\n",
              "        -6.58572720e-02, -9.91254800e-03,  9.81212578e-02],\n",
              "       [ 1.18035674e-02,  2.17220140e-02, -1.01763859e-01, ...,\n",
              "        -2.87419424e-02, -1.43839539e-02, -5.50686712e-02],\n",
              "       ...,\n",
              "       [ 9.15865827e-02,  6.48259614e-02,  3.08670201e-02, ...,\n",
              "        -1.46275995e-01,  1.05284082e-01,  3.82560800e-02],\n",
              "       [ 8.13704439e-02,  1.74183409e-02,  7.83337917e-02, ...,\n",
              "        -1.31044237e-02, -7.52983362e-02, -6.70841106e-02],\n",
              "       [ 3.25255125e-02,  2.23839378e-01,  2.82003145e-02, ...,\n",
              "        -1.33258669e-01, -2.68860632e-01,  7.98757078e-02]])"
            ]
          },
          "metadata": {},
          "execution_count": 7
        }
      ],
      "source": [
        "mu, sigma = 0, 0.1 \n",
        "noise = np.random.normal(mu, sigma, [85443,29]) \n",
        "noise"
      ]
    },
    {
      "cell_type": "code",
      "execution_count": 8,
      "metadata": {
        "id": "czTwHSEiqtPl"
      },
      "outputs": [],
      "source": [
        "X_test_noised=X_test+noise"
      ]
    },
    {
      "cell_type": "code",
      "execution_count": 9,
      "metadata": {
        "colab": {
          "base_uri": "https://localhost:8080/"
        },
        "id": "PKT0SYjM598K",
        "outputId": "6a4b6bea-dad8-497b-d364-7539918395c7"
      },
      "outputs": [
        {
          "output_type": "execute_result",
          "data": {
            "text/plain": [
              "array([[ 0.09183353,  0.04813275, -0.1781389 , ...,  0.09032972,\n",
              "         0.01360453, -0.25236357],\n",
              "       [-0.11734328,  0.1067214 ,  0.01334409, ...,  0.09943952,\n",
              "        -0.04491182, -0.02428252],\n",
              "       [ 0.00437857, -0.17279003, -0.14139576, ..., -0.07921396,\n",
              "         0.0304119 ,  0.00738559],\n",
              "       ...,\n",
              "       [-0.09006916, -0.00267877,  0.07180701, ..., -0.06936189,\n",
              "         0.21048218,  0.01694734],\n",
              "       [ 0.08508896, -0.01005091,  0.03051534, ..., -0.06489634,\n",
              "        -0.14630629, -0.0552525 ],\n",
              "       [ 0.09859083,  0.00713319,  0.06113417, ...,  0.0398645 ,\n",
              "         0.09814688,  0.04487116]])"
            ]
          },
          "metadata": {},
          "execution_count": 9
        }
      ],
      "source": [
        "mu, sigma = 0, 0.1 \n",
        "noise = np.random.normal(mu, sigma, [398038,29]) \n",
        "noise"
      ]
    },
    {
      "cell_type": "code",
      "execution_count": 10,
      "metadata": {
        "colab": {
          "base_uri": "https://localhost:8080/",
          "height": 488
        },
        "id": "0BdvWSOPx_os",
        "outputId": "3a1012c3-a0db-40be-8ffd-90711ff7dc98"
      },
      "outputs": [
        {
          "output_type": "execute_result",
          "data": {
            "text/plain": [
              "               V1         V2         V3        V4         V5        V6  \\\n",
              "0       -0.040233   0.155176  -0.828727 -0.908096   1.867161  1.715066   \n",
              "1        2.008651   0.120929  -1.501416  0.147342   0.578221 -0.533415   \n",
              "2       -0.082315  -0.006550   1.431731  0.629696   0.292864  0.999583   \n",
              "3        1.457717  -0.500714   0.546456 -0.558051  -1.339225 -0.736388   \n",
              "4       -1.655295   0.644871   0.472586 -0.541589   0.994624 -0.556879   \n",
              "...           ...        ...        ...       ...        ...       ...   \n",
              "398033  -5.100789   4.393215  -8.587447  7.720440  -1.193499 -2.238615   \n",
              "398034  -4.443925   4.256769  -7.227480  7.023988  -5.821067 -2.559270   \n",
              "398035  -5.319365   5.164445  -8.236613  8.031248  -7.203602 -1.978265   \n",
              "398036 -28.971474  16.103859 -29.882803  6.363077 -21.207770 -4.991076   \n",
              "398037   1.239576   1.240323  -1.388414  1.999017   0.955011 -0.942940   \n",
              "\n",
              "               V7         V8        V9        V10  ...       V20       V21  \\\n",
              "0        0.394194   0.518403 -0.007456  -0.406768  ...  0.049187 -0.004373   \n",
              "1        0.284032  -0.331836  0.381134   0.056911  ...  0.005733 -0.324299   \n",
              "2        1.570783  -1.170394  0.926935   1.396253  ...  0.060038 -0.156684   \n",
              "3       -0.662244  -0.033613 -0.606932   0.710559  ... -0.042574 -0.214188   \n",
              "4        1.017592  -0.029689 -0.018236  -0.950691  ... -0.186478 -0.395155   \n",
              "...           ...        ...       ...        ...  ...       ...       ...   \n",
              "398033  -3.822539   0.651024 -1.444117  -2.341286  ... -0.222377  0.624925   \n",
              "398034 -10.344123   3.112685 -5.686498 -11.227345  ...  1.263105  2.298398   \n",
              "398035  -8.785764   3.374066 -6.512564 -11.082843  ...  1.037178  2.220027   \n",
              "398036 -19.612315  18.995133 -3.691439  -7.938920  ...  1.677202  1.796889   \n",
              "398037   0.238613  -0.307751  0.266150  -2.159416  ... -0.106561 -0.292483   \n",
              "\n",
              "             V22       V23       V24       V25       V26       V27       V28  \\\n",
              "0      -0.054936  0.257175 -2.449861 -0.934902  0.350715  0.396724  0.088421   \n",
              "1      -0.817544  0.235099 -0.080708 -0.100663  0.302066  0.031172 -0.102589   \n",
              "2       1.143826 -0.391286  0.718955 -0.155155 -0.518926 -1.280785 -1.109519   \n",
              "3      -0.148230  0.105649  0.376725  0.070696 -0.504941 -0.042265  0.147310   \n",
              "4      -0.213143 -0.147439  0.434901  0.662545  0.511047 -0.101815  0.178837   \n",
              "...          ...       ...       ...       ...       ...       ...       ...   \n",
              "398033  0.627402  0.416224 -0.541608 -0.152104  0.410339 -2.817218  0.397347   \n",
              "398034  0.683194 -0.328036  0.607158  0.011696  0.231549  2.078471  0.657942   \n",
              "398035  0.303908  0.061149  0.633155 -0.022662  0.244398  1.799201  0.962661   \n",
              "398036 -2.133031 -1.044728  0.319944  2.002295 -0.239272  1.213704  0.224632   \n",
              "398037 -0.846730 -0.199607 -0.347168  0.652852 -0.229885  0.140878  0.221487   \n",
              "\n",
              "          Amount  \n",
              "0      -0.250500  \n",
              "1      -0.024205  \n",
              "2       0.014007  \n",
              "3      -0.007792  \n",
              "4      -0.099660  \n",
              "...          ...  \n",
              "398033 -0.057664  \n",
              "398034  0.103012  \n",
              "398035  0.028692  \n",
              "398036 -0.051360  \n",
              "398037  0.044910  \n",
              "\n",
              "[398038 rows x 29 columns]"
            ],
            "text/html": [
              "\n",
              "  <div id=\"df-f15a05d0-e6e5-486d-baa0-9774c79aef1f\">\n",
              "    <div class=\"colab-df-container\">\n",
              "      <div>\n",
              "<style scoped>\n",
              "    .dataframe tbody tr th:only-of-type {\n",
              "        vertical-align: middle;\n",
              "    }\n",
              "\n",
              "    .dataframe tbody tr th {\n",
              "        vertical-align: top;\n",
              "    }\n",
              "\n",
              "    .dataframe thead th {\n",
              "        text-align: right;\n",
              "    }\n",
              "</style>\n",
              "<table border=\"1\" class=\"dataframe\">\n",
              "  <thead>\n",
              "    <tr style=\"text-align: right;\">\n",
              "      <th></th>\n",
              "      <th>V1</th>\n",
              "      <th>V2</th>\n",
              "      <th>V3</th>\n",
              "      <th>V4</th>\n",
              "      <th>V5</th>\n",
              "      <th>V6</th>\n",
              "      <th>V7</th>\n",
              "      <th>V8</th>\n",
              "      <th>V9</th>\n",
              "      <th>V10</th>\n",
              "      <th>...</th>\n",
              "      <th>V20</th>\n",
              "      <th>V21</th>\n",
              "      <th>V22</th>\n",
              "      <th>V23</th>\n",
              "      <th>V24</th>\n",
              "      <th>V25</th>\n",
              "      <th>V26</th>\n",
              "      <th>V27</th>\n",
              "      <th>V28</th>\n",
              "      <th>Amount</th>\n",
              "    </tr>\n",
              "  </thead>\n",
              "  <tbody>\n",
              "    <tr>\n",
              "      <th>0</th>\n",
              "      <td>-0.040233</td>\n",
              "      <td>0.155176</td>\n",
              "      <td>-0.828727</td>\n",
              "      <td>-0.908096</td>\n",
              "      <td>1.867161</td>\n",
              "      <td>1.715066</td>\n",
              "      <td>0.394194</td>\n",
              "      <td>0.518403</td>\n",
              "      <td>-0.007456</td>\n",
              "      <td>-0.406768</td>\n",
              "      <td>...</td>\n",
              "      <td>0.049187</td>\n",
              "      <td>-0.004373</td>\n",
              "      <td>-0.054936</td>\n",
              "      <td>0.257175</td>\n",
              "      <td>-2.449861</td>\n",
              "      <td>-0.934902</td>\n",
              "      <td>0.350715</td>\n",
              "      <td>0.396724</td>\n",
              "      <td>0.088421</td>\n",
              "      <td>-0.250500</td>\n",
              "    </tr>\n",
              "    <tr>\n",
              "      <th>1</th>\n",
              "      <td>2.008651</td>\n",
              "      <td>0.120929</td>\n",
              "      <td>-1.501416</td>\n",
              "      <td>0.147342</td>\n",
              "      <td>0.578221</td>\n",
              "      <td>-0.533415</td>\n",
              "      <td>0.284032</td>\n",
              "      <td>-0.331836</td>\n",
              "      <td>0.381134</td>\n",
              "      <td>0.056911</td>\n",
              "      <td>...</td>\n",
              "      <td>0.005733</td>\n",
              "      <td>-0.324299</td>\n",
              "      <td>-0.817544</td>\n",
              "      <td>0.235099</td>\n",
              "      <td>-0.080708</td>\n",
              "      <td>-0.100663</td>\n",
              "      <td>0.302066</td>\n",
              "      <td>0.031172</td>\n",
              "      <td>-0.102589</td>\n",
              "      <td>-0.024205</td>\n",
              "    </tr>\n",
              "    <tr>\n",
              "      <th>2</th>\n",
              "      <td>-0.082315</td>\n",
              "      <td>-0.006550</td>\n",
              "      <td>1.431731</td>\n",
              "      <td>0.629696</td>\n",
              "      <td>0.292864</td>\n",
              "      <td>0.999583</td>\n",
              "      <td>1.570783</td>\n",
              "      <td>-1.170394</td>\n",
              "      <td>0.926935</td>\n",
              "      <td>1.396253</td>\n",
              "      <td>...</td>\n",
              "      <td>0.060038</td>\n",
              "      <td>-0.156684</td>\n",
              "      <td>1.143826</td>\n",
              "      <td>-0.391286</td>\n",
              "      <td>0.718955</td>\n",
              "      <td>-0.155155</td>\n",
              "      <td>-0.518926</td>\n",
              "      <td>-1.280785</td>\n",
              "      <td>-1.109519</td>\n",
              "      <td>0.014007</td>\n",
              "    </tr>\n",
              "    <tr>\n",
              "      <th>3</th>\n",
              "      <td>1.457717</td>\n",
              "      <td>-0.500714</td>\n",
              "      <td>0.546456</td>\n",
              "      <td>-0.558051</td>\n",
              "      <td>-1.339225</td>\n",
              "      <td>-0.736388</td>\n",
              "      <td>-0.662244</td>\n",
              "      <td>-0.033613</td>\n",
              "      <td>-0.606932</td>\n",
              "      <td>0.710559</td>\n",
              "      <td>...</td>\n",
              "      <td>-0.042574</td>\n",
              "      <td>-0.214188</td>\n",
              "      <td>-0.148230</td>\n",
              "      <td>0.105649</td>\n",
              "      <td>0.376725</td>\n",
              "      <td>0.070696</td>\n",
              "      <td>-0.504941</td>\n",
              "      <td>-0.042265</td>\n",
              "      <td>0.147310</td>\n",
              "      <td>-0.007792</td>\n",
              "    </tr>\n",
              "    <tr>\n",
              "      <th>4</th>\n",
              "      <td>-1.655295</td>\n",
              "      <td>0.644871</td>\n",
              "      <td>0.472586</td>\n",
              "      <td>-0.541589</td>\n",
              "      <td>0.994624</td>\n",
              "      <td>-0.556879</td>\n",
              "      <td>1.017592</td>\n",
              "      <td>-0.029689</td>\n",
              "      <td>-0.018236</td>\n",
              "      <td>-0.950691</td>\n",
              "      <td>...</td>\n",
              "      <td>-0.186478</td>\n",
              "      <td>-0.395155</td>\n",
              "      <td>-0.213143</td>\n",
              "      <td>-0.147439</td>\n",
              "      <td>0.434901</td>\n",
              "      <td>0.662545</td>\n",
              "      <td>0.511047</td>\n",
              "      <td>-0.101815</td>\n",
              "      <td>0.178837</td>\n",
              "      <td>-0.099660</td>\n",
              "    </tr>\n",
              "    <tr>\n",
              "      <th>...</th>\n",
              "      <td>...</td>\n",
              "      <td>...</td>\n",
              "      <td>...</td>\n",
              "      <td>...</td>\n",
              "      <td>...</td>\n",
              "      <td>...</td>\n",
              "      <td>...</td>\n",
              "      <td>...</td>\n",
              "      <td>...</td>\n",
              "      <td>...</td>\n",
              "      <td>...</td>\n",
              "      <td>...</td>\n",
              "      <td>...</td>\n",
              "      <td>...</td>\n",
              "      <td>...</td>\n",
              "      <td>...</td>\n",
              "      <td>...</td>\n",
              "      <td>...</td>\n",
              "      <td>...</td>\n",
              "      <td>...</td>\n",
              "      <td>...</td>\n",
              "    </tr>\n",
              "    <tr>\n",
              "      <th>398033</th>\n",
              "      <td>-5.100789</td>\n",
              "      <td>4.393215</td>\n",
              "      <td>-8.587447</td>\n",
              "      <td>7.720440</td>\n",
              "      <td>-1.193499</td>\n",
              "      <td>-2.238615</td>\n",
              "      <td>-3.822539</td>\n",
              "      <td>0.651024</td>\n",
              "      <td>-1.444117</td>\n",
              "      <td>-2.341286</td>\n",
              "      <td>...</td>\n",
              "      <td>-0.222377</td>\n",
              "      <td>0.624925</td>\n",
              "      <td>0.627402</td>\n",
              "      <td>0.416224</td>\n",
              "      <td>-0.541608</td>\n",
              "      <td>-0.152104</td>\n",
              "      <td>0.410339</td>\n",
              "      <td>-2.817218</td>\n",
              "      <td>0.397347</td>\n",
              "      <td>-0.057664</td>\n",
              "    </tr>\n",
              "    <tr>\n",
              "      <th>398034</th>\n",
              "      <td>-4.443925</td>\n",
              "      <td>4.256769</td>\n",
              "      <td>-7.227480</td>\n",
              "      <td>7.023988</td>\n",
              "      <td>-5.821067</td>\n",
              "      <td>-2.559270</td>\n",
              "      <td>-10.344123</td>\n",
              "      <td>3.112685</td>\n",
              "      <td>-5.686498</td>\n",
              "      <td>-11.227345</td>\n",
              "      <td>...</td>\n",
              "      <td>1.263105</td>\n",
              "      <td>2.298398</td>\n",
              "      <td>0.683194</td>\n",
              "      <td>-0.328036</td>\n",
              "      <td>0.607158</td>\n",
              "      <td>0.011696</td>\n",
              "      <td>0.231549</td>\n",
              "      <td>2.078471</td>\n",
              "      <td>0.657942</td>\n",
              "      <td>0.103012</td>\n",
              "    </tr>\n",
              "    <tr>\n",
              "      <th>398035</th>\n",
              "      <td>-5.319365</td>\n",
              "      <td>5.164445</td>\n",
              "      <td>-8.236613</td>\n",
              "      <td>8.031248</td>\n",
              "      <td>-7.203602</td>\n",
              "      <td>-1.978265</td>\n",
              "      <td>-8.785764</td>\n",
              "      <td>3.374066</td>\n",
              "      <td>-6.512564</td>\n",
              "      <td>-11.082843</td>\n",
              "      <td>...</td>\n",
              "      <td>1.037178</td>\n",
              "      <td>2.220027</td>\n",
              "      <td>0.303908</td>\n",
              "      <td>0.061149</td>\n",
              "      <td>0.633155</td>\n",
              "      <td>-0.022662</td>\n",
              "      <td>0.244398</td>\n",
              "      <td>1.799201</td>\n",
              "      <td>0.962661</td>\n",
              "      <td>0.028692</td>\n",
              "    </tr>\n",
              "    <tr>\n",
              "      <th>398036</th>\n",
              "      <td>-28.971474</td>\n",
              "      <td>16.103859</td>\n",
              "      <td>-29.882803</td>\n",
              "      <td>6.363077</td>\n",
              "      <td>-21.207770</td>\n",
              "      <td>-4.991076</td>\n",
              "      <td>-19.612315</td>\n",
              "      <td>18.995133</td>\n",
              "      <td>-3.691439</td>\n",
              "      <td>-7.938920</td>\n",
              "      <td>...</td>\n",
              "      <td>1.677202</td>\n",
              "      <td>1.796889</td>\n",
              "      <td>-2.133031</td>\n",
              "      <td>-1.044728</td>\n",
              "      <td>0.319944</td>\n",
              "      <td>2.002295</td>\n",
              "      <td>-0.239272</td>\n",
              "      <td>1.213704</td>\n",
              "      <td>0.224632</td>\n",
              "      <td>-0.051360</td>\n",
              "    </tr>\n",
              "    <tr>\n",
              "      <th>398037</th>\n",
              "      <td>1.239576</td>\n",
              "      <td>1.240323</td>\n",
              "      <td>-1.388414</td>\n",
              "      <td>1.999017</td>\n",
              "      <td>0.955011</td>\n",
              "      <td>-0.942940</td>\n",
              "      <td>0.238613</td>\n",
              "      <td>-0.307751</td>\n",
              "      <td>0.266150</td>\n",
              "      <td>-2.159416</td>\n",
              "      <td>...</td>\n",
              "      <td>-0.106561</td>\n",
              "      <td>-0.292483</td>\n",
              "      <td>-0.846730</td>\n",
              "      <td>-0.199607</td>\n",
              "      <td>-0.347168</td>\n",
              "      <td>0.652852</td>\n",
              "      <td>-0.229885</td>\n",
              "      <td>0.140878</td>\n",
              "      <td>0.221487</td>\n",
              "      <td>0.044910</td>\n",
              "    </tr>\n",
              "  </tbody>\n",
              "</table>\n",
              "<p>398038 rows × 29 columns</p>\n",
              "</div>\n",
              "      <button class=\"colab-df-convert\" onclick=\"convertToInteractive('df-f15a05d0-e6e5-486d-baa0-9774c79aef1f')\"\n",
              "              title=\"Convert this dataframe to an interactive table.\"\n",
              "              style=\"display:none;\">\n",
              "        \n",
              "  <svg xmlns=\"http://www.w3.org/2000/svg\" height=\"24px\"viewBox=\"0 0 24 24\"\n",
              "       width=\"24px\">\n",
              "    <path d=\"M0 0h24v24H0V0z\" fill=\"none\"/>\n",
              "    <path d=\"M18.56 5.44l.94 2.06.94-2.06 2.06-.94-2.06-.94-.94-2.06-.94 2.06-2.06.94zm-11 1L8.5 8.5l.94-2.06 2.06-.94-2.06-.94L8.5 2.5l-.94 2.06-2.06.94zm10 10l.94 2.06.94-2.06 2.06-.94-2.06-.94-.94-2.06-.94 2.06-2.06.94z\"/><path d=\"M17.41 7.96l-1.37-1.37c-.4-.4-.92-.59-1.43-.59-.52 0-1.04.2-1.43.59L10.3 9.45l-7.72 7.72c-.78.78-.78 2.05 0 2.83L4 21.41c.39.39.9.59 1.41.59.51 0 1.02-.2 1.41-.59l7.78-7.78 2.81-2.81c.8-.78.8-2.07 0-2.86zM5.41 20L4 18.59l7.72-7.72 1.47 1.35L5.41 20z\"/>\n",
              "  </svg>\n",
              "      </button>\n",
              "      \n",
              "  <style>\n",
              "    .colab-df-container {\n",
              "      display:flex;\n",
              "      flex-wrap:wrap;\n",
              "      gap: 12px;\n",
              "    }\n",
              "\n",
              "    .colab-df-convert {\n",
              "      background-color: #E8F0FE;\n",
              "      border: none;\n",
              "      border-radius: 50%;\n",
              "      cursor: pointer;\n",
              "      display: none;\n",
              "      fill: #1967D2;\n",
              "      height: 32px;\n",
              "      padding: 0 0 0 0;\n",
              "      width: 32px;\n",
              "    }\n",
              "\n",
              "    .colab-df-convert:hover {\n",
              "      background-color: #E2EBFA;\n",
              "      box-shadow: 0px 1px 2px rgba(60, 64, 67, 0.3), 0px 1px 3px 1px rgba(60, 64, 67, 0.15);\n",
              "      fill: #174EA6;\n",
              "    }\n",
              "\n",
              "    [theme=dark] .colab-df-convert {\n",
              "      background-color: #3B4455;\n",
              "      fill: #D2E3FC;\n",
              "    }\n",
              "\n",
              "    [theme=dark] .colab-df-convert:hover {\n",
              "      background-color: #434B5C;\n",
              "      box-shadow: 0px 1px 3px 1px rgba(0, 0, 0, 0.15);\n",
              "      filter: drop-shadow(0px 1px 2px rgba(0, 0, 0, 0.3));\n",
              "      fill: #FFFFFF;\n",
              "    }\n",
              "  </style>\n",
              "\n",
              "      <script>\n",
              "        const buttonEl =\n",
              "          document.querySelector('#df-f15a05d0-e6e5-486d-baa0-9774c79aef1f button.colab-df-convert');\n",
              "        buttonEl.style.display =\n",
              "          google.colab.kernel.accessAllowed ? 'block' : 'none';\n",
              "\n",
              "        async function convertToInteractive(key) {\n",
              "          const element = document.querySelector('#df-f15a05d0-e6e5-486d-baa0-9774c79aef1f');\n",
              "          const dataTable =\n",
              "            await google.colab.kernel.invokeFunction('convertToInteractive',\n",
              "                                                     [key], {});\n",
              "          if (!dataTable) return;\n",
              "\n",
              "          const docLinkHtml = 'Like what you see? Visit the ' +\n",
              "            '<a target=\"_blank\" href=https://colab.research.google.com/notebooks/data_table.ipynb>data table notebook</a>'\n",
              "            + ' to learn more about interactive tables.';\n",
              "          element.innerHTML = '';\n",
              "          dataTable['output_type'] = 'display_data';\n",
              "          await google.colab.output.renderOutput(dataTable, element);\n",
              "          const docLink = document.createElement('div');\n",
              "          docLink.innerHTML = docLinkHtml;\n",
              "          element.appendChild(docLink);\n",
              "        }\n",
              "      </script>\n",
              "    </div>\n",
              "  </div>\n",
              "  "
            ]
          },
          "metadata": {},
          "execution_count": 10
        }
      ],
      "source": [
        "X_train_noised=X_train_res+noise\n",
        "X_train_noised"
      ]
    },
    {
      "cell_type": "code",
      "execution_count": 1,
      "metadata": {
        "id": "iXadQ3FZzv3j"
      },
      "outputs": [],
      "source": [
        "from sklearn.model_selection import train_test_split \n",
        "from sklearn.linear_model import LogisticRegression\n",
        "from sklearn.svm import SVC\n",
        "from sklearn.metrics import accuracy_score,precision_recall_curve\n",
        "from sklearn.preprocessing import MinMaxScaler \n",
        "from sklearn.manifold import TSNE\n",
        "import matplotlib.pyplot as plt\n",
        "import seaborn as sns\n",
        "from tensorflow.keras.layers import Input, Dense,Flatten\n",
        "from tensorflow.keras.models import Model, Sequential,model_from_json\n",
        "from tensorflow.keras import regularizers"
      ]
    },
    {
      "cell_type": "code",
      "execution_count": 11,
      "metadata": {
        "id": "tCF8HTfvzjrF"
      },
      "outputs": [],
      "source": [
        "# Building the Input Layer\n",
        "input_layer = Input(shape =(X.shape[1], ))\n",
        "\n",
        "# Building the Encoder network\n",
        "encoded = Dense(22, activation ='leaky_relu')(input_layer)\n",
        "encoded = Dense(15, activation ='leaky_relu')(input_layer)\n",
        "# Building the Decoder network\n",
        "decoded = Dense(10, activation ='leaky_relu')(encoded)\n",
        "decoded = Dense(15, activation ='leaky_relu')(decoded)\n",
        "decoded = Dense(22, activation ='leaky_relu')(decoded)\n",
        "\n",
        "# Building the Output Layer\n",
        "output_layer = Dense(X.shape[1], activation ='leaky_relu')(decoded)\n"
      ]
    },
    {
      "cell_type": "code",
      "execution_count": null,
      "metadata": {
        "id": "cxRRI7VN0Nl-"
      },
      "outputs": [],
      "source": [
        "# Defining the parameters of the Auto-encoder network\n",
        "autoencoder = Model(input_layer, output_layer)\n",
        "autoencoder.compile(optimizer =\"Adam\", loss =\"mse\")\n",
        "  \n",
        "# Training the Auto-encoder network\n",
        "autoencoder.fit(X_train_noised, X_train_res, batch_size = 32, epochs = 60, verbose=1, validation_data=(X_test_noised, X_test))"
      ]
    },
    {
      "cell_type": "code",
      "execution_count": 17,
      "metadata": {
        "colab": {
          "base_uri": "https://localhost:8080/"
        },
        "id": "1HeaRlq2WdYd",
        "outputId": "5f3d8eb5-da18-406d-89f8-8ef1e37c4d34"
      },
      "outputs": [
        {
          "output_type": "stream",
          "name": "stdout",
          "text": [
            "12439/12439 [==============================] - 19s 1ms/step\n",
            "2671/2671 [==============================] - 4s 1ms/step\n"
          ]
        }
      ],
      "source": [
        "X_train_denoised = autoencoder.predict(X_train_noised)\n",
        "X_test_denoised=autoencoder.predict(X_test_noised)"
      ]
    },
    {
      "cell_type": "code",
      "execution_count": 130,
      "metadata": {
        "id": "plh1Zoi-eGOi"
      },
      "outputs": [],
      "source": [
        "model_json = autoencoder.to_json()\n",
        "with open(\"drive/My Drive/autoencoder.json\", \"w\") as json_file:\n",
        "    json_file.write(model_json)\n",
        "# serialize weights to HDF5\n",
        "autoencoder.save_weights(\"drive/My Drive/autoencoder.h5\")"
      ]
    },
    {
      "cell_type": "code",
      "execution_count": 13,
      "metadata": {
        "colab": {
          "base_uri": "https://localhost:8080/"
        },
        "id": "il-uDiLpe78d",
        "outputId": "62024bba-520f-462e-b951-d0da54479614"
      },
      "outputs": [
        {
          "output_type": "stream",
          "name": "stdout",
          "text": [
            "Loaded model from disk\n"
          ]
        }
      ],
      "source": [
        "# load json and create model\n",
        "json_file = open('drive/My Drive/autoencoder.json', 'r')\n",
        "loaded_model_json = json_file.read()\n",
        "json_file.close()\n",
        "autoencoder = model_from_json(loaded_model_json)\n",
        "# load weights into new model\n",
        "autoencoder.load_weights(\"drive/My Drive/autoencoder.h5\")\n",
        "print(\"Loaded model from disk\")"
      ]
    },
    {
      "cell_type": "code",
      "source": [
        "y_test = y_test[:, 0]\n",
        "y_test = np.array([y_test == 0, y_test == 1], dtype=np.float32)\n",
        "y_test = np.transpose(y_test)"
      ],
      "metadata": {
        "id": "zDqNsBFdb8eA"
      },
      "execution_count": 15,
      "outputs": []
    },
    {
      "cell_type": "code",
      "source": [
        "\n",
        "y_train_res = y_train_res[:, 0]\n",
        "y_train_res = np.array([y_train_res == 0, y_train_res == 1], dtype=np.float32)\n",
        "y_train_res = np.transpose(y_train_res)"
      ],
      "metadata": {
        "id": "0xUInc14cT43"
      },
      "execution_count": 25,
      "outputs": []
    },
    {
      "cell_type": "code",
      "execution_count": 19,
      "metadata": {
        "colab": {
          "base_uri": "https://localhost:8080/"
        },
        "id": "BcyYZ_gbUMVO",
        "outputId": "7e21ed35-951b-406a-c427-38abf1b222c6"
      },
      "outputs": [
        {
          "output_type": "stream",
          "name": "stdout",
          "text": [
            "Epoch 1/35\n",
            "12425/12439 [============================>.] - ETA: 0s - loss: 0.5254\n",
            "Epoch 1: val_loss improved from inf to 0.08243, saving model to weights.01-0.08.hdf5\n",
            "12439/12439 [==============================] - 41s 3ms/step - loss: 0.5249 - val_loss: 0.0824\n",
            "Epoch 2/35\n",
            "12430/12439 [============================>.] - ETA: 0s - loss: 0.0740\n",
            "Epoch 2: val_loss improved from 0.08243 to 0.06582, saving model to weights.02-0.07.hdf5\n",
            "12439/12439 [==============================] - 40s 3ms/step - loss: 0.0741 - val_loss: 0.0658\n",
            "Epoch 3/35\n",
            "12424/12439 [============================>.] - ETA: 0s - loss: 0.0837\n",
            "Epoch 3: val_loss did not improve from 0.06582\n",
            "12439/12439 [==============================] - 41s 3ms/step - loss: 0.0839 - val_loss: 0.3390\n",
            "Epoch 4/35\n",
            "12432/12439 [============================>.] - ETA: 0s - loss: 0.0685\n",
            "Epoch 4: val_loss improved from 0.06582 to 0.06312, saving model to weights.04-0.06.hdf5\n",
            "12439/12439 [==============================] - 49s 4ms/step - loss: 0.0685 - val_loss: 0.0631\n",
            "Epoch 5/35\n",
            "12435/12439 [============================>.] - ETA: 0s - loss: 0.0569\n",
            "Epoch 5: val_loss improved from 0.06312 to 0.06072, saving model to weights.05-0.06.hdf5\n",
            "12439/12439 [==============================] - 42s 3ms/step - loss: 0.0569 - val_loss: 0.0607\n",
            "Epoch 6/35\n",
            "12424/12439 [============================>.] - ETA: 0s - loss: 0.0503\n",
            "Epoch 6: val_loss improved from 0.06072 to 0.05450, saving model to weights.06-0.05.hdf5\n",
            "12439/12439 [==============================] - 40s 3ms/step - loss: 0.0502 - val_loss: 0.0545\n",
            "Epoch 7/35\n",
            "12432/12439 [============================>.] - ETA: 0s - loss: 0.0488\n",
            "Epoch 7: val_loss did not improve from 0.05450\n",
            "12439/12439 [==============================] - 42s 3ms/step - loss: 0.0488 - val_loss: 0.0574\n",
            "Epoch 8/35\n",
            "12429/12439 [============================>.] - ETA: 0s - loss: 0.0626\n",
            "Epoch 8: val_loss did not improve from 0.05450\n",
            "12439/12439 [==============================] - 40s 3ms/step - loss: 0.0625 - val_loss: 0.1023\n",
            "Epoch 9/35\n",
            "12432/12439 [============================>.] - ETA: 0s - loss: 0.0476\n",
            "Epoch 9: val_loss did not improve from 0.05450\n",
            "12439/12439 [==============================] - 40s 3ms/step - loss: 0.0476 - val_loss: 0.0624\n",
            "Epoch 10/35\n",
            "12423/12439 [============================>.] - ETA: 0s - loss: 0.0483\n",
            "Epoch 10: val_loss improved from 0.05450 to 0.05189, saving model to weights.10-0.05.hdf5\n",
            "12439/12439 [==============================] - 40s 3ms/step - loss: 0.0483 - val_loss: 0.0519\n",
            "Epoch 11/35\n",
            "12424/12439 [============================>.] - ETA: 0s - loss: 0.0442\n",
            "Epoch 11: val_loss did not improve from 0.05189\n",
            "12439/12439 [==============================] - 39s 3ms/step - loss: 0.0442 - val_loss: 0.0640\n",
            "Epoch 12/35\n",
            "12438/12439 [============================>.] - ETA: 0s - loss: 0.0592\n",
            "Epoch 12: val_loss did not improve from 0.05189\n",
            "12439/12439 [==============================] - 41s 3ms/step - loss: 0.0592 - val_loss: 0.0800\n",
            "Epoch 13/35\n",
            "12431/12439 [============================>.] - ETA: 0s - loss: 0.0389\n",
            "Epoch 13: val_loss improved from 0.05189 to 0.04178, saving model to weights.13-0.04.hdf5\n",
            "12439/12439 [==============================] - 40s 3ms/step - loss: 0.0389 - val_loss: 0.0418\n",
            "Epoch 14/35\n",
            "12439/12439 [==============================] - ETA: 0s - loss: 0.0404\n",
            "Epoch 14: val_loss did not improve from 0.04178\n",
            "12439/12439 [==============================] - 40s 3ms/step - loss: 0.0404 - val_loss: 0.0591\n",
            "Epoch 15/35\n",
            "12435/12439 [============================>.] - ETA: 0s - loss: 0.0359\n",
            "Epoch 15: val_loss did not improve from 0.04178\n",
            "12439/12439 [==============================] - 39s 3ms/step - loss: 0.0359 - val_loss: 0.0419\n",
            "Epoch 16/35\n",
            "12434/12439 [============================>.] - ETA: 0s - loss: 0.0379\n",
            "Epoch 16: val_loss did not improve from 0.04178\n",
            "12439/12439 [==============================] - 40s 3ms/step - loss: 0.0379 - val_loss: 0.0491\n",
            "Epoch 17/35\n",
            "12438/12439 [============================>.] - ETA: 0s - loss: 0.0385\n",
            "Epoch 17: val_loss improved from 0.04178 to 0.03420, saving model to weights.17-0.03.hdf5\n",
            "12439/12439 [==============================] - 40s 3ms/step - loss: 0.0385 - val_loss: 0.0342\n",
            "Epoch 18/35\n",
            "12437/12439 [============================>.] - ETA: 0s - loss: 0.0381\n",
            "Epoch 18: val_loss did not improve from 0.03420\n",
            "12439/12439 [==============================] - 41s 3ms/step - loss: 0.0381 - val_loss: 0.0416\n",
            "Epoch 19/35\n",
            "12434/12439 [============================>.] - ETA: 0s - loss: 0.0389\n",
            "Epoch 19: val_loss did not improve from 0.03420\n",
            "12439/12439 [==============================] - 39s 3ms/step - loss: 0.0389 - val_loss: 0.0980\n",
            "Epoch 20/35\n",
            "12436/12439 [============================>.] - ETA: 0s - loss: 0.0333\n",
            "Epoch 20: val_loss did not improve from 0.03420\n",
            "12439/12439 [==============================] - 40s 3ms/step - loss: 0.0333 - val_loss: 0.0391\n",
            "Epoch 21/35\n",
            "12430/12439 [============================>.] - ETA: 0s - loss: 0.0367\n",
            "Epoch 21: val_loss did not improve from 0.03420\n",
            "12439/12439 [==============================] - 40s 3ms/step - loss: 0.0366 - val_loss: 0.0549\n",
            "Epoch 22/35\n",
            "12425/12439 [============================>.] - ETA: 0s - loss: 0.0329\n",
            "Epoch 22: val_loss did not improve from 0.03420\n",
            "12439/12439 [==============================] - 39s 3ms/step - loss: 0.0329 - val_loss: 0.0401\n",
            "Epoch 23/35\n",
            "12428/12439 [============================>.] - ETA: 0s - loss: 0.0308\n",
            "Epoch 23: val_loss did not improve from 0.03420\n",
            "12439/12439 [==============================] - 39s 3ms/step - loss: 0.0308 - val_loss: 0.0385\n",
            "Epoch 24/35\n",
            "12426/12439 [============================>.] - ETA: 0s - loss: 0.0333\n",
            "Epoch 24: val_loss did not improve from 0.03420\n",
            "12439/12439 [==============================] - 40s 3ms/step - loss: 0.0333 - val_loss: 0.0377\n",
            "Epoch 25/35\n",
            "12436/12439 [============================>.] - ETA: 0s - loss: 0.0348\n",
            "Epoch 25: val_loss did not improve from 0.03420\n",
            "12439/12439 [==============================] - 39s 3ms/step - loss: 0.0348 - val_loss: 0.0372\n",
            "Epoch 26/35\n",
            "12433/12439 [============================>.] - ETA: 0s - loss: 0.0307\n",
            "Epoch 26: val_loss did not improve from 0.03420\n",
            "12439/12439 [==============================] - 39s 3ms/step - loss: 0.0307 - val_loss: 0.0581\n",
            "Epoch 27/35\n",
            "12438/12439 [============================>.] - ETA: 0s - loss: 0.0402\n",
            "Epoch 27: val_loss did not improve from 0.03420\n",
            "12439/12439 [==============================] - 40s 3ms/step - loss: 0.0402 - val_loss: 0.0503\n",
            "Epoch 28/35\n",
            "12429/12439 [============================>.] - ETA: 0s - loss: 0.0576\n",
            "Epoch 28: val_loss did not improve from 0.03420\n",
            "12439/12439 [==============================] - 40s 3ms/step - loss: 0.0576 - val_loss: 0.0354\n",
            "Epoch 29/35\n",
            "12428/12439 [============================>.] - ETA: 0s - loss: 0.0301\n",
            "Epoch 29: val_loss did not improve from 0.03420\n",
            "12439/12439 [==============================] - 40s 3ms/step - loss: 0.0301 - val_loss: 0.0400\n",
            "Epoch 30/35\n",
            "12437/12439 [============================>.] - ETA: 0s - loss: 0.0317\n",
            "Epoch 30: val_loss improved from 0.03420 to 0.03388, saving model to weights.30-0.03.hdf5\n",
            "12439/12439 [==============================] - 41s 3ms/step - loss: 0.0317 - val_loss: 0.0339\n",
            "Epoch 31/35\n",
            "12438/12439 [============================>.] - ETA: 0s - loss: 0.0328\n",
            "Epoch 31: val_loss did not improve from 0.03388\n",
            "12439/12439 [==============================] - 39s 3ms/step - loss: 0.0328 - val_loss: 0.0518\n",
            "Epoch 32/35\n",
            "12427/12439 [============================>.] - ETA: 0s - loss: 0.0276\n",
            "Epoch 32: val_loss did not improve from 0.03388\n",
            "12439/12439 [==============================] - 39s 3ms/step - loss: 0.0276 - val_loss: 0.0607\n",
            "Epoch 33/35\n",
            "12422/12439 [============================>.] - ETA: 0s - loss: 0.0289\n",
            "Epoch 33: val_loss did not improve from 0.03388\n",
            "12439/12439 [==============================] - 38s 3ms/step - loss: 0.0289 - val_loss: 0.0339\n",
            "Epoch 34/35\n",
            "12428/12439 [============================>.] - ETA: 0s - loss: 0.0269\n",
            "Epoch 34: val_loss did not improve from 0.03388\n",
            "12439/12439 [==============================] - 39s 3ms/step - loss: 0.0269 - val_loss: 0.0452\n",
            "Epoch 35/35\n",
            "12426/12439 [============================>.] - ETA: 0s - loss: 0.0272\n",
            "Epoch 35: val_loss did not improve from 0.03388\n",
            "12439/12439 [==============================] - 40s 3ms/step - loss: 0.0273 - val_loss: 0.0457\n"
          ]
        },
        {
          "output_type": "execute_result",
          "data": {
            "text/plain": [
              "<keras.callbacks.History at 0x7f1cb02d2b50>"
            ]
          },
          "metadata": {},
          "execution_count": 19
        }
      ],
      "source": [
        "import tensorflow as tf\n",
        "\n",
        "# Building the Classifier network\n",
        "model = Sequential()\n",
        "model.add(Dense(22, input_dim=29, activation='leaky_relu'))\n",
        "model.add(Dense(15, activation='leaky_relu'))\n",
        "model.add(Dense(10, activation='leaky_relu'))\n",
        "model.add(Dense(5, activation='leaky_relu'))\n",
        "model.add(Dense(2, activation='leaky_relu'))\n",
        "\n",
        "\n",
        "opt = tf.keras.optimizers.Adam(learning_rate=0.001)\n",
        "model.compile(opt, loss =\"binary_crossentropy\")\n",
        "fname = \"weights.{epoch:02d}-{val_loss:.2f}.hdf5\"\n",
        "checkpoint = tf.keras.callbacks.ModelCheckpoint(fname, monitor=\"val_loss\",mode=\"min\", save_best_only=True, verbose=1) \n",
        "# Training the network\n",
        "model.fit(X_train_denoised, y_train_res, \n",
        "                batch_size = 32, epochs = 35,callbacks=[checkpoint], validation_data=(X_test_denoised, y_test))\n"
      ]
    },
    {
      "cell_type": "code",
      "execution_count": 129,
      "metadata": {
        "id": "ovO6T3mZxvHR"
      },
      "outputs": [],
      "source": [
        "model_json = model.to_json()\n",
        "with open(\"drive/My Drive/NNmodel.json\", \"w\") as json_file:\n",
        "    json_file.write(model_json)\n",
        "# serialize weights to HDF5\n",
        "model.save_weights(\"drive/My Drive/NNmodel.h5\")"
      ]
    },
    {
      "cell_type": "code",
      "source": [
        "y_pred = model.predict(X_test_denoised)\n",
        "pred = tf.nn.softmax(y_pred)\n",
        "correct_prediction = tf.equal(tf.argmax(pred, axis=1), tf.argmax(y_test, axis=1))\n",
        "accuracy = tf.reduce_mean(tf.cast(correct_prediction, \"float\"))"
      ],
      "metadata": {
        "colab": {
          "base_uri": "https://localhost:8080/"
        },
        "id": "wXEOwgBk36_E",
        "outputId": "87627658-cb38-4ca5-a48d-d64da1b73e8d"
      },
      "execution_count": 42,
      "outputs": [
        {
          "output_type": "stream",
          "name": "stdout",
          "text": [
            "2671/2671 [==============================] - 4s 1ms/step\n"
          ]
        }
      ]
    },
    {
      "cell_type": "code",
      "source": [
        "from sklearn.metrics import ConfusionMatrixDisplay\n",
        "from sklearn.metrics import confusion_matrix\n",
        "from sklearn.metrics import classification_report\n",
        "\n",
        "labels = [\"Normal\", \"fraud\"]\n",
        "\n",
        "cm = confusion_matrix( tf.argmax(y_test, axis=1),tf.argmax(pred, axis=1))\n",
        "\n",
        "disp = ConfusionMatrixDisplay(confusion_matrix=cm, display_labels=labels)\n",
        "disp.plot(cmap=plt.cm.Blues)\n",
        "plt.show()\n",
        "\n"
      ],
      "metadata": {
        "colab": {
          "base_uri": "https://localhost:8080/",
          "height": 279
        },
        "id": "FsSrkLri38zr",
        "outputId": "30928270-459e-40f2-c455-e5cd8d4ca97e"
      },
      "execution_count": 21,
      "outputs": [
        {
          "output_type": "display_data",
          "data": {
            "text/plain": [
              "<Figure size 432x288 with 2 Axes>"
            ],
            "image/png": "[encoded data removed]"
          },
          "metadata": {
            "needs_background": "light"
          }
        }
      ]
    },
    {
      "cell_type": "code",
      "source": [
        "print(classification_report(tf.argmax(y_test, axis=1),tf.argmax(pred, axis=1)))"
      ],
      "metadata": {
        "id": "MYnbqXqI4D8F"
      },
      "execution_count": null,
      "outputs": []
    },
    {
      "cell_type": "code",
      "source": [
        "y_pred = model.predict(X_test_denoised)\n",
        "pred = tf.nn.softmax(y_pred)\n",
        "correct_prediction = tf.equal(tf.argmax(pred, axis=1), tf.argmax(y_test, axis=1))\n",
        "accuracy = tf.reduce_mean(tf.cast(correct_prediction, \"float\"))"
      ],
      "metadata": {
        "colab": {
          "base_uri": "https://localhost:8080/"
        },
        "id": "yzyjAPzEYKWe",
        "outputId": "72728749-2773-4e05-8191-22911082a744"
      },
      "execution_count": 148,
      "outputs": [
        {
          "output_type": "stream",
          "name": "stdout",
          "text": [
            "2671/2671 [==============================] - 4s 1ms/step\n"
          ]
        }
      ]
    },
    {
      "cell_type": "code",
      "source": [
        "from sklearn.metrics import ConfusionMatrixDisplay\n",
        "from sklearn.metrics import confusion_matrix\n",
        "from sklearn.metrics import classification_report\n",
        "\n",
        "labels = [\"Normal\", \"fraud\"]\n",
        "\n",
        "cm = confusion_matrix( tf.argmax(y_test, axis=1),tf.argmax(pred, axis=1))\n",
        "\n",
        "disp = ConfusionMatrixDisplay(confusion_matrix=cm, display_labels=labels)\n",
        "disp.plot(cmap=plt.cm.Blues)\n",
        "plt.show()\n",
        "\n"
      ],
      "metadata": {
        "colab": {
          "base_uri": "https://localhost:8080/",
          "height": 279
        },
        "id": "3fx8fTsRm3Vt",
        "outputId": "74a5fa80-eaf7-4d28-a350-a5ffbd9bbfaa"
      },
      "execution_count": 150,
      "outputs": [
        {
          "output_type": "display_data",
          "data": {
            "text/plain": [
              "<Figure size 432x288 with 2 Axes>"
            ],
            "image/png": "[encoded data removed]"
          },
          "metadata": {
            "needs_background": "light"
          }
        }
      ]
    },
    {
      "cell_type": "code",
      "source": [
        "print(classification_report(tf.argmax(y_test, axis=1),tf.argmax(pred, axis=1)))"
      ],
      "metadata": {
        "colab": {
          "base_uri": "https://localhost:8080/"
        },
        "id": "GJHIY5wcmqmW",
        "outputId": "4401251e-dff7-4b93-8902-add3a7e00e53"
      },
      "execution_count": 151,
      "outputs": [
        {
          "output_type": "stream",
          "name": "stdout",
          "text": [
            "              precision    recall  f1-score   support\n",
            "\n",
            "           0       1.00      0.99      0.99     85296\n",
            "           1       0.11      0.87      0.20       147\n",
            "\n",
            "    accuracy                           0.99     85443\n",
            "   macro avg       0.56      0.93      0.59     85443\n",
            "weighted avg       1.00      0.99      0.99     85443\n",
            "\n"
          ]
        }
      ]
    },
    {
      "cell_type": "code",
      "source": [
        "y_pred = model.predict(X_train_denoised)\n",
        "pred = tf.nn.softmax(y_pred)"
      ],
      "metadata": {
        "colab": {
          "base_uri": "https://localhost:8080/"
        },
        "id": "0W-NyUht4jsD",
        "outputId": "b337af68-cb3d-4018-d43b-304002e8f93d"
      },
      "execution_count": 23,
      "outputs": [
        {
          "output_type": "stream",
          "name": "stdout",
          "text": [
            "12439/12439 [==============================] - 20s 2ms/step\n"
          ]
        }
      ]
    },
    {
      "cell_type": "code",
      "source": [
        "\n",
        "y_pred = model.predict(X_train_denoised)\n",
        "pred = tf.nn.softmax(y_pred)\n",
        "prec, rec, tre = precision_recall_curve(tf.argmax(y_train_res, axis=1),pred[:,1] )\n",
        "\n"
      ],
      "metadata": {
        "colab": {
          "base_uri": "https://localhost:8080/"
        },
        "id": "IS2KcOLutSOJ",
        "outputId": "0c0620fd-03e7-4b70-b201-d6d84b224b70"
      },
      "execution_count": 40,
      "outputs": [
        {
          "output_type": "stream",
          "name": "stdout",
          "text": [
            "12439/12439 [==============================] - 18s 1ms/step\n"
          ]
        }
      ]
    },
    {
      "cell_type": "code",
      "source": [
        "prec, rec, tre = precision_recall_curve(tf.argmax(pred, axis=1), tf.argmax(y_test, axis=1) )"
      ],
      "metadata": {
        "id": "YesniEM_6wq5"
      },
      "execution_count": 44,
      "outputs": []
    },
    {
      "cell_type": "code",
      "source": [
        "def plot_prec_recall_vs_tresh(precisions, recalls, thresholds):\n",
        "    plt.plot(thresholds, precisions[:-1], 'b--', label='precision')\n",
        "    plt.plot(thresholds, recalls[:-1], 'g--', label = 'recall')\n",
        "    plt.xlabel('Threshold')\n",
        "    plt.legend(loc='upper left')\n",
        "    plt.ylim([0,1])\n",
        "\n",
        "plot_prec_recall_vs_tresh(prec, rec, tre)\n",
        "plt.show()"
      ],
      "metadata": {
        "colab": {
          "base_uri": "https://localhost:8080/",
          "height": 283
        },
        "id": "_BefFvXevBXa",
        "outputId": "058ca337-1d4e-4681-c3b7-4f81548c8535"
      },
      "execution_count": 45,
      "outputs": [
        {
          "output_type": "display_data",
          "data": {
            "text/plain": [
              "<Figure size 432x288 with 1 Axes>"
            ],
            "image/png": "[encoded data removed]"
          },
          "metadata": {
            "needs_background": "light"
          }
        }
      ]
    },
    {
      "cell_type": "code",
      "execution_count": null,
      "metadata": {
        "colab": {
          "background_save": true
        },
        "id": "Gh8K_Ivak05C"
      },
      "outputs": [],
      "source": [
        "X_test_denoised = pd.read_csv('drive/My Drive/X_test_denoised.csv')\n",
        "X_train_denoised = pd.read_csv('drive/My Drive/X_train_denoised.csv')\n"
      ]
    },
    {
      "cell_type": "code",
      "execution_count": null,
      "metadata": {
        "colab": {
          "background_save": true
        },
        "id": "aN8OA1aE_dPR"
      },
      "outputs": [],
      "source": [
        "np.savetxt('drive/My Drive/y_test.csv', y_test, delimiter=',')\n",
        "np.savetxt('drive/My Drive/y_train_res.csv', y_train_res, delimiter=',')\n",
        "np.savetxt('drive/My Drive/X_test_noised.csv', X_test_noised, delimiter=',')\n",
        "np.savetxt('drive/My Drive/X_train_noised.csv', X_train_noised, delimiter=',')"
      ]
    },
    {
      "cell_type": "code",
      "execution_count": null,
      "metadata": {
        "colab": {
          "background_save": true
        },
        "id": "ySg_M08l_LmT"
      },
      "outputs": [],
      "source": [
        "np.savetxt('drive/My Drive/X_test_denoised.csv', X_test_denoised, delimiter=',')"
      ]
    },
    {
      "cell_type": "code",
      "execution_count": null,
      "metadata": {
        "colab": {
          "background_save": true
        },
        "id": "kktfoo-4_TuK"
      },
      "outputs": [],
      "source": [
        "np.savetxt('drive/My Drive/X_train_denoised.csv', X_train_denoised, delimiter=',')"
      ]
    },
    {
      "cell_type": "code",
      "execution_count": null,
      "metadata": {
        "colab": {
          "background_save": true
        },
        "id": "d-_frJ9NBJfb"
      },
      "outputs": [],
      "source": [
        "y_test=pd.read_csv('drive/My Drive/y_test.csv')\n",
        "y_train_res=pd.read_csv('drive/My Drive/y_train_res.csv')"
      ]
    },
    {
      "cell_type": "code",
      "execution_count": null,
      "metadata": {
        "colab": {
          "background_save": true
        },
        "id": "jiUelM_-Bhw3",
        "outputId": "7cc463d6-fe32-4a46-f0a2-688958d29711"
      },
      "outputs": [
        {
          "name": "stdout",
          "output_type": "stream",
          "text": [
            "Loaded model from disk\n"
          ]
        }
      ],
      "source": [
        "# load json and create model\n",
        "json_file = open('drive/My Drive/NNmodel.json', 'r')\n",
        "loaded_model_json = json_file.read()\n",
        "json_file.close()\n",
        "model = model_from_json(loaded_model_json)\n",
        "# load weights into new model\n",
        "model.load_weights(\"drive/My Drive/NNmodel.h5\")\n",
        "print(\"Loaded model from disk\")"
      ]
    },
    {
      "cell_type": "markdown",
      "source": [
        "# **With unbalanced dataset**"
      ],
      "metadata": {
        "id": "umsd-iuVzEfx"
      }
    },
    {
      "cell_type": "code",
      "source": [
        "X=df.copy()\n",
        "\n",
        "y=df.copy()\n",
        "\n",
        "\n",
        "del X[\"Class\"]\n",
        "y=y[\"Class\"]\n",
        "y = np.expand_dims(y, axis=1)\n",
        "# split into 70:30 ration\n",
        "X_train, X_test, y_train, y_test = train_test_split(X, y, test_size = 0.3, random_state = 0)\n",
        "  \n",
        "# describes info about train and test set\n",
        "print(\"Number transactions X_train dataset: \", X_train.shape)\n",
        "print(\"Number transactions y_train dataset: \", y_train.shape)\n",
        "print(\"Number transactions X_test dataset: \", X_test.shape)\n",
        "print(\"Number transactions y_test dataset: \", y_test.shape)"
      ],
      "metadata": {
        "colab": {
          "base_uri": "https://localhost:8080/"
        },
        "id": "zztyzKUOzI_g",
        "outputId": "ab6e1fa9-951d-40cc-b268-46674bfd2d8a"
      },
      "execution_count": 46,
      "outputs": [
        {
          "output_type": "stream",
          "name": "stdout",
          "text": [
            "Number transactions X_train dataset:  (199364, 29)\n",
            "Number transactions y_train dataset:  (199364, 1)\n",
            "Number transactions X_test dataset:  (85443, 29)\n",
            "Number transactions y_test dataset:  (85443, 1)\n"
          ]
        }
      ]
    },
    {
      "cell_type": "code",
      "source": [
        "import tensorflow as tf\n",
        "\n",
        "# Building the Classifier network\n",
        "model = Sequential()\n",
        "model.add(Dense(22, input_dim=29, activation='leaky_relu'))\n",
        "model.add(Dense(15, activation='leaky_relu'))\n",
        "model.add(Dense(10, activation='leaky_relu'))\n",
        "model.add(Dense(5, activation='leaky_relu'))\n",
        "model.add(Dense(2, activation='leaky_relu'))\n",
        "\n",
        "\n",
        "opt = tf.keras.optimizers.Adam(learning_rate=0.001)\n",
        "model.compile(opt, loss =\"binary_crossentropy\")\n",
        "fname = \"weights.{epoch:02d}-{val_loss:.2f}.hdf5\"\n",
        "checkpoint = tf.keras.callbacks.ModelCheckpoint(fname, monitor=\"val_loss\",mode=\"min\", save_best_only=True, verbose=1) \n",
        "# Training the network\n",
        "model.fit(X_train, y_train, \n",
        "                batch_size = 32, epochs = 35,callbacks=[checkpoint], validation_data=(X_test, y_test))\n"
      ],
      "metadata": {
        "colab": {
          "base_uri": "https://localhost:8080/"
        },
        "id": "klN4yHvy662Z",
        "outputId": "0cc414d4-49fe-4fee-d829-d609fdba221a"
      },
      "execution_count": 48,
      "outputs": [
        {
          "output_type": "stream",
          "name": "stdout",
          "text": [
            "Epoch 1/35\n",
            "6223/6231 [============================>.] - ETA: 0s - loss: 0.0266\n",
            "Epoch 1: val_loss improved from inf to 0.02654, saving model to weights.01-0.03.hdf5\n",
            "6231/6231 [==============================] - 24s 4ms/step - loss: 0.0268 - val_loss: 0.0265\n",
            "Epoch 2/35\n",
            "6230/6231 [============================>.] - ETA: 0s - loss: 0.0267\n",
            "Epoch 2: val_loss did not improve from 0.02654\n",
            "6231/6231 [==============================] - 30s 5ms/step - loss: 0.0267 - val_loss: 0.0265\n",
            "Epoch 3/35\n",
            "6215/6231 [============================>.] - ETA: 0s - loss: 0.0267\n",
            "Epoch 3: val_loss did not improve from 0.02654\n",
            "6231/6231 [==============================] - 24s 4ms/step - loss: 0.0267 - val_loss: 0.0265\n",
            "Epoch 4/35\n",
            "6231/6231 [==============================] - ETA: 0s - loss: 0.0267\n",
            "Epoch 4: val_loss did not improve from 0.02654\n",
            "6231/6231 [==============================] - 24s 4ms/step - loss: 0.0267 - val_loss: 0.0265\n",
            "Epoch 5/35\n",
            "6231/6231 [==============================] - ETA: 0s - loss: 0.0267\n",
            "Epoch 5: val_loss did not improve from 0.02654\n",
            "6231/6231 [==============================] - 22s 4ms/step - loss: 0.0267 - val_loss: 0.0265\n",
            "Epoch 6/35\n",
            "6220/6231 [============================>.] - ETA: 0s - loss: 0.0267\n",
            "Epoch 6: val_loss did not improve from 0.02654\n",
            "6231/6231 [==============================] - 24s 4ms/step - loss: 0.0267 - val_loss: 0.0265\n",
            "Epoch 7/35\n",
            "6226/6231 [============================>.] - ETA: 0s - loss: 0.0267\n",
            "Epoch 7: val_loss did not improve from 0.02654\n",
            "6231/6231 [==============================] - 22s 4ms/step - loss: 0.0267 - val_loss: 0.0265\n",
            "Epoch 8/35\n",
            "6224/6231 [============================>.] - ETA: 0s - loss: 0.0267\n",
            "Epoch 8: val_loss did not improve from 0.02654\n",
            "6231/6231 [==============================] - 22s 4ms/step - loss: 0.0267 - val_loss: 0.0265\n",
            "Epoch 9/35\n",
            "6222/6231 [============================>.] - ETA: 0s - loss: 0.0267\n",
            "Epoch 9: val_loss did not improve from 0.02654\n",
            "6231/6231 [==============================] - 22s 3ms/step - loss: 0.0267 - val_loss: 0.0265\n",
            "Epoch 10/35\n",
            "6215/6231 [============================>.] - ETA: 0s - loss: 0.0267\n",
            "Epoch 10: val_loss did not improve from 0.02654\n",
            "6231/6231 [==============================] - 23s 4ms/step - loss: 0.0267 - val_loss: 0.0265\n",
            "Epoch 11/35\n",
            "6217/6231 [============================>.] - ETA: 0s - loss: 0.0267\n",
            "Epoch 11: val_loss did not improve from 0.02654\n",
            "6231/6231 [==============================] - 22s 3ms/step - loss: 0.0267 - val_loss: 0.0265\n",
            "Epoch 12/35\n",
            "6226/6231 [============================>.] - ETA: 0s - loss: 0.0267\n",
            "Epoch 12: val_loss did not improve from 0.02654\n",
            "6231/6231 [==============================] - 23s 4ms/step - loss: 0.0267 - val_loss: 0.0265\n",
            "Epoch 13/35\n",
            "6226/6231 [============================>.] - ETA: 0s - loss: 0.0267\n",
            "Epoch 13: val_loss did not improve from 0.02654\n",
            "6231/6231 [==============================] - 23s 4ms/step - loss: 0.0267 - val_loss: 0.0265\n",
            "Epoch 14/35\n",
            "6223/6231 [============================>.] - ETA: 0s - loss: 0.0267\n",
            "Epoch 14: val_loss did not improve from 0.02654\n",
            "6231/6231 [==============================] - 22s 3ms/step - loss: 0.0267 - val_loss: 0.0265\n",
            "Epoch 15/35\n",
            "6224/6231 [============================>.] - ETA: 0s - loss: 0.0267\n",
            "Epoch 15: val_loss did not improve from 0.02654\n",
            "6231/6231 [==============================] - 23s 4ms/step - loss: 0.0267 - val_loss: 0.0265\n",
            "Epoch 16/35\n",
            "6226/6231 [============================>.] - ETA: 0s - loss: 0.0267\n",
            "Epoch 16: val_loss did not improve from 0.02654\n",
            "6231/6231 [==============================] - 22s 3ms/step - loss: 0.0267 - val_loss: 0.0265\n",
            "Epoch 17/35\n",
            "6227/6231 [============================>.] - ETA: 0s - loss: 0.0266\n",
            "Epoch 17: val_loss did not improve from 0.02654\n",
            "6231/6231 [==============================] - 21s 3ms/step - loss: 0.0267 - val_loss: 0.0265\n",
            "Epoch 18/35\n",
            "6221/6231 [============================>.] - ETA: 0s - loss: 0.0267\n",
            "Epoch 18: val_loss did not improve from 0.02654\n",
            "6231/6231 [==============================] - 22s 4ms/step - loss: 0.0267 - val_loss: 0.0265\n",
            "Epoch 19/35\n",
            "6219/6231 [============================>.] - ETA: 0s - loss: 0.0267\n",
            "Epoch 19: val_loss did not improve from 0.02654\n",
            "6231/6231 [==============================] - 22s 3ms/step - loss: 0.0267 - val_loss: 0.0265\n",
            "Epoch 20/35\n",
            "6215/6231 [============================>.] - ETA: 0s - loss: 0.0268\n",
            "Epoch 20: val_loss did not improve from 0.02654\n",
            "6231/6231 [==============================] - 22s 3ms/step - loss: 0.0267 - val_loss: 0.0265\n",
            "Epoch 21/35\n",
            "6229/6231 [============================>.] - ETA: 0s - loss: 0.0267\n",
            "Epoch 21: val_loss did not improve from 0.02654\n",
            "6231/6231 [==============================] - 22s 3ms/step - loss: 0.0267 - val_loss: 0.0265\n",
            "Epoch 22/35\n",
            "6229/6231 [============================>.] - ETA: 0s - loss: 0.0267\n",
            "Epoch 22: val_loss did not improve from 0.02654\n",
            "6231/6231 [==============================] - 21s 3ms/step - loss: 0.0267 - val_loss: 0.0265\n",
            "Epoch 23/35\n",
            "6222/6231 [============================>.] - ETA: 0s - loss: 0.0267\n",
            "Epoch 23: val_loss did not improve from 0.02654\n",
            "6231/6231 [==============================] - 22s 3ms/step - loss: 0.0267 - val_loss: 0.0265\n",
            "Epoch 24/35\n",
            "6230/6231 [============================>.] - ETA: 0s - loss: 0.0267\n",
            "Epoch 24: val_loss did not improve from 0.02654\n",
            "6231/6231 [==============================] - 22s 4ms/step - loss: 0.0267 - val_loss: 0.0265\n",
            "Epoch 25/35\n",
            "6215/6231 [============================>.] - ETA: 0s - loss: 0.0267\n",
            "Epoch 25: val_loss did not improve from 0.02654\n",
            "6231/6231 [==============================] - 23s 4ms/step - loss: 0.0267 - val_loss: 0.0265\n",
            "Epoch 26/35\n",
            "6215/6231 [============================>.] - ETA: 0s - loss: 0.0266\n",
            "Epoch 26: val_loss did not improve from 0.02654\n",
            "6231/6231 [==============================] - 22s 4ms/step - loss: 0.0267 - val_loss: 0.0265\n",
            "Epoch 27/35\n",
            "6221/6231 [============================>.] - ETA: 0s - loss: 0.0267\n",
            "Epoch 27: val_loss did not improve from 0.02654\n",
            "6231/6231 [==============================] - 22s 4ms/step - loss: 0.0267 - val_loss: 0.0265\n",
            "Epoch 28/35\n",
            "6220/6231 [============================>.] - ETA: 0s - loss: 0.0267\n",
            "Epoch 28: val_loss did not improve from 0.02654\n",
            "6231/6231 [==============================] - 22s 3ms/step - loss: 0.0267 - val_loss: 0.0265\n",
            "Epoch 29/35\n",
            "6225/6231 [============================>.] - ETA: 0s - loss: 0.0267\n",
            "Epoch 29: val_loss did not improve from 0.02654\n",
            "6231/6231 [==============================] - 23s 4ms/step - loss: 0.0267 - val_loss: 0.0265\n",
            "Epoch 30/35\n",
            "6223/6231 [============================>.] - ETA: 0s - loss: 0.0266\n",
            "Epoch 30: val_loss did not improve from 0.02654\n",
            "6231/6231 [==============================] - 22s 3ms/step - loss: 0.0267 - val_loss: 0.0265\n",
            "Epoch 31/35\n",
            "6214/6231 [============================>.] - ETA: 0s - loss: 0.0267\n",
            "Epoch 31: val_loss did not improve from 0.02654\n",
            "6231/6231 [==============================] - 22s 3ms/step - loss: 0.0267 - val_loss: 0.0265\n",
            "Epoch 32/35\n",
            "6220/6231 [============================>.] - ETA: 0s - loss: 0.0267\n",
            "Epoch 32: val_loss did not improve from 0.02654\n",
            "6231/6231 [==============================] - 23s 4ms/step - loss: 0.0267 - val_loss: 0.0265\n",
            "Epoch 33/35\n",
            "6230/6231 [============================>.] - ETA: 0s - loss: 0.0267\n",
            "Epoch 33: val_loss did not improve from 0.02654\n",
            "6231/6231 [==============================] - 22s 3ms/step - loss: 0.0267 - val_loss: 0.0265\n",
            "Epoch 34/35\n",
            "6221/6231 [============================>.] - ETA: 0s - loss: 0.0267\n",
            "Epoch 34: val_loss did not improve from 0.02654\n",
            "6231/6231 [==============================] - 22s 3ms/step - loss: 0.0267 - val_loss: 0.0265\n",
            "Epoch 35/35\n",
            "6230/6231 [============================>.] - ETA: 0s - loss: 0.0267\n",
            "Epoch 35: val_loss did not improve from 0.02654\n",
            "6231/6231 [==============================] - 23s 4ms/step - loss: 0.0267 - val_loss: 0.0265\n"
          ]
        },
        {
          "output_type": "execute_result",
          "data": {
            "text/plain": [
              "<keras.callbacks.History at 0x7f1cc4955880>"
            ]
          },
          "metadata": {},
          "execution_count": 48
        }
      ]
    },
    {
      "cell_type": "code",
      "source": [
        "y_pred = model.predict(X_test)\n",
        "pred = tf.nn.softmax(y_pred)\n",
        "correct_prediction = tf.equal(tf.argmax(pred, axis=1), tf.argmax(y_test, axis=1))\n",
        "accuracy = tf.reduce_mean(tf.cast(correct_prediction, \"float\"))"
      ],
      "metadata": {
        "colab": {
          "base_uri": "https://localhost:8080/"
        },
        "id": "J0qLTg5b7kyV",
        "outputId": "165b0729-fb5e-4321-80c3-e0ef1a4be6c3"
      },
      "execution_count": 57,
      "outputs": [
        {
          "output_type": "stream",
          "name": "stdout",
          "text": [
            "2671/2671 [==============================] - 4s 1ms/step\n"
          ]
        }
      ]
    },
    {
      "cell_type": "code",
      "source": [
        "from sklearn.metrics import ConfusionMatrixDisplay\n",
        "from sklearn.metrics import confusion_matrix\n",
        "from sklearn.metrics import classification_report\n",
        "\n",
        "labels = [\"Normal\", \"fraud\"]\n",
        "\n",
        "cm = confusion_matrix( y_test,tf.argmax(pred, axis=1))\n",
        "\n",
        "disp = ConfusionMatrixDisplay(confusion_matrix=cm, display_labels=labels)\n",
        "disp.plot(cmap=plt.cm.Blues)\n",
        "plt.show()\n",
        "\n"
      ],
      "metadata": {
        "colab": {
          "base_uri": "https://localhost:8080/",
          "height": 279
        },
        "id": "sZrMSv7t7wWy",
        "outputId": "010bcf4e-bfb6-4c36-a90f-f092e55a0a22"
      },
      "execution_count": 59,
      "outputs": [
        {
          "output_type": "display_data",
          "data": {
            "text/plain": [
              "<Figure size 432x288 with 2 Axes>"
            ],
            "image/png": "[encoded data removed]"
          },
          "metadata": {
            "needs_background": "light"
          }
        }
      ]
    },
    {
      "cell_type": "code",
      "source": [
        "print(classification_report(y_test,tf.argmax(pred, axis=1)))"
      ],
      "metadata": {
        "colab": {
          "base_uri": "https://localhost:8080/"
        },
        "id": "Yxv5uHaD_mSy",
        "outputId": "512a42a5-d80c-4ad8-ebea-248b148ee843"
      },
      "execution_count": 61,
      "outputs": [
        {
          "output_type": "stream",
          "name": "stdout",
          "text": [
            "              precision    recall  f1-score   support\n",
            "\n",
            "           0       1.00      0.76      0.86     85296\n",
            "           1       0.00      0.02      0.00       147\n",
            "\n",
            "    accuracy                           0.76     85443\n",
            "   macro avg       0.50      0.39      0.43     85443\n",
            "weighted avg       1.00      0.76      0.86     85443\n",
            "\n"
          ]
        }
      ]
    },
    {
      "cell_type": "code",
      "source": [
        "prec, rec, tre = precision_recall_curve(tf.argmax(pred, axis=1), y_test )\n",
        "def plot_prec_recall_vs_tresh(precisions, recalls, thresholds):\n",
        "    plt.plot(thresholds, precisions[:-1], 'b--', label='precision')\n",
        "    plt.plot(thresholds, recalls[:-1], 'g--', label = 'recall')\n",
        "    plt.xlabel('Threshold')\n",
        "    plt.legend(loc='upper left')\n",
        "    plt.ylim([0,1])\n",
        "\n",
        "plot_prec_recall_vs_tresh(prec, rec, tre)\n",
        "plt.show()"
      ],
      "metadata": {
        "colab": {
          "base_uri": "https://localhost:8080/",
          "height": 283
        },
        "id": "p3dJSdCqAAxG",
        "outputId": "586a6c88-528e-46ab-ce40-8b61e4f6665a"
      },
      "execution_count": 62,
      "outputs": [
        {
          "output_type": "display_data",
          "data": {
            "text/plain": [
              "<Figure size 432x288 with 1 Axes>"
            ],
            "image/png": "[encoded data removed]"
          },
          "metadata": {
            "needs_background": "light"
          }
        }
      ]
    }
  ],
  "metadata": {
    "colab": {
      "provenance": []
    },
    "gpuClass": "standard",
    "kernelspec": {
      "display_name": "Python 3",
      "name": "python3"
    },
    "language_info": {
      "name": "python"
    },
    "accelerator": "GPU"
  },
  "nbformat": 4,
  "nbformat_minor": 0
}