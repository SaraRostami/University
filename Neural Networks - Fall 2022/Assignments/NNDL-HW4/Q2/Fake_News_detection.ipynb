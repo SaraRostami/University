{
  "nbformat": 4,
  "nbformat_minor": 0,
  "metadata": {
    "colab": {
      "provenance": []
    },
    "kernelspec": {
      "name": "python3",
      "display_name": "Python 3"
    },
    "language_info": {
      "name": "python"
    }
  },
  "cells": [
    {
      "cell_type": "code",
      "execution_count": null,
      "metadata": {
        "id": "4XcoEbwxmY6V"
      },
      "outputs": [],
      "source": [
        "import tensorflow as tf\n",
        "import random\n",
        "import numpy as np\n",
        "import pandas as pd\n",
        "import matplotlib.image  as mpimg\n",
        "import matplotlib.pyplot as plt\n",
        "import io\n",
        "import seaborn as sns\n",
        "\n",
        "from sklearn.model_selection import train_test_split\n",
        "from sklearn.utils import shuffle\n",
        "import tensorflow\n",
        "from tensorflow.keras.preprocessing.text import Tokenizer\n",
        "from tensorflow.keras.preprocessing.sequence import pad_sequences\n",
        "from tensorflow.keras.utils import to_categorical\n",
        "from tensorflow.keras import regularizers\n",
        "from tensorflow.keras import backend as K \n"
      ]
    },
    {
      "cell_type": "code",
      "source": [
        "import nltk\n",
        "nltk.download('stopwords')\n",
        "nltk.download('wordnet')"
      ],
      "metadata": {
        "colab": {
          "base_uri": "https://localhost:8080/"
        },
        "id": "sNI1M56FqCqL",
        "outputId": "df0afecd-5d80-49a3-8ac1-c3fc9c567c71"
      },
      "execution_count": null,
      "outputs": [
        {
          "output_type": "stream",
          "name": "stderr",
          "text": [
            "[nltk_data] Downloading package stopwords to /root/nltk_data...\n",
            "[nltk_data]   Package stopwords is already up-to-date!\n",
            "[nltk_data] Downloading package wordnet to /root/nltk_data...\n",
            "[nltk_data]   Package wordnet is already up-to-date!\n"
          ]
        },
        {
          "output_type": "execute_result",
          "data": {
            "text/plain": [
              "True"
            ]
          },
          "metadata": {},
          "execution_count": 2
        }
      ]
    },
    {
      "cell_type": "code",
      "source": [
        "\n",
        "from google.colab import drive\n",
        "drive.mount('/content/drive')"
      ],
      "metadata": {
        "colab": {
          "base_uri": "https://localhost:8080/"
        },
        "id": "o9G5ExOSm5Jq",
        "outputId": "f7b60308-fe9b-4004-f588-c968e0d5b2fa"
      },
      "execution_count": null,
      "outputs": [
        {
          "output_type": "stream",
          "name": "stdout",
          "text": [
            "Drive already mounted at /content/drive; to attempt to forcibly remount, call drive.mount(\"/content/drive\", force_remount=True).\n"
          ]
        }
      ]
    },
    {
      "cell_type": "code",
      "source": [
        "import gdown\n",
        "output = \"/content/drive/My Drive/Q2/glove.6B.zip\"\n",
        "gdown.download(\"https://nlp.stanford.edu/data/glove.6B.zip\", output, quiet=False)"
      ],
      "metadata": {
        "colab": {
          "base_uri": "https://localhost:8080/",
          "height": 110
        },
        "id": "-27KbDoCm78P",
        "outputId": "57877d91-14fc-49e7-89e5-7d95c2970394"
      },
      "execution_count": null,
      "outputs": [
        {
          "output_type": "stream",
          "name": "stderr",
          "text": [
            "Downloading...\n",
            "From: https://nlp.stanford.edu/data/glove.6B.zip\n",
            "To: /content/drive/My Drive/Q2/glove.6B.zip\n",
            "100%|██████████| 862M/862M [02:38<00:00, 5.44MB/s]\n"
          ]
        },
        {
          "output_type": "execute_result",
          "data": {
            "text/plain": [
              "'/content/drive/My Drive/Q2/glove.6B.zip'"
            ],
            "application/vnd.google.colaboratory.intrinsic+json": {
              "type": "string"
            }
          },
          "metadata": {},
          "execution_count": 36
        }
      ]
    },
    {
      "cell_type": "code",
      "source": [
        "import zipfile\n",
        "with zipfile.ZipFile(\"/content/drive/My Drive/Q2/glove.6B.zip\", 'r') as zip_ref:\n",
        "    zip_ref.extractall(\"/content/drive/My Drive/Q2/\")"
      ],
      "metadata": {
        "id": "H79XmnVow4hv"
      },
      "execution_count": null,
      "outputs": []
    },
    {
      "cell_type": "code",
      "source": [
        "new_df = pd.read_csv('/content/drive/My Drive/Q2/FA-KES-Dataset.csv', encoding= 'unicode_escape')\n"
      ],
      "metadata": {
        "id": "jcP7WbSDnZ8-"
      },
      "execution_count": null,
      "outputs": []
    },
    {
      "cell_type": "code",
      "source": [
        "\n",
        "column_n = ['unit_id',\t'article_title',\t'article_content',\t'source',\t'date'\t,'location',\t'labels']\n",
        "remove_c = ['unit_id',\t'article_title','source',\t'date'\t,'location']\n",
        "categorical_features = []\n",
        "target_col = ['labels']\n",
        "text_f = ['article_content']\n",
        "# Clean Datasets\n",
        "import nltk\n",
        "nltk.download('omw-1.4')\n",
        "from nltk.corpus import stopwords\n",
        "import re\n",
        "from nltk.stem.porter import PorterStemmer\n",
        "from collections import Counter\n",
        "\n",
        "ps = PorterStemmer()\n",
        "wnl = nltk.stem.WordNetLemmatizer()\n",
        "\n",
        "stop_words = stopwords.words('english')\n",
        "stopwords_dict = Counter(stop_words)\n",
        "\n",
        "# Removed unused clumns\n",
        "def remove_unused_c(df,column_n=remove_c):\n",
        "    df = df.drop(column_n,axis=1)\n",
        "    return df\n",
        "\n",
        "# Impute null values with None\n",
        "def null_process(feature_df):\n",
        "    for col in text_f:\n",
        "        feature_df.loc[feature_df[col].isnull(), col] = \"None\"\n",
        "    return feature_df\n",
        "\n",
        "def clean_dataset(df):\n",
        "    # remove unused column\n",
        "    df = remove_unused_c(df)\n",
        "    #impute null values\n",
        "    df = null_process(df)\n",
        "    return df\n",
        "\n",
        "\n",
        "def clean_text(text):\n",
        "    text = str(text).replace(r'http[\\w:/\\.]+', ' ')  # removing urls\n",
        "    text = str(text).replace(r'[^\\.\\w\\s]', ' ')  \n",
        "    return text\n",
        "\n",
        "\n",
        "def nltk_preprocess(text):\n",
        "    text = clean_text(text)\n",
        "    wordlist = re.sub(r'[^\\w\\s]', '', text).split()\n",
        "    text = ' '.join([wnl.lemmatize(word) for word in wordlist if word not in stopwords_dict])\n",
        "    return  text"
      ],
      "metadata": {
        "colab": {
          "base_uri": "https://localhost:8080/"
        },
        "id": "bYligyeIq_BH",
        "outputId": "59fa6ac4-d279-4b33-f32a-61fb62c977cf"
      },
      "execution_count": null,
      "outputs": [
        {
          "output_type": "stream",
          "name": "stderr",
          "text": [
            "[nltk_data] Downloading package omw-1.4 to /root/nltk_data...\n",
            "[nltk_data]   Package omw-1.4 is already up-to-date!\n"
          ]
        }
      ]
    },
    {
      "cell_type": "code",
      "source": [
        "\n",
        "df = clean_dataset(new_df)\n",
        "df[\"article_content\"] = df.article_content.apply(nltk_preprocess)\n",
        "\n"
      ],
      "metadata": {
        "id": "2K4EvqPcrlo_"
      },
      "execution_count": null,
      "outputs": []
    },
    {
      "cell_type": "code",
      "source": [
        "# Tokenize text\n",
        "\n",
        "tokenizer = Tokenizer()\n",
        "tokenizer.fit_on_texts(df['article_content'])\n",
        "word_index = tokenizer.word_index\n",
        "vocab_size=len(word_index)\n",
        "print(vocab_size)\n",
        "\n",
        "# Padding data\n",
        "\n",
        "sequences = tokenizer.texts_to_sequences(df['article_content'])\n",
        "padded = pad_sequences(sequences, maxlen=300, padding='post')"
      ],
      "metadata": {
        "colab": {
          "base_uri": "https://localhost:8080/"
        },
        "id": "92Kwmxhur4do",
        "outputId": "b647a0a2-eef8-475f-fa19-9b4b100c3da0"
      },
      "execution_count": null,
      "outputs": [
        {
          "output_type": "stream",
          "name": "stdout",
          "text": [
            "10416\n"
          ]
        }
      ]
    },
    {
      "cell_type": "code",
      "source": [
        "split = 0.2\n",
        "split_n = int(round(len(padded)*(1-split),0))\n",
        "\n",
        "train_data = padded[:split_n]\n",
        "train_labels = df['labels'].values[:split_n]\n",
        "test_data = padded[split_n:]\n",
        "test_labels = df['labels'].values[split_n:]"
      ],
      "metadata": {
        "id": "xvtbVd4fpA8O"
      },
      "execution_count": null,
      "outputs": []
    },
    {
      "cell_type": "code",
      "source": [
        "embeddings_index = {};\n",
        "with open('/content/drive/My Drive/Q2/glove.6B.100d.txt') as f:\n",
        "    for line in f:\n",
        "        values = line.split();\n",
        "        word = values[0];\n",
        "        coefs = np.asarray(values[1:], dtype='float32');\n",
        "        embeddings_index[word] = coefs;\n",
        "print(len(coefs))\n",
        "\n",
        "embeddings_matrix = np.zeros((vocab_size+1, 100));\n",
        "for word, i in word_index.items():\n",
        "    embedding_vector = embeddings_index.get(word);\n",
        "    if embedding_vector is not None:\n",
        "        embeddings_matrix[i] = embedding_vector;"
      ],
      "metadata": {
        "colab": {
          "base_uri": "https://localhost:8080/"
        },
        "id": "sRNzbHNa009K",
        "outputId": "cb0a7c95-daba-4118-8441-e0f2b5ab4349"
      },
      "execution_count": null,
      "outputs": [
        {
          "output_type": "stream",
          "name": "stdout",
          "text": [
            "100\n"
          ]
        }
      ]
    },
    {
      "cell_type": "code",
      "source": [
        "     \n",
        "model = tf.keras.Sequential([\n",
        "    tf.keras.layers.Embedding(vocab_size+1, 100, weights=[embeddings_matrix], trainable=False),\n",
        "    tf.keras.layers.Conv1D(128, 5, activation='relu'),\n",
        "    tf.keras.layers.MaxPooling1D(pool_size=2),\n",
        "    tf.keras.layers.LSTM(32),\n",
        "    tf.keras.layers.Dense(1, activation='sigmoid')\n",
        "])\n",
        "     "
      ],
      "metadata": {
        "id": "sod949gm1VEA"
      },
      "execution_count": null,
      "outputs": []
    },
    {
      "cell_type": "code",
      "source": [
        "\n",
        "model.compile(loss='binary_crossentropy',optimizer='adam',metrics=['accuracy'])\n",
        "model.summary()\n",
        "\n",
        "history = model.fit(train_data, train_labels, epochs=10, batch_size=64, validation_data=[test_data, test_labels])\n",
        "\n",
        "print(\"Training Complete\")"
      ],
      "metadata": {
        "colab": {
          "base_uri": "https://localhost:8080/"
        },
        "id": "W6U8f3ep18l_",
        "outputId": "8bfd8ac0-13a9-470d-a2df-90e5f3db1785"
      },
      "execution_count": null,
      "outputs": [
        {
          "output_type": "stream",
          "name": "stdout",
          "text": [
            "Model: \"sequential_6\"\n",
            "_________________________________________________________________\n",
            " Layer (type)                Output Shape              Param #   \n",
            "=================================================================\n",
            " embedding_6 (Embedding)     (None, None, 100)         1041700   \n",
            "                                                                 \n",
            " conv1d_2 (Conv1D)           (None, None, 128)         64128     \n",
            "                                                                 \n",
            " max_pooling1d_2 (MaxPooling  (None, None, 128)        0         \n",
            " 1D)                                                             \n",
            "                                                                 \n",
            " lstm_5 (LSTM)               (None, 32)                20608     \n",
            "                                                                 \n",
            " dense_6 (Dense)             (None, 1)                 33        \n",
            "                                                                 \n",
            "=================================================================\n",
            "Total params: 1,126,469\n",
            "Trainable params: 84,769\n",
            "Non-trainable params: 1,041,700\n",
            "_________________________________________________________________\n",
            "Epoch 1/10\n",
            "11/11 [==============================] - 5s 270ms/step - loss: 0.7015 - accuracy: 0.5179 - val_loss: 0.6963 - val_accuracy: 0.4161\n",
            "Epoch 2/10\n",
            "11/11 [==============================] - 2s 212ms/step - loss: 0.6856 - accuracy: 0.5505 - val_loss: 0.7037 - val_accuracy: 0.4099\n",
            "Epoch 3/10\n",
            "11/11 [==============================] - 2s 216ms/step - loss: 0.6757 - accuracy: 0.5397 - val_loss: 0.7053 - val_accuracy: 0.4099\n",
            "Epoch 4/10\n",
            "11/11 [==============================] - 2s 210ms/step - loss: 0.6649 - accuracy: 0.5630 - val_loss: 0.7078 - val_accuracy: 0.4286\n",
            "Epoch 5/10\n",
            "11/11 [==============================] - 2s 210ms/step - loss: 0.6550 - accuracy: 0.5645 - val_loss: 0.6998 - val_accuracy: 0.4286\n",
            "Epoch 6/10\n",
            "11/11 [==============================] - 2s 212ms/step - loss: 0.6647 - accuracy: 0.5459 - val_loss: 0.7140 - val_accuracy: 0.4161\n",
            "Epoch 7/10\n",
            "11/11 [==============================] - 4s 381ms/step - loss: 0.6544 - accuracy: 0.5272 - val_loss: 0.6990 - val_accuracy: 0.5901\n",
            "Epoch 8/10\n",
            "11/11 [==============================] - 3s 255ms/step - loss: 0.6454 - accuracy: 0.5645 - val_loss: 0.7016 - val_accuracy: 0.5901\n",
            "Epoch 9/10\n",
            "11/11 [==============================] - 3s 303ms/step - loss: 0.6354 - accuracy: 0.5692 - val_loss: 0.7042 - val_accuracy: 0.5963\n",
            "Epoch 10/10\n",
            "11/11 [==============================] - 3s 309ms/step - loss: 0.6266 - accuracy: 0.5770 - val_loss: 0.7009 - val_accuracy: 0.6087\n",
            "Training Complete\n"
          ]
        }
      ]
    },
    {
      "cell_type": "code",
      "source": [
        "\n",
        "# Visualize the results:\n",
        "\n",
        "plt.plot(history.history['accuracy'])\n",
        "plt.plot(history.history['val_accuracy'])\n",
        "plt.title('Model Hybrid accuracy')\n",
        "plt.ylabel('Accuracy')\n",
        "plt.xlabel('Epoch')\n",
        "plt.legend(['Train', 'Test'], loc='upper left')\n",
        "plt.show()\n",
        "\n",
        "plt.plot(history.history['loss'])\n",
        "plt.plot(history.history['val_loss'])\n",
        "plt.title('Model Hybrid loss')\n",
        "plt.ylabel('Loss')\n",
        "plt.xlabel('Epoch')\n",
        "plt.legend(['Train', 'Test'], loc='upper right')\n",
        "plt.show()"
      ],
      "metadata": {
        "colab": {
          "base_uri": "https://localhost:8080/",
          "height": 573
        },
        "id": "81UI38-P5xhc",
        "outputId": "26c958cf-57b6-460b-ac29-2fa4e84c46b6"
      },
      "execution_count": null,
      "outputs": [
        {
          "output_type": "display_data",
          "data": {
            "text/plain": [
              "<Figure size 432x288 with 1 Axes>"
            ],
            "image/png": "[encoded data removed]"
          },
          "metadata": {
            "needs_background": "light"
          }
        },
        {
          "output_type": "display_data",
          "data": {
            "text/plain": [
              "<Figure size 432x288 with 1 Axes>"
            ],
            "image/png": "[encoded data removed]"
          },
          "metadata": {
            "needs_background": "light"
          }
        }
      ]
    },
    {
      "cell_type": "code",
      "source": [
        "from sklearn.metrics import ConfusionMatrixDisplay\n",
        "from sklearn.metrics import confusion_matrix\n",
        "from sklearn.metrics import classification_report \n",
        "y_pred = model.predict(test_data)\n",
        "print(classification_report(test_labels,tf.argmax(y_pred, axis=1)))"
      ],
      "metadata": {
        "colab": {
          "base_uri": "https://localhost:8080/"
        },
        "id": "Rx0IRa0TKFDR",
        "outputId": "4040dcf9-8422-42de-962d-211927b0d2c6"
      },
      "execution_count": null,
      "outputs": [
        {
          "output_type": "stream",
          "name": "stdout",
          "text": [
            "6/6 [==============================] - 1s 35ms/step\n",
            "              precision    recall  f1-score   support\n",
            "\n",
            "           0       0.42      1.00      0.59        67\n",
            "           1       0.00      0.00      0.00        94\n",
            "\n",
            "    accuracy                           0.42       161\n",
            "   macro avg       0.21      0.50      0.29       161\n",
            "weighted avg       0.17      0.42      0.24       161\n",
            "\n"
          ]
        },
        {
          "output_type": "stream",
          "name": "stderr",
          "text": [
            "/usr/local/lib/python3.8/dist-packages/sklearn/metrics/_classification.py:1318: UndefinedMetricWarning: Precision and F-score are ill-defined and being set to 0.0 in labels with no predicted samples. Use `zero_division` parameter to control this behavior.\n",
            "  _warn_prf(average, modifier, msg_start, len(result))\n",
            "/usr/local/lib/python3.8/dist-packages/sklearn/metrics/_classification.py:1318: UndefinedMetricWarning: Precision and F-score are ill-defined and being set to 0.0 in labels with no predicted samples. Use `zero_division` parameter to control this behavior.\n",
            "  _warn_prf(average, modifier, msg_start, len(result))\n",
            "/usr/local/lib/python3.8/dist-packages/sklearn/metrics/_classification.py:1318: UndefinedMetricWarning: Precision and F-score are ill-defined and being set to 0.0 in labels with no predicted samples. Use `zero_division` parameter to control this behavior.\n",
            "  _warn_prf(average, modifier, msg_start, len(result))\n"
          ]
        }
      ]
    },
    {
      "cell_type": "markdown",
      "source": [
        "# **RNN**"
      ],
      "metadata": {
        "id": "xOYTgzzdKzjm"
      }
    },
    {
      "cell_type": "code",
      "source": [
        "     \n",
        "model = tf.keras.Sequential([\n",
        "    tf.keras.layers.Embedding(vocab_size+1, 100, weights=[embeddings_matrix], trainable=False),\n",
        "    tf.keras.layers.SimpleRNN(32),\n",
        "    tf.keras.layers.Dense(1, activation='sigmoid')\n",
        "])\n",
        "     "
      ],
      "metadata": {
        "id": "HGfCcyLwK1lw"
      },
      "execution_count": null,
      "outputs": []
    },
    {
      "cell_type": "code",
      "source": [
        "\n",
        "model.compile(loss='binary_crossentropy',optimizer='adam',metrics=['accuracy'])\n",
        "model.summary()\n",
        "\n",
        "history = model.fit(train_data, train_labels, epochs=10, batch_size=64, validation_data=[test_data, test_labels])\n",
        "\n",
        "print(\"Training Complete\")"
      ],
      "metadata": {
        "colab": {
          "base_uri": "https://localhost:8080/"
        },
        "id": "pk63c4RMLOOW",
        "outputId": "9876777a-dc1c-44d4-adb8-05d2c84d01df"
      },
      "execution_count": null,
      "outputs": [
        {
          "output_type": "stream",
          "name": "stdout",
          "text": [
            "Model: \"sequential_5\"\n",
            "_________________________________________________________________\n",
            " Layer (type)                Output Shape              Param #   \n",
            "=================================================================\n",
            " embedding_5 (Embedding)     (None, None, 100)         1041700   \n",
            "                                                                 \n",
            " simple_rnn_1 (SimpleRNN)    (None, 32)                4256      \n",
            "                                                                 \n",
            " dense_5 (Dense)             (None, 1)                 33        \n",
            "                                                                 \n",
            "=================================================================\n",
            "Total params: 1,045,989\n",
            "Trainable params: 4,289\n",
            "Non-trainable params: 1,041,700\n",
            "_________________________________________________________________\n",
            "Epoch 1/10\n",
            "11/11 [==============================] - 2s 95ms/step - loss: 0.7140 - accuracy: 0.4914 - val_loss: 0.6964 - val_accuracy: 0.5963\n",
            "Epoch 2/10\n",
            "11/11 [==============================] - 1s 70ms/step - loss: 0.6957 - accuracy: 0.5117 - val_loss: 0.6951 - val_accuracy: 0.5528\n",
            "Epoch 3/10\n",
            "11/11 [==============================] - 1s 70ms/step - loss: 0.6904 - accuracy: 0.5194 - val_loss: 0.6939 - val_accuracy: 0.4969\n",
            "Epoch 4/10\n",
            "11/11 [==============================] - 1s 71ms/step - loss: 0.6892 - accuracy: 0.5179 - val_loss: 0.6909 - val_accuracy: 0.5155\n",
            "Epoch 5/10\n",
            "11/11 [==============================] - 1s 68ms/step - loss: 0.6769 - accuracy: 0.5692 - val_loss: 0.7060 - val_accuracy: 0.4845\n",
            "Epoch 6/10\n",
            "11/11 [==============================] - 1s 70ms/step - loss: 0.6795 - accuracy: 0.5568 - val_loss: 0.6945 - val_accuracy: 0.5093\n",
            "Epoch 7/10\n",
            "11/11 [==============================] - 1s 69ms/step - loss: 0.6719 - accuracy: 0.5645 - val_loss: 0.6977 - val_accuracy: 0.4845\n",
            "Epoch 8/10\n",
            "11/11 [==============================] - 1s 68ms/step - loss: 0.6699 - accuracy: 0.5428 - val_loss: 0.6982 - val_accuracy: 0.4472\n",
            "Epoch 9/10\n",
            "11/11 [==============================] - 1s 71ms/step - loss: 0.6668 - accuracy: 0.5381 - val_loss: 0.7042 - val_accuracy: 0.4099\n",
            "Epoch 10/10\n",
            "11/11 [==============================] - 1s 69ms/step - loss: 0.6703 - accuracy: 0.5428 - val_loss: 0.6992 - val_accuracy: 0.5093\n",
            "Training Complete\n"
          ]
        }
      ]
    },
    {
      "cell_type": "code",
      "source": [
        "\n",
        "# Visualize the results:\n",
        "\n",
        "plt.plot(history.history['accuracy'])\n",
        "plt.plot(history.history['val_accuracy'])\n",
        "plt.title('Model RNN accuracy')\n",
        "plt.ylabel('Accuracy')\n",
        "plt.xlabel('Epoch')\n",
        "plt.legend(['Train', 'Test'], loc='upper left')\n",
        "plt.show()\n",
        "\n",
        "plt.plot(history.history['loss'])\n",
        "plt.plot(history.history['val_loss'])\n",
        "plt.title('Model RNN loss')\n",
        "plt.ylabel('Loss')\n",
        "plt.xlabel('Epoch')\n",
        "plt.legend(['Train', 'Test'], loc='upper right')\n",
        "plt.show()"
      ],
      "metadata": {
        "colab": {
          "base_uri": "https://localhost:8080/",
          "height": 573
        },
        "id": "G2anmBjRLRME",
        "outputId": "90f96e14-1854-4187-e33e-470091205bb1"
      },
      "execution_count": null,
      "outputs": [
        {
          "output_type": "display_data",
          "data": {
            "text/plain": [
              "<Figure size 432x288 with 1 Axes>"
            ],
            "image/png": "[encoded data removed]"
          },
          "metadata": {
            "needs_background": "light"
          }
        },
        {
          "output_type": "display_data",
          "data": {
            "text/plain": [
              "<Figure size 432x288 with 1 Axes>"
            ],
            "image/png": "[encoded data removed]"
          },
          "metadata": {
            "needs_background": "light"
          }
        }
      ]
    },
    {
      "cell_type": "code",
      "source": [
        "\n",
        "from sklearn.metrics import ConfusionMatrixDisplay\n",
        "from sklearn.metrics import confusion_matrix\n",
        "from sklearn.metrics import classification_report \n",
        "y_pred = model.predict(test_data)\n",
        "print(classification_report(test_labels,tf.argmax(y_pred, axis=1)))"
      ],
      "metadata": {
        "colab": {
          "base_uri": "https://localhost:8080/"
        },
        "id": "z4bsXOB-LjC9",
        "outputId": "9f9c8b91-85e4-45df-fb56-a0f096e8b05e"
      },
      "execution_count": null,
      "outputs": [
        {
          "output_type": "stream",
          "name": "stdout",
          "text": [
            "6/6 [==============================] - 0s 20ms/step\n",
            "              precision    recall  f1-score   support\n",
            "\n",
            "           0       0.42      1.00      0.59        67\n",
            "           1       0.00      0.00      0.00        94\n",
            "\n",
            "    accuracy                           0.42       161\n",
            "   macro avg       0.21      0.50      0.29       161\n",
            "weighted avg       0.17      0.42      0.24       161\n",
            "\n"
          ]
        },
        {
          "output_type": "stream",
          "name": "stderr",
          "text": [
            "/usr/local/lib/python3.8/dist-packages/sklearn/metrics/_classification.py:1318: UndefinedMetricWarning: Precision and F-score are ill-defined and being set to 0.0 in labels with no predicted samples. Use `zero_division` parameter to control this behavior.\n",
            "  _warn_prf(average, modifier, msg_start, len(result))\n",
            "/usr/local/lib/python3.8/dist-packages/sklearn/metrics/_classification.py:1318: UndefinedMetricWarning: Precision and F-score are ill-defined and being set to 0.0 in labels with no predicted samples. Use `zero_division` parameter to control this behavior.\n",
            "  _warn_prf(average, modifier, msg_start, len(result))\n",
            "/usr/local/lib/python3.8/dist-packages/sklearn/metrics/_classification.py:1318: UndefinedMetricWarning: Precision and F-score are ill-defined and being set to 0.0 in labels with no predicted samples. Use `zero_division` parameter to control this behavior.\n",
            "  _warn_prf(average, modifier, msg_start, len(result))\n"
          ]
        }
      ]
    }
  ]
}