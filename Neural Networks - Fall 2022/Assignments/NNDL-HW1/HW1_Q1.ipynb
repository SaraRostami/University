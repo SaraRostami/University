{
 "cells": [
  {
   "cell_type": "markdown",
   "metadata": {},
   "source": [
    "## Q1 - Mcculloch-Pitts"
   ]
  },
  {
   "cell_type": "code",
   "execution_count": 1,
   "metadata": {},
   "outputs": [],
   "source": [
    "import numpy as np\n",
    "def mp_neuron(input_vector, weight_vector, threshold = 2):\n",
    "    x =1 if np.sum(np.array(input_vector) * np.array(weight_vector).T) >= threshold else 0\n",
    "    return x\n",
    "\n",
    "def two_bit_multiplier(A):\n",
    "    if (A[0] != 0 and A[0] != 1) or (A[1] != 0 and A[1] != 1) or (A[2] != 0 and A[2] != 1) or (A[3] != 0 and A[3] != 1):\n",
    "        return \"input arguments should be binary values (either 0 or 1)\"\n",
    "    z3 = mp_neuron(A,[0.5,0.5,0.5,0.5])\n",
    "    y1 = mp_neuron(A,[1,-1,1,0])\n",
    "    y2 = mp_neuron(A,[1,0,1,-1])\n",
    "    y3 = mp_neuron(A,[1,-1,0,1])\n",
    "    y4 = mp_neuron(A,[1,0,-1,1])\n",
    "    y5 = mp_neuron(A,[-1,1,1,0])\n",
    "    y6 = mp_neuron(A,[0,1,1,-1])\n",
    "    z2 = mp_neuron([y1,y2],[2,2])\n",
    "    z1 = mp_neuron([y3,y4,y5,y6],[2,2,2,2])\n",
    "    z0 = mp_neuron(A,[0,1,0,1])\n",
    "    return z3,z2,z1,z0"
   ]
  },
  {
   "cell_type": "markdown",
   "metadata": {},
   "source": [
    "### Applying the multiplication function to all possible combinations of 2-bit numbers"
   ]
  },
  {
   "cell_type": "code",
   "execution_count": 2,
   "metadata": {},
   "outputs": [],
   "source": [
    "all_inputs = np.array([[0,0,0,0],[0,0,0,1],[0,0,1,0],[0,0,1,1],[0,1,0,0],[0,1,0,1],[0,1,1,0],[0,1,1,1],[1,0,0,0],[1,0,0,1],[1,0,1,0],[1,0,1,1],[1,1,0,0],[1,1,0,1],[1,1,1,0],[1,1,1,1]])\n",
    "result = np.apply_along_axis(two_bit_multiplier,1,all_inputs)"
   ]
  },
  {
   "cell_type": "markdown",
   "metadata": {},
   "source": [
    "### Printing the results"
   ]
  },
  {
   "cell_type": "code",
   "execution_count": 3,
   "metadata": {},
   "outputs": [
    {
     "name": "stdout",
     "output_type": "stream",
     "text": [
      "0 0  *  0 0  =  [0 0 0 0]\n",
      "0 0  *  0 1  =  [0 0 0 0]\n",
      "0 0  *  1 0  =  [0 0 0 0]\n",
      "0 0  *  1 1  =  [0 0 0 0]\n",
      "0 1  *  0 0  =  [0 0 0 0]\n",
      "0 1  *  0 1  =  [0 0 0 1]\n",
      "0 1  *  1 0  =  [0 0 1 0]\n",
      "0 1  *  1 1  =  [0 0 1 1]\n",
      "1 0  *  0 0  =  [0 0 0 0]\n",
      "1 0  *  0 1  =  [0 0 1 0]\n",
      "1 0  *  1 0  =  [0 1 0 0]\n",
      "1 0  *  1 1  =  [0 1 1 0]\n",
      "1 1  *  0 0  =  [0 0 0 0]\n",
      "1 1  *  0 1  =  [0 0 1 1]\n",
      "1 1  *  1 0  =  [0 1 1 0]\n",
      "1 1  *  1 1  =  [1 0 0 1]\n"
     ]
    }
   ],
   "source": [
    "for l in range(len(all_inputs)):\n",
    "    a1,a0,b1,b0 = all_inputs[l]\n",
    "    print(a1,a0,\" * \",b1,b0,\" = \", result[l])"
   ]
  }
 ],
 "metadata": {
  "kernelspec": {
   "display_name": "Python 3.9.0 64-bit",
   "language": "python",
   "name": "python3"
  },
  "language_info": {
   "codemirror_mode": {
    "name": "ipython",
    "version": 3
   },
   "file_extension": ".py",
   "mimetype": "text/x-python",
   "name": "python",
   "nbconvert_exporter": "python",
   "pygments_lexer": "ipython3",
   "version": "3.9.0"
  },
  "orig_nbformat": 4,
  "vscode": {
   "interpreter": {
    "hash": "b76da63d78e6c013c923de4e260d72ded66b93e1d205827ac0ca2803471a9ef5"
   }
  }
 },
 "nbformat": 4,
 "nbformat_minor": 2
}
