{
 "cells": [
  {
   "cell_type": "markdown",
   "metadata": {},
   "source": [
    "## Q2 - AdaLine"
   ]
  },
  {
   "cell_type": "code",
   "execution_count": 2,
   "metadata": {},
   "outputs": [],
   "source": [
    "import numpy as np\n",
    "import pandas as pd\n",
    "from operator import add\n",
    "import matplotlib.pyplot as plt"
   ]
  },
  {
   "cell_type": "markdown",
   "metadata": {
    "tags": []
   },
   "source": [
    "### 2.1) AdaLine"
   ]
  },
  {
   "cell_type": "markdown",
   "metadata": {},
   "source": [
    "#### part A"
   ]
  },
  {
   "cell_type": "code",
   "execution_count": 18,
   "metadata": {},
   "outputs": [
    {
     "data": {
      "image/png": "[encoded data removed]",
      "text/plain": [
       "<Figure size 432x288 with 1 Axes>"
      ]
     },
     "metadata": {
      "needs_background": "light"
     },
     "output_type": "display_data"
    }
   ],
   "source": [
    "# Generating the numbers\n",
    "np.random.seed(2)\n",
    "x1= np.random.normal(1,0.3, 100)\n",
    "y1= np.random.normal(1,0.3, 100)\n",
    "x2= np.random.normal(-1,0.3, 100)\n",
    "y2= np.random.normal(-1,0.3, 100)\n",
    "\n",
    "# Scatter plot\n",
    "plt.scatter(x1,y1,color=\"red\")\n",
    "plt.scatter(x2,y2,color=\"blue\")\n",
    "plt.title(\"Scatter plot\")\n",
    "plt.xlabel(\"x\")\n",
    "plt.ylabel(\"y\")\n",
    "plt.legend([\"Class 1\",\"Class 2\"],loc=\"upper left\");"
   ]
  },
  {
   "cell_type": "markdown",
   "metadata": {},
   "source": [
    "#### part B"
   ]
  },
  {
   "cell_type": "markdown",
   "metadata": {},
   "source": [
    "#### Organizing the data into a Dataframe"
   ]
  },
  {
   "cell_type": "code",
   "execution_count": 187,
   "metadata": {},
   "outputs": [
    {
     "data": {
      "text/html": [
       "<div>\n",
       "<style scoped>\n",
       "    .dataframe tbody tr th:only-of-type {\n",
       "        vertical-align: middle;\n",
       "    }\n",
       "\n",
       "    .dataframe tbody tr th {\n",
       "        vertical-align: top;\n",
       "    }\n",
       "\n",
       "    .dataframe thead th {\n",
       "        text-align: right;\n",
       "    }\n",
       "</style>\n",
       "<table border=\"1\" class=\"dataframe\">\n",
       "  <thead>\n",
       "    <tr style=\"text-align: right;\">\n",
       "      <th></th>\n",
       "      <th>x</th>\n",
       "      <th>y</th>\n",
       "      <th>target</th>\n",
       "    </tr>\n",
       "  </thead>\n",
       "  <tbody>\n",
       "    <tr>\n",
       "      <th>0</th>\n",
       "      <td>-0.629790</td>\n",
       "      <td>-0.853451</td>\n",
       "      <td>-1</td>\n",
       "    </tr>\n",
       "    <tr>\n",
       "      <th>1</th>\n",
       "      <td>-0.919608</td>\n",
       "      <td>-0.965784</td>\n",
       "      <td>-1</td>\n",
       "    </tr>\n",
       "    <tr>\n",
       "      <th>2</th>\n",
       "      <td>-0.834201</td>\n",
       "      <td>-0.901880</td>\n",
       "      <td>-1</td>\n",
       "    </tr>\n",
       "    <tr>\n",
       "      <th>3</th>\n",
       "      <td>-1.305895</td>\n",
       "      <td>-1.017354</td>\n",
       "      <td>-1</td>\n",
       "    </tr>\n",
       "    <tr>\n",
       "      <th>4</th>\n",
       "      <td>-0.974391</td>\n",
       "      <td>-0.625465</td>\n",
       "      <td>-1</td>\n",
       "    </tr>\n",
       "    <tr>\n",
       "      <th>...</th>\n",
       "      <td>...</td>\n",
       "      <td>...</td>\n",
       "      <td>...</td>\n",
       "    </tr>\n",
       "    <tr>\n",
       "      <th>195</th>\n",
       "      <td>-1.431143</td>\n",
       "      <td>-1.351947</td>\n",
       "      <td>-1</td>\n",
       "    </tr>\n",
       "    <tr>\n",
       "      <th>196</th>\n",
       "      <td>-0.779535</td>\n",
       "      <td>-0.872574</td>\n",
       "      <td>-1</td>\n",
       "    </tr>\n",
       "    <tr>\n",
       "      <th>197</th>\n",
       "      <td>-0.886362</td>\n",
       "      <td>-0.369331</td>\n",
       "      <td>-1</td>\n",
       "    </tr>\n",
       "    <tr>\n",
       "      <th>198</th>\n",
       "      <td>0.953070</td>\n",
       "      <td>1.129719</td>\n",
       "      <td>1</td>\n",
       "    </tr>\n",
       "    <tr>\n",
       "      <th>199</th>\n",
       "      <td>0.874973</td>\n",
       "      <td>1.348456</td>\n",
       "      <td>1</td>\n",
       "    </tr>\n",
       "  </tbody>\n",
       "</table>\n",
       "<p>200 rows × 3 columns</p>\n",
       "</div>"
      ],
      "text/plain": [
       "            x         y  target\n",
       "0   -0.629790 -0.853451      -1\n",
       "1   -0.919608 -0.965784      -1\n",
       "2   -0.834201 -0.901880      -1\n",
       "3   -1.305895 -1.017354      -1\n",
       "4   -0.974391 -0.625465      -1\n",
       "..        ...       ...     ...\n",
       "195 -1.431143 -1.351947      -1\n",
       "196 -0.779535 -0.872574      -1\n",
       "197 -0.886362 -0.369331      -1\n",
       "198  0.953070  1.129719       1\n",
       "199  0.874973  1.348456       1\n",
       "\n",
       "[200 rows x 3 columns]"
      ]
     },
     "execution_count": 187,
     "metadata": {},
     "output_type": "execute_result"
    }
   ],
   "source": [
    "data = pd.DataFrame(list(zip(np.concatenate((x1,x2)), np.concatenate((y1,y2)), [1]*100 + [-1]*100)), columns =['x','y','target'])\n",
    "data = data.sample(frac=1).reset_index(drop=True)\n",
    "data"
   ]
  },
  {
   "cell_type": "markdown",
   "metadata": {},
   "source": [
    "#### defining the AdaLine Network function"
   ]
  },
  {
   "cell_type": "code",
   "execution_count": 298,
   "metadata": {},
   "outputs": [],
   "source": [
    "def cost_fuct(target,net):\n",
    "    return 0.5*((target - net)**2)\n",
    "\n",
    "def AdaLine(data,alpha= 0.1,threshold = 0.5):\n",
    "    \"\"\"\n",
    "    input: data = data with 2 features , alpha = learning rate , threshold = the threshold for terminating the algorithm\n",
    "    output: errors_all = errors in all iterations , w = weights vector , b = bias\n",
    "\n",
    "    \"\"\"\n",
    "    w = np.random.uniform(-.05,.05,[2])\n",
    "    b = np.random.uniform(-.05,.05,[1])\n",
    "    lms = [10]*len(data)\n",
    "    errors = []\n",
    "    errors_all = []\n",
    "    terminate = False\n",
    "    epoch_counter = 0\n",
    "    while (epoch_counter < 50):\n",
    "        errors = []\n",
    "        for ind in data.index:\n",
    "            sample = data.loc[ind,:]\n",
    "            \n",
    "            net = w[0]*sample['x'] + w[1]*sample['y'] + b\n",
    "            t = sample['target']\n",
    "            lms[ind] = cost_fuct(t,net)\n",
    "            error = t - net\n",
    "            errors.append(error**2)\n",
    "            w[0] = w[0] + alpha * error * sample['x']\n",
    "            w[1] = w[1] + alpha * error * sample['y']\n",
    "            b = b + alpha * error\n",
    " \n",
    "        errors_all.append(errors[ind]/2.0)\n",
    "        print(f\"iteration {epoch_counter+1} done.\")\n",
    "        if all(np.array(lms) < threshold):\n",
    "            return(errors_all,w,b,lms)\n",
    "        epoch_counter += 1\n",
    "    else:\n",
    "        return(errors_all,w,b,lms)\n",
    "\n",
    "        \n",
    "    \n"
   ]
  },
  {
   "cell_type": "markdown",
   "metadata": {},
   "source": [
    "#### training the Adaline network"
   ]
  },
  {
   "cell_type": "code",
   "execution_count": 259,
   "metadata": {},
   "outputs": [
    {
     "name": "stdout",
     "output_type": "stream",
     "text": [
      "iteration 1 done.\n",
      "iteration 2 done.\n",
      "iteration 3 done.\n",
      "iteration 4 done.\n",
      "iteration 5 done.\n",
      "iteration 6 done.\n",
      "iteration 7 done.\n",
      "iteration 8 done.\n",
      "iteration 9 done.\n",
      "iteration 10 done.\n",
      "iteration 11 done.\n",
      "iteration 12 done.\n"
     ]
    }
   ],
   "source": [
    "errors,weights,bias,lms =AdaLine(data,alpha = 0.001,threshold = 0.32)"
   ]
  },
  {
   "cell_type": "markdown",
   "metadata": {},
   "source": [
    "#### plotting the separator line trained by the network"
   ]
  },
  {
   "cell_type": "code",
   "execution_count": 276,
   "metadata": {},
   "outputs": [
    {
     "data": {
      "image/png": "[encoded data removed]",
      "text/plain": [
       "<Figure size 504x360 with 1 Axes>"
      ]
     },
     "metadata": {
      "needs_background": "light"
     },
     "output_type": "display_data"
    }
   ],
   "source": [
    "sorted_data = data.sort_values(by='target',ascending=False).reset_index(drop=True).copy()\n",
    "plt.figure(figsize=(7,5))\n",
    "plt.plot(sorted_data.loc[:100,'x'], sorted_data.loc[:100,'y'],'ro')\n",
    "plt.plot(sorted_data.loc[100:200,'x'], sorted_data.loc[100:200,'y'], 'bo')\n",
    "plt.xlabel('x')\n",
    "plt.ylabel('y')\n",
    "plt.legend(['Class 1','Class 2'],loc='upper left')\n",
    "\n",
    "y = np.arange(-2, 2, 0.1)\n",
    "x = -(weights[1] * y + bias) / weights[0]\n",
    "plt.plot(y, x)\n",
    "plt.show()"
   ]
  },
  {
   "cell_type": "markdown",
   "metadata": {},
   "source": [
    "#### plotting the mean_squared_error per epoch"
   ]
  },
  {
   "cell_type": "code",
   "execution_count": 262,
   "metadata": {},
   "outputs": [
    {
     "data": {
      "image/png": "[encoded data removed]",
      "text/plain": [
       "<Figure size 504x360 with 1 Axes>"
      ]
     },
     "metadata": {
      "needs_background": "light"
     },
     "output_type": "display_data"
    }
   ],
   "source": [
    "plt.figure(figsize=(7,5))\n",
    "plt.plot(errors[:10],'k*-')\n",
    "plt.xlabel('Epoch')\n",
    "plt.ylabel('Error')\n",
    "plt.show();"
   ]
  },
  {
   "cell_type": "markdown",
   "metadata": {},
   "source": [
    "### part C"
   ]
  },
  {
   "cell_type": "code",
   "execution_count": 280,
   "metadata": {},
   "outputs": [
    {
     "data": {
      "image/png": "[encoded data removed]",
      "text/plain": [
       "<Figure size 432x288 with 1 Axes>"
      ]
     },
     "metadata": {
      "needs_background": "light"
     },
     "output_type": "display_data"
    }
   ],
   "source": [
    "# Generating the numbers\n",
    "np.random.seed(2)\n",
    "x1= np.random.normal(0,0.6, 100)\n",
    "y1= np.random.normal(0,0.6, 100)\n",
    "x2= np.random.normal(2,0.8, 20)\n",
    "y2= np.random.normal(2,0.8, 20)\n",
    "\n",
    "# Scatter plot\n",
    "plt.scatter(x1,y1,color=\"red\")\n",
    "plt.scatter(x2,y2,color=\"blue\")\n",
    "plt.title(\"Scatter plot\")\n",
    "plt.xlabel(\"x\")\n",
    "plt.ylabel(\"y\")\n",
    "plt.legend([\"Class 1\",\"Class 2\"],loc=\"upper left\");"
   ]
  },
  {
   "cell_type": "markdown",
   "metadata": {},
   "source": [
    "#### Organizing the data into a Dataframe"
   ]
  },
  {
   "cell_type": "code",
   "execution_count": 281,
   "metadata": {},
   "outputs": [
    {
     "data": {
      "text/html": [
       "<div>\n",
       "<style scoped>\n",
       "    .dataframe tbody tr th:only-of-type {\n",
       "        vertical-align: middle;\n",
       "    }\n",
       "\n",
       "    .dataframe tbody tr th {\n",
       "        vertical-align: top;\n",
       "    }\n",
       "\n",
       "    .dataframe thead th {\n",
       "        text-align: right;\n",
       "    }\n",
       "</style>\n",
       "<table border=\"1\" class=\"dataframe\">\n",
       "  <thead>\n",
       "    <tr style=\"text-align: right;\">\n",
       "      <th></th>\n",
       "      <th>x</th>\n",
       "      <th>y</th>\n",
       "      <th>target</th>\n",
       "    </tr>\n",
       "  </thead>\n",
       "  <tbody>\n",
       "    <tr>\n",
       "      <th>0</th>\n",
       "      <td>0.624494</td>\n",
       "      <td>1.082686</td>\n",
       "      <td>1</td>\n",
       "    </tr>\n",
       "    <tr>\n",
       "      <th>1</th>\n",
       "      <td>-0.092097</td>\n",
       "      <td>-1.058951</td>\n",
       "      <td>1</td>\n",
       "    </tr>\n",
       "    <tr>\n",
       "      <th>2</th>\n",
       "      <td>-0.054872</td>\n",
       "      <td>-0.188770</td>\n",
       "      <td>1</td>\n",
       "    </tr>\n",
       "    <tr>\n",
       "      <th>3</th>\n",
       "      <td>2.191961</td>\n",
       "      <td>1.641460</td>\n",
       "      <td>-1</td>\n",
       "    </tr>\n",
       "    <tr>\n",
       "      <th>4</th>\n",
       "      <td>1.079198</td>\n",
       "      <td>1.750183</td>\n",
       "      <td>-1</td>\n",
       "    </tr>\n",
       "    <tr>\n",
       "      <th>...</th>\n",
       "      <td>...</td>\n",
       "      <td>...</td>\n",
       "      <td>...</td>\n",
       "    </tr>\n",
       "    <tr>\n",
       "      <th>115</th>\n",
       "      <td>0.228283</td>\n",
       "      <td>0.108246</td>\n",
       "      <td>1</td>\n",
       "    </tr>\n",
       "    <tr>\n",
       "      <th>116</th>\n",
       "      <td>-0.505048</td>\n",
       "      <td>1.551177</td>\n",
       "      <td>1</td>\n",
       "    </tr>\n",
       "    <tr>\n",
       "      <th>117</th>\n",
       "      <td>0.339765</td>\n",
       "      <td>0.455022</td>\n",
       "      <td>1</td>\n",
       "    </tr>\n",
       "    <tr>\n",
       "      <th>118</th>\n",
       "      <td>-0.011478</td>\n",
       "      <td>-0.419154</td>\n",
       "      <td>1</td>\n",
       "    </tr>\n",
       "    <tr>\n",
       "      <th>119</th>\n",
       "      <td>0.919998</td>\n",
       "      <td>1.470233</td>\n",
       "      <td>-1</td>\n",
       "    </tr>\n",
       "  </tbody>\n",
       "</table>\n",
       "<p>120 rows × 3 columns</p>\n",
       "</div>"
      ],
      "text/plain": [
       "            x         y  target\n",
       "0    0.624494  1.082686       1\n",
       "1   -0.092097 -1.058951       1\n",
       "2   -0.054872 -0.188770       1\n",
       "3    2.191961  1.641460      -1\n",
       "4    1.079198  1.750183      -1\n",
       "..        ...       ...     ...\n",
       "115  0.228283  0.108246       1\n",
       "116 -0.505048  1.551177       1\n",
       "117  0.339765  0.455022       1\n",
       "118 -0.011478 -0.419154       1\n",
       "119  0.919998  1.470233      -1\n",
       "\n",
       "[120 rows x 3 columns]"
      ]
     },
     "execution_count": 281,
     "metadata": {},
     "output_type": "execute_result"
    }
   ],
   "source": [
    "data = pd.DataFrame(list(zip(np.concatenate((x1,x2)), np.concatenate((y1,y2)), [1]*100 + [-1]*20)), columns =['x','y','target'])\n",
    "data = data.sample(frac=1).reset_index(drop=True)\n",
    "data"
   ]
  },
  {
   "cell_type": "markdown",
   "metadata": {},
   "source": [
    "#### training the Adaline network"
   ]
  },
  {
   "cell_type": "code",
   "execution_count": 299,
   "metadata": {},
   "outputs": [
    {
     "name": "stdout",
     "output_type": "stream",
     "text": [
      "iteration 1 done.\n",
      "iteration 2 done.\n",
      "iteration 3 done.\n",
      "iteration 4 done.\n",
      "iteration 5 done.\n",
      "iteration 6 done.\n",
      "iteration 7 done.\n",
      "iteration 8 done.\n",
      "iteration 9 done.\n",
      "iteration 10 done.\n",
      "iteration 11 done.\n",
      "iteration 12 done.\n",
      "iteration 13 done.\n",
      "iteration 14 done.\n",
      "iteration 15 done.\n",
      "iteration 16 done.\n",
      "iteration 17 done.\n",
      "iteration 18 done.\n",
      "iteration 19 done.\n",
      "iteration 20 done.\n",
      "iteration 21 done.\n",
      "iteration 22 done.\n",
      "iteration 23 done.\n",
      "iteration 24 done.\n",
      "iteration 25 done.\n",
      "iteration 26 done.\n",
      "iteration 27 done.\n",
      "iteration 28 done.\n",
      "iteration 29 done.\n",
      "iteration 30 done.\n",
      "iteration 31 done.\n",
      "iteration 32 done.\n",
      "iteration 33 done.\n",
      "iteration 34 done.\n",
      "iteration 35 done.\n",
      "iteration 36 done.\n",
      "iteration 37 done.\n",
      "iteration 38 done.\n",
      "iteration 39 done.\n",
      "iteration 40 done.\n",
      "iteration 41 done.\n",
      "iteration 42 done.\n",
      "iteration 43 done.\n",
      "iteration 44 done.\n",
      "iteration 45 done.\n",
      "iteration 46 done.\n",
      "iteration 47 done.\n",
      "iteration 48 done.\n",
      "iteration 49 done.\n",
      "iteration 50 done.\n"
     ]
    }
   ],
   "source": [
    "errors,weights,bias,lms =AdaLine(data,alpha = 0.001,threshold = 0.32)"
   ]
  },
  {
   "cell_type": "markdown",
   "metadata": {},
   "source": [
    "#### plotting the separator line trained by the network"
   ]
  },
  {
   "cell_type": "code",
   "execution_count": 300,
   "metadata": {},
   "outputs": [
    {
     "data": {
      "image/png": "[encoded data removed]",
      "text/plain": [
       "<Figure size 504x360 with 1 Axes>"
      ]
     },
     "metadata": {
      "needs_background": "light"
     },
     "output_type": "display_data"
    }
   ],
   "source": [
    "sorted_data = data.sort_values(by='target',ascending=False).reset_index(drop=True).copy()\n",
    "plt.figure(figsize=(7,5))\n",
    "plt.plot(sorted_data.loc[:100,'x'], sorted_data.loc[:100,'y'],'ro')\n",
    "plt.plot(sorted_data.loc[100:120,'x'], sorted_data.loc[100:120,'y'], 'bo')\n",
    "plt.xlabel('x')\n",
    "plt.ylabel('y')\n",
    "plt.legend(['Class 1','Class 2'],loc='upper left')\n",
    "\n",
    "y = np.arange(-3, 4, 0.1)\n",
    "x = -(weights[1] * y + bias) / weights[0]\n",
    "plt.plot(y, x)\n",
    "plt.show()"
   ]
  },
  {
   "cell_type": "markdown",
   "metadata": {},
   "source": [
    "#### plotting the mean_squared_error per epoch"
   ]
  },
  {
   "cell_type": "code",
   "execution_count": 301,
   "metadata": {},
   "outputs": [
    {
     "data": {
      "image/png": "[encoded data removed]",
      "text/plain": [
       "<Figure size 504x360 with 1 Axes>"
      ]
     },
     "metadata": {
      "needs_background": "light"
     },
     "output_type": "display_data"
    }
   ],
   "source": [
    "plt.figure(figsize=(7,5))\n",
    "plt.plot(errors,'k*-')\n",
    "plt.xlabel('Epoch')\n",
    "plt.ylabel('Error')\n",
    "plt.show();"
   ]
  }
 ],
 "metadata": {
  "kernelspec": {
   "display_name": "Python 3 (ipykernel)",
   "language": "python",
   "name": "python3"
  },
  "language_info": {
   "codemirror_mode": {
    "name": "ipython",
    "version": 3
   },
   "file_extension": ".py",
   "mimetype": "text/x-python",
   "name": "python",
   "nbconvert_exporter": "python",
   "pygments_lexer": "ipython3",
   "version": "3.10.1"
  },
  "vscode": {
   "interpreter": {
    "hash": "f1c4ca07f86e89c98f806f783c405af901475b86ed3718ee2bdc4cf9f8c51fd8"
   }
  }
 },
 "nbformat": 4,
 "nbformat_minor": 4
}
