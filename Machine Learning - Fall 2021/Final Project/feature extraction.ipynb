{
 "cells": [
  {
   "cell_type": "markdown",
   "metadata": {},
   "source": [
    "# FEATURE EXTRACCTION\n"
   ]
  },
  {
   "cell_type": "markdown",
   "metadata": {},
   "source": [
    "# ZEROCROSSING + 20 MfCC COEFFICIENT"
   ]
  },
  {
   "cell_type": "code",
   "execution_count": null,
   "metadata": {},
   "outputs": [],
   "source": [
    "import os\n",
    "import librosa\n",
    "import pandas as pd\n",
    "import numpy as np\n",
    "\n",
    "\n",
    "#writing Headers of the dataset\n",
    "cols=['id','zero_crossing']\n",
    "for i in range(20):cols.append(f'mffcc_{i+1}')\n",
    "cols.append('label')\n",
    "\n",
    "#array of data instances\n",
    "data=[]\n",
    "\n",
    "seconds=30\n",
    "for inst in ['tar','ney', 'piano', 'santour','setar','violin']:\n",
    "    src_path = \"S:\\\\Work\\\\M.S\\\\Sem1\\\\ML\\\\Project\\\\ML_data_G2\\\\\" + inst+\"\\\\\"\n",
    "    for i in os.listdir(src_path):\n",
    "        try:\n",
    "            #loading mp3 file\n",
    "            samples, sample_rate = librosa.load(f\"{src_path}\\\\{i}\", sr=44100)\n",
    "            samples = samples[0:sample_rate * seconds]\n",
    "            #mfcc features\n",
    "            mfccs = librosa.feature.mfcc(samples, sr=sample_rate)\n",
    "            aver = np.mean(mfccs, axis=1)\n",
    "            mfcc_feature = aver.reshape(20)\n",
    "            #zero_crossing\n",
    "            zero_crossings = sum(librosa.zero_crossings(samples, pad=False))\n",
    "            #an instance representing a single mp3 file\n",
    "            vector=[int(i.replace('.mp3','')),zero_crossings]+list(mfcc_feature)+[inst]\n",
    "            data.append(vector)\n",
    "            #showing which mp3 file's features got added to the dataset\n",
    "            print(i,inst)\n",
    "        except Exception as e:\n",
    "            print(f\"audio file {src_path}{i} is corrupted\",e)\n",
    "            pass\n",
    "#making the .CSV file\n",
    "pd.DataFrame(data,columns=cols).to_csv('FinalDataSet.csv',index=False)\n"
   ]
  }
 ],
 "metadata": {
  "language_info": {
   "name": "python"
  },
  "orig_nbformat": 4
 },
 "nbformat": 4,
 "nbformat_minor": 2
}
