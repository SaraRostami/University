{
  "cells": [
    {
      "attachments": {},
      "cell_type": "markdown",
      "metadata": {},
      "source": [
        "# ZOE"
      ]
    },
    {
      "cell_type": "code",
      "execution_count": null,
      "metadata": {
        "id": "5bq7p5lkzDnR"
      },
      "outputs": [],
      "source": [
        "!pip install pygad\n",
        "!pip install optuna"
      ]
    },
    {
      "cell_type": "code",
      "execution_count": 1,
      "metadata": {
        "id": "zyR1XB9xzPhM"
      },
      "outputs": [],
      "source": [
        "import numpy as np\n",
        "import networkx as nx\n",
        "import matplotlib.pyplot as plt\n",
        "import pygad\n",
        "import optuna\n",
        "from statistics import median,mean"
      ]
    },
    {
      "attachments": {},
      "cell_type": "markdown",
      "metadata": {},
      "source": [
        "## pass the input file path as an argument to function `load_input`"
      ]
    },
    {
      "cell_type": "code",
      "execution_count": 3,
      "metadata": {},
      "outputs": [],
      "source": [
        "def load_input(file_name):\n",
        "    with open(file_name, \"r\") as f:\n",
        "        lines_all = f.readlines()\n",
        "    lines = []\n",
        "    for l in lines_all:\n",
        "        lines.append(l.strip(\"\\n\"))\n",
        "    \n",
        "    n = len(lines[0].split())\n",
        "    m = len(lines)\n",
        "    arr = []\n",
        "    for i in range(m):\n",
        "        arr.append( [int(x) for x in lines[i].split()] )\n",
        "    return np.array(arr)"
      ]
    },
    {
      "cell_type": "code",
      "execution_count": 4,
      "metadata": {
        "id": "tLwibcJ2xjRI"
      },
      "outputs": [],
      "source": [
        "\"\"\" You can change the file name here \"\"\"\n",
        "A = load_input('Q2_input.txt')"
      ]
    },
    {
      "cell_type": "code",
      "execution_count": 5,
      "metadata": {
        "id": "dAffcQeizs9c"
      },
      "outputs": [],
      "source": [
        "fitness_function= lambda solution, solution_idx: sum([1 if item[0]==1 else 0 for item in np.matmul(A,np.array([[ii] for ii in solution]))])"
      ]
    },
    {
      "cell_type": "code",
      "execution_count": 6,
      "metadata": {
        "colab": {
          "base_uri": "https://localhost:8080/",
          "height": 530
        },
        "id": "xmNsBLpx0vv5",
        "outputId": "f25736fd-3b85-4bab-8484-e9a00e907795"
      },
      "outputs": [
        {
          "data": {
            "image/png": "[encoded data removed]",
            "text/plain": [
              "<Figure size 640x480 with 1 Axes>"
            ]
          },
          "metadata": {},
          "output_type": "display_data"
        },
        {
          "name": "stdout",
          "output_type": "stream",
          "text": [
            "expected: 9, output: 9\n",
            "Parameters of the best solution : [1. 1. 0. 1. 0.]\n",
            "Fitness value of the best solution = 9\n"
          ]
        }
      ],
      "source": [
        "params = {\n",
        "        \"num_generations\":100,\n",
        "        \"sol_per_pop\": 50,\n",
        "        \"num_parents_mating\":2,\n",
        "        \"crossover_probability\":0.8,\n",
        "        \"mutation_probability\":0.3,\n",
        "        \"gene_space\":[0,1],\n",
        "        \"num_genes\":len(A[0]),\n",
        "        \"parent_selection_type\":\"tournament\",\n",
        "        \"stop_criteria\":f\"reach_{len(A[0])}\",\n",
        "        \"fitness_func\":lambda solution, solution_idx: sum([1 if item[0]==1 else 0 for item in np.matmul(A,np.array([[ii] for ii in solution]))])\n",
        "    }\n",
        "\n",
        "\n",
        "ga_instance = pygad.GA(**params)\n",
        "\n",
        "ga_instance.run()\n",
        "\n",
        "# After the generations complete, some plots are showed that summarize how the outputs/fitness values evolve over generations.\n",
        "ga_instance.plot_fitness()\n",
        "\n",
        "# input()\n",
        "\n",
        "solution, solution_fitness, solution_idx = ga_instance.best_solution()\n",
        "\n",
        "print(f\"expected: {len(A)}, output: {sum([1 if item[0]==1 else 0 for item in np.matmul(A,np.array([[ii] for ii in solution]))])}\")\n",
        "print(\"Parameters of the best solution : {solution}\".format(solution=solution))\n",
        "print(\"Fitness value of the best solution = {solution_fitness}\".format(solution_fitness=solution_fitness))"
      ]
    },
    {
      "attachments": {},
      "cell_type": "markdown",
      "metadata": {},
      "source": [
        "## Writing the found solution to `Q2_output.txt`"
      ]
    },
    {
      "cell_type": "code",
      "execution_count": 7,
      "metadata": {},
      "outputs": [],
      "source": [
        "lines =list(solution)\n",
        "with open('Q2_output.txt', 'w') as f:\n",
        "    for line in lines:\n",
        "        f.write(str(line))\n",
        "        f.write('\\n')\n"
      ]
    },
    {
      "cell_type": "code",
      "execution_count": null,
      "metadata": {},
      "outputs": [],
      "source": []
    }
  ],
  "metadata": {
    "colab": {
      "provenance": []
    },
    "kernelspec": {
      "display_name": "Python 3",
      "name": "python3"
    },
    "language_info": {
      "codemirror_mode": {
        "name": "ipython",
        "version": 3
      },
      "file_extension": ".py",
      "mimetype": "text/x-python",
      "name": "python",
      "nbconvert_exporter": "python",
      "pygments_lexer": "ipython3",
      "version": "3.7.13"
    }
  },
  "nbformat": 4,
  "nbformat_minor": 0
}
