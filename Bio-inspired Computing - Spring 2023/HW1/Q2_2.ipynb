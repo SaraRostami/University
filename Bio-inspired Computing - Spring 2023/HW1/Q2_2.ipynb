{
 "cells": [
  {
   "cell_type": "code",
   "execution_count": null,
   "metadata": {},
   "outputs": [],
   "source": [
    "!pip install pygad\n",
    "!pip install optuna"
   ]
  },
  {
   "cell_type": "code",
   "execution_count": 1,
   "metadata": {},
   "outputs": [],
   "source": [
    "import numpy as np\n",
    "import networkx as nx\n",
    "import matplotlib.pyplot as plt\n",
    "import pygad\n",
    "import optuna\n",
    "from statistics import median,mean\n",
    "import random\n",
    "from multiprocessing import Pool"
   ]
  },
  {
   "cell_type": "code",
   "execution_count": 23,
   "metadata": {},
   "outputs": [],
   "source": [
    "base_As=[np.random.randint(low=0,high=2,size=(random.randint(5,10),random.randint(5,10))) for i in range(25)]"
   ]
  },
  {
   "cell_type": "code",
   "execution_count": 24,
   "metadata": {},
   "outputs": [
    {
     "name": "stderr",
     "output_type": "stream",
     "text": [
      "\u001b[32m[I 2023-04-04 18:49:34,143]\u001b[0m A new study created in memory with name: no-name-37fd2c0b-75f7-47dd-810c-cd84021d22c0\u001b[0m\n",
      "\u001b[32m[I 2023-04-04 18:49:41,756]\u001b[0m Trial 0 finished with values: [10.0, 6.0] and parameters: {'sol_per_pop': 84, 'crossover_probability': 0.8688986318531717, 'mutation_probability': 0.03345344809207382, 'parent_selection_type': 'rws'}. \u001b[0m\n",
      "\u001b[32m[I 2023-04-04 18:49:47,083]\u001b[0m Trial 1 finished with values: [10.0, 6.0] and parameters: {'sol_per_pop': 88, 'crossover_probability': 0.8011676236855945, 'mutation_probability': 0.018154946548950016, 'parent_selection_type': 'tournament'}. \u001b[0m\n",
      "\u001b[32m[I 2023-04-04 18:49:52,727]\u001b[0m Trial 2 finished with values: [7.0, 6.0] and parameters: {'sol_per_pop': 81, 'crossover_probability': 0.8927765503661904, 'mutation_probability': 0.028734914770389454, 'parent_selection_type': 'rws'}. \u001b[0m\n",
      "\u001b[32m[I 2023-04-04 18:49:57,501]\u001b[0m Trial 3 finished with values: [14.0, 6.0] and parameters: {'sol_per_pop': 54, 'crossover_probability': 0.868413893372346, 'mutation_probability': 0.04737315373929115, 'parent_selection_type': 'rws'}. \u001b[0m\n",
      "\u001b[32m[I 2023-04-04 18:50:02,894]\u001b[0m Trial 4 finished with values: [10.0, 6.0] and parameters: {'sol_per_pop': 88, 'crossover_probability': 0.8883515906313499, 'mutation_probability': 0.018165185701960494, 'parent_selection_type': 'tournament'}. \u001b[0m\n",
      "\u001b[32m[I 2023-04-04 18:50:06,849]\u001b[0m Trial 5 finished with values: [7.0, 6.0] and parameters: {'sol_per_pop': 56, 'crossover_probability': 0.8568483200062665, 'mutation_probability': 0.018222525799763432, 'parent_selection_type': 'rws'}. \u001b[0m\n",
      "\u001b[32m[I 2023-04-04 18:50:11,136]\u001b[0m Trial 6 finished with values: [15.0, 6.0] and parameters: {'sol_per_pop': 58, 'crossover_probability': 0.8373674012364614, 'mutation_probability': 0.04025929310920833, 'parent_selection_type': 'rws'}. \u001b[0m\n",
      "\u001b[32m[I 2023-04-04 18:50:14,217]\u001b[0m Trial 7 finished with values: [9.0, 6.0] and parameters: {'sol_per_pop': 52, 'crossover_probability': 0.8180298527516332, 'mutation_probability': 0.03863734579902141, 'parent_selection_type': 'tournament'}. \u001b[0m\n",
      "\u001b[32m[I 2023-04-04 18:50:19,284]\u001b[0m Trial 8 finished with values: [14.0, 6.0] and parameters: {'sol_per_pop': 76, 'crossover_probability': 0.8434846059774277, 'mutation_probability': 0.01735080540316354, 'parent_selection_type': 'rws'}. \u001b[0m\n",
      "\u001b[32m[I 2023-04-04 18:50:25,872]\u001b[0m Trial 9 finished with values: [14.0, 6.0] and parameters: {'sol_per_pop': 90, 'crossover_probability': 0.8118503224958132, 'mutation_probability': 0.035543829131020645, 'parent_selection_type': 'rws'}. \u001b[0m\n",
      "\u001b[32m[I 2023-04-04 18:50:31,209]\u001b[0m Trial 10 finished with values: [8.0, 6.0] and parameters: {'sol_per_pop': 77, 'crossover_probability': 0.8898791030045292, 'mutation_probability': 0.01655809396609409, 'parent_selection_type': 'rws'}. \u001b[0m\n",
      "\u001b[32m[I 2023-04-04 18:50:37,169]\u001b[0m Trial 11 finished with values: [7.0, 6.0] and parameters: {'sol_per_pop': 96, 'crossover_probability': 0.8187604609122417, 'mutation_probability': 0.04898596941605028, 'parent_selection_type': 'tournament'}. \u001b[0m\n",
      "\u001b[32m[I 2023-04-04 18:50:44,115]\u001b[0m Trial 12 finished with values: [14.0, 6.0] and parameters: {'sol_per_pop': 98, 'crossover_probability': 0.8604842205203252, 'mutation_probability': 0.02969805548869709, 'parent_selection_type': 'rws'}. \u001b[0m\n",
      "\u001b[32m[I 2023-04-04 18:50:47,989]\u001b[0m Trial 13 finished with values: [12.0, 6.0] and parameters: {'sol_per_pop': 52, 'crossover_probability': 0.8438686066265074, 'mutation_probability': 0.030550208373874885, 'parent_selection_type': 'rws'}. \u001b[0m\n",
      "\u001b[32m[I 2023-04-04 18:50:54,232]\u001b[0m Trial 14 finished with values: [10.0, 6.0] and parameters: {'sol_per_pop': 94, 'crossover_probability': 0.8234857232005773, 'mutation_probability': 0.026130975571660255, 'parent_selection_type': 'rws'}. \u001b[0m\n",
      "\u001b[32m[I 2023-04-04 18:50:58,174]\u001b[0m Trial 15 finished with values: [19.0, 6.0] and parameters: {'sol_per_pop': 52, 'crossover_probability': 0.8796986098553692, 'mutation_probability': 0.026030908825197666, 'parent_selection_type': 'rws'}. \u001b[0m\n",
      "\u001b[32m[I 2023-04-04 18:51:05,042]\u001b[0m Trial 16 finished with values: [15.0, 6.0] and parameters: {'sol_per_pop': 97, 'crossover_probability': 0.8241800562530873, 'mutation_probability': 0.04154000704738968, 'parent_selection_type': 'tournament'}. \u001b[0m\n",
      "\u001b[32m[I 2023-04-04 18:51:10,130]\u001b[0m Trial 17 finished with values: [1.0, 6.0] and parameters: {'sol_per_pop': 85, 'crossover_probability': 0.8442033244999646, 'mutation_probability': 0.013253291240786145, 'parent_selection_type': 'tournament'}. \u001b[0m\n",
      "\u001b[32m[I 2023-04-04 18:51:14,025]\u001b[0m Trial 18 finished with values: [8.0, 6.0] and parameters: {'sol_per_pop': 50, 'crossover_probability': 0.8061513171336177, 'mutation_probability': 0.043126498155281426, 'parent_selection_type': 'rws'}. \u001b[0m\n",
      "\u001b[32m[I 2023-04-04 18:51:21,022]\u001b[0m Trial 19 finished with values: [15.0, 6.0] and parameters: {'sol_per_pop': 85, 'crossover_probability': 0.8337418824640306, 'mutation_probability': 0.03268104563465256, 'parent_selection_type': 'rws'}. \u001b[0m\n",
      "\u001b[32m[I 2023-04-04 18:51:24,141]\u001b[0m Trial 20 finished with values: [5.0, 6.0] and parameters: {'sol_per_pop': 52, 'crossover_probability': 0.8671664450518467, 'mutation_probability': 0.011250514993992353, 'parent_selection_type': 'tournament'}. \u001b[0m\n",
      "\u001b[32m[I 2023-04-04 18:51:29,540]\u001b[0m Trial 21 finished with values: [12.0, 6.0] and parameters: {'sol_per_pop': 70, 'crossover_probability': 0.899295044399812, 'mutation_probability': 0.04594418361825494, 'parent_selection_type': 'rws'}. \u001b[0m\n",
      "\u001b[32m[I 2023-04-04 18:51:37,170]\u001b[0m Trial 22 finished with values: [14.0, 6.0] and parameters: {'sol_per_pop': 98, 'crossover_probability': 0.8037062259264192, 'mutation_probability': 0.01745707094745358, 'parent_selection_type': 'rws'}. \u001b[0m\n",
      "\u001b[32m[I 2023-04-04 18:51:42,744]\u001b[0m Trial 23 finished with values: [5.0, 6.0] and parameters: {'sol_per_pop': 82, 'crossover_probability': 0.8071628503741783, 'mutation_probability': 0.0124099283139432, 'parent_selection_type': 'rws'}. \u001b[0m\n",
      "\u001b[32m[I 2023-04-04 18:51:46,442]\u001b[0m Trial 24 finished with values: [4.0, 6.0] and parameters: {'sol_per_pop': 60, 'crossover_probability': 0.8838796289621799, 'mutation_probability': 0.03224610895592432, 'parent_selection_type': 'tournament'}. \u001b[0m\n",
      "\u001b[32m[I 2023-04-04 18:51:51,997]\u001b[0m Trial 25 finished with values: [8.0, 6.0] and parameters: {'sol_per_pop': 79, 'crossover_probability': 0.8487149414522398, 'mutation_probability': 0.017938510685334027, 'parent_selection_type': 'rws'}. \u001b[0m\n",
      "\u001b[32m[I 2023-04-04 18:51:57,272]\u001b[0m Trial 26 finished with values: [7.0, 6.0] and parameters: {'sol_per_pop': 75, 'crossover_probability': 0.8702749118865475, 'mutation_probability': 0.04536403042486038, 'parent_selection_type': 'rws'}. \u001b[0m\n",
      "\u001b[32m[I 2023-04-04 18:52:03,991]\u001b[0m Trial 27 finished with values: [12.0, 6.0] and parameters: {'sol_per_pop': 71, 'crossover_probability': 0.8981398776834144, 'mutation_probability': 0.022975987749692686, 'parent_selection_type': 'rws'}. \u001b[0m\n",
      "\u001b[32m[I 2023-04-04 18:52:08,260]\u001b[0m Trial 28 finished with values: [6.0, 6.0] and parameters: {'sol_per_pop': 65, 'crossover_probability': 0.8721786218520888, 'mutation_probability': 0.015363089127192753, 'parent_selection_type': 'tournament'}. \u001b[0m\n",
      "\u001b[32m[I 2023-04-04 18:52:14,458]\u001b[0m Trial 29 finished with values: [9.0, 6.0] and parameters: {'sol_per_pop': 87, 'crossover_probability': 0.8065423661304079, 'mutation_probability': 0.043831749905273956, 'parent_selection_type': 'rws'}. \u001b[0m\n"
     ]
    },
    {
     "name": "stdout",
     "output_type": "stream",
     "text": [
      "Number of finished trials:  30\n"
     ]
    }
   ],
   "source": [
    "def obj(trial):\n",
    "    params = {\n",
    "        \"sol_per_pop\": trial.suggest_int(\"sol_per_pop\", 50, 100),\n",
    "        \"num_parents_mating\":2,\n",
    "        \"crossover_probability\":trial.suggest_float(\"crossover_probability\",0.8,0.9,log=False),\n",
    "        \"mutation_probability\":trial.suggest_float(\"mutation_probability\",0.01,0.05,log=False),\n",
    "        \"gene_space\":[0,1],\n",
    "        \"parent_selection_type\":trial.suggest_categorical(\"parent_selection_type\", [\"rws\",\"tournament\"]),\n",
    "        \"num_generations\":100\n",
    "    }\n",
    "    num_iters=[]\n",
    "    fit_vals=[]\n",
    "\n",
    "    for A in base_As:\n",
    "       params[\"num_genes\"]=len(A[0])\n",
    "       params[\"stop_criteria\"]=f\"reach_{len(A[0])}\"\n",
    "       params[\"fitness_func\"]= lambda solution, solution_idx: sum([1 if item[0]==1 else 0 for item in np.matmul(A,np.array([[ii] for ii in solution]))])\n",
    "       ga_instance = pygad.GA(**params)\n",
    "       ga_instance.run()\n",
    "       solution, solution_fitness, solution_idx = ga_instance.best_solution()\n",
    "       num_iters.append(ga_instance.best_solution_generation)\n",
    "       fit_vals.append(solution_fitness)\n",
    "    \n",
    "    niter=mean(num_iters)\n",
    "    fval=mean(fit_vals)\n",
    "    return niter,fval\n",
    "study = optuna.create_study(directions=[\"minimize\", \"maximize\"])\n",
    "study.optimize(obj, n_trials=30)#, timeout=300\n",
    "\n",
    "print(\"Number of finished trials: \", len(study.trials))"
   ]
  },
  {
   "cell_type": "code",
   "execution_count": 25,
   "metadata": {},
   "outputs": [
    {
     "data": {
      "application/vnd.plotly.v1+json": {
       "config": {
        "plotlyServerURL": "https://plot.ly"
       },
       "data": [
        {
         "dimensions": [
          {
           "label": "fval",
           "range": [
            6,
            6
           ],
           "values": [
            6,
            6,
            6,
            6,
            6,
            6,
            6,
            6,
            6,
            6,
            6,
            6,
            6,
            6,
            6,
            6,
            6,
            6,
            6,
            6,
            6,
            6,
            6,
            6,
            6,
            6,
            6,
            6,
            6,
            6
           ]
          },
          {
           "label": "crossover_probabi...",
           "range": [
            0.8011676236855945,
            0.899295044399812
           ],
           "values": [
            0.8688986318531717,
            0.8011676236855945,
            0.8927765503661904,
            0.868413893372346,
            0.8883515906313499,
            0.8568483200062665,
            0.8373674012364614,
            0.8180298527516332,
            0.8434846059774277,
            0.8118503224958132,
            0.8898791030045292,
            0.8187604609122417,
            0.8604842205203252,
            0.8438686066265074,
            0.8234857232005773,
            0.8796986098553692,
            0.8241800562530873,
            0.8442033244999646,
            0.8061513171336177,
            0.8337418824640306,
            0.8671664450518467,
            0.899295044399812,
            0.8037062259264192,
            0.8071628503741783,
            0.8838796289621799,
            0.8487149414522398,
            0.8702749118865475,
            0.8981398776834144,
            0.8721786218520888,
            0.8065423661304079
           ]
          },
          {
           "label": "mutation_probabil...",
           "range": [
            0.011250514993992353,
            0.04898596941605028
           ],
           "values": [
            0.03345344809207382,
            0.018154946548950016,
            0.028734914770389454,
            0.04737315373929115,
            0.018165185701960494,
            0.018222525799763432,
            0.04025929310920833,
            0.03863734579902141,
            0.01735080540316354,
            0.035543829131020645,
            0.01655809396609409,
            0.04898596941605028,
            0.02969805548869709,
            0.030550208373874885,
            0.026130975571660255,
            0.026030908825197666,
            0.04154000704738968,
            0.013253291240786145,
            0.043126498155281426,
            0.03268104563465256,
            0.011250514993992353,
            0.04594418361825494,
            0.01745707094745358,
            0.0124099283139432,
            0.03224610895592432,
            0.017938510685334027,
            0.04536403042486038,
            0.022975987749692686,
            0.015363089127192753,
            0.043831749905273956
           ]
          },
          {
           "label": "parent_selection_...",
           "range": [
            0,
            1
           ],
           "ticktext": [
            "rws",
            "tournament"
           ],
           "tickvals": [
            0,
            1
           ],
           "values": [
            0,
            1,
            0,
            0,
            1,
            0,
            0,
            1,
            0,
            0,
            0,
            1,
            0,
            0,
            0,
            0,
            1,
            1,
            0,
            0,
            1,
            0,
            0,
            0,
            1,
            0,
            0,
            0,
            1,
            0
           ]
          },
          {
           "label": "sol_per_pop",
           "range": [
            50,
            98
           ],
           "values": [
            84,
            88,
            81,
            54,
            88,
            56,
            58,
            52,
            76,
            90,
            77,
            96,
            98,
            52,
            94,
            52,
            97,
            85,
            50,
            85,
            52,
            70,
            98,
            82,
            60,
            79,
            75,
            71,
            65,
            87
           ]
          }
         ],
         "labelangle": 30,
         "labelside": "bottom",
         "line": {
          "color": [
           6,
           6,
           6,
           6,
           6,
           6,
           6,
           6,
           6,
           6,
           6,
           6,
           6,
           6,
           6,
           6,
           6,
           6,
           6,
           6,
           6,
           6,
           6,
           6,
           6,
           6,
           6,
           6,
           6,
           6
          ],
          "colorbar": {
           "title": {
            "text": "fval"
           }
          },
          "colorscale": [
           [
            0,
            "rgb(247,251,255)"
           ],
           [
            0.125,
            "rgb(222,235,247)"
           ],
           [
            0.25,
            "rgb(198,219,239)"
           ],
           [
            0.375,
            "rgb(158,202,225)"
           ],
           [
            0.5,
            "rgb(107,174,214)"
           ],
           [
            0.625,
            "rgb(66,146,198)"
           ],
           [
            0.75,
            "rgb(33,113,181)"
           ],
           [
            0.875,
            "rgb(8,81,156)"
           ],
           [
            1,
            "rgb(8,48,107)"
           ]
          ],
          "reversescale": true,
          "showscale": true
         },
         "type": "parcoords"
        }
       ],
       "layout": {
        "template": {
         "data": {
          "bar": [
           {
            "error_x": {
             "color": "#2a3f5f"
            },
            "error_y": {
             "color": "#2a3f5f"
            },
            "marker": {
             "line": {
              "color": "#E5ECF6",
              "width": 0.5
             },
             "pattern": {
              "fillmode": "overlay",
              "size": 10,
              "solidity": 0.2
             }
            },
            "type": "bar"
           }
          ],
          "barpolar": [
           {
            "marker": {
             "line": {
              "color": "#E5ECF6",
              "width": 0.5
             },
             "pattern": {
              "fillmode": "overlay",
              "size": 10,
              "solidity": 0.2
             }
            },
            "type": "barpolar"
           }
          ],
          "carpet": [
           {
            "aaxis": {
             "endlinecolor": "#2a3f5f",
             "gridcolor": "white",
             "linecolor": "white",
             "minorgridcolor": "white",
             "startlinecolor": "#2a3f5f"
            },
            "baxis": {
             "endlinecolor": "#2a3f5f",
             "gridcolor": "white",
             "linecolor": "white",
             "minorgridcolor": "white",
             "startlinecolor": "#2a3f5f"
            },
            "type": "carpet"
           }
          ],
          "choropleth": [
           {
            "colorbar": {
             "outlinewidth": 0,
             "ticks": ""
            },
            "type": "choropleth"
           }
          ],
          "contour": [
           {
            "colorbar": {
             "outlinewidth": 0,
             "ticks": ""
            },
            "colorscale": [
             [
              0,
              "#0d0887"
             ],
             [
              0.1111111111111111,
              "#46039f"
             ],
             [
              0.2222222222222222,
              "#7201a8"
             ],
             [
              0.3333333333333333,
              "#9c179e"
             ],
             [
              0.4444444444444444,
              "#bd3786"
             ],
             [
              0.5555555555555556,
              "#d8576b"
             ],
             [
              0.6666666666666666,
              "#ed7953"
             ],
             [
              0.7777777777777778,
              "#fb9f3a"
             ],
             [
              0.8888888888888888,
              "#fdca26"
             ],
             [
              1,
              "#f0f921"
             ]
            ],
            "type": "contour"
           }
          ],
          "contourcarpet": [
           {
            "colorbar": {
             "outlinewidth": 0,
             "ticks": ""
            },
            "type": "contourcarpet"
           }
          ],
          "heatmap": [
           {
            "colorbar": {
             "outlinewidth": 0,
             "ticks": ""
            },
            "colorscale": [
             [
              0,
              "#0d0887"
             ],
             [
              0.1111111111111111,
              "#46039f"
             ],
             [
              0.2222222222222222,
              "#7201a8"
             ],
             [
              0.3333333333333333,
              "#9c179e"
             ],
             [
              0.4444444444444444,
              "#bd3786"
             ],
             [
              0.5555555555555556,
              "#d8576b"
             ],
             [
              0.6666666666666666,
              "#ed7953"
             ],
             [
              0.7777777777777778,
              "#fb9f3a"
             ],
             [
              0.8888888888888888,
              "#fdca26"
             ],
             [
              1,
              "#f0f921"
             ]
            ],
            "type": "heatmap"
           }
          ],
          "heatmapgl": [
           {
            "colorbar": {
             "outlinewidth": 0,
             "ticks": ""
            },
            "colorscale": [
             [
              0,
              "#0d0887"
             ],
             [
              0.1111111111111111,
              "#46039f"
             ],
             [
              0.2222222222222222,
              "#7201a8"
             ],
             [
              0.3333333333333333,
              "#9c179e"
             ],
             [
              0.4444444444444444,
              "#bd3786"
             ],
             [
              0.5555555555555556,
              "#d8576b"
             ],
             [
              0.6666666666666666,
              "#ed7953"
             ],
             [
              0.7777777777777778,
              "#fb9f3a"
             ],
             [
              0.8888888888888888,
              "#fdca26"
             ],
             [
              1,
              "#f0f921"
             ]
            ],
            "type": "heatmapgl"
           }
          ],
          "histogram": [
           {
            "marker": {
             "pattern": {
              "fillmode": "overlay",
              "size": 10,
              "solidity": 0.2
             }
            },
            "type": "histogram"
           }
          ],
          "histogram2d": [
           {
            "colorbar": {
             "outlinewidth": 0,
             "ticks": ""
            },
            "colorscale": [
             [
              0,
              "#0d0887"
             ],
             [
              0.1111111111111111,
              "#46039f"
             ],
             [
              0.2222222222222222,
              "#7201a8"
             ],
             [
              0.3333333333333333,
              "#9c179e"
             ],
             [
              0.4444444444444444,
              "#bd3786"
             ],
             [
              0.5555555555555556,
              "#d8576b"
             ],
             [
              0.6666666666666666,
              "#ed7953"
             ],
             [
              0.7777777777777778,
              "#fb9f3a"
             ],
             [
              0.8888888888888888,
              "#fdca26"
             ],
             [
              1,
              "#f0f921"
             ]
            ],
            "type": "histogram2d"
           }
          ],
          "histogram2dcontour": [
           {
            "colorbar": {
             "outlinewidth": 0,
             "ticks": ""
            },
            "colorscale": [
             [
              0,
              "#0d0887"
             ],
             [
              0.1111111111111111,
              "#46039f"
             ],
             [
              0.2222222222222222,
              "#7201a8"
             ],
             [
              0.3333333333333333,
              "#9c179e"
             ],
             [
              0.4444444444444444,
              "#bd3786"
             ],
             [
              0.5555555555555556,
              "#d8576b"
             ],
             [
              0.6666666666666666,
              "#ed7953"
             ],
             [
              0.7777777777777778,
              "#fb9f3a"
             ],
             [
              0.8888888888888888,
              "#fdca26"
             ],
             [
              1,
              "#f0f921"
             ]
            ],
            "type": "histogram2dcontour"
           }
          ],
          "mesh3d": [
           {
            "colorbar": {
             "outlinewidth": 0,
             "ticks": ""
            },
            "type": "mesh3d"
           }
          ],
          "parcoords": [
           {
            "line": {
             "colorbar": {
              "outlinewidth": 0,
              "ticks": ""
             }
            },
            "type": "parcoords"
           }
          ],
          "pie": [
           {
            "automargin": true,
            "type": "pie"
           }
          ],
          "scatter": [
           {
            "fillpattern": {
             "fillmode": "overlay",
             "size": 10,
             "solidity": 0.2
            },
            "type": "scatter"
           }
          ],
          "scatter3d": [
           {
            "line": {
             "colorbar": {
              "outlinewidth": 0,
              "ticks": ""
             }
            },
            "marker": {
             "colorbar": {
              "outlinewidth": 0,
              "ticks": ""
             }
            },
            "type": "scatter3d"
           }
          ],
          "scattercarpet": [
           {
            "marker": {
             "colorbar": {
              "outlinewidth": 0,
              "ticks": ""
             }
            },
            "type": "scattercarpet"
           }
          ],
          "scattergeo": [
           {
            "marker": {
             "colorbar": {
              "outlinewidth": 0,
              "ticks": ""
             }
            },
            "type": "scattergeo"
           }
          ],
          "scattergl": [
           {
            "marker": {
             "colorbar": {
              "outlinewidth": 0,
              "ticks": ""
             }
            },
            "type": "scattergl"
           }
          ],
          "scattermapbox": [
           {
            "marker": {
             "colorbar": {
              "outlinewidth": 0,
              "ticks": ""
             }
            },
            "type": "scattermapbox"
           }
          ],
          "scatterpolar": [
           {
            "marker": {
             "colorbar": {
              "outlinewidth": 0,
              "ticks": ""
             }
            },
            "type": "scatterpolar"
           }
          ],
          "scatterpolargl": [
           {
            "marker": {
             "colorbar": {
              "outlinewidth": 0,
              "ticks": ""
             }
            },
            "type": "scatterpolargl"
           }
          ],
          "scatterternary": [
           {
            "marker": {
             "colorbar": {
              "outlinewidth": 0,
              "ticks": ""
             }
            },
            "type": "scatterternary"
           }
          ],
          "surface": [
           {
            "colorbar": {
             "outlinewidth": 0,
             "ticks": ""
            },
            "colorscale": [
             [
              0,
              "#0d0887"
             ],
             [
              0.1111111111111111,
              "#46039f"
             ],
             [
              0.2222222222222222,
              "#7201a8"
             ],
             [
              0.3333333333333333,
              "#9c179e"
             ],
             [
              0.4444444444444444,
              "#bd3786"
             ],
             [
              0.5555555555555556,
              "#d8576b"
             ],
             [
              0.6666666666666666,
              "#ed7953"
             ],
             [
              0.7777777777777778,
              "#fb9f3a"
             ],
             [
              0.8888888888888888,
              "#fdca26"
             ],
             [
              1,
              "#f0f921"
             ]
            ],
            "type": "surface"
           }
          ],
          "table": [
           {
            "cells": {
             "fill": {
              "color": "#EBF0F8"
             },
             "line": {
              "color": "white"
             }
            },
            "header": {
             "fill": {
              "color": "#C8D4E3"
             },
             "line": {
              "color": "white"
             }
            },
            "type": "table"
           }
          ]
         },
         "layout": {
          "annotationdefaults": {
           "arrowcolor": "#2a3f5f",
           "arrowhead": 0,
           "arrowwidth": 1
          },
          "autotypenumbers": "strict",
          "coloraxis": {
           "colorbar": {
            "outlinewidth": 0,
            "ticks": ""
           }
          },
          "colorscale": {
           "diverging": [
            [
             0,
             "#8e0152"
            ],
            [
             0.1,
             "#c51b7d"
            ],
            [
             0.2,
             "#de77ae"
            ],
            [
             0.3,
             "#f1b6da"
            ],
            [
             0.4,
             "#fde0ef"
            ],
            [
             0.5,
             "#f7f7f7"
            ],
            [
             0.6,
             "#e6f5d0"
            ],
            [
             0.7,
             "#b8e186"
            ],
            [
             0.8,
             "#7fbc41"
            ],
            [
             0.9,
             "#4d9221"
            ],
            [
             1,
             "#276419"
            ]
           ],
           "sequential": [
            [
             0,
             "#0d0887"
            ],
            [
             0.1111111111111111,
             "#46039f"
            ],
            [
             0.2222222222222222,
             "#7201a8"
            ],
            [
             0.3333333333333333,
             "#9c179e"
            ],
            [
             0.4444444444444444,
             "#bd3786"
            ],
            [
             0.5555555555555556,
             "#d8576b"
            ],
            [
             0.6666666666666666,
             "#ed7953"
            ],
            [
             0.7777777777777778,
             "#fb9f3a"
            ],
            [
             0.8888888888888888,
             "#fdca26"
            ],
            [
             1,
             "#f0f921"
            ]
           ],
           "sequentialminus": [
            [
             0,
             "#0d0887"
            ],
            [
             0.1111111111111111,
             "#46039f"
            ],
            [
             0.2222222222222222,
             "#7201a8"
            ],
            [
             0.3333333333333333,
             "#9c179e"
            ],
            [
             0.4444444444444444,
             "#bd3786"
            ],
            [
             0.5555555555555556,
             "#d8576b"
            ],
            [
             0.6666666666666666,
             "#ed7953"
            ],
            [
             0.7777777777777778,
             "#fb9f3a"
            ],
            [
             0.8888888888888888,
             "#fdca26"
            ],
            [
             1,
             "#f0f921"
            ]
           ]
          },
          "colorway": [
           "#636efa",
           "#EF553B",
           "#00cc96",
           "#ab63fa",
           "#FFA15A",
           "#19d3f3",
           "#FF6692",
           "#B6E880",
           "#FF97FF",
           "#FECB52"
          ],
          "font": {
           "color": "#2a3f5f"
          },
          "geo": {
           "bgcolor": "white",
           "lakecolor": "white",
           "landcolor": "#E5ECF6",
           "showlakes": true,
           "showland": true,
           "subunitcolor": "white"
          },
          "hoverlabel": {
           "align": "left"
          },
          "hovermode": "closest",
          "mapbox": {
           "style": "light"
          },
          "paper_bgcolor": "white",
          "plot_bgcolor": "#E5ECF6",
          "polar": {
           "angularaxis": {
            "gridcolor": "white",
            "linecolor": "white",
            "ticks": ""
           },
           "bgcolor": "#E5ECF6",
           "radialaxis": {
            "gridcolor": "white",
            "linecolor": "white",
            "ticks": ""
           }
          },
          "scene": {
           "xaxis": {
            "backgroundcolor": "#E5ECF6",
            "gridcolor": "white",
            "gridwidth": 2,
            "linecolor": "white",
            "showbackground": true,
            "ticks": "",
            "zerolinecolor": "white"
           },
           "yaxis": {
            "backgroundcolor": "#E5ECF6",
            "gridcolor": "white",
            "gridwidth": 2,
            "linecolor": "white",
            "showbackground": true,
            "ticks": "",
            "zerolinecolor": "white"
           },
           "zaxis": {
            "backgroundcolor": "#E5ECF6",
            "gridcolor": "white",
            "gridwidth": 2,
            "linecolor": "white",
            "showbackground": true,
            "ticks": "",
            "zerolinecolor": "white"
           }
          },
          "shapedefaults": {
           "line": {
            "color": "#2a3f5f"
           }
          },
          "ternary": {
           "aaxis": {
            "gridcolor": "white",
            "linecolor": "white",
            "ticks": ""
           },
           "baxis": {
            "gridcolor": "white",
            "linecolor": "white",
            "ticks": ""
           },
           "bgcolor": "#E5ECF6",
           "caxis": {
            "gridcolor": "white",
            "linecolor": "white",
            "ticks": ""
           }
          },
          "title": {
           "x": 0.05
          },
          "xaxis": {
           "automargin": true,
           "gridcolor": "white",
           "linecolor": "white",
           "ticks": "",
           "title": {
            "standoff": 15
           },
           "zerolinecolor": "white",
           "zerolinewidth": 2
          },
          "yaxis": {
           "automargin": true,
           "gridcolor": "white",
           "linecolor": "white",
           "ticks": "",
           "title": {
            "standoff": 15
           },
           "zerolinecolor": "white",
           "zerolinewidth": 2
          }
         }
        },
        "title": {
         "text": "Parallel Coordinate Plot"
        }
       }
      }
     },
     "metadata": {},
     "output_type": "display_data"
    }
   ],
   "source": [
    "optuna.visualization.plot_parallel_coordinate(study,target=lambda t: t.values[1], target_name=\"fval\")"
   ]
  },
  {
   "cell_type": "code",
   "execution_count": 26,
   "metadata": {},
   "outputs": [
    {
     "data": {
      "application/vnd.plotly.v1+json": {
       "config": {
        "plotlyServerURL": "https://plot.ly"
       },
       "data": [
        {
         "cliponaxis": false,
         "hovertemplate": [
          "parent_selection_type (CategoricalDistribution): 0.16572270196812716<extra></extra>",
          "crossover_probability (FloatDistribution): 0.17223076677607685<extra></extra>",
          "sol_per_pop (IntDistribution): 0.2116129389670656<extra></extra>",
          "mutation_probability (FloatDistribution): 0.4504335922887304<extra></extra>"
         ],
         "marker": {
          "color": "rgb(66,146,198)"
         },
         "orientation": "h",
         "text": [
          "0.17",
          "0.17",
          "0.21",
          "0.45"
         ],
         "textposition": "outside",
         "type": "bar",
         "x": [
          0.16572270196812716,
          0.17223076677607685,
          0.2116129389670656,
          0.4504335922887304
         ],
         "y": [
          "parent_selection_type",
          "crossover_probability",
          "sol_per_pop",
          "mutation_probability"
         ]
        }
       ],
       "layout": {
        "showlegend": false,
        "template": {
         "data": {
          "bar": [
           {
            "error_x": {
             "color": "#2a3f5f"
            },
            "error_y": {
             "color": "#2a3f5f"
            },
            "marker": {
             "line": {
              "color": "#E5ECF6",
              "width": 0.5
             },
             "pattern": {
              "fillmode": "overlay",
              "size": 10,
              "solidity": 0.2
             }
            },
            "type": "bar"
           }
          ],
          "barpolar": [
           {
            "marker": {
             "line": {
              "color": "#E5ECF6",
              "width": 0.5
             },
             "pattern": {
              "fillmode": "overlay",
              "size": 10,
              "solidity": 0.2
             }
            },
            "type": "barpolar"
           }
          ],
          "carpet": [
           {
            "aaxis": {
             "endlinecolor": "#2a3f5f",
             "gridcolor": "white",
             "linecolor": "white",
             "minorgridcolor": "white",
             "startlinecolor": "#2a3f5f"
            },
            "baxis": {
             "endlinecolor": "#2a3f5f",
             "gridcolor": "white",
             "linecolor": "white",
             "minorgridcolor": "white",
             "startlinecolor": "#2a3f5f"
            },
            "type": "carpet"
           }
          ],
          "choropleth": [
           {
            "colorbar": {
             "outlinewidth": 0,
             "ticks": ""
            },
            "type": "choropleth"
           }
          ],
          "contour": [
           {
            "colorbar": {
             "outlinewidth": 0,
             "ticks": ""
            },
            "colorscale": [
             [
              0,
              "#0d0887"
             ],
             [
              0.1111111111111111,
              "#46039f"
             ],
             [
              0.2222222222222222,
              "#7201a8"
             ],
             [
              0.3333333333333333,
              "#9c179e"
             ],
             [
              0.4444444444444444,
              "#bd3786"
             ],
             [
              0.5555555555555556,
              "#d8576b"
             ],
             [
              0.6666666666666666,
              "#ed7953"
             ],
             [
              0.7777777777777778,
              "#fb9f3a"
             ],
             [
              0.8888888888888888,
              "#fdca26"
             ],
             [
              1,
              "#f0f921"
             ]
            ],
            "type": "contour"
           }
          ],
          "contourcarpet": [
           {
            "colorbar": {
             "outlinewidth": 0,
             "ticks": ""
            },
            "type": "contourcarpet"
           }
          ],
          "heatmap": [
           {
            "colorbar": {
             "outlinewidth": 0,
             "ticks": ""
            },
            "colorscale": [
             [
              0,
              "#0d0887"
             ],
             [
              0.1111111111111111,
              "#46039f"
             ],
             [
              0.2222222222222222,
              "#7201a8"
             ],
             [
              0.3333333333333333,
              "#9c179e"
             ],
             [
              0.4444444444444444,
              "#bd3786"
             ],
             [
              0.5555555555555556,
              "#d8576b"
             ],
             [
              0.6666666666666666,
              "#ed7953"
             ],
             [
              0.7777777777777778,
              "#fb9f3a"
             ],
             [
              0.8888888888888888,
              "#fdca26"
             ],
             [
              1,
              "#f0f921"
             ]
            ],
            "type": "heatmap"
           }
          ],
          "heatmapgl": [
           {
            "colorbar": {
             "outlinewidth": 0,
             "ticks": ""
            },
            "colorscale": [
             [
              0,
              "#0d0887"
             ],
             [
              0.1111111111111111,
              "#46039f"
             ],
             [
              0.2222222222222222,
              "#7201a8"
             ],
             [
              0.3333333333333333,
              "#9c179e"
             ],
             [
              0.4444444444444444,
              "#bd3786"
             ],
             [
              0.5555555555555556,
              "#d8576b"
             ],
             [
              0.6666666666666666,
              "#ed7953"
             ],
             [
              0.7777777777777778,
              "#fb9f3a"
             ],
             [
              0.8888888888888888,
              "#fdca26"
             ],
             [
              1,
              "#f0f921"
             ]
            ],
            "type": "heatmapgl"
           }
          ],
          "histogram": [
           {
            "marker": {
             "pattern": {
              "fillmode": "overlay",
              "size": 10,
              "solidity": 0.2
             }
            },
            "type": "histogram"
           }
          ],
          "histogram2d": [
           {
            "colorbar": {
             "outlinewidth": 0,
             "ticks": ""
            },
            "colorscale": [
             [
              0,
              "#0d0887"
             ],
             [
              0.1111111111111111,
              "#46039f"
             ],
             [
              0.2222222222222222,
              "#7201a8"
             ],
             [
              0.3333333333333333,
              "#9c179e"
             ],
             [
              0.4444444444444444,
              "#bd3786"
             ],
             [
              0.5555555555555556,
              "#d8576b"
             ],
             [
              0.6666666666666666,
              "#ed7953"
             ],
             [
              0.7777777777777778,
              "#fb9f3a"
             ],
             [
              0.8888888888888888,
              "#fdca26"
             ],
             [
              1,
              "#f0f921"
             ]
            ],
            "type": "histogram2d"
           }
          ],
          "histogram2dcontour": [
           {
            "colorbar": {
             "outlinewidth": 0,
             "ticks": ""
            },
            "colorscale": [
             [
              0,
              "#0d0887"
             ],
             [
              0.1111111111111111,
              "#46039f"
             ],
             [
              0.2222222222222222,
              "#7201a8"
             ],
             [
              0.3333333333333333,
              "#9c179e"
             ],
             [
              0.4444444444444444,
              "#bd3786"
             ],
             [
              0.5555555555555556,
              "#d8576b"
             ],
             [
              0.6666666666666666,
              "#ed7953"
             ],
             [
              0.7777777777777778,
              "#fb9f3a"
             ],
             [
              0.8888888888888888,
              "#fdca26"
             ],
             [
              1,
              "#f0f921"
             ]
            ],
            "type": "histogram2dcontour"
           }
          ],
          "mesh3d": [
           {
            "colorbar": {
             "outlinewidth": 0,
             "ticks": ""
            },
            "type": "mesh3d"
           }
          ],
          "parcoords": [
           {
            "line": {
             "colorbar": {
              "outlinewidth": 0,
              "ticks": ""
             }
            },
            "type": "parcoords"
           }
          ],
          "pie": [
           {
            "automargin": true,
            "type": "pie"
           }
          ],
          "scatter": [
           {
            "fillpattern": {
             "fillmode": "overlay",
             "size": 10,
             "solidity": 0.2
            },
            "type": "scatter"
           }
          ],
          "scatter3d": [
           {
            "line": {
             "colorbar": {
              "outlinewidth": 0,
              "ticks": ""
             }
            },
            "marker": {
             "colorbar": {
              "outlinewidth": 0,
              "ticks": ""
             }
            },
            "type": "scatter3d"
           }
          ],
          "scattercarpet": [
           {
            "marker": {
             "colorbar": {
              "outlinewidth": 0,
              "ticks": ""
             }
            },
            "type": "scattercarpet"
           }
          ],
          "scattergeo": [
           {
            "marker": {
             "colorbar": {
              "outlinewidth": 0,
              "ticks": ""
             }
            },
            "type": "scattergeo"
           }
          ],
          "scattergl": [
           {
            "marker": {
             "colorbar": {
              "outlinewidth": 0,
              "ticks": ""
             }
            },
            "type": "scattergl"
           }
          ],
          "scattermapbox": [
           {
            "marker": {
             "colorbar": {
              "outlinewidth": 0,
              "ticks": ""
             }
            },
            "type": "scattermapbox"
           }
          ],
          "scatterpolar": [
           {
            "marker": {
             "colorbar": {
              "outlinewidth": 0,
              "ticks": ""
             }
            },
            "type": "scatterpolar"
           }
          ],
          "scatterpolargl": [
           {
            "marker": {
             "colorbar": {
              "outlinewidth": 0,
              "ticks": ""
             }
            },
            "type": "scatterpolargl"
           }
          ],
          "scatterternary": [
           {
            "marker": {
             "colorbar": {
              "outlinewidth": 0,
              "ticks": ""
             }
            },
            "type": "scatterternary"
           }
          ],
          "surface": [
           {
            "colorbar": {
             "outlinewidth": 0,
             "ticks": ""
            },
            "colorscale": [
             [
              0,
              "#0d0887"
             ],
             [
              0.1111111111111111,
              "#46039f"
             ],
             [
              0.2222222222222222,
              "#7201a8"
             ],
             [
              0.3333333333333333,
              "#9c179e"
             ],
             [
              0.4444444444444444,
              "#bd3786"
             ],
             [
              0.5555555555555556,
              "#d8576b"
             ],
             [
              0.6666666666666666,
              "#ed7953"
             ],
             [
              0.7777777777777778,
              "#fb9f3a"
             ],
             [
              0.8888888888888888,
              "#fdca26"
             ],
             [
              1,
              "#f0f921"
             ]
            ],
            "type": "surface"
           }
          ],
          "table": [
           {
            "cells": {
             "fill": {
              "color": "#EBF0F8"
             },
             "line": {
              "color": "white"
             }
            },
            "header": {
             "fill": {
              "color": "#C8D4E3"
             },
             "line": {
              "color": "white"
             }
            },
            "type": "table"
           }
          ]
         },
         "layout": {
          "annotationdefaults": {
           "arrowcolor": "#2a3f5f",
           "arrowhead": 0,
           "arrowwidth": 1
          },
          "autotypenumbers": "strict",
          "coloraxis": {
           "colorbar": {
            "outlinewidth": 0,
            "ticks": ""
           }
          },
          "colorscale": {
           "diverging": [
            [
             0,
             "#8e0152"
            ],
            [
             0.1,
             "#c51b7d"
            ],
            [
             0.2,
             "#de77ae"
            ],
            [
             0.3,
             "#f1b6da"
            ],
            [
             0.4,
             "#fde0ef"
            ],
            [
             0.5,
             "#f7f7f7"
            ],
            [
             0.6,
             "#e6f5d0"
            ],
            [
             0.7,
             "#b8e186"
            ],
            [
             0.8,
             "#7fbc41"
            ],
            [
             0.9,
             "#4d9221"
            ],
            [
             1,
             "#276419"
            ]
           ],
           "sequential": [
            [
             0,
             "#0d0887"
            ],
            [
             0.1111111111111111,
             "#46039f"
            ],
            [
             0.2222222222222222,
             "#7201a8"
            ],
            [
             0.3333333333333333,
             "#9c179e"
            ],
            [
             0.4444444444444444,
             "#bd3786"
            ],
            [
             0.5555555555555556,
             "#d8576b"
            ],
            [
             0.6666666666666666,
             "#ed7953"
            ],
            [
             0.7777777777777778,
             "#fb9f3a"
            ],
            [
             0.8888888888888888,
             "#fdca26"
            ],
            [
             1,
             "#f0f921"
            ]
           ],
           "sequentialminus": [
            [
             0,
             "#0d0887"
            ],
            [
             0.1111111111111111,
             "#46039f"
            ],
            [
             0.2222222222222222,
             "#7201a8"
            ],
            [
             0.3333333333333333,
             "#9c179e"
            ],
            [
             0.4444444444444444,
             "#bd3786"
            ],
            [
             0.5555555555555556,
             "#d8576b"
            ],
            [
             0.6666666666666666,
             "#ed7953"
            ],
            [
             0.7777777777777778,
             "#fb9f3a"
            ],
            [
             0.8888888888888888,
             "#fdca26"
            ],
            [
             1,
             "#f0f921"
            ]
           ]
          },
          "colorway": [
           "#636efa",
           "#EF553B",
           "#00cc96",
           "#ab63fa",
           "#FFA15A",
           "#19d3f3",
           "#FF6692",
           "#B6E880",
           "#FF97FF",
           "#FECB52"
          ],
          "font": {
           "color": "#2a3f5f"
          },
          "geo": {
           "bgcolor": "white",
           "lakecolor": "white",
           "landcolor": "#E5ECF6",
           "showlakes": true,
           "showland": true,
           "subunitcolor": "white"
          },
          "hoverlabel": {
           "align": "left"
          },
          "hovermode": "closest",
          "mapbox": {
           "style": "light"
          },
          "paper_bgcolor": "white",
          "plot_bgcolor": "#E5ECF6",
          "polar": {
           "angularaxis": {
            "gridcolor": "white",
            "linecolor": "white",
            "ticks": ""
           },
           "bgcolor": "#E5ECF6",
           "radialaxis": {
            "gridcolor": "white",
            "linecolor": "white",
            "ticks": ""
           }
          },
          "scene": {
           "xaxis": {
            "backgroundcolor": "#E5ECF6",
            "gridcolor": "white",
            "gridwidth": 2,
            "linecolor": "white",
            "showbackground": true,
            "ticks": "",
            "zerolinecolor": "white"
           },
           "yaxis": {
            "backgroundcolor": "#E5ECF6",
            "gridcolor": "white",
            "gridwidth": 2,
            "linecolor": "white",
            "showbackground": true,
            "ticks": "",
            "zerolinecolor": "white"
           },
           "zaxis": {
            "backgroundcolor": "#E5ECF6",
            "gridcolor": "white",
            "gridwidth": 2,
            "linecolor": "white",
            "showbackground": true,
            "ticks": "",
            "zerolinecolor": "white"
           }
          },
          "shapedefaults": {
           "line": {
            "color": "#2a3f5f"
           }
          },
          "ternary": {
           "aaxis": {
            "gridcolor": "white",
            "linecolor": "white",
            "ticks": ""
           },
           "baxis": {
            "gridcolor": "white",
            "linecolor": "white",
            "ticks": ""
           },
           "bgcolor": "#E5ECF6",
           "caxis": {
            "gridcolor": "white",
            "linecolor": "white",
            "ticks": ""
           }
          },
          "title": {
           "x": 0.05
          },
          "xaxis": {
           "automargin": true,
           "gridcolor": "white",
           "linecolor": "white",
           "ticks": "",
           "title": {
            "standoff": 15
           },
           "zerolinecolor": "white",
           "zerolinewidth": 2
          },
          "yaxis": {
           "automargin": true,
           "gridcolor": "white",
           "linecolor": "white",
           "ticks": "",
           "title": {
            "standoff": 15
           },
           "zerolinecolor": "white",
           "zerolinewidth": 2
          }
         }
        },
        "title": {
         "text": "Hyperparameter Importances"
        },
        "xaxis": {
         "title": {
          "text": "Importance for niter"
         }
        },
        "yaxis": {
         "title": {
          "text": "Hyperparameter"
         }
        }
       }
      }
     },
     "metadata": {},
     "output_type": "display_data"
    }
   ],
   "source": [
    "optuna.visualization.plot_param_importances(study, target=lambda t: t.values[0], target_name=\"niter\")"
   ]
  },
  {
   "cell_type": "code",
   "execution_count": null,
   "metadata": {},
   "outputs": [],
   "source": []
  }
 ],
 "metadata": {
  "kernelspec": {
   "display_name": "base2",
   "language": "python",
   "name": "python3"
  },
  "language_info": {
   "codemirror_mode": {
    "name": "ipython",
    "version": 3
   },
   "file_extension": ".py",
   "mimetype": "text/x-python",
   "name": "python",
   "nbconvert_exporter": "python",
   "pygments_lexer": "ipython3",
   "version": "3.7.13"
  },
  "orig_nbformat": 4,
  "vscode": {
   "interpreter": {
    "hash": "f1c4ca07f86e89c98f806f783c405af901475b86ed3718ee2bdc4cf9f8c51fd8"
   }
  }
 },
 "nbformat": 4,
 "nbformat_minor": 2
}
