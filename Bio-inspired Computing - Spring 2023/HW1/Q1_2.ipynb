{
  "cells": [
    {
      "cell_type": "code",
      "execution_count": 15,
      "metadata": {
        "id": "s_Tw15bWPU0s"
      },
      "outputs": [
        {
          "name": "stdout",
          "output_type": "stream",
          "text": [
            "Requirement already satisfied: pygad in c:\\users\\sara rostami.d\\.conda\\envs\\base2\\lib\\site-packages (2.19.2)\n",
            "Requirement already satisfied: matplotlib in c:\\users\\sara rostami.d\\.conda\\envs\\base2\\lib\\site-packages (from pygad) (3.3.2)\n",
            "Requirement already satisfied: cloudpickle in c:\\users\\sara rostami.d\\.conda\\envs\\base2\\lib\\site-packages (from pygad) (1.6.0)\n",
            "Requirement already satisfied: numpy in c:\\users\\sara rostami.d\\.conda\\envs\\base2\\lib\\site-packages (from pygad) (1.21.5)\n",
            "Requirement already satisfied: certifi>=2020.06.20 in c:\\users\\sara rostami.d\\.conda\\envs\\base2\\lib\\site-packages (from matplotlib->pygad) (2022.9.24)\n",
            "Requirement already satisfied: kiwisolver>=1.0.1 in c:\\users\\sara rostami.d\\.conda\\envs\\base2\\lib\\site-packages (from matplotlib->pygad) (1.4.2)\n",
            "Requirement already satisfied: cycler>=0.10 in c:\\users\\sara rostami.d\\.conda\\envs\\base2\\lib\\site-packages (from matplotlib->pygad) (0.11.0)\n",
            "Requirement already satisfied: pillow>=6.2.0 in c:\\users\\sara rostami.d\\.conda\\envs\\base2\\lib\\site-packages (from matplotlib->pygad) (9.2.0)\n",
            "Requirement already satisfied: python-dateutil>=2.1 in c:\\users\\sara rostami.d\\.conda\\envs\\base2\\lib\\site-packages (from matplotlib->pygad) (2.8.2)\n",
            "Requirement already satisfied: pyparsing!=2.0.4,!=2.1.2,!=2.1.6,>=2.0.3 in c:\\users\\sara rostami.d\\.conda\\envs\\base2\\lib\\site-packages (from matplotlib->pygad) (3.0.9)\n",
            "Requirement already satisfied: typing-extensions in c:\\users\\sara rostami.d\\.conda\\envs\\base2\\lib\\site-packages (from kiwisolver>=1.0.1->matplotlib->pygad) (4.3.0)\n",
            "Requirement already satisfied: six>=1.5 in c:\\users\\sara rostami.d\\appdata\\roaming\\python\\python37\\site-packages (from python-dateutil>=2.1->matplotlib->pygad) (1.15.0)\n",
            "Requirement already satisfied: optuna in c:\\users\\sara rostami.d\\.conda\\envs\\base2\\lib\\site-packages (3.1.0)\n",
            "Requirement already satisfied: PyYAML in c:\\users\\sara rostami.d\\.conda\\envs\\base2\\lib\\site-packages (from optuna) (6.0)\n",
            "Requirement already satisfied: tqdm in c:\\users\\sara rostami.d\\.conda\\envs\\base2\\lib\\site-packages (from optuna) (4.64.1)\n",
            "Requirement already satisfied: colorlog in c:\\users\\sara rostami.d\\.conda\\envs\\base2\\lib\\site-packages (from optuna) (6.7.0)\n",
            "Requirement already satisfied: packaging>=20.0 in c:\\users\\sara rostami.d\\.conda\\envs\\base2\\lib\\site-packages (from optuna) (21.3)\n",
            "Requirement already satisfied: sqlalchemy>=1.3.0 in c:\\users\\sara rostami.d\\.conda\\envs\\base2\\lib\\site-packages (from optuna) (1.3.24)\n",
            "Requirement already satisfied: numpy in c:\\users\\sara rostami.d\\.conda\\envs\\base2\\lib\\site-packages (from optuna) (1.21.5)\n",
            "Requirement already satisfied: cmaes>=0.9.1 in c:\\users\\sara rostami.d\\.conda\\envs\\base2\\lib\\site-packages (from optuna) (0.9.1)\n",
            "Requirement already satisfied: alembic>=1.5.0 in c:\\users\\sara rostami.d\\.conda\\envs\\base2\\lib\\site-packages (from optuna) (1.10.2)\n",
            "Requirement already satisfied: importlib-resources in c:\\users\\sara rostami.d\\.conda\\envs\\base2\\lib\\site-packages (from alembic>=1.5.0->optuna) (5.2.0)\n",
            "Requirement already satisfied: importlib-metadata in c:\\users\\sara rostami.d\\.conda\\envs\\base2\\lib\\site-packages (from alembic>=1.5.0->optuna) (4.11.3)\n",
            "Requirement already satisfied: typing-extensions>=4 in c:\\users\\sara rostami.d\\.conda\\envs\\base2\\lib\\site-packages (from alembic>=1.5.0->optuna) (4.3.0)\n",
            "Requirement already satisfied: Mako in c:\\users\\sara rostami.d\\.conda\\envs\\base2\\lib\\site-packages (from alembic>=1.5.0->optuna) (1.2.3)\n",
            "Requirement already satisfied: pyparsing!=3.0.5,>=2.0.2 in c:\\users\\sara rostami.d\\.conda\\envs\\base2\\lib\\site-packages (from packaging>=20.0->optuna) (3.0.9)\n",
            "Requirement already satisfied: colorama in c:\\users\\sara rostami.d\\appdata\\roaming\\python\\python37\\site-packages (from colorlog->optuna) (0.4.4)\n",
            "Requirement already satisfied: zipp>=0.5 in c:\\users\\sara rostami.d\\.conda\\envs\\base2\\lib\\site-packages (from importlib-metadata->alembic>=1.5.0->optuna) (3.8.0)\n",
            "Requirement already satisfied: MarkupSafe>=0.9.2 in c:\\users\\sara rostami.d\\.conda\\envs\\base2\\lib\\site-packages (from Mako->alembic>=1.5.0->optuna) (2.1.1)\n"
          ]
        }
      ],
      "source": [
        "!pip install pygad\n",
        "!pip install optuna"
      ]
    },
    {
      "cell_type": "code",
      "execution_count": 4,
      "metadata": {
        "id": "ylSF3Lv3PmAP"
      },
      "outputs": [],
      "source": [
        "import numpy as np\n",
        "import networkx as nx\n",
        "import matplotlib.pyplot as plt\n",
        "import pygad\n",
        "import optuna\n",
        "from statistics import median,mean\n",
        "import random\n",
        "from multiprocessing import Pool"
      ]
    },
    {
      "cell_type": "code",
      "execution_count": 5,
      "metadata": {
        "id": "OIhWqchLP1SE"
      },
      "outputs": [],
      "source": [
        "base_graphs=[nx.to_numpy_array(nx.erdos_renyi_graph(random.randint(10,50),random.uniform(0.5, 0.9),directed=False)) for i in range(25)]"
      ]
    },
    {
      "cell_type": "code",
      "execution_count": 6,
      "metadata": {
        "colab": {
          "base_uri": "https://localhost:8080/"
        },
        "id": "Ys3reSlJQ_N6",
        "outputId": "c2c7899c-55a6-4567-93d1-bd167d6b1a8d"
      },
      "outputs": [
        {
          "name": "stderr",
          "output_type": "stream",
          "text": [
            "\u001b[32m[I 2023-04-04 13:22:07,893]\u001b[0m A new study created in memory with name: no-name-ecfdc583-d79c-43a2-bc5c-b48c8f5e41ef\u001b[0m\n",
            "\u001b[32m[I 2023-04-04 13:24:02,292]\u001b[0m Trial 0 finished with values: [33.0, 3.72] and parameters: {'sol_per_pop': 97, 'crossover_probability': 0.8796486874232897, 'mutation_probability': 0.014410223502521639, 'parent_selection_type': 'tournament'}. \u001b[0m\n",
            "\u001b[32m[I 2023-04-04 13:25:39,947]\u001b[0m Trial 1 finished with values: [16.0, -971.8] and parameters: {'sol_per_pop': 84, 'crossover_probability': 0.817563282334348, 'mutation_probability': 0.011879386102601966, 'parent_selection_type': 'rws'}. \u001b[0m\n",
            "\u001b[32m[I 2023-04-04 13:27:36,424]\u001b[0m Trial 2 finished with values: [36.0, -0.28] and parameters: {'sol_per_pop': 67, 'crossover_probability': 0.8285395390896183, 'mutation_probability': 0.03963303908446207, 'parent_selection_type': 'tournament'}. \u001b[0m\n",
            "\u001b[32m[I 2023-04-04 13:28:52,664]\u001b[0m Trial 3 finished with values: [13.0, -886.08] and parameters: {'sol_per_pop': 72, 'crossover_probability': 0.826652352456685, 'mutation_probability': 0.01022588540814072, 'parent_selection_type': 'rws'}. \u001b[0m\n",
            "\u001b[32m[I 2023-04-04 13:30:05,350]\u001b[0m Trial 4 finished with values: [28.0, 3.56] and parameters: {'sol_per_pop': 60, 'crossover_probability': 0.8587994824120686, 'mutation_probability': 0.016029010783878275, 'parent_selection_type': 'tournament'}. \u001b[0m\n",
            "\u001b[32m[I 2023-04-04 13:31:10,239]\u001b[0m Trial 5 finished with values: [32.0, 3.6] and parameters: {'sol_per_pop': 51, 'crossover_probability': 0.8703165494422839, 'mutation_probability': 0.018593872096452958, 'parent_selection_type': 'tournament'}. \u001b[0m\n",
            "\u001b[32m[I 2023-04-04 13:32:25,939]\u001b[0m Trial 6 finished with values: [33.0, 3.36] and parameters: {'sol_per_pop': 68, 'crossover_probability': 0.8507193383041253, 'mutation_probability': 0.014258812959979626, 'parent_selection_type': 'tournament'}. \u001b[0m\n",
            "\u001b[32m[I 2023-04-04 13:34:20,453]\u001b[0m Trial 7 finished with values: [40.0, 3.88] and parameters: {'sol_per_pop': 75, 'crossover_probability': 0.853587203566658, 'mutation_probability': 0.033926211539516776, 'parent_selection_type': 'tournament'}. \u001b[0m\n",
            "\u001b[32m[I 2023-04-04 13:36:06,421]\u001b[0m Trial 8 finished with values: [16.0, -800.8] and parameters: {'sol_per_pop': 94, 'crossover_probability': 0.8797881383158777, 'mutation_probability': 0.014003047168544716, 'parent_selection_type': 'rws'}. \u001b[0m\n",
            "\u001b[32m[I 2023-04-04 13:37:31,250]\u001b[0m Trial 9 finished with values: [39.0, -0.24] and parameters: {'sol_per_pop': 75, 'crossover_probability': 0.8396061639803813, 'mutation_probability': 0.03846864827684449, 'parent_selection_type': 'tournament'}. \u001b[0m\n",
            "\u001b[32m[I 2023-04-04 13:38:31,150]\u001b[0m Trial 10 finished with values: [39.0, 3.88] and parameters: {'sol_per_pop': 63, 'crossover_probability': 0.8721137085387751, 'mutation_probability': 0.026411010909595842, 'parent_selection_type': 'tournament'}. \u001b[0m\n",
            "\u001b[32m[I 2023-04-04 13:39:55,495]\u001b[0m Trial 11 finished with values: [41.0, -1.8] and parameters: {'sol_per_pop': 81, 'crossover_probability': 0.830201511305595, 'mutation_probability': 0.0499555598169726, 'parent_selection_type': 'tournament'}. \u001b[0m\n",
            "\u001b[32m[I 2023-04-04 13:41:09,019]\u001b[0m Trial 12 finished with values: [36.0, 3.84] and parameters: {'sol_per_pop': 77, 'crossover_probability': 0.8417847603965349, 'mutation_probability': 0.0344668500747232, 'parent_selection_type': 'tournament'}. \u001b[0m\n",
            "\u001b[32m[I 2023-04-04 13:41:56,125]\u001b[0m Trial 13 finished with values: [20.0, -927.48] and parameters: {'sol_per_pop': 73, 'crossover_probability': 0.8054573517227402, 'mutation_probability': 0.011841742323824457, 'parent_selection_type': 'rws'}. \u001b[0m\n",
            "\u001b[32m[I 2023-04-04 13:42:55,270]\u001b[0m Trial 14 finished with values: [38.0, -771.92] and parameters: {'sol_per_pop': 56, 'crossover_probability': 0.8890079895033145, 'mutation_probability': 0.03829453880544297, 'parent_selection_type': 'rws'}. \u001b[0m\n",
            "\u001b[32m[I 2023-04-04 13:44:06,282]\u001b[0m Trial 15 finished with values: [21.0, -909.84] and parameters: {'sol_per_pop': 68, 'crossover_probability': 0.863565637547489, 'mutation_probability': 0.036425912178261494, 'parent_selection_type': 'rws'}. \u001b[0m\n",
            "\u001b[32m[I 2023-04-04 13:44:50,621]\u001b[0m Trial 16 finished with values: [22.0, -884.04] and parameters: {'sol_per_pop': 50, 'crossover_probability': 0.872460769376243, 'mutation_probability': 0.01928744709778715, 'parent_selection_type': 'rws'}. \u001b[0m\n",
            "\u001b[32m[I 2023-04-04 13:45:39,382]\u001b[0m Trial 17 finished with values: [39.0, 3.8] and parameters: {'sol_per_pop': 55, 'crossover_probability': 0.8876011851239418, 'mutation_probability': 0.03161853026505975, 'parent_selection_type': 'tournament'}. \u001b[0m\n",
            "\u001b[32m[I 2023-04-04 13:47:29,469]\u001b[0m Trial 18 finished with values: [19.0, -817.52] and parameters: {'sol_per_pop': 91, 'crossover_probability': 0.8809920509942675, 'mutation_probability': 0.0457023049161819, 'parent_selection_type': 'rws'}. \u001b[0m\n",
            "\u001b[32m[I 2023-04-04 13:48:35,184]\u001b[0m Trial 19 finished with values: [18.0, -852.4] and parameters: {'sol_per_pop': 63, 'crossover_probability': 0.8509281087565234, 'mutation_probability': 0.03538232578029931, 'parent_selection_type': 'rws'}. \u001b[0m\n",
            "\u001b[32m[I 2023-04-04 13:49:55,223]\u001b[0m Trial 20 finished with values: [19.0, -725.44] and parameters: {'sol_per_pop': 74, 'crossover_probability': 0.8495330295431809, 'mutation_probability': 0.044585230102474005, 'parent_selection_type': 'rws'}. \u001b[0m\n",
            "\u001b[32m[I 2023-04-04 13:50:40,839]\u001b[0m Trial 21 finished with values: [32.0, 3.68] and parameters: {'sol_per_pop': 81, 'crossover_probability': 0.8127907312172487, 'mutation_probability': 0.01278317698060075, 'parent_selection_type': 'tournament'}. \u001b[0m\n",
            "\u001b[32m[I 2023-04-04 13:51:54,216]\u001b[0m Trial 22 finished with values: [29.0, -792.84] and parameters: {'sol_per_pop': 74, 'crossover_probability': 0.8315831060224533, 'mutation_probability': 0.03813487245198071, 'parent_selection_type': 'rws'}. \u001b[0m\n",
            "\u001b[32m[I 2023-04-04 13:52:52,901]\u001b[0m Trial 23 finished with values: [25.0, -824.64] and parameters: {'sol_per_pop': 54, 'crossover_probability': 0.8771006510432795, 'mutation_probability': 0.04638360203547152, 'parent_selection_type': 'rws'}. \u001b[0m\n",
            "\u001b[32m[I 2023-04-04 13:54:12,482]\u001b[0m Trial 24 finished with values: [41.0, 1.8] and parameters: {'sol_per_pop': 78, 'crossover_probability': 0.8711792870385474, 'mutation_probability': 0.04909190791427534, 'parent_selection_type': 'tournament'}. \u001b[0m\n",
            "\u001b[32m[I 2023-04-04 13:55:01,819]\u001b[0m Trial 25 finished with values: [26.0, -751.48] and parameters: {'sol_per_pop': 51, 'crossover_probability': 0.8546796968261561, 'mutation_probability': 0.033380124966362744, 'parent_selection_type': 'rws'}. \u001b[0m\n",
            "\u001b[32m[I 2023-04-04 13:56:04,659]\u001b[0m Trial 26 finished with values: [34.0, 3.6] and parameters: {'sol_per_pop': 90, 'crossover_probability': 0.8086943706416068, 'mutation_probability': 0.01893875201088992, 'parent_selection_type': 'tournament'}. \u001b[0m\n",
            "\u001b[32m[I 2023-04-04 13:57:43,681]\u001b[0m Trial 27 finished with values: [18.0, -801.68] and parameters: {'sol_per_pop': 99, 'crossover_probability': 0.8138914106687108, 'mutation_probability': 0.0346396031541048, 'parent_selection_type': 'rws'}. \u001b[0m\n",
            "\u001b[32m[I 2023-04-04 13:58:49,453]\u001b[0m Trial 28 finished with values: [17.0, -866.64] and parameters: {'sol_per_pop': 99, 'crossover_probability': 0.8595809800735599, 'mutation_probability': 0.01312396105731211, 'parent_selection_type': 'rws'}. \u001b[0m\n",
            "\u001b[32m[I 2023-04-04 14:00:05,102]\u001b[0m Trial 29 finished with values: [38.0, 3.8] and parameters: {'sol_per_pop': 84, 'crossover_probability': 0.8482113389706267, 'mutation_probability': 0.030910605746735723, 'parent_selection_type': 'tournament'}. \u001b[0m\n"
          ]
        },
        {
          "name": "stdout",
          "output_type": "stream",
          "text": [
            "Number of finished trials:  30\n"
          ]
        }
      ],
      "source": [
        "def obj(trial):\n",
        "    params = {\n",
        "        \"sol_per_pop\": trial.suggest_int(\"sol_per_pop\", 50, 100),\n",
        "        \"num_parents_mating\":2,\n",
        "        \"crossover_probability\":trial.suggest_float(\"crossover_probability\",0.8,0.9,log=False),\n",
        "        \"mutation_probability\":trial.suggest_float(\"mutation_probability\",0.01,0.05,log=False),\n",
        "        \"gene_space\":[0,1],\n",
        "        \"parent_selection_type\":trial.suggest_categorical(\"parent_selection_type\", [\"rws\",\"tournament\"]),\n",
        "        \"num_generations\":100\n",
        "    }\n",
        "    num_iters=[]\n",
        "    fit_vals=[]\n",
        "\n",
        "    for graph in base_graphs:\n",
        "       params[\"num_genes\"]=len(graph[0])\n",
        "       params[\"fitness_func\"]= lambda solution, solution_idx: sum([solution[i]-len(solution)*solution[i]*sum([solution[j]*graph[i][j] for j in range(i,len(solution))]) for i in range(len(solution))])\n",
        "       ga_instance = pygad.GA(**params)\n",
        "       ga_instance.run()\n",
        "       solution, solution_fitness, solution_idx = ga_instance.best_solution()\n",
        "       num_iters.append(ga_instance.best_solution_generation)\n",
        "       fit_vals.append(solution_fitness)\n",
        "\n",
        "    niter=mean(num_iters)\n",
        "    fval=mean(fit_vals)\n",
        "    return niter,fval\n",
        "study = optuna.create_study(directions=[\"minimize\", \"maximize\"])\n",
        "study.optimize(obj, n_trials=30)#, timeout=300\n",
        "\n",
        "print(\"Number of finished trials: \", len(study.trials))"
      ]
    },
    {
      "cell_type": "code",
      "execution_count": 7,
      "metadata": {},
      "outputs": [
        {
          "data": {
            "application/vnd.plotly.v1+json": {
              "config": {
                "plotlyServerURL": "https://plot.ly"
              },
              "data": [
                {
                  "hovertemplate": "%{text}<extra>Trial</extra>",
                  "marker": {
                    "color": [
                      1,
                      2,
                      5,
                      6,
                      7,
                      9,
                      11,
                      13,
                      14,
                      15,
                      16,
                      17,
                      18,
                      19,
                      22,
                      23,
                      24,
                      25,
                      26,
                      27,
                      28,
                      29
                    ],
                    "colorbar": {
                      "title": {
                        "text": "Trial"
                      }
                    },
                    "colorscale": [
                      [
                        0,
                        "rgb(247,251,255)"
                      ],
                      [
                        0.125,
                        "rgb(222,235,247)"
                      ],
                      [
                        0.25,
                        "rgb(198,219,239)"
                      ],
                      [
                        0.375,
                        "rgb(158,202,225)"
                      ],
                      [
                        0.5,
                        "rgb(107,174,214)"
                      ],
                      [
                        0.625,
                        "rgb(66,146,198)"
                      ],
                      [
                        0.75,
                        "rgb(33,113,181)"
                      ],
                      [
                        0.875,
                        "rgb(8,81,156)"
                      ],
                      [
                        1,
                        "rgb(8,48,107)"
                      ]
                    ],
                    "line": {
                      "color": "Grey",
                      "width": 0.5
                    }
                  },
                  "mode": "markers",
                  "showlegend": false,
                  "text": [
                    "{<br>  \"number\": 1,<br>  \"values\": [<br>    16.0,<br>    -971.8<br>  ],<br>  \"params\": {<br>    \"sol_per_pop\": 84,<br>    \"crossover_probability\": 0.817563282334348,<br>    \"mutation_probability\": 0.011879386102601966,<br>    \"parent_selection_type\": \"rws\"<br>  }<br>}",
                    "{<br>  \"number\": 2,<br>  \"values\": [<br>    36.0,<br>    -0.28<br>  ],<br>  \"params\": {<br>    \"sol_per_pop\": 67,<br>    \"crossover_probability\": 0.8285395390896183,<br>    \"mutation_probability\": 0.03963303908446207,<br>    \"parent_selection_type\": \"tournament\"<br>  }<br>}",
                    "{<br>  \"number\": 5,<br>  \"values\": [<br>    32.0,<br>    3.6<br>  ],<br>  \"params\": {<br>    \"sol_per_pop\": 51,<br>    \"crossover_probability\": 0.8703165494422839,<br>    \"mutation_probability\": 0.018593872096452958,<br>    \"parent_selection_type\": \"tournament\"<br>  }<br>}",
                    "{<br>  \"number\": 6,<br>  \"values\": [<br>    33.0,<br>    3.36<br>  ],<br>  \"params\": {<br>    \"sol_per_pop\": 68,<br>    \"crossover_probability\": 0.8507193383041253,<br>    \"mutation_probability\": 0.014258812959979626,<br>    \"parent_selection_type\": \"tournament\"<br>  }<br>}",
                    "{<br>  \"number\": 7,<br>  \"values\": [<br>    40.0,<br>    3.88<br>  ],<br>  \"params\": {<br>    \"sol_per_pop\": 75,<br>    \"crossover_probability\": 0.853587203566658,<br>    \"mutation_probability\": 0.033926211539516776,<br>    \"parent_selection_type\": \"tournament\"<br>  }<br>}",
                    "{<br>  \"number\": 9,<br>  \"values\": [<br>    39.0,<br>    -0.24<br>  ],<br>  \"params\": {<br>    \"sol_per_pop\": 75,<br>    \"crossover_probability\": 0.8396061639803813,<br>    \"mutation_probability\": 0.03846864827684449,<br>    \"parent_selection_type\": \"tournament\"<br>  }<br>}",
                    "{<br>  \"number\": 11,<br>  \"values\": [<br>    41.0,<br>    -1.8<br>  ],<br>  \"params\": {<br>    \"sol_per_pop\": 81,<br>    \"crossover_probability\": 0.830201511305595,<br>    \"mutation_probability\": 0.0499555598169726,<br>    \"parent_selection_type\": \"tournament\"<br>  }<br>}",
                    "{<br>  \"number\": 13,<br>  \"values\": [<br>    20.0,<br>    -927.48<br>  ],<br>  \"params\": {<br>    \"sol_per_pop\": 73,<br>    \"crossover_probability\": 0.8054573517227402,<br>    \"mutation_probability\": 0.011841742323824457,<br>    \"parent_selection_type\": \"rws\"<br>  }<br>}",
                    "{<br>  \"number\": 14,<br>  \"values\": [<br>    38.0,<br>    -771.92<br>  ],<br>  \"params\": {<br>    \"sol_per_pop\": 56,<br>    \"crossover_probability\": 0.8890079895033145,<br>    \"mutation_probability\": 0.03829453880544297,<br>    \"parent_selection_type\": \"rws\"<br>  }<br>}",
                    "{<br>  \"number\": 15,<br>  \"values\": [<br>    21.0,<br>    -909.84<br>  ],<br>  \"params\": {<br>    \"sol_per_pop\": 68,<br>    \"crossover_probability\": 0.863565637547489,<br>    \"mutation_probability\": 0.036425912178261494,<br>    \"parent_selection_type\": \"rws\"<br>  }<br>}",
                    "{<br>  \"number\": 16,<br>  \"values\": [<br>    22.0,<br>    -884.04<br>  ],<br>  \"params\": {<br>    \"sol_per_pop\": 50,<br>    \"crossover_probability\": 0.872460769376243,<br>    \"mutation_probability\": 0.01928744709778715,<br>    \"parent_selection_type\": \"rws\"<br>  }<br>}",
                    "{<br>  \"number\": 17,<br>  \"values\": [<br>    39.0,<br>    3.8<br>  ],<br>  \"params\": {<br>    \"sol_per_pop\": 55,<br>    \"crossover_probability\": 0.8876011851239418,<br>    \"mutation_probability\": 0.03161853026505975,<br>    \"parent_selection_type\": \"tournament\"<br>  }<br>}",
                    "{<br>  \"number\": 18,<br>  \"values\": [<br>    19.0,<br>    -817.52<br>  ],<br>  \"params\": {<br>    \"sol_per_pop\": 91,<br>    \"crossover_probability\": 0.8809920509942675,<br>    \"mutation_probability\": 0.0457023049161819,<br>    \"parent_selection_type\": \"rws\"<br>  }<br>}",
                    "{<br>  \"number\": 19,<br>  \"values\": [<br>    18.0,<br>    -852.4<br>  ],<br>  \"params\": {<br>    \"sol_per_pop\": 63,<br>    \"crossover_probability\": 0.8509281087565234,<br>    \"mutation_probability\": 0.03538232578029931,<br>    \"parent_selection_type\": \"rws\"<br>  }<br>}",
                    "{<br>  \"number\": 22,<br>  \"values\": [<br>    29.0,<br>    -792.84<br>  ],<br>  \"params\": {<br>    \"sol_per_pop\": 74,<br>    \"crossover_probability\": 0.8315831060224533,<br>    \"mutation_probability\": 0.03813487245198071,<br>    \"parent_selection_type\": \"rws\"<br>  }<br>}",
                    "{<br>  \"number\": 23,<br>  \"values\": [<br>    25.0,<br>    -824.64<br>  ],<br>  \"params\": {<br>    \"sol_per_pop\": 54,<br>    \"crossover_probability\": 0.8771006510432795,<br>    \"mutation_probability\": 0.04638360203547152,<br>    \"parent_selection_type\": \"rws\"<br>  }<br>}",
                    "{<br>  \"number\": 24,<br>  \"values\": [<br>    41.0,<br>    1.8<br>  ],<br>  \"params\": {<br>    \"sol_per_pop\": 78,<br>    \"crossover_probability\": 0.8711792870385474,<br>    \"mutation_probability\": 0.04909190791427534,<br>    \"parent_selection_type\": \"tournament\"<br>  }<br>}",
                    "{<br>  \"number\": 25,<br>  \"values\": [<br>    26.0,<br>    -751.48<br>  ],<br>  \"params\": {<br>    \"sol_per_pop\": 51,<br>    \"crossover_probability\": 0.8546796968261561,<br>    \"mutation_probability\": 0.033380124966362744,<br>    \"parent_selection_type\": \"rws\"<br>  }<br>}",
                    "{<br>  \"number\": 26,<br>  \"values\": [<br>    34.0,<br>    3.6<br>  ],<br>  \"params\": {<br>    \"sol_per_pop\": 90,<br>    \"crossover_probability\": 0.8086943706416068,<br>    \"mutation_probability\": 0.01893875201088992,<br>    \"parent_selection_type\": \"tournament\"<br>  }<br>}",
                    "{<br>  \"number\": 27,<br>  \"values\": [<br>    18.0,<br>    -801.68<br>  ],<br>  \"params\": {<br>    \"sol_per_pop\": 99,<br>    \"crossover_probability\": 0.8138914106687108,<br>    \"mutation_probability\": 0.0346396031541048,<br>    \"parent_selection_type\": \"rws\"<br>  }<br>}",
                    "{<br>  \"number\": 28,<br>  \"values\": [<br>    17.0,<br>    -866.64<br>  ],<br>  \"params\": {<br>    \"sol_per_pop\": 99,<br>    \"crossover_probability\": 0.8595809800735599,<br>    \"mutation_probability\": 0.01312396105731211,<br>    \"parent_selection_type\": \"rws\"<br>  }<br>}",
                    "{<br>  \"number\": 29,<br>  \"values\": [<br>    38.0,<br>    3.8<br>  ],<br>  \"params\": {<br>    \"sol_per_pop\": 84,<br>    \"crossover_probability\": 0.8482113389706267,<br>    \"mutation_probability\": 0.030910605746735723,<br>    \"parent_selection_type\": \"tournament\"<br>  }<br>}"
                  ],
                  "type": "scatter",
                  "x": [
                    16,
                    36,
                    32,
                    33,
                    40,
                    39,
                    41,
                    20,
                    38,
                    21,
                    22,
                    39,
                    19,
                    18,
                    29,
                    25,
                    41,
                    26,
                    34,
                    18,
                    17,
                    38
                  ],
                  "y": [
                    -971.8,
                    -0.28,
                    3.6,
                    3.36,
                    3.88,
                    -0.24,
                    -1.8,
                    -927.48,
                    -771.92,
                    -909.84,
                    -884.04,
                    3.8,
                    -817.52,
                    -852.4,
                    -792.84,
                    -824.64,
                    1.8,
                    -751.48,
                    3.6,
                    -801.68,
                    -866.64,
                    3.8
                  ]
                },
                {
                  "hovertemplate": "%{text}<extra>Best Trial</extra>",
                  "marker": {
                    "color": [
                      0,
                      3,
                      4,
                      8,
                      10,
                      12,
                      20,
                      21
                    ],
                    "colorbar": {
                      "title": {
                        "text": "Best Trial"
                      },
                      "x": 1.1,
                      "xpad": 40
                    },
                    "colorscale": [
                      [
                        0,
                        "rgb(255,245,240)"
                      ],
                      [
                        0.125,
                        "rgb(254,224,210)"
                      ],
                      [
                        0.25,
                        "rgb(252,187,161)"
                      ],
                      [
                        0.375,
                        "rgb(252,146,114)"
                      ],
                      [
                        0.5,
                        "rgb(251,106,74)"
                      ],
                      [
                        0.625,
                        "rgb(239,59,44)"
                      ],
                      [
                        0.75,
                        "rgb(203,24,29)"
                      ],
                      [
                        0.875,
                        "rgb(165,15,21)"
                      ],
                      [
                        1,
                        "rgb(103,0,13)"
                      ]
                    ],
                    "line": {
                      "color": "Grey",
                      "width": 0.5
                    }
                  },
                  "mode": "markers",
                  "showlegend": false,
                  "text": [
                    "{<br>  \"number\": 0,<br>  \"values\": [<br>    33.0,<br>    3.72<br>  ],<br>  \"params\": {<br>    \"sol_per_pop\": 97,<br>    \"crossover_probability\": 0.8796486874232897,<br>    \"mutation_probability\": 0.014410223502521639,<br>    \"parent_selection_type\": \"tournament\"<br>  }<br>}",
                    "{<br>  \"number\": 3,<br>  \"values\": [<br>    13.0,<br>    -886.08<br>  ],<br>  \"params\": {<br>    \"sol_per_pop\": 72,<br>    \"crossover_probability\": 0.826652352456685,<br>    \"mutation_probability\": 0.01022588540814072,<br>    \"parent_selection_type\": \"rws\"<br>  }<br>}",
                    "{<br>  \"number\": 4,<br>  \"values\": [<br>    28.0,<br>    3.56<br>  ],<br>  \"params\": {<br>    \"sol_per_pop\": 60,<br>    \"crossover_probability\": 0.8587994824120686,<br>    \"mutation_probability\": 0.016029010783878275,<br>    \"parent_selection_type\": \"tournament\"<br>  }<br>}",
                    "{<br>  \"number\": 8,<br>  \"values\": [<br>    16.0,<br>    -800.8<br>  ],<br>  \"params\": {<br>    \"sol_per_pop\": 94,<br>    \"crossover_probability\": 0.8797881383158777,<br>    \"mutation_probability\": 0.014003047168544716,<br>    \"parent_selection_type\": \"rws\"<br>  }<br>}",
                    "{<br>  \"number\": 10,<br>  \"values\": [<br>    39.0,<br>    3.88<br>  ],<br>  \"params\": {<br>    \"sol_per_pop\": 63,<br>    \"crossover_probability\": 0.8721137085387751,<br>    \"mutation_probability\": 0.026411010909595842,<br>    \"parent_selection_type\": \"tournament\"<br>  }<br>}",
                    "{<br>  \"number\": 12,<br>  \"values\": [<br>    36.0,<br>    3.84<br>  ],<br>  \"params\": {<br>    \"sol_per_pop\": 77,<br>    \"crossover_probability\": 0.8417847603965349,<br>    \"mutation_probability\": 0.0344668500747232,<br>    \"parent_selection_type\": \"tournament\"<br>  }<br>}",
                    "{<br>  \"number\": 20,<br>  \"values\": [<br>    19.0,<br>    -725.44<br>  ],<br>  \"params\": {<br>    \"sol_per_pop\": 74,<br>    \"crossover_probability\": 0.8495330295431809,<br>    \"mutation_probability\": 0.044585230102474005,<br>    \"parent_selection_type\": \"rws\"<br>  }<br>}",
                    "{<br>  \"number\": 21,<br>  \"values\": [<br>    32.0,<br>    3.68<br>  ],<br>  \"params\": {<br>    \"sol_per_pop\": 81,<br>    \"crossover_probability\": 0.8127907312172487,<br>    \"mutation_probability\": 0.01278317698060075,<br>    \"parent_selection_type\": \"tournament\"<br>  }<br>}"
                  ],
                  "type": "scatter",
                  "x": [
                    33,
                    13,
                    28,
                    16,
                    39,
                    36,
                    19,
                    32
                  ],
                  "y": [
                    3.72,
                    -886.08,
                    3.56,
                    -800.8,
                    3.88,
                    3.84,
                    -725.44,
                    3.68
                  ]
                }
              ],
              "layout": {
                "template": {
                  "data": {
                    "bar": [
                      {
                        "error_x": {
                          "color": "#2a3f5f"
                        },
                        "error_y": {
                          "color": "#2a3f5f"
                        },
                        "marker": {
                          "line": {
                            "color": "#E5ECF6",
                            "width": 0.5
                          },
                          "pattern": {
                            "fillmode": "overlay",
                            "size": 10,
                            "solidity": 0.2
                          }
                        },
                        "type": "bar"
                      }
                    ],
                    "barpolar": [
                      {
                        "marker": {
                          "line": {
                            "color": "#E5ECF6",
                            "width": 0.5
                          },
                          "pattern": {
                            "fillmode": "overlay",
                            "size": 10,
                            "solidity": 0.2
                          }
                        },
                        "type": "barpolar"
                      }
                    ],
                    "carpet": [
                      {
                        "aaxis": {
                          "endlinecolor": "#2a3f5f",
                          "gridcolor": "white",
                          "linecolor": "white",
                          "minorgridcolor": "white",
                          "startlinecolor": "#2a3f5f"
                        },
                        "baxis": {
                          "endlinecolor": "#2a3f5f",
                          "gridcolor": "white",
                          "linecolor": "white",
                          "minorgridcolor": "white",
                          "startlinecolor": "#2a3f5f"
                        },
                        "type": "carpet"
                      }
                    ],
                    "choropleth": [
                      {
                        "colorbar": {
                          "outlinewidth": 0,
                          "ticks": ""
                        },
                        "type": "choropleth"
                      }
                    ],
                    "contour": [
                      {
                        "colorbar": {
                          "outlinewidth": 0,
                          "ticks": ""
                        },
                        "colorscale": [
                          [
                            0,
                            "#0d0887"
                          ],
                          [
                            0.1111111111111111,
                            "#46039f"
                          ],
                          [
                            0.2222222222222222,
                            "#7201a8"
                          ],
                          [
                            0.3333333333333333,
                            "#9c179e"
                          ],
                          [
                            0.4444444444444444,
                            "#bd3786"
                          ],
                          [
                            0.5555555555555556,
                            "#d8576b"
                          ],
                          [
                            0.6666666666666666,
                            "#ed7953"
                          ],
                          [
                            0.7777777777777778,
                            "#fb9f3a"
                          ],
                          [
                            0.8888888888888888,
                            "#fdca26"
                          ],
                          [
                            1,
                            "#f0f921"
                          ]
                        ],
                        "type": "contour"
                      }
                    ],
                    "contourcarpet": [
                      {
                        "colorbar": {
                          "outlinewidth": 0,
                          "ticks": ""
                        },
                        "type": "contourcarpet"
                      }
                    ],
                    "heatmap": [
                      {
                        "colorbar": {
                          "outlinewidth": 0,
                          "ticks": ""
                        },
                        "colorscale": [
                          [
                            0,
                            "#0d0887"
                          ],
                          [
                            0.1111111111111111,
                            "#46039f"
                          ],
                          [
                            0.2222222222222222,
                            "#7201a8"
                          ],
                          [
                            0.3333333333333333,
                            "#9c179e"
                          ],
                          [
                            0.4444444444444444,
                            "#bd3786"
                          ],
                          [
                            0.5555555555555556,
                            "#d8576b"
                          ],
                          [
                            0.6666666666666666,
                            "#ed7953"
                          ],
                          [
                            0.7777777777777778,
                            "#fb9f3a"
                          ],
                          [
                            0.8888888888888888,
                            "#fdca26"
                          ],
                          [
                            1,
                            "#f0f921"
                          ]
                        ],
                        "type": "heatmap"
                      }
                    ],
                    "heatmapgl": [
                      {
                        "colorbar": {
                          "outlinewidth": 0,
                          "ticks": ""
                        },
                        "colorscale": [
                          [
                            0,
                            "#0d0887"
                          ],
                          [
                            0.1111111111111111,
                            "#46039f"
                          ],
                          [
                            0.2222222222222222,
                            "#7201a8"
                          ],
                          [
                            0.3333333333333333,
                            "#9c179e"
                          ],
                          [
                            0.4444444444444444,
                            "#bd3786"
                          ],
                          [
                            0.5555555555555556,
                            "#d8576b"
                          ],
                          [
                            0.6666666666666666,
                            "#ed7953"
                          ],
                          [
                            0.7777777777777778,
                            "#fb9f3a"
                          ],
                          [
                            0.8888888888888888,
                            "#fdca26"
                          ],
                          [
                            1,
                            "#f0f921"
                          ]
                        ],
                        "type": "heatmapgl"
                      }
                    ],
                    "histogram": [
                      {
                        "marker": {
                          "pattern": {
                            "fillmode": "overlay",
                            "size": 10,
                            "solidity": 0.2
                          }
                        },
                        "type": "histogram"
                      }
                    ],
                    "histogram2d": [
                      {
                        "colorbar": {
                          "outlinewidth": 0,
                          "ticks": ""
                        },
                        "colorscale": [
                          [
                            0,
                            "#0d0887"
                          ],
                          [
                            0.1111111111111111,
                            "#46039f"
                          ],
                          [
                            0.2222222222222222,
                            "#7201a8"
                          ],
                          [
                            0.3333333333333333,
                            "#9c179e"
                          ],
                          [
                            0.4444444444444444,
                            "#bd3786"
                          ],
                          [
                            0.5555555555555556,
                            "#d8576b"
                          ],
                          [
                            0.6666666666666666,
                            "#ed7953"
                          ],
                          [
                            0.7777777777777778,
                            "#fb9f3a"
                          ],
                          [
                            0.8888888888888888,
                            "#fdca26"
                          ],
                          [
                            1,
                            "#f0f921"
                          ]
                        ],
                        "type": "histogram2d"
                      }
                    ],
                    "histogram2dcontour": [
                      {
                        "colorbar": {
                          "outlinewidth": 0,
                          "ticks": ""
                        },
                        "colorscale": [
                          [
                            0,
                            "#0d0887"
                          ],
                          [
                            0.1111111111111111,
                            "#46039f"
                          ],
                          [
                            0.2222222222222222,
                            "#7201a8"
                          ],
                          [
                            0.3333333333333333,
                            "#9c179e"
                          ],
                          [
                            0.4444444444444444,
                            "#bd3786"
                          ],
                          [
                            0.5555555555555556,
                            "#d8576b"
                          ],
                          [
                            0.6666666666666666,
                            "#ed7953"
                          ],
                          [
                            0.7777777777777778,
                            "#fb9f3a"
                          ],
                          [
                            0.8888888888888888,
                            "#fdca26"
                          ],
                          [
                            1,
                            "#f0f921"
                          ]
                        ],
                        "type": "histogram2dcontour"
                      }
                    ],
                    "mesh3d": [
                      {
                        "colorbar": {
                          "outlinewidth": 0,
                          "ticks": ""
                        },
                        "type": "mesh3d"
                      }
                    ],
                    "parcoords": [
                      {
                        "line": {
                          "colorbar": {
                            "outlinewidth": 0,
                            "ticks": ""
                          }
                        },
                        "type": "parcoords"
                      }
                    ],
                    "pie": [
                      {
                        "automargin": true,
                        "type": "pie"
                      }
                    ],
                    "scatter": [
                      {
                        "fillpattern": {
                          "fillmode": "overlay",
                          "size": 10,
                          "solidity": 0.2
                        },
                        "type": "scatter"
                      }
                    ],
                    "scatter3d": [
                      {
                        "line": {
                          "colorbar": {
                            "outlinewidth": 0,
                            "ticks": ""
                          }
                        },
                        "marker": {
                          "colorbar": {
                            "outlinewidth": 0,
                            "ticks": ""
                          }
                        },
                        "type": "scatter3d"
                      }
                    ],
                    "scattercarpet": [
                      {
                        "marker": {
                          "colorbar": {
                            "outlinewidth": 0,
                            "ticks": ""
                          }
                        },
                        "type": "scattercarpet"
                      }
                    ],
                    "scattergeo": [
                      {
                        "marker": {
                          "colorbar": {
                            "outlinewidth": 0,
                            "ticks": ""
                          }
                        },
                        "type": "scattergeo"
                      }
                    ],
                    "scattergl": [
                      {
                        "marker": {
                          "colorbar": {
                            "outlinewidth": 0,
                            "ticks": ""
                          }
                        },
                        "type": "scattergl"
                      }
                    ],
                    "scattermapbox": [
                      {
                        "marker": {
                          "colorbar": {
                            "outlinewidth": 0,
                            "ticks": ""
                          }
                        },
                        "type": "scattermapbox"
                      }
                    ],
                    "scatterpolar": [
                      {
                        "marker": {
                          "colorbar": {
                            "outlinewidth": 0,
                            "ticks": ""
                          }
                        },
                        "type": "scatterpolar"
                      }
                    ],
                    "scatterpolargl": [
                      {
                        "marker": {
                          "colorbar": {
                            "outlinewidth": 0,
                            "ticks": ""
                          }
                        },
                        "type": "scatterpolargl"
                      }
                    ],
                    "scatterternary": [
                      {
                        "marker": {
                          "colorbar": {
                            "outlinewidth": 0,
                            "ticks": ""
                          }
                        },
                        "type": "scatterternary"
                      }
                    ],
                    "surface": [
                      {
                        "colorbar": {
                          "outlinewidth": 0,
                          "ticks": ""
                        },
                        "colorscale": [
                          [
                            0,
                            "#0d0887"
                          ],
                          [
                            0.1111111111111111,
                            "#46039f"
                          ],
                          [
                            0.2222222222222222,
                            "#7201a8"
                          ],
                          [
                            0.3333333333333333,
                            "#9c179e"
                          ],
                          [
                            0.4444444444444444,
                            "#bd3786"
                          ],
                          [
                            0.5555555555555556,
                            "#d8576b"
                          ],
                          [
                            0.6666666666666666,
                            "#ed7953"
                          ],
                          [
                            0.7777777777777778,
                            "#fb9f3a"
                          ],
                          [
                            0.8888888888888888,
                            "#fdca26"
                          ],
                          [
                            1,
                            "#f0f921"
                          ]
                        ],
                        "type": "surface"
                      }
                    ],
                    "table": [
                      {
                        "cells": {
                          "fill": {
                            "color": "#EBF0F8"
                          },
                          "line": {
                            "color": "white"
                          }
                        },
                        "header": {
                          "fill": {
                            "color": "#C8D4E3"
                          },
                          "line": {
                            "color": "white"
                          }
                        },
                        "type": "table"
                      }
                    ]
                  },
                  "layout": {
                    "annotationdefaults": {
                      "arrowcolor": "#2a3f5f",
                      "arrowhead": 0,
                      "arrowwidth": 1
                    },
                    "autotypenumbers": "strict",
                    "coloraxis": {
                      "colorbar": {
                        "outlinewidth": 0,
                        "ticks": ""
                      }
                    },
                    "colorscale": {
                      "diverging": [
                        [
                          0,
                          "#8e0152"
                        ],
                        [
                          0.1,
                          "#c51b7d"
                        ],
                        [
                          0.2,
                          "#de77ae"
                        ],
                        [
                          0.3,
                          "#f1b6da"
                        ],
                        [
                          0.4,
                          "#fde0ef"
                        ],
                        [
                          0.5,
                          "#f7f7f7"
                        ],
                        [
                          0.6,
                          "#e6f5d0"
                        ],
                        [
                          0.7,
                          "#b8e186"
                        ],
                        [
                          0.8,
                          "#7fbc41"
                        ],
                        [
                          0.9,
                          "#4d9221"
                        ],
                        [
                          1,
                          "#276419"
                        ]
                      ],
                      "sequential": [
                        [
                          0,
                          "#0d0887"
                        ],
                        [
                          0.1111111111111111,
                          "#46039f"
                        ],
                        [
                          0.2222222222222222,
                          "#7201a8"
                        ],
                        [
                          0.3333333333333333,
                          "#9c179e"
                        ],
                        [
                          0.4444444444444444,
                          "#bd3786"
                        ],
                        [
                          0.5555555555555556,
                          "#d8576b"
                        ],
                        [
                          0.6666666666666666,
                          "#ed7953"
                        ],
                        [
                          0.7777777777777778,
                          "#fb9f3a"
                        ],
                        [
                          0.8888888888888888,
                          "#fdca26"
                        ],
                        [
                          1,
                          "#f0f921"
                        ]
                      ],
                      "sequentialminus": [
                        [
                          0,
                          "#0d0887"
                        ],
                        [
                          0.1111111111111111,
                          "#46039f"
                        ],
                        [
                          0.2222222222222222,
                          "#7201a8"
                        ],
                        [
                          0.3333333333333333,
                          "#9c179e"
                        ],
                        [
                          0.4444444444444444,
                          "#bd3786"
                        ],
                        [
                          0.5555555555555556,
                          "#d8576b"
                        ],
                        [
                          0.6666666666666666,
                          "#ed7953"
                        ],
                        [
                          0.7777777777777778,
                          "#fb9f3a"
                        ],
                        [
                          0.8888888888888888,
                          "#fdca26"
                        ],
                        [
                          1,
                          "#f0f921"
                        ]
                      ]
                    },
                    "colorway": [
                      "#636efa",
                      "#EF553B",
                      "#00cc96",
                      "#ab63fa",
                      "#FFA15A",
                      "#19d3f3",
                      "#FF6692",
                      "#B6E880",
                      "#FF97FF",
                      "#FECB52"
                    ],
                    "font": {
                      "color": "#2a3f5f"
                    },
                    "geo": {
                      "bgcolor": "white",
                      "lakecolor": "white",
                      "landcolor": "#E5ECF6",
                      "showlakes": true,
                      "showland": true,
                      "subunitcolor": "white"
                    },
                    "hoverlabel": {
                      "align": "left"
                    },
                    "hovermode": "closest",
                    "mapbox": {
                      "style": "light"
                    },
                    "paper_bgcolor": "white",
                    "plot_bgcolor": "#E5ECF6",
                    "polar": {
                      "angularaxis": {
                        "gridcolor": "white",
                        "linecolor": "white",
                        "ticks": ""
                      },
                      "bgcolor": "#E5ECF6",
                      "radialaxis": {
                        "gridcolor": "white",
                        "linecolor": "white",
                        "ticks": ""
                      }
                    },
                    "scene": {
                      "xaxis": {
                        "backgroundcolor": "#E5ECF6",
                        "gridcolor": "white",
                        "gridwidth": 2,
                        "linecolor": "white",
                        "showbackground": true,
                        "ticks": "",
                        "zerolinecolor": "white"
                      },
                      "yaxis": {
                        "backgroundcolor": "#E5ECF6",
                        "gridcolor": "white",
                        "gridwidth": 2,
                        "linecolor": "white",
                        "showbackground": true,
                        "ticks": "",
                        "zerolinecolor": "white"
                      },
                      "zaxis": {
                        "backgroundcolor": "#E5ECF6",
                        "gridcolor": "white",
                        "gridwidth": 2,
                        "linecolor": "white",
                        "showbackground": true,
                        "ticks": "",
                        "zerolinecolor": "white"
                      }
                    },
                    "shapedefaults": {
                      "line": {
                        "color": "#2a3f5f"
                      }
                    },
                    "ternary": {
                      "aaxis": {
                        "gridcolor": "white",
                        "linecolor": "white",
                        "ticks": ""
                      },
                      "baxis": {
                        "gridcolor": "white",
                        "linecolor": "white",
                        "ticks": ""
                      },
                      "bgcolor": "#E5ECF6",
                      "caxis": {
                        "gridcolor": "white",
                        "linecolor": "white",
                        "ticks": ""
                      }
                    },
                    "title": {
                      "x": 0.05
                    },
                    "xaxis": {
                      "automargin": true,
                      "gridcolor": "white",
                      "linecolor": "white",
                      "ticks": "",
                      "title": {
                        "standoff": 15
                      },
                      "zerolinecolor": "white",
                      "zerolinewidth": 2
                    },
                    "yaxis": {
                      "automargin": true,
                      "gridcolor": "white",
                      "linecolor": "white",
                      "ticks": "",
                      "title": {
                        "standoff": 15
                      },
                      "zerolinecolor": "white",
                      "zerolinewidth": 2
                    }
                  }
                },
                "title": {
                  "text": "Pareto-front Plot"
                },
                "xaxis": {
                  "title": {
                    "text": "niter"
                  }
                },
                "yaxis": {
                  "title": {
                    "text": "fval"
                  }
                }
              }
            }
          },
          "metadata": {},
          "output_type": "display_data"
        }
      ],
      "source": [
        "\n",
        "optuna.visualization.plot_pareto_front(study,target_names=[\"niter\",\"fval\"])"
      ]
    },
    {
      "cell_type": "code",
      "execution_count": 8,
      "metadata": {},
      "outputs": [
        {
          "data": {
            "application/vnd.plotly.v1+json": {
              "config": {
                "plotlyServerURL": "https://plot.ly"
              },
              "data": [
                {
                  "cliponaxis": false,
                  "hovertemplate": [
                    "sol_per_pop (IntDistribution): 0.0262472352195065<extra></extra>",
                    "mutation_probability (FloatDistribution): 0.09868884057341605<extra></extra>",
                    "crossover_probability (FloatDistribution): 0.115078242454353<extra></extra>",
                    "parent_selection_type (CategoricalDistribution): 0.7599856817527245<extra></extra>"
                  ],
                  "marker": {
                    "color": "rgb(66,146,198)"
                  },
                  "orientation": "h",
                  "text": [
                    "0.03",
                    "0.10",
                    "0.12",
                    "0.76"
                  ],
                  "textposition": "outside",
                  "type": "bar",
                  "x": [
                    0.0262472352195065,
                    0.09868884057341605,
                    0.115078242454353,
                    0.7599856817527245
                  ],
                  "y": [
                    "sol_per_pop",
                    "mutation_probability",
                    "crossover_probability",
                    "parent_selection_type"
                  ]
                }
              ],
              "layout": {
                "showlegend": false,
                "template": {
                  "data": {
                    "bar": [
                      {
                        "error_x": {
                          "color": "#2a3f5f"
                        },
                        "error_y": {
                          "color": "#2a3f5f"
                        },
                        "marker": {
                          "line": {
                            "color": "#E5ECF6",
                            "width": 0.5
                          },
                          "pattern": {
                            "fillmode": "overlay",
                            "size": 10,
                            "solidity": 0.2
                          }
                        },
                        "type": "bar"
                      }
                    ],
                    "barpolar": [
                      {
                        "marker": {
                          "line": {
                            "color": "#E5ECF6",
                            "width": 0.5
                          },
                          "pattern": {
                            "fillmode": "overlay",
                            "size": 10,
                            "solidity": 0.2
                          }
                        },
                        "type": "barpolar"
                      }
                    ],
                    "carpet": [
                      {
                        "aaxis": {
                          "endlinecolor": "#2a3f5f",
                          "gridcolor": "white",
                          "linecolor": "white",
                          "minorgridcolor": "white",
                          "startlinecolor": "#2a3f5f"
                        },
                        "baxis": {
                          "endlinecolor": "#2a3f5f",
                          "gridcolor": "white",
                          "linecolor": "white",
                          "minorgridcolor": "white",
                          "startlinecolor": "#2a3f5f"
                        },
                        "type": "carpet"
                      }
                    ],
                    "choropleth": [
                      {
                        "colorbar": {
                          "outlinewidth": 0,
                          "ticks": ""
                        },
                        "type": "choropleth"
                      }
                    ],
                    "contour": [
                      {
                        "colorbar": {
                          "outlinewidth": 0,
                          "ticks": ""
                        },
                        "colorscale": [
                          [
                            0,
                            "#0d0887"
                          ],
                          [
                            0.1111111111111111,
                            "#46039f"
                          ],
                          [
                            0.2222222222222222,
                            "#7201a8"
                          ],
                          [
                            0.3333333333333333,
                            "#9c179e"
                          ],
                          [
                            0.4444444444444444,
                            "#bd3786"
                          ],
                          [
                            0.5555555555555556,
                            "#d8576b"
                          ],
                          [
                            0.6666666666666666,
                            "#ed7953"
                          ],
                          [
                            0.7777777777777778,
                            "#fb9f3a"
                          ],
                          [
                            0.8888888888888888,
                            "#fdca26"
                          ],
                          [
                            1,
                            "#f0f921"
                          ]
                        ],
                        "type": "contour"
                      }
                    ],
                    "contourcarpet": [
                      {
                        "colorbar": {
                          "outlinewidth": 0,
                          "ticks": ""
                        },
                        "type": "contourcarpet"
                      }
                    ],
                    "heatmap": [
                      {
                        "colorbar": {
                          "outlinewidth": 0,
                          "ticks": ""
                        },
                        "colorscale": [
                          [
                            0,
                            "#0d0887"
                          ],
                          [
                            0.1111111111111111,
                            "#46039f"
                          ],
                          [
                            0.2222222222222222,
                            "#7201a8"
                          ],
                          [
                            0.3333333333333333,
                            "#9c179e"
                          ],
                          [
                            0.4444444444444444,
                            "#bd3786"
                          ],
                          [
                            0.5555555555555556,
                            "#d8576b"
                          ],
                          [
                            0.6666666666666666,
                            "#ed7953"
                          ],
                          [
                            0.7777777777777778,
                            "#fb9f3a"
                          ],
                          [
                            0.8888888888888888,
                            "#fdca26"
                          ],
                          [
                            1,
                            "#f0f921"
                          ]
                        ],
                        "type": "heatmap"
                      }
                    ],
                    "heatmapgl": [
                      {
                        "colorbar": {
                          "outlinewidth": 0,
                          "ticks": ""
                        },
                        "colorscale": [
                          [
                            0,
                            "#0d0887"
                          ],
                          [
                            0.1111111111111111,
                            "#46039f"
                          ],
                          [
                            0.2222222222222222,
                            "#7201a8"
                          ],
                          [
                            0.3333333333333333,
                            "#9c179e"
                          ],
                          [
                            0.4444444444444444,
                            "#bd3786"
                          ],
                          [
                            0.5555555555555556,
                            "#d8576b"
                          ],
                          [
                            0.6666666666666666,
                            "#ed7953"
                          ],
                          [
                            0.7777777777777778,
                            "#fb9f3a"
                          ],
                          [
                            0.8888888888888888,
                            "#fdca26"
                          ],
                          [
                            1,
                            "#f0f921"
                          ]
                        ],
                        "type": "heatmapgl"
                      }
                    ],
                    "histogram": [
                      {
                        "marker": {
                          "pattern": {
                            "fillmode": "overlay",
                            "size": 10,
                            "solidity": 0.2
                          }
                        },
                        "type": "histogram"
                      }
                    ],
                    "histogram2d": [
                      {
                        "colorbar": {
                          "outlinewidth": 0,
                          "ticks": ""
                        },
                        "colorscale": [
                          [
                            0,
                            "#0d0887"
                          ],
                          [
                            0.1111111111111111,
                            "#46039f"
                          ],
                          [
                            0.2222222222222222,
                            "#7201a8"
                          ],
                          [
                            0.3333333333333333,
                            "#9c179e"
                          ],
                          [
                            0.4444444444444444,
                            "#bd3786"
                          ],
                          [
                            0.5555555555555556,
                            "#d8576b"
                          ],
                          [
                            0.6666666666666666,
                            "#ed7953"
                          ],
                          [
                            0.7777777777777778,
                            "#fb9f3a"
                          ],
                          [
                            0.8888888888888888,
                            "#fdca26"
                          ],
                          [
                            1,
                            "#f0f921"
                          ]
                        ],
                        "type": "histogram2d"
                      }
                    ],
                    "histogram2dcontour": [
                      {
                        "colorbar": {
                          "outlinewidth": 0,
                          "ticks": ""
                        },
                        "colorscale": [
                          [
                            0,
                            "#0d0887"
                          ],
                          [
                            0.1111111111111111,
                            "#46039f"
                          ],
                          [
                            0.2222222222222222,
                            "#7201a8"
                          ],
                          [
                            0.3333333333333333,
                            "#9c179e"
                          ],
                          [
                            0.4444444444444444,
                            "#bd3786"
                          ],
                          [
                            0.5555555555555556,
                            "#d8576b"
                          ],
                          [
                            0.6666666666666666,
                            "#ed7953"
                          ],
                          [
                            0.7777777777777778,
                            "#fb9f3a"
                          ],
                          [
                            0.8888888888888888,
                            "#fdca26"
                          ],
                          [
                            1,
                            "#f0f921"
                          ]
                        ],
                        "type": "histogram2dcontour"
                      }
                    ],
                    "mesh3d": [
                      {
                        "colorbar": {
                          "outlinewidth": 0,
                          "ticks": ""
                        },
                        "type": "mesh3d"
                      }
                    ],
                    "parcoords": [
                      {
                        "line": {
                          "colorbar": {
                            "outlinewidth": 0,
                            "ticks": ""
                          }
                        },
                        "type": "parcoords"
                      }
                    ],
                    "pie": [
                      {
                        "automargin": true,
                        "type": "pie"
                      }
                    ],
                    "scatter": [
                      {
                        "fillpattern": {
                          "fillmode": "overlay",
                          "size": 10,
                          "solidity": 0.2
                        },
                        "type": "scatter"
                      }
                    ],
                    "scatter3d": [
                      {
                        "line": {
                          "colorbar": {
                            "outlinewidth": 0,
                            "ticks": ""
                          }
                        },
                        "marker": {
                          "colorbar": {
                            "outlinewidth": 0,
                            "ticks": ""
                          }
                        },
                        "type": "scatter3d"
                      }
                    ],
                    "scattercarpet": [
                      {
                        "marker": {
                          "colorbar": {
                            "outlinewidth": 0,
                            "ticks": ""
                          }
                        },
                        "type": "scattercarpet"
                      }
                    ],
                    "scattergeo": [
                      {
                        "marker": {
                          "colorbar": {
                            "outlinewidth": 0,
                            "ticks": ""
                          }
                        },
                        "type": "scattergeo"
                      }
                    ],
                    "scattergl": [
                      {
                        "marker": {
                          "colorbar": {
                            "outlinewidth": 0,
                            "ticks": ""
                          }
                        },
                        "type": "scattergl"
                      }
                    ],
                    "scattermapbox": [
                      {
                        "marker": {
                          "colorbar": {
                            "outlinewidth": 0,
                            "ticks": ""
                          }
                        },
                        "type": "scattermapbox"
                      }
                    ],
                    "scatterpolar": [
                      {
                        "marker": {
                          "colorbar": {
                            "outlinewidth": 0,
                            "ticks": ""
                          }
                        },
                        "type": "scatterpolar"
                      }
                    ],
                    "scatterpolargl": [
                      {
                        "marker": {
                          "colorbar": {
                            "outlinewidth": 0,
                            "ticks": ""
                          }
                        },
                        "type": "scatterpolargl"
                      }
                    ],
                    "scatterternary": [
                      {
                        "marker": {
                          "colorbar": {
                            "outlinewidth": 0,
                            "ticks": ""
                          }
                        },
                        "type": "scatterternary"
                      }
                    ],
                    "surface": [
                      {
                        "colorbar": {
                          "outlinewidth": 0,
                          "ticks": ""
                        },
                        "colorscale": [
                          [
                            0,
                            "#0d0887"
                          ],
                          [
                            0.1111111111111111,
                            "#46039f"
                          ],
                          [
                            0.2222222222222222,
                            "#7201a8"
                          ],
                          [
                            0.3333333333333333,
                            "#9c179e"
                          ],
                          [
                            0.4444444444444444,
                            "#bd3786"
                          ],
                          [
                            0.5555555555555556,
                            "#d8576b"
                          ],
                          [
                            0.6666666666666666,
                            "#ed7953"
                          ],
                          [
                            0.7777777777777778,
                            "#fb9f3a"
                          ],
                          [
                            0.8888888888888888,
                            "#fdca26"
                          ],
                          [
                            1,
                            "#f0f921"
                          ]
                        ],
                        "type": "surface"
                      }
                    ],
                    "table": [
                      {
                        "cells": {
                          "fill": {
                            "color": "#EBF0F8"
                          },
                          "line": {
                            "color": "white"
                          }
                        },
                        "header": {
                          "fill": {
                            "color": "#C8D4E3"
                          },
                          "line": {
                            "color": "white"
                          }
                        },
                        "type": "table"
                      }
                    ]
                  },
                  "layout": {
                    "annotationdefaults": {
                      "arrowcolor": "#2a3f5f",
                      "arrowhead": 0,
                      "arrowwidth": 1
                    },
                    "autotypenumbers": "strict",
                    "coloraxis": {
                      "colorbar": {
                        "outlinewidth": 0,
                        "ticks": ""
                      }
                    },
                    "colorscale": {
                      "diverging": [
                        [
                          0,
                          "#8e0152"
                        ],
                        [
                          0.1,
                          "#c51b7d"
                        ],
                        [
                          0.2,
                          "#de77ae"
                        ],
                        [
                          0.3,
                          "#f1b6da"
                        ],
                        [
                          0.4,
                          "#fde0ef"
                        ],
                        [
                          0.5,
                          "#f7f7f7"
                        ],
                        [
                          0.6,
                          "#e6f5d0"
                        ],
                        [
                          0.7,
                          "#b8e186"
                        ],
                        [
                          0.8,
                          "#7fbc41"
                        ],
                        [
                          0.9,
                          "#4d9221"
                        ],
                        [
                          1,
                          "#276419"
                        ]
                      ],
                      "sequential": [
                        [
                          0,
                          "#0d0887"
                        ],
                        [
                          0.1111111111111111,
                          "#46039f"
                        ],
                        [
                          0.2222222222222222,
                          "#7201a8"
                        ],
                        [
                          0.3333333333333333,
                          "#9c179e"
                        ],
                        [
                          0.4444444444444444,
                          "#bd3786"
                        ],
                        [
                          0.5555555555555556,
                          "#d8576b"
                        ],
                        [
                          0.6666666666666666,
                          "#ed7953"
                        ],
                        [
                          0.7777777777777778,
                          "#fb9f3a"
                        ],
                        [
                          0.8888888888888888,
                          "#fdca26"
                        ],
                        [
                          1,
                          "#f0f921"
                        ]
                      ],
                      "sequentialminus": [
                        [
                          0,
                          "#0d0887"
                        ],
                        [
                          0.1111111111111111,
                          "#46039f"
                        ],
                        [
                          0.2222222222222222,
                          "#7201a8"
                        ],
                        [
                          0.3333333333333333,
                          "#9c179e"
                        ],
                        [
                          0.4444444444444444,
                          "#bd3786"
                        ],
                        [
                          0.5555555555555556,
                          "#d8576b"
                        ],
                        [
                          0.6666666666666666,
                          "#ed7953"
                        ],
                        [
                          0.7777777777777778,
                          "#fb9f3a"
                        ],
                        [
                          0.8888888888888888,
                          "#fdca26"
                        ],
                        [
                          1,
                          "#f0f921"
                        ]
                      ]
                    },
                    "colorway": [
                      "#636efa",
                      "#EF553B",
                      "#00cc96",
                      "#ab63fa",
                      "#FFA15A",
                      "#19d3f3",
                      "#FF6692",
                      "#B6E880",
                      "#FF97FF",
                      "#FECB52"
                    ],
                    "font": {
                      "color": "#2a3f5f"
                    },
                    "geo": {
                      "bgcolor": "white",
                      "lakecolor": "white",
                      "landcolor": "#E5ECF6",
                      "showlakes": true,
                      "showland": true,
                      "subunitcolor": "white"
                    },
                    "hoverlabel": {
                      "align": "left"
                    },
                    "hovermode": "closest",
                    "mapbox": {
                      "style": "light"
                    },
                    "paper_bgcolor": "white",
                    "plot_bgcolor": "#E5ECF6",
                    "polar": {
                      "angularaxis": {
                        "gridcolor": "white",
                        "linecolor": "white",
                        "ticks": ""
                      },
                      "bgcolor": "#E5ECF6",
                      "radialaxis": {
                        "gridcolor": "white",
                        "linecolor": "white",
                        "ticks": ""
                      }
                    },
                    "scene": {
                      "xaxis": {
                        "backgroundcolor": "#E5ECF6",
                        "gridcolor": "white",
                        "gridwidth": 2,
                        "linecolor": "white",
                        "showbackground": true,
                        "ticks": "",
                        "zerolinecolor": "white"
                      },
                      "yaxis": {
                        "backgroundcolor": "#E5ECF6",
                        "gridcolor": "white",
                        "gridwidth": 2,
                        "linecolor": "white",
                        "showbackground": true,
                        "ticks": "",
                        "zerolinecolor": "white"
                      },
                      "zaxis": {
                        "backgroundcolor": "#E5ECF6",
                        "gridcolor": "white",
                        "gridwidth": 2,
                        "linecolor": "white",
                        "showbackground": true,
                        "ticks": "",
                        "zerolinecolor": "white"
                      }
                    },
                    "shapedefaults": {
                      "line": {
                        "color": "#2a3f5f"
                      }
                    },
                    "ternary": {
                      "aaxis": {
                        "gridcolor": "white",
                        "linecolor": "white",
                        "ticks": ""
                      },
                      "baxis": {
                        "gridcolor": "white",
                        "linecolor": "white",
                        "ticks": ""
                      },
                      "bgcolor": "#E5ECF6",
                      "caxis": {
                        "gridcolor": "white",
                        "linecolor": "white",
                        "ticks": ""
                      }
                    },
                    "title": {
                      "x": 0.05
                    },
                    "xaxis": {
                      "automargin": true,
                      "gridcolor": "white",
                      "linecolor": "white",
                      "ticks": "",
                      "title": {
                        "standoff": 15
                      },
                      "zerolinecolor": "white",
                      "zerolinewidth": 2
                    },
                    "yaxis": {
                      "automargin": true,
                      "gridcolor": "white",
                      "linecolor": "white",
                      "ticks": "",
                      "title": {
                        "standoff": 15
                      },
                      "zerolinecolor": "white",
                      "zerolinewidth": 2
                    }
                  }
                },
                "title": {
                  "text": "Hyperparameter Importances"
                },
                "xaxis": {
                  "title": {
                    "text": "Importance for niter"
                  }
                },
                "yaxis": {
                  "title": {
                    "text": "Hyperparameter"
                  }
                }
              }
            }
          },
          "metadata": {},
          "output_type": "display_data"
        }
      ],
      "source": [
        "optuna.visualization.plot_param_importances(study, target=lambda t: t.values[0], target_name=\"niter\")"
      ]
    },
    {
      "cell_type": "code",
      "execution_count": 9,
      "metadata": {},
      "outputs": [
        {
          "data": {
            "application/vnd.plotly.v1+json": {
              "config": {
                "plotlyServerURL": "https://plot.ly"
              },
              "data": [
                {
                  "cliponaxis": false,
                  "hovertemplate": [
                    "sol_per_pop (IntDistribution): 0.0005702014125443114<extra></extra>",
                    "crossover_probability (FloatDistribution): 0.0010497859602577194<extra></extra>",
                    "mutation_probability (FloatDistribution): 0.0025871396568955657<extra></extra>",
                    "parent_selection_type (CategoricalDistribution): 0.9957928729703024<extra></extra>"
                  ],
                  "marker": {
                    "color": "rgb(66,146,198)"
                  },
                  "orientation": "h",
                  "text": [
                    "<0.01",
                    "<0.01",
                    "<0.01",
                    "1.00"
                  ],
                  "textposition": "outside",
                  "type": "bar",
                  "x": [
                    0.0005702014125443114,
                    0.0010497859602577194,
                    0.0025871396568955657,
                    0.9957928729703024
                  ],
                  "y": [
                    "sol_per_pop",
                    "crossover_probability",
                    "mutation_probability",
                    "parent_selection_type"
                  ]
                }
              ],
              "layout": {
                "showlegend": false,
                "template": {
                  "data": {
                    "bar": [
                      {
                        "error_x": {
                          "color": "#2a3f5f"
                        },
                        "error_y": {
                          "color": "#2a3f5f"
                        },
                        "marker": {
                          "line": {
                            "color": "#E5ECF6",
                            "width": 0.5
                          },
                          "pattern": {
                            "fillmode": "overlay",
                            "size": 10,
                            "solidity": 0.2
                          }
                        },
                        "type": "bar"
                      }
                    ],
                    "barpolar": [
                      {
                        "marker": {
                          "line": {
                            "color": "#E5ECF6",
                            "width": 0.5
                          },
                          "pattern": {
                            "fillmode": "overlay",
                            "size": 10,
                            "solidity": 0.2
                          }
                        },
                        "type": "barpolar"
                      }
                    ],
                    "carpet": [
                      {
                        "aaxis": {
                          "endlinecolor": "#2a3f5f",
                          "gridcolor": "white",
                          "linecolor": "white",
                          "minorgridcolor": "white",
                          "startlinecolor": "#2a3f5f"
                        },
                        "baxis": {
                          "endlinecolor": "#2a3f5f",
                          "gridcolor": "white",
                          "linecolor": "white",
                          "minorgridcolor": "white",
                          "startlinecolor": "#2a3f5f"
                        },
                        "type": "carpet"
                      }
                    ],
                    "choropleth": [
                      {
                        "colorbar": {
                          "outlinewidth": 0,
                          "ticks": ""
                        },
                        "type": "choropleth"
                      }
                    ],
                    "contour": [
                      {
                        "colorbar": {
                          "outlinewidth": 0,
                          "ticks": ""
                        },
                        "colorscale": [
                          [
                            0,
                            "#0d0887"
                          ],
                          [
                            0.1111111111111111,
                            "#46039f"
                          ],
                          [
                            0.2222222222222222,
                            "#7201a8"
                          ],
                          [
                            0.3333333333333333,
                            "#9c179e"
                          ],
                          [
                            0.4444444444444444,
                            "#bd3786"
                          ],
                          [
                            0.5555555555555556,
                            "#d8576b"
                          ],
                          [
                            0.6666666666666666,
                            "#ed7953"
                          ],
                          [
                            0.7777777777777778,
                            "#fb9f3a"
                          ],
                          [
                            0.8888888888888888,
                            "#fdca26"
                          ],
                          [
                            1,
                            "#f0f921"
                          ]
                        ],
                        "type": "contour"
                      }
                    ],
                    "contourcarpet": [
                      {
                        "colorbar": {
                          "outlinewidth": 0,
                          "ticks": ""
                        },
                        "type": "contourcarpet"
                      }
                    ],
                    "heatmap": [
                      {
                        "colorbar": {
                          "outlinewidth": 0,
                          "ticks": ""
                        },
                        "colorscale": [
                          [
                            0,
                            "#0d0887"
                          ],
                          [
                            0.1111111111111111,
                            "#46039f"
                          ],
                          [
                            0.2222222222222222,
                            "#7201a8"
                          ],
                          [
                            0.3333333333333333,
                            "#9c179e"
                          ],
                          [
                            0.4444444444444444,
                            "#bd3786"
                          ],
                          [
                            0.5555555555555556,
                            "#d8576b"
                          ],
                          [
                            0.6666666666666666,
                            "#ed7953"
                          ],
                          [
                            0.7777777777777778,
                            "#fb9f3a"
                          ],
                          [
                            0.8888888888888888,
                            "#fdca26"
                          ],
                          [
                            1,
                            "#f0f921"
                          ]
                        ],
                        "type": "heatmap"
                      }
                    ],
                    "heatmapgl": [
                      {
                        "colorbar": {
                          "outlinewidth": 0,
                          "ticks": ""
                        },
                        "colorscale": [
                          [
                            0,
                            "#0d0887"
                          ],
                          [
                            0.1111111111111111,
                            "#46039f"
                          ],
                          [
                            0.2222222222222222,
                            "#7201a8"
                          ],
                          [
                            0.3333333333333333,
                            "#9c179e"
                          ],
                          [
                            0.4444444444444444,
                            "#bd3786"
                          ],
                          [
                            0.5555555555555556,
                            "#d8576b"
                          ],
                          [
                            0.6666666666666666,
                            "#ed7953"
                          ],
                          [
                            0.7777777777777778,
                            "#fb9f3a"
                          ],
                          [
                            0.8888888888888888,
                            "#fdca26"
                          ],
                          [
                            1,
                            "#f0f921"
                          ]
                        ],
                        "type": "heatmapgl"
                      }
                    ],
                    "histogram": [
                      {
                        "marker": {
                          "pattern": {
                            "fillmode": "overlay",
                            "size": 10,
                            "solidity": 0.2
                          }
                        },
                        "type": "histogram"
                      }
                    ],
                    "histogram2d": [
                      {
                        "colorbar": {
                          "outlinewidth": 0,
                          "ticks": ""
                        },
                        "colorscale": [
                          [
                            0,
                            "#0d0887"
                          ],
                          [
                            0.1111111111111111,
                            "#46039f"
                          ],
                          [
                            0.2222222222222222,
                            "#7201a8"
                          ],
                          [
                            0.3333333333333333,
                            "#9c179e"
                          ],
                          [
                            0.4444444444444444,
                            "#bd3786"
                          ],
                          [
                            0.5555555555555556,
                            "#d8576b"
                          ],
                          [
                            0.6666666666666666,
                            "#ed7953"
                          ],
                          [
                            0.7777777777777778,
                            "#fb9f3a"
                          ],
                          [
                            0.8888888888888888,
                            "#fdca26"
                          ],
                          [
                            1,
                            "#f0f921"
                          ]
                        ],
                        "type": "histogram2d"
                      }
                    ],
                    "histogram2dcontour": [
                      {
                        "colorbar": {
                          "outlinewidth": 0,
                          "ticks": ""
                        },
                        "colorscale": [
                          [
                            0,
                            "#0d0887"
                          ],
                          [
                            0.1111111111111111,
                            "#46039f"
                          ],
                          [
                            0.2222222222222222,
                            "#7201a8"
                          ],
                          [
                            0.3333333333333333,
                            "#9c179e"
                          ],
                          [
                            0.4444444444444444,
                            "#bd3786"
                          ],
                          [
                            0.5555555555555556,
                            "#d8576b"
                          ],
                          [
                            0.6666666666666666,
                            "#ed7953"
                          ],
                          [
                            0.7777777777777778,
                            "#fb9f3a"
                          ],
                          [
                            0.8888888888888888,
                            "#fdca26"
                          ],
                          [
                            1,
                            "#f0f921"
                          ]
                        ],
                        "type": "histogram2dcontour"
                      }
                    ],
                    "mesh3d": [
                      {
                        "colorbar": {
                          "outlinewidth": 0,
                          "ticks": ""
                        },
                        "type": "mesh3d"
                      }
                    ],
                    "parcoords": [
                      {
                        "line": {
                          "colorbar": {
                            "outlinewidth": 0,
                            "ticks": ""
                          }
                        },
                        "type": "parcoords"
                      }
                    ],
                    "pie": [
                      {
                        "automargin": true,
                        "type": "pie"
                      }
                    ],
                    "scatter": [
                      {
                        "fillpattern": {
                          "fillmode": "overlay",
                          "size": 10,
                          "solidity": 0.2
                        },
                        "type": "scatter"
                      }
                    ],
                    "scatter3d": [
                      {
                        "line": {
                          "colorbar": {
                            "outlinewidth": 0,
                            "ticks": ""
                          }
                        },
                        "marker": {
                          "colorbar": {
                            "outlinewidth": 0,
                            "ticks": ""
                          }
                        },
                        "type": "scatter3d"
                      }
                    ],
                    "scattercarpet": [
                      {
                        "marker": {
                          "colorbar": {
                            "outlinewidth": 0,
                            "ticks": ""
                          }
                        },
                        "type": "scattercarpet"
                      }
                    ],
                    "scattergeo": [
                      {
                        "marker": {
                          "colorbar": {
                            "outlinewidth": 0,
                            "ticks": ""
                          }
                        },
                        "type": "scattergeo"
                      }
                    ],
                    "scattergl": [
                      {
                        "marker": {
                          "colorbar": {
                            "outlinewidth": 0,
                            "ticks": ""
                          }
                        },
                        "type": "scattergl"
                      }
                    ],
                    "scattermapbox": [
                      {
                        "marker": {
                          "colorbar": {
                            "outlinewidth": 0,
                            "ticks": ""
                          }
                        },
                        "type": "scattermapbox"
                      }
                    ],
                    "scatterpolar": [
                      {
                        "marker": {
                          "colorbar": {
                            "outlinewidth": 0,
                            "ticks": ""
                          }
                        },
                        "type": "scatterpolar"
                      }
                    ],
                    "scatterpolargl": [
                      {
                        "marker": {
                          "colorbar": {
                            "outlinewidth": 0,
                            "ticks": ""
                          }
                        },
                        "type": "scatterpolargl"
                      }
                    ],
                    "scatterternary": [
                      {
                        "marker": {
                          "colorbar": {
                            "outlinewidth": 0,
                            "ticks": ""
                          }
                        },
                        "type": "scatterternary"
                      }
                    ],
                    "surface": [
                      {
                        "colorbar": {
                          "outlinewidth": 0,
                          "ticks": ""
                        },
                        "colorscale": [
                          [
                            0,
                            "#0d0887"
                          ],
                          [
                            0.1111111111111111,
                            "#46039f"
                          ],
                          [
                            0.2222222222222222,
                            "#7201a8"
                          ],
                          [
                            0.3333333333333333,
                            "#9c179e"
                          ],
                          [
                            0.4444444444444444,
                            "#bd3786"
                          ],
                          [
                            0.5555555555555556,
                            "#d8576b"
                          ],
                          [
                            0.6666666666666666,
                            "#ed7953"
                          ],
                          [
                            0.7777777777777778,
                            "#fb9f3a"
                          ],
                          [
                            0.8888888888888888,
                            "#fdca26"
                          ],
                          [
                            1,
                            "#f0f921"
                          ]
                        ],
                        "type": "surface"
                      }
                    ],
                    "table": [
                      {
                        "cells": {
                          "fill": {
                            "color": "#EBF0F8"
                          },
                          "line": {
                            "color": "white"
                          }
                        },
                        "header": {
                          "fill": {
                            "color": "#C8D4E3"
                          },
                          "line": {
                            "color": "white"
                          }
                        },
                        "type": "table"
                      }
                    ]
                  },
                  "layout": {
                    "annotationdefaults": {
                      "arrowcolor": "#2a3f5f",
                      "arrowhead": 0,
                      "arrowwidth": 1
                    },
                    "autotypenumbers": "strict",
                    "coloraxis": {
                      "colorbar": {
                        "outlinewidth": 0,
                        "ticks": ""
                      }
                    },
                    "colorscale": {
                      "diverging": [
                        [
                          0,
                          "#8e0152"
                        ],
                        [
                          0.1,
                          "#c51b7d"
                        ],
                        [
                          0.2,
                          "#de77ae"
                        ],
                        [
                          0.3,
                          "#f1b6da"
                        ],
                        [
                          0.4,
                          "#fde0ef"
                        ],
                        [
                          0.5,
                          "#f7f7f7"
                        ],
                        [
                          0.6,
                          "#e6f5d0"
                        ],
                        [
                          0.7,
                          "#b8e186"
                        ],
                        [
                          0.8,
                          "#7fbc41"
                        ],
                        [
                          0.9,
                          "#4d9221"
                        ],
                        [
                          1,
                          "#276419"
                        ]
                      ],
                      "sequential": [
                        [
                          0,
                          "#0d0887"
                        ],
                        [
                          0.1111111111111111,
                          "#46039f"
                        ],
                        [
                          0.2222222222222222,
                          "#7201a8"
                        ],
                        [
                          0.3333333333333333,
                          "#9c179e"
                        ],
                        [
                          0.4444444444444444,
                          "#bd3786"
                        ],
                        [
                          0.5555555555555556,
                          "#d8576b"
                        ],
                        [
                          0.6666666666666666,
                          "#ed7953"
                        ],
                        [
                          0.7777777777777778,
                          "#fb9f3a"
                        ],
                        [
                          0.8888888888888888,
                          "#fdca26"
                        ],
                        [
                          1,
                          "#f0f921"
                        ]
                      ],
                      "sequentialminus": [
                        [
                          0,
                          "#0d0887"
                        ],
                        [
                          0.1111111111111111,
                          "#46039f"
                        ],
                        [
                          0.2222222222222222,
                          "#7201a8"
                        ],
                        [
                          0.3333333333333333,
                          "#9c179e"
                        ],
                        [
                          0.4444444444444444,
                          "#bd3786"
                        ],
                        [
                          0.5555555555555556,
                          "#d8576b"
                        ],
                        [
                          0.6666666666666666,
                          "#ed7953"
                        ],
                        [
                          0.7777777777777778,
                          "#fb9f3a"
                        ],
                        [
                          0.8888888888888888,
                          "#fdca26"
                        ],
                        [
                          1,
                          "#f0f921"
                        ]
                      ]
                    },
                    "colorway": [
                      "#636efa",
                      "#EF553B",
                      "#00cc96",
                      "#ab63fa",
                      "#FFA15A",
                      "#19d3f3",
                      "#FF6692",
                      "#B6E880",
                      "#FF97FF",
                      "#FECB52"
                    ],
                    "font": {
                      "color": "#2a3f5f"
                    },
                    "geo": {
                      "bgcolor": "white",
                      "lakecolor": "white",
                      "landcolor": "#E5ECF6",
                      "showlakes": true,
                      "showland": true,
                      "subunitcolor": "white"
                    },
                    "hoverlabel": {
                      "align": "left"
                    },
                    "hovermode": "closest",
                    "mapbox": {
                      "style": "light"
                    },
                    "paper_bgcolor": "white",
                    "plot_bgcolor": "#E5ECF6",
                    "polar": {
                      "angularaxis": {
                        "gridcolor": "white",
                        "linecolor": "white",
                        "ticks": ""
                      },
                      "bgcolor": "#E5ECF6",
                      "radialaxis": {
                        "gridcolor": "white",
                        "linecolor": "white",
                        "ticks": ""
                      }
                    },
                    "scene": {
                      "xaxis": {
                        "backgroundcolor": "#E5ECF6",
                        "gridcolor": "white",
                        "gridwidth": 2,
                        "linecolor": "white",
                        "showbackground": true,
                        "ticks": "",
                        "zerolinecolor": "white"
                      },
                      "yaxis": {
                        "backgroundcolor": "#E5ECF6",
                        "gridcolor": "white",
                        "gridwidth": 2,
                        "linecolor": "white",
                        "showbackground": true,
                        "ticks": "",
                        "zerolinecolor": "white"
                      },
                      "zaxis": {
                        "backgroundcolor": "#E5ECF6",
                        "gridcolor": "white",
                        "gridwidth": 2,
                        "linecolor": "white",
                        "showbackground": true,
                        "ticks": "",
                        "zerolinecolor": "white"
                      }
                    },
                    "shapedefaults": {
                      "line": {
                        "color": "#2a3f5f"
                      }
                    },
                    "ternary": {
                      "aaxis": {
                        "gridcolor": "white",
                        "linecolor": "white",
                        "ticks": ""
                      },
                      "baxis": {
                        "gridcolor": "white",
                        "linecolor": "white",
                        "ticks": ""
                      },
                      "bgcolor": "#E5ECF6",
                      "caxis": {
                        "gridcolor": "white",
                        "linecolor": "white",
                        "ticks": ""
                      }
                    },
                    "title": {
                      "x": 0.05
                    },
                    "xaxis": {
                      "automargin": true,
                      "gridcolor": "white",
                      "linecolor": "white",
                      "ticks": "",
                      "title": {
                        "standoff": 15
                      },
                      "zerolinecolor": "white",
                      "zerolinewidth": 2
                    },
                    "yaxis": {
                      "automargin": true,
                      "gridcolor": "white",
                      "linecolor": "white",
                      "ticks": "",
                      "title": {
                        "standoff": 15
                      },
                      "zerolinecolor": "white",
                      "zerolinewidth": 2
                    }
                  }
                },
                "title": {
                  "text": "Hyperparameter Importances"
                },
                "xaxis": {
                  "title": {
                    "text": "Importance for fval"
                  }
                },
                "yaxis": {
                  "title": {
                    "text": "Hyperparameter"
                  }
                }
              }
            }
          },
          "metadata": {},
          "output_type": "display_data"
        }
      ],
      "source": [
        "optuna.visualization.plot_param_importances(study, target=lambda t: t.values[1], target_name=\"fval\")"
      ]
    },
    {
      "cell_type": "code",
      "execution_count": 10,
      "metadata": {},
      "outputs": [
        {
          "data": {
            "application/vnd.plotly.v1+json": {
              "config": {
                "plotlyServerURL": "https://plot.ly"
              },
              "data": [
                {
                  "dimensions": [
                    {
                      "label": "fval",
                      "range": [
                        -971.8,
                        3.88
                      ],
                      "values": [
                        3.72,
                        -971.8,
                        -0.28,
                        -886.08,
                        3.56,
                        3.6,
                        3.36,
                        3.88,
                        -800.8,
                        -0.24,
                        3.88,
                        -1.8,
                        3.84,
                        -927.48,
                        -771.92,
                        -909.84,
                        -884.04,
                        3.8,
                        -817.52,
                        -852.4,
                        -725.44,
                        3.68,
                        -792.84,
                        -824.64,
                        1.8,
                        -751.48,
                        3.6,
                        -801.68,
                        -866.64,
                        3.8
                      ]
                    },
                    {
                      "label": "crossover_probabi...",
                      "range": [
                        0.8054573517227402,
                        0.8890079895033145
                      ],
                      "values": [
                        0.8796486874232897,
                        0.817563282334348,
                        0.8285395390896183,
                        0.826652352456685,
                        0.8587994824120686,
                        0.8703165494422839,
                        0.8507193383041253,
                        0.853587203566658,
                        0.8797881383158777,
                        0.8396061639803813,
                        0.8721137085387751,
                        0.830201511305595,
                        0.8417847603965349,
                        0.8054573517227402,
                        0.8890079895033145,
                        0.863565637547489,
                        0.872460769376243,
                        0.8876011851239418,
                        0.8809920509942675,
                        0.8509281087565234,
                        0.8495330295431809,
                        0.8127907312172487,
                        0.8315831060224533,
                        0.8771006510432795,
                        0.8711792870385474,
                        0.8546796968261561,
                        0.8086943706416068,
                        0.8138914106687108,
                        0.8595809800735599,
                        0.8482113389706267
                      ]
                    },
                    {
                      "label": "mutation_probabil...",
                      "range": [
                        0.01022588540814072,
                        0.0499555598169726
                      ],
                      "values": [
                        0.014410223502521639,
                        0.011879386102601966,
                        0.03963303908446207,
                        0.01022588540814072,
                        0.016029010783878275,
                        0.018593872096452958,
                        0.014258812959979626,
                        0.033926211539516776,
                        0.014003047168544716,
                        0.03846864827684449,
                        0.026411010909595842,
                        0.0499555598169726,
                        0.0344668500747232,
                        0.011841742323824457,
                        0.03829453880544297,
                        0.036425912178261494,
                        0.01928744709778715,
                        0.03161853026505975,
                        0.0457023049161819,
                        0.03538232578029931,
                        0.044585230102474005,
                        0.01278317698060075,
                        0.03813487245198071,
                        0.04638360203547152,
                        0.04909190791427534,
                        0.033380124966362744,
                        0.01893875201088992,
                        0.0346396031541048,
                        0.01312396105731211,
                        0.030910605746735723
                      ]
                    },
                    {
                      "label": "parent_selection_...",
                      "range": [
                        0,
                        1
                      ],
                      "ticktext": [
                        "tournament",
                        "rws"
                      ],
                      "tickvals": [
                        0,
                        1
                      ],
                      "values": [
                        0,
                        1,
                        0,
                        1,
                        0,
                        0,
                        0,
                        0,
                        1,
                        0,
                        0,
                        0,
                        0,
                        1,
                        1,
                        1,
                        1,
                        0,
                        1,
                        1,
                        1,
                        0,
                        1,
                        1,
                        0,
                        1,
                        0,
                        1,
                        1,
                        0
                      ]
                    },
                    {
                      "label": "sol_per_pop",
                      "range": [
                        50,
                        99
                      ],
                      "values": [
                        97,
                        84,
                        67,
                        72,
                        60,
                        51,
                        68,
                        75,
                        94,
                        75,
                        63,
                        81,
                        77,
                        73,
                        56,
                        68,
                        50,
                        55,
                        91,
                        63,
                        74,
                        81,
                        74,
                        54,
                        78,
                        51,
                        90,
                        99,
                        99,
                        84
                      ]
                    }
                  ],
                  "labelangle": 30,
                  "labelside": "bottom",
                  "line": {
                    "color": [
                      3.72,
                      -971.8,
                      -0.28,
                      -886.08,
                      3.56,
                      3.6,
                      3.36,
                      3.88,
                      -800.8,
                      -0.24,
                      3.88,
                      -1.8,
                      3.84,
                      -927.48,
                      -771.92,
                      -909.84,
                      -884.04,
                      3.8,
                      -817.52,
                      -852.4,
                      -725.44,
                      3.68,
                      -792.84,
                      -824.64,
                      1.8,
                      -751.48,
                      3.6,
                      -801.68,
                      -866.64,
                      3.8
                    ],
                    "colorbar": {
                      "title": {
                        "text": "fval"
                      }
                    },
                    "colorscale": [
                      [
                        0,
                        "rgb(247,251,255)"
                      ],
                      [
                        0.125,
                        "rgb(222,235,247)"
                      ],
                      [
                        0.25,
                        "rgb(198,219,239)"
                      ],
                      [
                        0.375,
                        "rgb(158,202,225)"
                      ],
                      [
                        0.5,
                        "rgb(107,174,214)"
                      ],
                      [
                        0.625,
                        "rgb(66,146,198)"
                      ],
                      [
                        0.75,
                        "rgb(33,113,181)"
                      ],
                      [
                        0.875,
                        "rgb(8,81,156)"
                      ],
                      [
                        1,
                        "rgb(8,48,107)"
                      ]
                    ],
                    "reversescale": true,
                    "showscale": true
                  },
                  "type": "parcoords"
                }
              ],
              "layout": {
                "template": {
                  "data": {
                    "bar": [
                      {
                        "error_x": {
                          "color": "#2a3f5f"
                        },
                        "error_y": {
                          "color": "#2a3f5f"
                        },
                        "marker": {
                          "line": {
                            "color": "#E5ECF6",
                            "width": 0.5
                          },
                          "pattern": {
                            "fillmode": "overlay",
                            "size": 10,
                            "solidity": 0.2
                          }
                        },
                        "type": "bar"
                      }
                    ],
                    "barpolar": [
                      {
                        "marker": {
                          "line": {
                            "color": "#E5ECF6",
                            "width": 0.5
                          },
                          "pattern": {
                            "fillmode": "overlay",
                            "size": 10,
                            "solidity": 0.2
                          }
                        },
                        "type": "barpolar"
                      }
                    ],
                    "carpet": [
                      {
                        "aaxis": {
                          "endlinecolor": "#2a3f5f",
                          "gridcolor": "white",
                          "linecolor": "white",
                          "minorgridcolor": "white",
                          "startlinecolor": "#2a3f5f"
                        },
                        "baxis": {
                          "endlinecolor": "#2a3f5f",
                          "gridcolor": "white",
                          "linecolor": "white",
                          "minorgridcolor": "white",
                          "startlinecolor": "#2a3f5f"
                        },
                        "type": "carpet"
                      }
                    ],
                    "choropleth": [
                      {
                        "colorbar": {
                          "outlinewidth": 0,
                          "ticks": ""
                        },
                        "type": "choropleth"
                      }
                    ],
                    "contour": [
                      {
                        "colorbar": {
                          "outlinewidth": 0,
                          "ticks": ""
                        },
                        "colorscale": [
                          [
                            0,
                            "#0d0887"
                          ],
                          [
                            0.1111111111111111,
                            "#46039f"
                          ],
                          [
                            0.2222222222222222,
                            "#7201a8"
                          ],
                          [
                            0.3333333333333333,
                            "#9c179e"
                          ],
                          [
                            0.4444444444444444,
                            "#bd3786"
                          ],
                          [
                            0.5555555555555556,
                            "#d8576b"
                          ],
                          [
                            0.6666666666666666,
                            "#ed7953"
                          ],
                          [
                            0.7777777777777778,
                            "#fb9f3a"
                          ],
                          [
                            0.8888888888888888,
                            "#fdca26"
                          ],
                          [
                            1,
                            "#f0f921"
                          ]
                        ],
                        "type": "contour"
                      }
                    ],
                    "contourcarpet": [
                      {
                        "colorbar": {
                          "outlinewidth": 0,
                          "ticks": ""
                        },
                        "type": "contourcarpet"
                      }
                    ],
                    "heatmap": [
                      {
                        "colorbar": {
                          "outlinewidth": 0,
                          "ticks": ""
                        },
                        "colorscale": [
                          [
                            0,
                            "#0d0887"
                          ],
                          [
                            0.1111111111111111,
                            "#46039f"
                          ],
                          [
                            0.2222222222222222,
                            "#7201a8"
                          ],
                          [
                            0.3333333333333333,
                            "#9c179e"
                          ],
                          [
                            0.4444444444444444,
                            "#bd3786"
                          ],
                          [
                            0.5555555555555556,
                            "#d8576b"
                          ],
                          [
                            0.6666666666666666,
                            "#ed7953"
                          ],
                          [
                            0.7777777777777778,
                            "#fb9f3a"
                          ],
                          [
                            0.8888888888888888,
                            "#fdca26"
                          ],
                          [
                            1,
                            "#f0f921"
                          ]
                        ],
                        "type": "heatmap"
                      }
                    ],
                    "heatmapgl": [
                      {
                        "colorbar": {
                          "outlinewidth": 0,
                          "ticks": ""
                        },
                        "colorscale": [
                          [
                            0,
                            "#0d0887"
                          ],
                          [
                            0.1111111111111111,
                            "#46039f"
                          ],
                          [
                            0.2222222222222222,
                            "#7201a8"
                          ],
                          [
                            0.3333333333333333,
                            "#9c179e"
                          ],
                          [
                            0.4444444444444444,
                            "#bd3786"
                          ],
                          [
                            0.5555555555555556,
                            "#d8576b"
                          ],
                          [
                            0.6666666666666666,
                            "#ed7953"
                          ],
                          [
                            0.7777777777777778,
                            "#fb9f3a"
                          ],
                          [
                            0.8888888888888888,
                            "#fdca26"
                          ],
                          [
                            1,
                            "#f0f921"
                          ]
                        ],
                        "type": "heatmapgl"
                      }
                    ],
                    "histogram": [
                      {
                        "marker": {
                          "pattern": {
                            "fillmode": "overlay",
                            "size": 10,
                            "solidity": 0.2
                          }
                        },
                        "type": "histogram"
                      }
                    ],
                    "histogram2d": [
                      {
                        "colorbar": {
                          "outlinewidth": 0,
                          "ticks": ""
                        },
                        "colorscale": [
                          [
                            0,
                            "#0d0887"
                          ],
                          [
                            0.1111111111111111,
                            "#46039f"
                          ],
                          [
                            0.2222222222222222,
                            "#7201a8"
                          ],
                          [
                            0.3333333333333333,
                            "#9c179e"
                          ],
                          [
                            0.4444444444444444,
                            "#bd3786"
                          ],
                          [
                            0.5555555555555556,
                            "#d8576b"
                          ],
                          [
                            0.6666666666666666,
                            "#ed7953"
                          ],
                          [
                            0.7777777777777778,
                            "#fb9f3a"
                          ],
                          [
                            0.8888888888888888,
                            "#fdca26"
                          ],
                          [
                            1,
                            "#f0f921"
                          ]
                        ],
                        "type": "histogram2d"
                      }
                    ],
                    "histogram2dcontour": [
                      {
                        "colorbar": {
                          "outlinewidth": 0,
                          "ticks": ""
                        },
                        "colorscale": [
                          [
                            0,
                            "#0d0887"
                          ],
                          [
                            0.1111111111111111,
                            "#46039f"
                          ],
                          [
                            0.2222222222222222,
                            "#7201a8"
                          ],
                          [
                            0.3333333333333333,
                            "#9c179e"
                          ],
                          [
                            0.4444444444444444,
                            "#bd3786"
                          ],
                          [
                            0.5555555555555556,
                            "#d8576b"
                          ],
                          [
                            0.6666666666666666,
                            "#ed7953"
                          ],
                          [
                            0.7777777777777778,
                            "#fb9f3a"
                          ],
                          [
                            0.8888888888888888,
                            "#fdca26"
                          ],
                          [
                            1,
                            "#f0f921"
                          ]
                        ],
                        "type": "histogram2dcontour"
                      }
                    ],
                    "mesh3d": [
                      {
                        "colorbar": {
                          "outlinewidth": 0,
                          "ticks": ""
                        },
                        "type": "mesh3d"
                      }
                    ],
                    "parcoords": [
                      {
                        "line": {
                          "colorbar": {
                            "outlinewidth": 0,
                            "ticks": ""
                          }
                        },
                        "type": "parcoords"
                      }
                    ],
                    "pie": [
                      {
                        "automargin": true,
                        "type": "pie"
                      }
                    ],
                    "scatter": [
                      {
                        "fillpattern": {
                          "fillmode": "overlay",
                          "size": 10,
                          "solidity": 0.2
                        },
                        "type": "scatter"
                      }
                    ],
                    "scatter3d": [
                      {
                        "line": {
                          "colorbar": {
                            "outlinewidth": 0,
                            "ticks": ""
                          }
                        },
                        "marker": {
                          "colorbar": {
                            "outlinewidth": 0,
                            "ticks": ""
                          }
                        },
                        "type": "scatter3d"
                      }
                    ],
                    "scattercarpet": [
                      {
                        "marker": {
                          "colorbar": {
                            "outlinewidth": 0,
                            "ticks": ""
                          }
                        },
                        "type": "scattercarpet"
                      }
                    ],
                    "scattergeo": [
                      {
                        "marker": {
                          "colorbar": {
                            "outlinewidth": 0,
                            "ticks": ""
                          }
                        },
                        "type": "scattergeo"
                      }
                    ],
                    "scattergl": [
                      {
                        "marker": {
                          "colorbar": {
                            "outlinewidth": 0,
                            "ticks": ""
                          }
                        },
                        "type": "scattergl"
                      }
                    ],
                    "scattermapbox": [
                      {
                        "marker": {
                          "colorbar": {
                            "outlinewidth": 0,
                            "ticks": ""
                          }
                        },
                        "type": "scattermapbox"
                      }
                    ],
                    "scatterpolar": [
                      {
                        "marker": {
                          "colorbar": {
                            "outlinewidth": 0,
                            "ticks": ""
                          }
                        },
                        "type": "scatterpolar"
                      }
                    ],
                    "scatterpolargl": [
                      {
                        "marker": {
                          "colorbar": {
                            "outlinewidth": 0,
                            "ticks": ""
                          }
                        },
                        "type": "scatterpolargl"
                      }
                    ],
                    "scatterternary": [
                      {
                        "marker": {
                          "colorbar": {
                            "outlinewidth": 0,
                            "ticks": ""
                          }
                        },
                        "type": "scatterternary"
                      }
                    ],
                    "surface": [
                      {
                        "colorbar": {
                          "outlinewidth": 0,
                          "ticks": ""
                        },
                        "colorscale": [
                          [
                            0,
                            "#0d0887"
                          ],
                          [
                            0.1111111111111111,
                            "#46039f"
                          ],
                          [
                            0.2222222222222222,
                            "#7201a8"
                          ],
                          [
                            0.3333333333333333,
                            "#9c179e"
                          ],
                          [
                            0.4444444444444444,
                            "#bd3786"
                          ],
                          [
                            0.5555555555555556,
                            "#d8576b"
                          ],
                          [
                            0.6666666666666666,
                            "#ed7953"
                          ],
                          [
                            0.7777777777777778,
                            "#fb9f3a"
                          ],
                          [
                            0.8888888888888888,
                            "#fdca26"
                          ],
                          [
                            1,
                            "#f0f921"
                          ]
                        ],
                        "type": "surface"
                      }
                    ],
                    "table": [
                      {
                        "cells": {
                          "fill": {
                            "color": "#EBF0F8"
                          },
                          "line": {
                            "color": "white"
                          }
                        },
                        "header": {
                          "fill": {
                            "color": "#C8D4E3"
                          },
                          "line": {
                            "color": "white"
                          }
                        },
                        "type": "table"
                      }
                    ]
                  },
                  "layout": {
                    "annotationdefaults": {
                      "arrowcolor": "#2a3f5f",
                      "arrowhead": 0,
                      "arrowwidth": 1
                    },
                    "autotypenumbers": "strict",
                    "coloraxis": {
                      "colorbar": {
                        "outlinewidth": 0,
                        "ticks": ""
                      }
                    },
                    "colorscale": {
                      "diverging": [
                        [
                          0,
                          "#8e0152"
                        ],
                        [
                          0.1,
                          "#c51b7d"
                        ],
                        [
                          0.2,
                          "#de77ae"
                        ],
                        [
                          0.3,
                          "#f1b6da"
                        ],
                        [
                          0.4,
                          "#fde0ef"
                        ],
                        [
                          0.5,
                          "#f7f7f7"
                        ],
                        [
                          0.6,
                          "#e6f5d0"
                        ],
                        [
                          0.7,
                          "#b8e186"
                        ],
                        [
                          0.8,
                          "#7fbc41"
                        ],
                        [
                          0.9,
                          "#4d9221"
                        ],
                        [
                          1,
                          "#276419"
                        ]
                      ],
                      "sequential": [
                        [
                          0,
                          "#0d0887"
                        ],
                        [
                          0.1111111111111111,
                          "#46039f"
                        ],
                        [
                          0.2222222222222222,
                          "#7201a8"
                        ],
                        [
                          0.3333333333333333,
                          "#9c179e"
                        ],
                        [
                          0.4444444444444444,
                          "#bd3786"
                        ],
                        [
                          0.5555555555555556,
                          "#d8576b"
                        ],
                        [
                          0.6666666666666666,
                          "#ed7953"
                        ],
                        [
                          0.7777777777777778,
                          "#fb9f3a"
                        ],
                        [
                          0.8888888888888888,
                          "#fdca26"
                        ],
                        [
                          1,
                          "#f0f921"
                        ]
                      ],
                      "sequentialminus": [
                        [
                          0,
                          "#0d0887"
                        ],
                        [
                          0.1111111111111111,
                          "#46039f"
                        ],
                        [
                          0.2222222222222222,
                          "#7201a8"
                        ],
                        [
                          0.3333333333333333,
                          "#9c179e"
                        ],
                        [
                          0.4444444444444444,
                          "#bd3786"
                        ],
                        [
                          0.5555555555555556,
                          "#d8576b"
                        ],
                        [
                          0.6666666666666666,
                          "#ed7953"
                        ],
                        [
                          0.7777777777777778,
                          "#fb9f3a"
                        ],
                        [
                          0.8888888888888888,
                          "#fdca26"
                        ],
                        [
                          1,
                          "#f0f921"
                        ]
                      ]
                    },
                    "colorway": [
                      "#636efa",
                      "#EF553B",
                      "#00cc96",
                      "#ab63fa",
                      "#FFA15A",
                      "#19d3f3",
                      "#FF6692",
                      "#B6E880",
                      "#FF97FF",
                      "#FECB52"
                    ],
                    "font": {
                      "color": "#2a3f5f"
                    },
                    "geo": {
                      "bgcolor": "white",
                      "lakecolor": "white",
                      "landcolor": "#E5ECF6",
                      "showlakes": true,
                      "showland": true,
                      "subunitcolor": "white"
                    },
                    "hoverlabel": {
                      "align": "left"
                    },
                    "hovermode": "closest",
                    "mapbox": {
                      "style": "light"
                    },
                    "paper_bgcolor": "white",
                    "plot_bgcolor": "#E5ECF6",
                    "polar": {
                      "angularaxis": {
                        "gridcolor": "white",
                        "linecolor": "white",
                        "ticks": ""
                      },
                      "bgcolor": "#E5ECF6",
                      "radialaxis": {
                        "gridcolor": "white",
                        "linecolor": "white",
                        "ticks": ""
                      }
                    },
                    "scene": {
                      "xaxis": {
                        "backgroundcolor": "#E5ECF6",
                        "gridcolor": "white",
                        "gridwidth": 2,
                        "linecolor": "white",
                        "showbackground": true,
                        "ticks": "",
                        "zerolinecolor": "white"
                      },
                      "yaxis": {
                        "backgroundcolor": "#E5ECF6",
                        "gridcolor": "white",
                        "gridwidth": 2,
                        "linecolor": "white",
                        "showbackground": true,
                        "ticks": "",
                        "zerolinecolor": "white"
                      },
                      "zaxis": {
                        "backgroundcolor": "#E5ECF6",
                        "gridcolor": "white",
                        "gridwidth": 2,
                        "linecolor": "white",
                        "showbackground": true,
                        "ticks": "",
                        "zerolinecolor": "white"
                      }
                    },
                    "shapedefaults": {
                      "line": {
                        "color": "#2a3f5f"
                      }
                    },
                    "ternary": {
                      "aaxis": {
                        "gridcolor": "white",
                        "linecolor": "white",
                        "ticks": ""
                      },
                      "baxis": {
                        "gridcolor": "white",
                        "linecolor": "white",
                        "ticks": ""
                      },
                      "bgcolor": "#E5ECF6",
                      "caxis": {
                        "gridcolor": "white",
                        "linecolor": "white",
                        "ticks": ""
                      }
                    },
                    "title": {
                      "x": 0.05
                    },
                    "xaxis": {
                      "automargin": true,
                      "gridcolor": "white",
                      "linecolor": "white",
                      "ticks": "",
                      "title": {
                        "standoff": 15
                      },
                      "zerolinecolor": "white",
                      "zerolinewidth": 2
                    },
                    "yaxis": {
                      "automargin": true,
                      "gridcolor": "white",
                      "linecolor": "white",
                      "ticks": "",
                      "title": {
                        "standoff": 15
                      },
                      "zerolinecolor": "white",
                      "zerolinewidth": 2
                    }
                  }
                },
                "title": {
                  "text": "Parallel Coordinate Plot"
                }
              }
            }
          },
          "metadata": {},
          "output_type": "display_data"
        }
      ],
      "source": [
        "optuna.visualization.plot_parallel_coordinate(study,target=lambda t: t.values[1], target_name=\"fval\")"
      ]
    },
    {
      "cell_type": "code",
      "execution_count": null,
      "metadata": {},
      "outputs": [],
      "source": []
    }
  ],
  "metadata": {
    "colab": {
      "provenance": []
    },
    "kernelspec": {
      "display_name": "base2",
      "language": "python",
      "name": "python3"
    },
    "language_info": {
      "codemirror_mode": {
        "name": "ipython",
        "version": 3
      },
      "file_extension": ".py",
      "mimetype": "text/x-python",
      "name": "python",
      "nbconvert_exporter": "python",
      "pygments_lexer": "ipython3",
      "version": "3.7.13"
    },
    "vscode": {
      "interpreter": {
        "hash": "f1c4ca07f86e89c98f806f783c405af901475b86ed3718ee2bdc4cf9f8c51fd8"
      }
    }
  },
  "nbformat": 4,
  "nbformat_minor": 0
}
