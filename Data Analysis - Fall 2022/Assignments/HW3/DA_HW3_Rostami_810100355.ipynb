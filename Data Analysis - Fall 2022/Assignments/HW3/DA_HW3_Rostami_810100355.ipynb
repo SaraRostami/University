{
  "cells": [
    {
      "cell_type": "markdown",
      "metadata": {
        "id": "PtKcpEMzoJbe"
      },
      "source": [
        "<div style=\"display:block\" direction=rtl align=right><br><br>\n",
        "    <div  style=\"width:100%;margin:100;display:block\"  display=block align=center>\n",
        "        <img width=130 align=right src=\"https://i.ibb.co/yXKQmtZ/logo1.png\" style=\"margin:0;\" />\n",
        "        <img width=170 align=left  src=\"https://i.ibb.co/wLjqFkw/logo2.png\" style=\"margin:0;\" />\n",
        "        <span><br><font size=5>University of Tehran , school of ECE</font></span>\n",
        "        <span><br><font size=3>Data Analytics Course</font></span>\n",
        "        <span><br><font size=3>Fall 2022</font></span>\n",
        "    </div><br><br><br>\n",
        "    <div style=\"display:block\" align=left display=block> \n",
        "        <font size=3>Homework 2</font><br>\n",
        "        <hr />\n",
        "        <font size=3>TA: <a href=\"mailto:farzaneh.hatami@ut.ac.ir\">Farzaneh Hatami</a><br></font><br>\n",
        "    </div>\n",
        "</div>"
      ]
    },
    {
      "cell_type": "markdown",
      "metadata": {
        "id": "u1tqLWgNoJbi"
      },
      "source": [
        "# EDA and Visualization"
      ]
    },
    {
      "cell_type": "code",
      "source": [
        "import seaborn as sns\n",
        "import matplotlib.pyplot as plt\n",
        "import pandas as pd\n",
        "import numpy as np\n",
        "import pandas.core.series\n",
        "from sklearn.compose import make_column_transformer\n",
        "from sklearn.preprocessing import StandardScaler, OneHotEncoder, LabelEncoder\n",
        "from sklearn.model_selection import KFold\n",
        "from sklearn.metrics import mean_squared_error,make_scorer\n",
        "from sklearn.model_selection import cross_val_score\n",
        "import warnings\n",
        "warnings.filterwarnings('ignore')"
      ],
      "metadata": {
        "id": "oRMni_T-UotC"
      },
      "execution_count": 1,
      "outputs": []
    },
    {
      "cell_type": "markdown",
      "source": [
        "## Part1 - EDA and Visualization"
      ],
      "metadata": {
        "id": "IZr8AKLdojlO"
      }
    },
    {
      "cell_type": "markdown",
      "source": [
        "1. A quick peek at the data"
      ],
      "metadata": {
        "id": "3LATlXmarB4K"
      }
    },
    {
      "cell_type": "code",
      "source": [
        "taxis = sns.load_dataset('taxis')\n",
        "taxis.head(5)"
      ],
      "metadata": {
        "id": "CvIGYwp6rCC_",
        "colab": {
          "base_uri": "https://localhost:8080/",
          "height": 337
        },
        "outputId": "9de579cd-4921-4205-ae2e-58878b01857b"
      },
      "execution_count": 3,
      "outputs": [
        {
          "output_type": "execute_result",
          "data": {
            "text/plain": [
              "                pickup              dropoff  passengers  distance  fare   tip  \\\n",
              "0  2019-03-23 20:21:09  2019-03-23 20:27:24           1      1.60   7.0  2.15   \n",
              "1  2019-03-04 16:11:55  2019-03-04 16:19:00           1      0.79   5.0  0.00   \n",
              "2  2019-03-27 17:53:01  2019-03-27 18:00:25           1      1.37   7.5  2.36   \n",
              "3  2019-03-10 01:23:59  2019-03-10 01:49:51           1      7.70  27.0  6.15   \n",
              "4  2019-03-30 13:27:42  2019-03-30 13:37:14           3      2.16   9.0  1.10   \n",
              "\n",
              "   tolls  total   color      payment            pickup_zone  \\\n",
              "0    0.0  12.95  yellow  credit card        Lenox Hill West   \n",
              "1    0.0   9.30  yellow         cash  Upper West Side South   \n",
              "2    0.0  14.16  yellow  credit card          Alphabet City   \n",
              "3    0.0  36.95  yellow  credit card              Hudson Sq   \n",
              "4    0.0  13.40  yellow  credit card           Midtown East   \n",
              "\n",
              "            dropoff_zone pickup_borough dropoff_borough  \n",
              "0    UN/Turtle Bay South      Manhattan       Manhattan  \n",
              "1  Upper West Side South      Manhattan       Manhattan  \n",
              "2           West Village      Manhattan       Manhattan  \n",
              "3         Yorkville West      Manhattan       Manhattan  \n",
              "4         Yorkville West      Manhattan       Manhattan  "
            ],
            "text/html": [
              "\n",
              "  <div id=\"df-aee1e521-f547-46b1-b7b5-6a9d83ae4ad1\">\n",
              "    <div class=\"colab-df-container\">\n",
              "      <div>\n",
              "<style scoped>\n",
              "    .dataframe tbody tr th:only-of-type {\n",
              "        vertical-align: middle;\n",
              "    }\n",
              "\n",
              "    .dataframe tbody tr th {\n",
              "        vertical-align: top;\n",
              "    }\n",
              "\n",
              "    .dataframe thead th {\n",
              "        text-align: right;\n",
              "    }\n",
              "</style>\n",
              "<table border=\"1\" class=\"dataframe\">\n",
              "  <thead>\n",
              "    <tr style=\"text-align: right;\">\n",
              "      <th></th>\n",
              "      <th>pickup</th>\n",
              "      <th>dropoff</th>\n",
              "      <th>passengers</th>\n",
              "      <th>distance</th>\n",
              "      <th>fare</th>\n",
              "      <th>tip</th>\n",
              "      <th>tolls</th>\n",
              "      <th>total</th>\n",
              "      <th>color</th>\n",
              "      <th>payment</th>\n",
              "      <th>pickup_zone</th>\n",
              "      <th>dropoff_zone</th>\n",
              "      <th>pickup_borough</th>\n",
              "      <th>dropoff_borough</th>\n",
              "    </tr>\n",
              "  </thead>\n",
              "  <tbody>\n",
              "    <tr>\n",
              "      <th>0</th>\n",
              "      <td>2019-03-23 20:21:09</td>\n",
              "      <td>2019-03-23 20:27:24</td>\n",
              "      <td>1</td>\n",
              "      <td>1.60</td>\n",
              "      <td>7.0</td>\n",
              "      <td>2.15</td>\n",
              "      <td>0.0</td>\n",
              "      <td>12.95</td>\n",
              "      <td>yellow</td>\n",
              "      <td>credit card</td>\n",
              "      <td>Lenox Hill West</td>\n",
              "      <td>UN/Turtle Bay South</td>\n",
              "      <td>Manhattan</td>\n",
              "      <td>Manhattan</td>\n",
              "    </tr>\n",
              "    <tr>\n",
              "      <th>1</th>\n",
              "      <td>2019-03-04 16:11:55</td>\n",
              "      <td>2019-03-04 16:19:00</td>\n",
              "      <td>1</td>\n",
              "      <td>0.79</td>\n",
              "      <td>5.0</td>\n",
              "      <td>0.00</td>\n",
              "      <td>0.0</td>\n",
              "      <td>9.30</td>\n",
              "      <td>yellow</td>\n",
              "      <td>cash</td>\n",
              "      <td>Upper West Side South</td>\n",
              "      <td>Upper West Side South</td>\n",
              "      <td>Manhattan</td>\n",
              "      <td>Manhattan</td>\n",
              "    </tr>\n",
              "    <tr>\n",
              "      <th>2</th>\n",
              "      <td>2019-03-27 17:53:01</td>\n",
              "      <td>2019-03-27 18:00:25</td>\n",
              "      <td>1</td>\n",
              "      <td>1.37</td>\n",
              "      <td>7.5</td>\n",
              "      <td>2.36</td>\n",
              "      <td>0.0</td>\n",
              "      <td>14.16</td>\n",
              "      <td>yellow</td>\n",
              "      <td>credit card</td>\n",
              "      <td>Alphabet City</td>\n",
              "      <td>West Village</td>\n",
              "      <td>Manhattan</td>\n",
              "      <td>Manhattan</td>\n",
              "    </tr>\n",
              "    <tr>\n",
              "      <th>3</th>\n",
              "      <td>2019-03-10 01:23:59</td>\n",
              "      <td>2019-03-10 01:49:51</td>\n",
              "      <td>1</td>\n",
              "      <td>7.70</td>\n",
              "      <td>27.0</td>\n",
              "      <td>6.15</td>\n",
              "      <td>0.0</td>\n",
              "      <td>36.95</td>\n",
              "      <td>yellow</td>\n",
              "      <td>credit card</td>\n",
              "      <td>Hudson Sq</td>\n",
              "      <td>Yorkville West</td>\n",
              "      <td>Manhattan</td>\n",
              "      <td>Manhattan</td>\n",
              "    </tr>\n",
              "    <tr>\n",
              "      <th>4</th>\n",
              "      <td>2019-03-30 13:27:42</td>\n",
              "      <td>2019-03-30 13:37:14</td>\n",
              "      <td>3</td>\n",
              "      <td>2.16</td>\n",
              "      <td>9.0</td>\n",
              "      <td>1.10</td>\n",
              "      <td>0.0</td>\n",
              "      <td>13.40</td>\n",
              "      <td>yellow</td>\n",
              "      <td>credit card</td>\n",
              "      <td>Midtown East</td>\n",
              "      <td>Yorkville West</td>\n",
              "      <td>Manhattan</td>\n",
              "      <td>Manhattan</td>\n",
              "    </tr>\n",
              "  </tbody>\n",
              "</table>\n",
              "</div>\n",
              "      <button class=\"colab-df-convert\" onclick=\"convertToInteractive('df-aee1e521-f547-46b1-b7b5-6a9d83ae4ad1')\"\n",
              "              title=\"Convert this dataframe to an interactive table.\"\n",
              "              style=\"display:none;\">\n",
              "        \n",
              "  <svg xmlns=\"http://www.w3.org/2000/svg\" height=\"24px\"viewBox=\"0 0 24 24\"\n",
              "       width=\"24px\">\n",
              "    <path d=\"M0 0h24v24H0V0z\" fill=\"none\"/>\n",
              "    <path d=\"M18.56 5.44l.94 2.06.94-2.06 2.06-.94-2.06-.94-.94-2.06-.94 2.06-2.06.94zm-11 1L8.5 8.5l.94-2.06 2.06-.94-2.06-.94L8.5 2.5l-.94 2.06-2.06.94zm10 10l.94 2.06.94-2.06 2.06-.94-2.06-.94-.94-2.06-.94 2.06-2.06.94z\"/><path d=\"M17.41 7.96l-1.37-1.37c-.4-.4-.92-.59-1.43-.59-.52 0-1.04.2-1.43.59L10.3 9.45l-7.72 7.72c-.78.78-.78 2.05 0 2.83L4 21.41c.39.39.9.59 1.41.59.51 0 1.02-.2 1.41-.59l7.78-7.78 2.81-2.81c.8-.78.8-2.07 0-2.86zM5.41 20L4 18.59l7.72-7.72 1.47 1.35L5.41 20z\"/>\n",
              "  </svg>\n",
              "      </button>\n",
              "      \n",
              "  <style>\n",
              "    .colab-df-container {\n",
              "      display:flex;\n",
              "      flex-wrap:wrap;\n",
              "      gap: 12px;\n",
              "    }\n",
              "\n",
              "    .colab-df-convert {\n",
              "      background-color: #E8F0FE;\n",
              "      border: none;\n",
              "      border-radius: 50%;\n",
              "      cursor: pointer;\n",
              "      display: none;\n",
              "      fill: #1967D2;\n",
              "      height: 32px;\n",
              "      padding: 0 0 0 0;\n",
              "      width: 32px;\n",
              "    }\n",
              "\n",
              "    .colab-df-convert:hover {\n",
              "      background-color: #E2EBFA;\n",
              "      box-shadow: 0px 1px 2px rgba(60, 64, 67, 0.3), 0px 1px 3px 1px rgba(60, 64, 67, 0.15);\n",
              "      fill: #174EA6;\n",
              "    }\n",
              "\n",
              "    [theme=dark] .colab-df-convert {\n",
              "      background-color: #3B4455;\n",
              "      fill: #D2E3FC;\n",
              "    }\n",
              "\n",
              "    [theme=dark] .colab-df-convert:hover {\n",
              "      background-color: #434B5C;\n",
              "      box-shadow: 0px 1px 3px 1px rgba(0, 0, 0, 0.15);\n",
              "      filter: drop-shadow(0px 1px 2px rgba(0, 0, 0, 0.3));\n",
              "      fill: #FFFFFF;\n",
              "    }\n",
              "  </style>\n",
              "\n",
              "      <script>\n",
              "        const buttonEl =\n",
              "          document.querySelector('#df-aee1e521-f547-46b1-b7b5-6a9d83ae4ad1 button.colab-df-convert');\n",
              "        buttonEl.style.display =\n",
              "          google.colab.kernel.accessAllowed ? 'block' : 'none';\n",
              "\n",
              "        async function convertToInteractive(key) {\n",
              "          const element = document.querySelector('#df-aee1e521-f547-46b1-b7b5-6a9d83ae4ad1');\n",
              "          const dataTable =\n",
              "            await google.colab.kernel.invokeFunction('convertToInteractive',\n",
              "                                                     [key], {});\n",
              "          if (!dataTable) return;\n",
              "\n",
              "          const docLinkHtml = 'Like what you see? Visit the ' +\n",
              "            '<a target=\"_blank\" href=https://colab.research.google.com/notebooks/data_table.ipynb>data table notebook</a>'\n",
              "            + ' to learn more about interactive tables.';\n",
              "          element.innerHTML = '';\n",
              "          dataTable['output_type'] = 'display_data';\n",
              "          await google.colab.output.renderOutput(dataTable, element);\n",
              "          const docLink = document.createElement('div');\n",
              "          docLink.innerHTML = docLinkHtml;\n",
              "          element.appendChild(docLink);\n",
              "        }\n",
              "      </script>\n",
              "    </div>\n",
              "  </div>\n",
              "  "
            ]
          },
          "metadata": {},
          "execution_count": 3
        }
      ]
    },
    {
      "cell_type": "code",
      "source": [
        "taxis.info()"
      ],
      "metadata": {
        "colab": {
          "base_uri": "https://localhost:8080/"
        },
        "id": "rVO8VmvUU7Wh",
        "outputId": "e7fad911-dcac-4677-90d9-78458021f572"
      },
      "execution_count": 3,
      "outputs": [
        {
          "output_type": "stream",
          "name": "stdout",
          "text": [
            "<class 'pandas.core.frame.DataFrame'>\n",
            "RangeIndex: 6433 entries, 0 to 6432\n",
            "Data columns (total 14 columns):\n",
            " #   Column           Non-Null Count  Dtype  \n",
            "---  ------           --------------  -----  \n",
            " 0   pickup           6433 non-null   object \n",
            " 1   dropoff          6433 non-null   object \n",
            " 2   passengers       6433 non-null   int64  \n",
            " 3   distance         6433 non-null   float64\n",
            " 4   fare             6433 non-null   float64\n",
            " 5   tip              6433 non-null   float64\n",
            " 6   tolls            6433 non-null   float64\n",
            " 7   total            6433 non-null   float64\n",
            " 8   color            6433 non-null   object \n",
            " 9   payment          6389 non-null   object \n",
            " 10  pickup_zone      6407 non-null   object \n",
            " 11  dropoff_zone     6388 non-null   object \n",
            " 12  pickup_borough   6407 non-null   object \n",
            " 13  dropoff_borough  6388 non-null   object \n",
            "dtypes: float64(5), int64(1), object(8)\n",
            "memory usage: 703.7+ KB\n"
          ]
        }
      ]
    },
    {
      "cell_type": "markdown",
      "source": [
        "#### because the datatimes were read as object type, I'll convert them to datatime"
      ],
      "metadata": {
        "id": "YYs8poP37iiq"
      }
    },
    {
      "cell_type": "code",
      "source": [
        "taxis.pickup = pd.to_datetime(taxis.pickup)\n",
        "taxis.dropoff = pd.to_datetime(taxis.dropoff)\n",
        "taxis.info()"
      ],
      "metadata": {
        "colab": {
          "base_uri": "https://localhost:8080/"
        },
        "id": "2HBUA3WU7wBi",
        "outputId": "1a15dc65-4e4b-46dd-bd39-6e422a52b658"
      },
      "execution_count": 3,
      "outputs": [
        {
          "output_type": "stream",
          "name": "stdout",
          "text": [
            "<class 'pandas.core.frame.DataFrame'>\n",
            "RangeIndex: 6433 entries, 0 to 6432\n",
            "Data columns (total 14 columns):\n",
            " #   Column           Non-Null Count  Dtype         \n",
            "---  ------           --------------  -----         \n",
            " 0   pickup           6433 non-null   datetime64[ns]\n",
            " 1   dropoff          6433 non-null   datetime64[ns]\n",
            " 2   passengers       6433 non-null   int64         \n",
            " 3   distance         6433 non-null   float64       \n",
            " 4   fare             6433 non-null   float64       \n",
            " 5   tip              6433 non-null   float64       \n",
            " 6   tolls            6433 non-null   float64       \n",
            " 7   total            6433 non-null   float64       \n",
            " 8   color            6433 non-null   object        \n",
            " 9   payment          6389 non-null   object        \n",
            " 10  pickup_zone      6407 non-null   object        \n",
            " 11  dropoff_zone     6388 non-null   object        \n",
            " 12  pickup_borough   6407 non-null   object        \n",
            " 13  dropoff_borough  6388 non-null   object        \n",
            "dtypes: datetime64[ns](2), float64(5), int64(1), object(6)\n",
            "memory usage: 703.7+ KB\n"
          ]
        }
      ]
    },
    {
      "cell_type": "markdown",
      "source": [
        "2. Number of trips\n",
        "\n",
        "```\n",
        "# This is formatted as code\n",
        "```\n",
        "\n"
      ],
      "metadata": {
        "id": "pzt5ux-prN9t"
      }
    },
    {
      "cell_type": "code",
      "source": [
        "total_trips = len(taxis)\n",
        "print(f\"total number of trips: {total_trips}\")"
      ],
      "metadata": {
        "id": "ah5yNbuWrrm6",
        "colab": {
          "base_uri": "https://localhost:8080/"
        },
        "outputId": "04cfa1e3-f208-4ca5-da0c-683fb6297108"
      },
      "execution_count": 5,
      "outputs": [
        {
          "output_type": "stream",
          "name": "stdout",
          "text": [
            "total number of trips: 6433\n"
          ]
        }
      ]
    },
    {
      "cell_type": "markdown",
      "source": [
        "3. Number of unique pickup-zones"
      ],
      "metadata": {
        "id": "_P8tauZfrryg"
      }
    },
    {
      "cell_type": "code",
      "source": [
        "unique_pkz = taxis.pickup_zone.unique()\n",
        "print(f\"number of unique pickup zones: {len(unique_pkz)}\")"
      ],
      "metadata": {
        "id": "9VMZkADnr3jO",
        "colab": {
          "base_uri": "https://localhost:8080/"
        },
        "outputId": "670cd4fd-205a-4109-f238-a03e56522b29"
      },
      "execution_count": 6,
      "outputs": [
        {
          "output_type": "stream",
          "name": "stdout",
          "text": [
            "number of unique pickup zones: 195\n"
          ]
        }
      ]
    },
    {
      "cell_type": "markdown",
      "source": [
        "4. Most frequent drop-zones"
      ],
      "metadata": {
        "id": "Jgnz5Urxr335"
      }
    },
    {
      "cell_type": "markdown",
      "source": [
        "#### part a"
      ],
      "metadata": {
        "id": "EhzNQFo4gUy8"
      }
    },
    {
      "cell_type": "code",
      "source": [
        "most_freq_doz = taxis.groupby('dropoff_zone')['dropoff_zone'].count().sort_values(ascending = False)\n",
        "most_freq_doz.head(1)"
      ],
      "metadata": {
        "id": "yqL4Xj06sEcT",
        "colab": {
          "base_uri": "https://localhost:8080/"
        },
        "outputId": "71fada7f-f58a-4e0f-cde9-5cc4fbf69711"
      },
      "execution_count": 4,
      "outputs": [
        {
          "output_type": "execute_result",
          "data": {
            "text/plain": [
              "dropoff_zone\n",
              "Upper East Side North    245\n",
              "Name: dropoff_zone, dtype: int64"
            ]
          },
          "metadata": {},
          "execution_count": 4
        }
      ]
    },
    {
      "cell_type": "code",
      "source": [
        "top5_doz = most_freq_doz.head(5)\n",
        "low5_doz = most_freq_doz.tail(5)\n",
        "\n",
        "def addlabels(x,y):\n",
        "    for i in range(len(x)):\n",
        "        plt.text(i,y[i]-y[i]*0.1,y[i],ha = 'center',color = \"white\")\n",
        "\n",
        "plt.figure(figsize=(22,7))\n",
        "plt.subplot(1,2,1)\n",
        "plt.bar(top5_doz.index,top5_doz.values)\n",
        "plt.xlabel(\"zone\")\n",
        "plt.ylabel(\"count\")\n",
        "addlabels(top5_doz.index,top5_doz.values)\n",
        "plt.title(\"5 most frequent dropoff zones\")\n",
        "\n",
        "plt.subplot(1,2,2)\n",
        "plt.bar(low5_doz.index,low5_doz.values)\n",
        "plt.xlabel(\"zone\")\n",
        "plt.ylabel(\"count\")\n",
        "addlabels(low5_doz.index,low5_doz.values)\n",
        "plt.title(\"5 least frequent dropoff zones\");"
      ],
      "metadata": {
        "colab": {
          "base_uri": "https://localhost:8080/",
          "height": 458
        },
        "id": "Nh1Dn-AjZSlf",
        "outputId": "5f83c8ad-fce2-423b-e6a9-a5bf17cfd6b3"
      },
      "execution_count": 5,
      "outputs": [
        {
          "output_type": "display_data",
          "data": {
            "text/plain": [
              "<Figure size 1584x504 with 2 Axes>"
            ],
            "image/png": "[encoded data removed]"
          },
          "metadata": {
            "needs_background": "light"
          }
        }
      ]
    },
    {
      "cell_type": "markdown",
      "source": [
        "#### part b"
      ],
      "metadata": {
        "id": "wetwNsP6gZFG"
      }
    },
    {
      "cell_type": "markdown",
      "source": [
        "#### All of the most frequent dropoff zones are in Mahattan area. this makes<br>sense because Mahattan is the most densely populated of New York City’s 5 boroughs and it is one of the world’s major commercial, financial and cultural centers. because of its population, welfare of its residents & poularity of it, there are more rides to these destinations.\n",
        "#### in contrast, there has been just 1 ride to the least frequent dropoff zones. \"jamaica estates\" & \"Douglaston\" are in Queens, which is one of the lowest income & most dangerous parts of the city. while the other 3 zones are parks. since people ususally go to parks in groups (as a family, or friends), they might go there by their own car or with other types of transportion (than taxi) that is suitable for a larger number of people."
      ],
      "metadata": {
        "id": "tULIhRF_AHoy"
      }
    },
    {
      "cell_type": "markdown",
      "source": [
        "5. Percentage of drop-offs and pick-ups per weekday"
      ],
      "metadata": {
        "id": "fSIn86XjsEoF"
      }
    },
    {
      "cell_type": "code",
      "source": [
        "# adding the \"day_of_week\" colummn to dataset\n",
        "taxis['pickup_day'] = taxis['pickup'].dt.day_name()\n",
        "taxis['dropoff_day'] = taxis['dropoff'].dt.day_name()"
      ],
      "metadata": {
        "id": "3GPqu0lKsnTg"
      },
      "execution_count": 4,
      "outputs": []
    },
    {
      "cell_type": "code",
      "source": [
        "day_order = [ 'Monday', 'Tuesday', 'Wednesday', 'Thursday', 'Friday', 'Saturday', 'Sunday']\n",
        "\n",
        "pickup_day_percentage = ((taxis.groupby('pickup_day')['pickup_day'].count()/len(taxis))*100).reindex(day_order)\n",
        "dropoff_day_percentage = ((taxis.groupby('dropoff_day')['dropoff_day'].count()/len(taxis))*100).reindex(day_order)"
      ],
      "metadata": {
        "id": "mbc4guAKidcW"
      },
      "execution_count": 5,
      "outputs": []
    },
    {
      "cell_type": "code",
      "source": [
        "# plotting\n",
        "plt.figure(figsize=(12,7))\n",
        "ind = np.arange(7)\n",
        "width = 0.3       \n",
        "\n",
        "plt.bar(ind, pickup_day_percentage.values , width, label='pickup percentage')\n",
        "plt.bar(ind + width, dropoff_day_percentage, width, label='dropoff percentage')\n",
        "plt.xlabel(\"Day\")\n",
        "plt.ylabel(\"Percentage\")\n",
        "plt.title(\"Percentge of pickups/dropoffs per day\")\n",
        "plt.xticks(ind + width / 2, day_order)\n",
        "plt.legend(loc='best');"
      ],
      "metadata": {
        "colab": {
          "base_uri": "https://localhost:8080/",
          "height": 458
        },
        "id": "sGywo9E9jYa6",
        "outputId": "b6af1ebc-2cf6-4ea1-b950-adb2e1adafa0"
      },
      "execution_count": 11,
      "outputs": [
        {
          "output_type": "display_data",
          "data": {
            "text/plain": [
              "<Figure size 864x504 with 1 Axes>"
            ],
            "image/png": "[encoded data removed]"
          },
          "metadata": {
            "needs_background": "light"
          }
        }
      ]
    },
    {
      "cell_type": "markdown",
      "source": [
        "#### there is not a noticable difference between pickup rate vs. dropoff rate in each day. but, these rates are higher in \"Wednesday\", \"Friday\" & \"Saturday\". since Friday & Saturday are the weekend, there is a higher rate at those days(people go out of town or to parties & occasions)."
      ],
      "metadata": {
        "id": "ubcN5scHnPz8"
      }
    },
    {
      "cell_type": "markdown",
      "source": [
        "6. Number of pick-ups and drop-offs per hour of day"
      ],
      "metadata": {
        "id": "Vxm-ftnNsneR"
      }
    },
    {
      "cell_type": "code",
      "source": [
        "# adding \"pickup_hour\" & \"dropoff_hour\" columns to dataset\n",
        "taxis['pickup_hour'] = taxis['pickup'].dt.hour\n",
        "taxis['dropoff_hour'] = taxis['dropoff'].dt.hour"
      ],
      "metadata": {
        "id": "7Vy4t9nCs6zU"
      },
      "execution_count": 6,
      "outputs": []
    },
    {
      "cell_type": "code",
      "source": [
        "# plotting\n",
        "plt.figure(figsize=(12,7))\n",
        "ind = np.arange(0,24)      \n",
        "plt.style.use('ggplot')\n",
        "plt.plot(ind, taxis.groupby('pickup_hour')['pickup_hour'].count() ,marker='o', label='pickup')\n",
        "plt.plot(ind, taxis.groupby('dropoff_hour')['dropoff_hour'].count(),marker='o',label='dropoff')\n",
        "plt.xlabel(\"Hour\")\n",
        "plt.ylabel(\"Count\")\n",
        "plt.title(\"Number of pickups/dropoffs per hour\")\n",
        "plt.xticks(ind)\n",
        "plt.legend(loc='best');"
      ],
      "metadata": {
        "colab": {
          "base_uri": "https://localhost:8080/",
          "height": 462
        },
        "id": "EJ25pL1v8Ucj",
        "outputId": "3b453fc5-5fc8-47ab-8d1f-59a65a02ae1e"
      },
      "execution_count": 13,
      "outputs": [
        {
          "output_type": "display_data",
          "data": {
            "text/plain": [
              "<Figure size 864x504 with 1 Axes>"
            ],
            "image/png": "[encoded data removed]"
          },
          "metadata": {
            "needs_background": "light"
          }
        }
      ]
    },
    {
      "cell_type": "markdown",
      "source": [
        "#### we have a decreasing number of rides in the first few hours of day(0 to 5), with 5:00 A.M. being the lowest. these hours are the normal sleeping hours, so this observation was expected. since then, we have an increasing pattern in the number of rides, with 6-7 P.M. having the highest numbers. most people get of work around 6-7 P.M. or go out for dinner. this explains the peak in those hours. then, as we get closer to the end of the night the number of rides decreses (as it reaches people's bedtime)."
      ],
      "metadata": {
        "id": "PQ0XEdacoTAF"
      }
    },
    {
      "cell_type": "markdown",
      "source": [
        "7.  Most frequents payment per weekday"
      ],
      "metadata": {
        "id": "CRqmmAeHs6_S"
      }
    },
    {
      "cell_type": "code",
      "source": [
        "most_frequent_payment = taxis.groupby(['pickup_day','payment']).size()\n",
        "most_frequent_payment = most_frequent_payment.reset_index().sort_values(by=['pickup_day', 'payment'], ascending=[True, False]).set_index(['pickup_day', 'payment'])\n",
        "most_frequent_payment.reset_index(inplace=True, level=['pickup_day'])\n",
        "most_frequent_payment.reset_index(inplace=True, level=['payment'])\n",
        "most_frequent_payment.rename(columns = {0:'count'},inplace=True)\n",
        "most_frequent_payment1 = most_frequent_payment.drop_duplicates(subset='pickup_day', keep=\"first\").reset_index(drop=True).copy()\n",
        "most_frequent_payment1"
      ],
      "metadata": {
        "id": "KPWNBtmBtTOz",
        "colab": {
          "base_uri": "https://localhost:8080/",
          "height": 269
        },
        "outputId": "1c04ce2f-7d67-4124-ec43-fe49f154a558"
      },
      "execution_count": 7,
      "outputs": [
        {
          "output_type": "execute_result",
          "data": {
            "text/plain": [
              "       payment pickup_day  count\n",
              "0  credit card     Friday    790\n",
              "1  credit card     Monday    502\n",
              "2  credit card   Saturday    704\n",
              "3  credit card     Sunday    605\n",
              "4  credit card   Thursday    665\n",
              "5  credit card    Tuesday    595\n",
              "6  credit card  Wednesday    716"
            ],
            "text/html": [
              "\n",
              "  <div id=\"df-1cb1a0ec-abfc-4f1c-a34e-a1f964989fd9\">\n",
              "    <div class=\"colab-df-container\">\n",
              "      <div>\n",
              "<style scoped>\n",
              "    .dataframe tbody tr th:only-of-type {\n",
              "        vertical-align: middle;\n",
              "    }\n",
              "\n",
              "    .dataframe tbody tr th {\n",
              "        vertical-align: top;\n",
              "    }\n",
              "\n",
              "    .dataframe thead th {\n",
              "        text-align: right;\n",
              "    }\n",
              "</style>\n",
              "<table border=\"1\" class=\"dataframe\">\n",
              "  <thead>\n",
              "    <tr style=\"text-align: right;\">\n",
              "      <th></th>\n",
              "      <th>payment</th>\n",
              "      <th>pickup_day</th>\n",
              "      <th>count</th>\n",
              "    </tr>\n",
              "  </thead>\n",
              "  <tbody>\n",
              "    <tr>\n",
              "      <th>0</th>\n",
              "      <td>credit card</td>\n",
              "      <td>Friday</td>\n",
              "      <td>790</td>\n",
              "    </tr>\n",
              "    <tr>\n",
              "      <th>1</th>\n",
              "      <td>credit card</td>\n",
              "      <td>Monday</td>\n",
              "      <td>502</td>\n",
              "    </tr>\n",
              "    <tr>\n",
              "      <th>2</th>\n",
              "      <td>credit card</td>\n",
              "      <td>Saturday</td>\n",
              "      <td>704</td>\n",
              "    </tr>\n",
              "    <tr>\n",
              "      <th>3</th>\n",
              "      <td>credit card</td>\n",
              "      <td>Sunday</td>\n",
              "      <td>605</td>\n",
              "    </tr>\n",
              "    <tr>\n",
              "      <th>4</th>\n",
              "      <td>credit card</td>\n",
              "      <td>Thursday</td>\n",
              "      <td>665</td>\n",
              "    </tr>\n",
              "    <tr>\n",
              "      <th>5</th>\n",
              "      <td>credit card</td>\n",
              "      <td>Tuesday</td>\n",
              "      <td>595</td>\n",
              "    </tr>\n",
              "    <tr>\n",
              "      <th>6</th>\n",
              "      <td>credit card</td>\n",
              "      <td>Wednesday</td>\n",
              "      <td>716</td>\n",
              "    </tr>\n",
              "  </tbody>\n",
              "</table>\n",
              "</div>\n",
              "      <button class=\"colab-df-convert\" onclick=\"convertToInteractive('df-1cb1a0ec-abfc-4f1c-a34e-a1f964989fd9')\"\n",
              "              title=\"Convert this dataframe to an interactive table.\"\n",
              "              style=\"display:none;\">\n",
              "        \n",
              "  <svg xmlns=\"http://www.w3.org/2000/svg\" height=\"24px\"viewBox=\"0 0 24 24\"\n",
              "       width=\"24px\">\n",
              "    <path d=\"M0 0h24v24H0V0z\" fill=\"none\"/>\n",
              "    <path d=\"M18.56 5.44l.94 2.06.94-2.06 2.06-.94-2.06-.94-.94-2.06-.94 2.06-2.06.94zm-11 1L8.5 8.5l.94-2.06 2.06-.94-2.06-.94L8.5 2.5l-.94 2.06-2.06.94zm10 10l.94 2.06.94-2.06 2.06-.94-2.06-.94-.94-2.06-.94 2.06-2.06.94z\"/><path d=\"M17.41 7.96l-1.37-1.37c-.4-.4-.92-.59-1.43-.59-.52 0-1.04.2-1.43.59L10.3 9.45l-7.72 7.72c-.78.78-.78 2.05 0 2.83L4 21.41c.39.39.9.59 1.41.59.51 0 1.02-.2 1.41-.59l7.78-7.78 2.81-2.81c.8-.78.8-2.07 0-2.86zM5.41 20L4 18.59l7.72-7.72 1.47 1.35L5.41 20z\"/>\n",
              "  </svg>\n",
              "      </button>\n",
              "      \n",
              "  <style>\n",
              "    .colab-df-container {\n",
              "      display:flex;\n",
              "      flex-wrap:wrap;\n",
              "      gap: 12px;\n",
              "    }\n",
              "\n",
              "    .colab-df-convert {\n",
              "      background-color: #E8F0FE;\n",
              "      border: none;\n",
              "      border-radius: 50%;\n",
              "      cursor: pointer;\n",
              "      display: none;\n",
              "      fill: #1967D2;\n",
              "      height: 32px;\n",
              "      padding: 0 0 0 0;\n",
              "      width: 32px;\n",
              "    }\n",
              "\n",
              "    .colab-df-convert:hover {\n",
              "      background-color: #E2EBFA;\n",
              "      box-shadow: 0px 1px 2px rgba(60, 64, 67, 0.3), 0px 1px 3px 1px rgba(60, 64, 67, 0.15);\n",
              "      fill: #174EA6;\n",
              "    }\n",
              "\n",
              "    [theme=dark] .colab-df-convert {\n",
              "      background-color: #3B4455;\n",
              "      fill: #D2E3FC;\n",
              "    }\n",
              "\n",
              "    [theme=dark] .colab-df-convert:hover {\n",
              "      background-color: #434B5C;\n",
              "      box-shadow: 0px 1px 3px 1px rgba(0, 0, 0, 0.15);\n",
              "      filter: drop-shadow(0px 1px 2px rgba(0, 0, 0, 0.3));\n",
              "      fill: #FFFFFF;\n",
              "    }\n",
              "  </style>\n",
              "\n",
              "      <script>\n",
              "        const buttonEl =\n",
              "          document.querySelector('#df-1cb1a0ec-abfc-4f1c-a34e-a1f964989fd9 button.colab-df-convert');\n",
              "        buttonEl.style.display =\n",
              "          google.colab.kernel.accessAllowed ? 'block' : 'none';\n",
              "\n",
              "        async function convertToInteractive(key) {\n",
              "          const element = document.querySelector('#df-1cb1a0ec-abfc-4f1c-a34e-a1f964989fd9');\n",
              "          const dataTable =\n",
              "            await google.colab.kernel.invokeFunction('convertToInteractive',\n",
              "                                                     [key], {});\n",
              "          if (!dataTable) return;\n",
              "\n",
              "          const docLinkHtml = 'Like what you see? Visit the ' +\n",
              "            '<a target=\"_blank\" href=https://colab.research.google.com/notebooks/data_table.ipynb>data table notebook</a>'\n",
              "            + ' to learn more about interactive tables.';\n",
              "          element.innerHTML = '';\n",
              "          dataTable['output_type'] = 'display_data';\n",
              "          await google.colab.output.renderOutput(dataTable, element);\n",
              "          const docLink = document.createElement('div');\n",
              "          docLink.innerHTML = docLinkHtml;\n",
              "          element.appendChild(docLink);\n",
              "        }\n",
              "      </script>\n",
              "    </div>\n",
              "  </div>\n",
              "  "
            ]
          },
          "metadata": {},
          "execution_count": 7
        }
      ]
    },
    {
      "cell_type": "code",
      "source": [
        "# plotting\n",
        "sns.set_theme(style=\"whitegrid\")\n",
        "g = sns.catplot(data=most_frequent_payment, kind=\"bar\",x=\"pickup_day\", y=\"count\",order= day_order, hue=\"payment\",palette=\"dark\", alpha=.6,height = 8).set(title=\"number of used payment methods per day\")\n",
        "g.despine(left=True)\n",
        "g.set_axis_labels(\"Day\", \"Count\")\n",
        "g.legend.set_title(\"\")"
      ],
      "metadata": {
        "colab": {
          "base_uri": "https://localhost:8080/",
          "height": 597
        },
        "id": "mh3WjOKCGrV7",
        "outputId": "c9fe5418-6898-4efa-e360-ef11ac59b7e3"
      },
      "execution_count": 15,
      "outputs": [
        {
          "output_type": "display_data",
          "data": {
            "text/plain": [
              "<Figure size 675.225x576 with 1 Axes>"
            ],
            "image/png": "[encoded data removed]"
          },
          "metadata": {}
        }
      ]
    },
    {
      "cell_type": "markdown",
      "source": [
        "#### everyday, the number of payments made by credit card is significantly higher than the number of payments made by cash. since this data belongs to the year 2019, this observation seems logical. because in recent years, credit cards have almost completely taken over cash. <br>We see the most number of payments made by cash in \"Saturday\", which might be because people tip more in cash on the weekend."
      ],
      "metadata": {
        "id": "p1m9MGpJqIrm"
      }
    },
    {
      "cell_type": "markdown",
      "source": [
        "8. Number of trips per passengers"
      ],
      "metadata": {
        "id": "4ZdBspiPtTal"
      }
    },
    {
      "cell_type": "markdown",
      "source": [
        "#### part a"
      ],
      "metadata": {
        "id": "GiQjeCZyV8ZZ"
      }
    },
    {
      "cell_type": "code",
      "source": [
        "def categorize(x):\n",
        "  if x <= 200:\n",
        "    return \"low\"\n",
        "  elif x < 500:\n",
        "    return \"middle\"\n",
        "  else:\n",
        "    return \"high\"\n",
        "\n",
        "\n",
        "df1 = taxis[['passengers']]\n",
        "df1['count_trips'] = taxis.groupby('passengers')['passengers'].transform('count')\n",
        "df1.drop_duplicates(inplace=True,keep='first')\n",
        "df1 = df1.sort_values(by='passengers').reset_index(drop=True)\n",
        "df1['category'] = df1.count_trips.apply(categorize)\n",
        "df1['category'] = pd.Categorical(df1['category'], [\"low\", \"middle\", \"high\"])\n",
        "df1"
      ],
      "metadata": {
        "id": "0f9bNjSNt_El",
        "colab": {
          "base_uri": "https://localhost:8080/",
          "height": 269
        },
        "outputId": "3940a7a3-48a2-47fe-b13f-0a8f825d84fc"
      },
      "execution_count": 7,
      "outputs": [
        {
          "output_type": "execute_result",
          "data": {
            "text/plain": [
              "   passengers  count_trips category\n",
              "0           0           96      low\n",
              "1           1         4678     high\n",
              "2           2          876     high\n",
              "3           3          243   middle\n",
              "4           4          110      low\n",
              "5           5          277   middle\n",
              "6           6          153      low"
            ],
            "text/html": [
              "\n",
              "  <div id=\"df-350c761c-4e33-4770-9faf-0218eb078efd\">\n",
              "    <div class=\"colab-df-container\">\n",
              "      <div>\n",
              "<style scoped>\n",
              "    .dataframe tbody tr th:only-of-type {\n",
              "        vertical-align: middle;\n",
              "    }\n",
              "\n",
              "    .dataframe tbody tr th {\n",
              "        vertical-align: top;\n",
              "    }\n",
              "\n",
              "    .dataframe thead th {\n",
              "        text-align: right;\n",
              "    }\n",
              "</style>\n",
              "<table border=\"1\" class=\"dataframe\">\n",
              "  <thead>\n",
              "    <tr style=\"text-align: right;\">\n",
              "      <th></th>\n",
              "      <th>passengers</th>\n",
              "      <th>count_trips</th>\n",
              "      <th>category</th>\n",
              "    </tr>\n",
              "  </thead>\n",
              "  <tbody>\n",
              "    <tr>\n",
              "      <th>0</th>\n",
              "      <td>0</td>\n",
              "      <td>96</td>\n",
              "      <td>low</td>\n",
              "    </tr>\n",
              "    <tr>\n",
              "      <th>1</th>\n",
              "      <td>1</td>\n",
              "      <td>4678</td>\n",
              "      <td>high</td>\n",
              "    </tr>\n",
              "    <tr>\n",
              "      <th>2</th>\n",
              "      <td>2</td>\n",
              "      <td>876</td>\n",
              "      <td>high</td>\n",
              "    </tr>\n",
              "    <tr>\n",
              "      <th>3</th>\n",
              "      <td>3</td>\n",
              "      <td>243</td>\n",
              "      <td>middle</td>\n",
              "    </tr>\n",
              "    <tr>\n",
              "      <th>4</th>\n",
              "      <td>4</td>\n",
              "      <td>110</td>\n",
              "      <td>low</td>\n",
              "    </tr>\n",
              "    <tr>\n",
              "      <th>5</th>\n",
              "      <td>5</td>\n",
              "      <td>277</td>\n",
              "      <td>middle</td>\n",
              "    </tr>\n",
              "    <tr>\n",
              "      <th>6</th>\n",
              "      <td>6</td>\n",
              "      <td>153</td>\n",
              "      <td>low</td>\n",
              "    </tr>\n",
              "  </tbody>\n",
              "</table>\n",
              "</div>\n",
              "      <button class=\"colab-df-convert\" onclick=\"convertToInteractive('df-350c761c-4e33-4770-9faf-0218eb078efd')\"\n",
              "              title=\"Convert this dataframe to an interactive table.\"\n",
              "              style=\"display:none;\">\n",
              "        \n",
              "  <svg xmlns=\"http://www.w3.org/2000/svg\" height=\"24px\"viewBox=\"0 0 24 24\"\n",
              "       width=\"24px\">\n",
              "    <path d=\"M0 0h24v24H0V0z\" fill=\"none\"/>\n",
              "    <path d=\"M18.56 5.44l.94 2.06.94-2.06 2.06-.94-2.06-.94-.94-2.06-.94 2.06-2.06.94zm-11 1L8.5 8.5l.94-2.06 2.06-.94-2.06-.94L8.5 2.5l-.94 2.06-2.06.94zm10 10l.94 2.06.94-2.06 2.06-.94-2.06-.94-.94-2.06-.94 2.06-2.06.94z\"/><path d=\"M17.41 7.96l-1.37-1.37c-.4-.4-.92-.59-1.43-.59-.52 0-1.04.2-1.43.59L10.3 9.45l-7.72 7.72c-.78.78-.78 2.05 0 2.83L4 21.41c.39.39.9.59 1.41.59.51 0 1.02-.2 1.41-.59l7.78-7.78 2.81-2.81c.8-.78.8-2.07 0-2.86zM5.41 20L4 18.59l7.72-7.72 1.47 1.35L5.41 20z\"/>\n",
              "  </svg>\n",
              "      </button>\n",
              "      \n",
              "  <style>\n",
              "    .colab-df-container {\n",
              "      display:flex;\n",
              "      flex-wrap:wrap;\n",
              "      gap: 12px;\n",
              "    }\n",
              "\n",
              "    .colab-df-convert {\n",
              "      background-color: #E8F0FE;\n",
              "      border: none;\n",
              "      border-radius: 50%;\n",
              "      cursor: pointer;\n",
              "      display: none;\n",
              "      fill: #1967D2;\n",
              "      height: 32px;\n",
              "      padding: 0 0 0 0;\n",
              "      width: 32px;\n",
              "    }\n",
              "\n",
              "    .colab-df-convert:hover {\n",
              "      background-color: #E2EBFA;\n",
              "      box-shadow: 0px 1px 2px rgba(60, 64, 67, 0.3), 0px 1px 3px 1px rgba(60, 64, 67, 0.15);\n",
              "      fill: #174EA6;\n",
              "    }\n",
              "\n",
              "    [theme=dark] .colab-df-convert {\n",
              "      background-color: #3B4455;\n",
              "      fill: #D2E3FC;\n",
              "    }\n",
              "\n",
              "    [theme=dark] .colab-df-convert:hover {\n",
              "      background-color: #434B5C;\n",
              "      box-shadow: 0px 1px 3px 1px rgba(0, 0, 0, 0.15);\n",
              "      filter: drop-shadow(0px 1px 2px rgba(0, 0, 0, 0.3));\n",
              "      fill: #FFFFFF;\n",
              "    }\n",
              "  </style>\n",
              "\n",
              "      <script>\n",
              "        const buttonEl =\n",
              "          document.querySelector('#df-350c761c-4e33-4770-9faf-0218eb078efd button.colab-df-convert');\n",
              "        buttonEl.style.display =\n",
              "          google.colab.kernel.accessAllowed ? 'block' : 'none';\n",
              "\n",
              "        async function convertToInteractive(key) {\n",
              "          const element = document.querySelector('#df-350c761c-4e33-4770-9faf-0218eb078efd');\n",
              "          const dataTable =\n",
              "            await google.colab.kernel.invokeFunction('convertToInteractive',\n",
              "                                                     [key], {});\n",
              "          if (!dataTable) return;\n",
              "\n",
              "          const docLinkHtml = 'Like what you see? Visit the ' +\n",
              "            '<a target=\"_blank\" href=https://colab.research.google.com/notebooks/data_table.ipynb>data table notebook</a>'\n",
              "            + ' to learn more about interactive tables.';\n",
              "          element.innerHTML = '';\n",
              "          dataTable['output_type'] = 'display_data';\n",
              "          await google.colab.output.renderOutput(dataTable, element);\n",
              "          const docLink = document.createElement('div');\n",
              "          docLink.innerHTML = docLinkHtml;\n",
              "          element.appendChild(docLink);\n",
              "        }\n",
              "      </script>\n",
              "    </div>\n",
              "  </div>\n",
              "  "
            ]
          },
          "metadata": {},
          "execution_count": 7
        }
      ]
    },
    {
      "cell_type": "code",
      "source": [
        "df2 = df1.groupby('category')['category'].count().to_frame()\n",
        "df2.columns = ['count']\n",
        "df2.sort_values(by='category',inplace=True)\n",
        "df2"
      ],
      "metadata": {
        "colab": {
          "base_uri": "https://localhost:8080/",
          "height": 175
        },
        "id": "iPdlWXvepjW9",
        "outputId": "da4d3423-06a4-4c97-f549-15a7650878ac"
      },
      "execution_count": 9,
      "outputs": [
        {
          "output_type": "execute_result",
          "data": {
            "text/plain": [
              "          count\n",
              "category       \n",
              "low           3\n",
              "middle        2\n",
              "high          2"
            ],
            "text/html": [
              "\n",
              "  <div id=\"df-01b1e412-229a-4230-b265-5eb4178f52b0\">\n",
              "    <div class=\"colab-df-container\">\n",
              "      <div>\n",
              "<style scoped>\n",
              "    .dataframe tbody tr th:only-of-type {\n",
              "        vertical-align: middle;\n",
              "    }\n",
              "\n",
              "    .dataframe tbody tr th {\n",
              "        vertical-align: top;\n",
              "    }\n",
              "\n",
              "    .dataframe thead th {\n",
              "        text-align: right;\n",
              "    }\n",
              "</style>\n",
              "<table border=\"1\" class=\"dataframe\">\n",
              "  <thead>\n",
              "    <tr style=\"text-align: right;\">\n",
              "      <th></th>\n",
              "      <th>count</th>\n",
              "    </tr>\n",
              "    <tr>\n",
              "      <th>category</th>\n",
              "      <th></th>\n",
              "    </tr>\n",
              "  </thead>\n",
              "  <tbody>\n",
              "    <tr>\n",
              "      <th>low</th>\n",
              "      <td>3</td>\n",
              "    </tr>\n",
              "    <tr>\n",
              "      <th>middle</th>\n",
              "      <td>2</td>\n",
              "    </tr>\n",
              "    <tr>\n",
              "      <th>high</th>\n",
              "      <td>2</td>\n",
              "    </tr>\n",
              "  </tbody>\n",
              "</table>\n",
              "</div>\n",
              "      <button class=\"colab-df-convert\" onclick=\"convertToInteractive('df-01b1e412-229a-4230-b265-5eb4178f52b0')\"\n",
              "              title=\"Convert this dataframe to an interactive table.\"\n",
              "              style=\"display:none;\">\n",
              "        \n",
              "  <svg xmlns=\"http://www.w3.org/2000/svg\" height=\"24px\"viewBox=\"0 0 24 24\"\n",
              "       width=\"24px\">\n",
              "    <path d=\"M0 0h24v24H0V0z\" fill=\"none\"/>\n",
              "    <path d=\"M18.56 5.44l.94 2.06.94-2.06 2.06-.94-2.06-.94-.94-2.06-.94 2.06-2.06.94zm-11 1L8.5 8.5l.94-2.06 2.06-.94-2.06-.94L8.5 2.5l-.94 2.06-2.06.94zm10 10l.94 2.06.94-2.06 2.06-.94-2.06-.94-.94-2.06-.94 2.06-2.06.94z\"/><path d=\"M17.41 7.96l-1.37-1.37c-.4-.4-.92-.59-1.43-.59-.52 0-1.04.2-1.43.59L10.3 9.45l-7.72 7.72c-.78.78-.78 2.05 0 2.83L4 21.41c.39.39.9.59 1.41.59.51 0 1.02-.2 1.41-.59l7.78-7.78 2.81-2.81c.8-.78.8-2.07 0-2.86zM5.41 20L4 18.59l7.72-7.72 1.47 1.35L5.41 20z\"/>\n",
              "  </svg>\n",
              "      </button>\n",
              "      \n",
              "  <style>\n",
              "    .colab-df-container {\n",
              "      display:flex;\n",
              "      flex-wrap:wrap;\n",
              "      gap: 12px;\n",
              "    }\n",
              "\n",
              "    .colab-df-convert {\n",
              "      background-color: #E8F0FE;\n",
              "      border: none;\n",
              "      border-radius: 50%;\n",
              "      cursor: pointer;\n",
              "      display: none;\n",
              "      fill: #1967D2;\n",
              "      height: 32px;\n",
              "      padding: 0 0 0 0;\n",
              "      width: 32px;\n",
              "    }\n",
              "\n",
              "    .colab-df-convert:hover {\n",
              "      background-color: #E2EBFA;\n",
              "      box-shadow: 0px 1px 2px rgba(60, 64, 67, 0.3), 0px 1px 3px 1px rgba(60, 64, 67, 0.15);\n",
              "      fill: #174EA6;\n",
              "    }\n",
              "\n",
              "    [theme=dark] .colab-df-convert {\n",
              "      background-color: #3B4455;\n",
              "      fill: #D2E3FC;\n",
              "    }\n",
              "\n",
              "    [theme=dark] .colab-df-convert:hover {\n",
              "      background-color: #434B5C;\n",
              "      box-shadow: 0px 1px 3px 1px rgba(0, 0, 0, 0.15);\n",
              "      filter: drop-shadow(0px 1px 2px rgba(0, 0, 0, 0.3));\n",
              "      fill: #FFFFFF;\n",
              "    }\n",
              "  </style>\n",
              "\n",
              "      <script>\n",
              "        const buttonEl =\n",
              "          document.querySelector('#df-01b1e412-229a-4230-b265-5eb4178f52b0 button.colab-df-convert');\n",
              "        buttonEl.style.display =\n",
              "          google.colab.kernel.accessAllowed ? 'block' : 'none';\n",
              "\n",
              "        async function convertToInteractive(key) {\n",
              "          const element = document.querySelector('#df-01b1e412-229a-4230-b265-5eb4178f52b0');\n",
              "          const dataTable =\n",
              "            await google.colab.kernel.invokeFunction('convertToInteractive',\n",
              "                                                     [key], {});\n",
              "          if (!dataTable) return;\n",
              "\n",
              "          const docLinkHtml = 'Like what you see? Visit the ' +\n",
              "            '<a target=\"_blank\" href=https://colab.research.google.com/notebooks/data_table.ipynb>data table notebook</a>'\n",
              "            + ' to learn more about interactive tables.';\n",
              "          element.innerHTML = '';\n",
              "          dataTable['output_type'] = 'display_data';\n",
              "          await google.colab.output.renderOutput(dataTable, element);\n",
              "          const docLink = document.createElement('div');\n",
              "          docLink.innerHTML = docLinkHtml;\n",
              "          element.appendChild(docLink);\n",
              "        }\n",
              "      </script>\n",
              "    </div>\n",
              "  </div>\n",
              "  "
            ]
          },
          "metadata": {},
          "execution_count": 9
        }
      ]
    },
    {
      "cell_type": "markdown",
      "source": [
        "### part b"
      ],
      "metadata": {
        "id": "0oBzC8j8ZWWq"
      }
    },
    {
      "cell_type": "code",
      "source": [
        "pd.DataFrame(df2['count']).T.plot(kind='bar', stacked=True,figsize=(6, 7),title ='number of passengers based on the number of their trips')\n",
        "plt.text(0,df2.values[0]*0.8,df2.iloc[0,0],ha = 'center',color = \"white\",fontsize=12)\n",
        "plt.text(0,(df2.values[0]+df2.values[1])*0.9,df2.iloc[1,0],ha = 'center',color = \"white\",fontsize=12)\n",
        "plt.text(0,df2.values.sum()*0.9,df2.iloc[2,0],ha = 'center',color = \"white\",fontsize=12);"
      ],
      "metadata": {
        "colab": {
          "base_uri": "https://localhost:8080/",
          "height": 463
        },
        "id": "_ogft5pYscrQ",
        "outputId": "da490f0f-3d2b-4893-c967-ee4ce7226489"
      },
      "execution_count": 38,
      "outputs": [
        {
          "output_type": "display_data",
          "data": {
            "text/plain": [
              "<Figure size 432x504 with 1 Axes>"
            ],
            "image/png": "[encoded data removed]"
          },
          "metadata": {
            "needs_background": "light"
          }
        }
      ]
    },
    {
      "cell_type": "markdown",
      "source": [
        "#### I used stacked bar chart to show the number of passenger for each category (their category based on the number of trips they've made). I used this plot as a better substitution for pie chart. we have 7 passengers overall (with IDs: 0-6). 3 of them fall into the \"low\" category (they take taxi less than others). while 2 of passengers take taxis moderately (\"middle\" category) & the other 2, take taxis more frequently(\"high\" category)."
      ],
      "metadata": {
        "id": "gQ-OuAT-Zp7V"
      }
    },
    {
      "cell_type": "markdown",
      "source": [
        "9. Number of trips with or without a dropoff-zone"
      ],
      "metadata": {
        "id": "v7CWLlEWt_QV"
      }
    },
    {
      "cell_type": "code",
      "source": [
        "na_doz_idx = taxis.dropoff_zone.isna()\n",
        "notna_doz_idx = ~taxis.dropoff_zone.isna()\n",
        "\n",
        "print(f\"number of trips with unspecified dropoff zone: {na_doz_idx.sum()}\")\n",
        "print(f\"number of trips with specified dropoff zone: {notna_doz_idx.sum()}\")"
      ],
      "metadata": {
        "colab": {
          "base_uri": "https://localhost:8080/"
        },
        "id": "enx2gYIIZUgG",
        "outputId": "aec18c31-a844-4f08-9f10-884f55f8db26"
      },
      "execution_count": 18,
      "outputs": [
        {
          "output_type": "stream",
          "name": "stdout",
          "text": [
            "number of trips with unspecified dropoff zone: 45\n",
            "number of trips with specified dropoff zone: 6388\n"
          ]
        }
      ]
    },
    {
      "cell_type": "markdown",
      "source": [
        "10.Most frequent color among trips with a dropoff-zone"
      ],
      "metadata": {
        "id": "t_e9LLZvgR56"
      }
    },
    {
      "cell_type": "code",
      "source": [
        "color_taxi_notna = pd.DataFrame(taxis.loc[notna_doz_idx,'color']).reset_index(drop=True)\n",
        "color_taxi_notna['count'] = color_taxi_notna.groupby('color')['color'].transform('count')\n",
        "color_taxi_notna = color_taxi_notna.drop_duplicates(keep='first').reset_index(drop=True)\n",
        "color_taxi_notna.loc[color_taxi_notna['count'] == color_taxi_notna['count'].max(),:]"
      ],
      "metadata": {
        "id": "TgfaNjijvkjR",
        "colab": {
          "base_uri": "https://localhost:8080/",
          "height": 81
        },
        "outputId": "dacab889-7e88-4723-b064-cd9f0c313cce"
      },
      "execution_count": 19,
      "outputs": [
        {
          "output_type": "execute_result",
          "data": {
            "text/plain": [
              "    color  count\n",
              "0  yellow   5415"
            ],
            "text/html": [
              "\n",
              "  <div id=\"df-3a83de9f-895b-42d9-86e5-241ec8f90533\">\n",
              "    <div class=\"colab-df-container\">\n",
              "      <div>\n",
              "<style scoped>\n",
              "    .dataframe tbody tr th:only-of-type {\n",
              "        vertical-align: middle;\n",
              "    }\n",
              "\n",
              "    .dataframe tbody tr th {\n",
              "        vertical-align: top;\n",
              "    }\n",
              "\n",
              "    .dataframe thead th {\n",
              "        text-align: right;\n",
              "    }\n",
              "</style>\n",
              "<table border=\"1\" class=\"dataframe\">\n",
              "  <thead>\n",
              "    <tr style=\"text-align: right;\">\n",
              "      <th></th>\n",
              "      <th>color</th>\n",
              "      <th>count</th>\n",
              "    </tr>\n",
              "  </thead>\n",
              "  <tbody>\n",
              "    <tr>\n",
              "      <th>0</th>\n",
              "      <td>yellow</td>\n",
              "      <td>5415</td>\n",
              "    </tr>\n",
              "  </tbody>\n",
              "</table>\n",
              "</div>\n",
              "      <button class=\"colab-df-convert\" onclick=\"convertToInteractive('df-3a83de9f-895b-42d9-86e5-241ec8f90533')\"\n",
              "              title=\"Convert this dataframe to an interactive table.\"\n",
              "              style=\"display:none;\">\n",
              "        \n",
              "  <svg xmlns=\"http://www.w3.org/2000/svg\" height=\"24px\"viewBox=\"0 0 24 24\"\n",
              "       width=\"24px\">\n",
              "    <path d=\"M0 0h24v24H0V0z\" fill=\"none\"/>\n",
              "    <path d=\"M18.56 5.44l.94 2.06.94-2.06 2.06-.94-2.06-.94-.94-2.06-.94 2.06-2.06.94zm-11 1L8.5 8.5l.94-2.06 2.06-.94-2.06-.94L8.5 2.5l-.94 2.06-2.06.94zm10 10l.94 2.06.94-2.06 2.06-.94-2.06-.94-.94-2.06-.94 2.06-2.06.94z\"/><path d=\"M17.41 7.96l-1.37-1.37c-.4-.4-.92-.59-1.43-.59-.52 0-1.04.2-1.43.59L10.3 9.45l-7.72 7.72c-.78.78-.78 2.05 0 2.83L4 21.41c.39.39.9.59 1.41.59.51 0 1.02-.2 1.41-.59l7.78-7.78 2.81-2.81c.8-.78.8-2.07 0-2.86zM5.41 20L4 18.59l7.72-7.72 1.47 1.35L5.41 20z\"/>\n",
              "  </svg>\n",
              "      </button>\n",
              "      \n",
              "  <style>\n",
              "    .colab-df-container {\n",
              "      display:flex;\n",
              "      flex-wrap:wrap;\n",
              "      gap: 12px;\n",
              "    }\n",
              "\n",
              "    .colab-df-convert {\n",
              "      background-color: #E8F0FE;\n",
              "      border: none;\n",
              "      border-radius: 50%;\n",
              "      cursor: pointer;\n",
              "      display: none;\n",
              "      fill: #1967D2;\n",
              "      height: 32px;\n",
              "      padding: 0 0 0 0;\n",
              "      width: 32px;\n",
              "    }\n",
              "\n",
              "    .colab-df-convert:hover {\n",
              "      background-color: #E2EBFA;\n",
              "      box-shadow: 0px 1px 2px rgba(60, 64, 67, 0.3), 0px 1px 3px 1px rgba(60, 64, 67, 0.15);\n",
              "      fill: #174EA6;\n",
              "    }\n",
              "\n",
              "    [theme=dark] .colab-df-convert {\n",
              "      background-color: #3B4455;\n",
              "      fill: #D2E3FC;\n",
              "    }\n",
              "\n",
              "    [theme=dark] .colab-df-convert:hover {\n",
              "      background-color: #434B5C;\n",
              "      box-shadow: 0px 1px 3px 1px rgba(0, 0, 0, 0.15);\n",
              "      filter: drop-shadow(0px 1px 2px rgba(0, 0, 0, 0.3));\n",
              "      fill: #FFFFFF;\n",
              "    }\n",
              "  </style>\n",
              "\n",
              "      <script>\n",
              "        const buttonEl =\n",
              "          document.querySelector('#df-3a83de9f-895b-42d9-86e5-241ec8f90533 button.colab-df-convert');\n",
              "        buttonEl.style.display =\n",
              "          google.colab.kernel.accessAllowed ? 'block' : 'none';\n",
              "\n",
              "        async function convertToInteractive(key) {\n",
              "          const element = document.querySelector('#df-3a83de9f-895b-42d9-86e5-241ec8f90533');\n",
              "          const dataTable =\n",
              "            await google.colab.kernel.invokeFunction('convertToInteractive',\n",
              "                                                     [key], {});\n",
              "          if (!dataTable) return;\n",
              "\n",
              "          const docLinkHtml = 'Like what you see? Visit the ' +\n",
              "            '<a target=\"_blank\" href=https://colab.research.google.com/notebooks/data_table.ipynb>data table notebook</a>'\n",
              "            + ' to learn more about interactive tables.';\n",
              "          element.innerHTML = '';\n",
              "          dataTable['output_type'] = 'display_data';\n",
              "          await google.colab.output.renderOutput(dataTable, element);\n",
              "          const docLink = document.createElement('div');\n",
              "          docLink.innerHTML = docLinkHtml;\n",
              "          element.appendChild(docLink);\n",
              "        }\n",
              "      </script>\n",
              "    </div>\n",
              "  </div>\n",
              "  "
            ]
          },
          "metadata": {},
          "execution_count": 19
        }
      ]
    },
    {
      "cell_type": "code",
      "source": [
        "plt.figure(figsize=(8,6))\n",
        "sns.barplot(data=color_taxi_notna, x=\"color\", y=\"count\").set(title=\"number of taxis with yellow/green colors (specified dropoff zone)\");"
      ],
      "metadata": {
        "colab": {
          "base_uri": "https://localhost:8080/",
          "height": 410
        },
        "id": "__aKvUnKePSV",
        "outputId": "d3b2f8b2-f3f8-4a65-deb9-1d9bfb59f06d"
      },
      "execution_count": 20,
      "outputs": [
        {
          "output_type": "display_data",
          "data": {
            "text/plain": [
              "<Figure size 576x432 with 1 Axes>"
            ],
            "image/png": "[encoded data removed]"
          },
          "metadata": {}
        }
      ]
    },
    {
      "cell_type": "markdown",
      "source": [
        "## Part2 - Dimention Rednction"
      ],
      "metadata": {
        "id": "muR6qA9qoq79"
      }
    },
    {
      "cell_type": "markdown",
      "source": [
        "### Selection"
      ],
      "metadata": {
        "id": "Zohe7CcKYiqd"
      }
    },
    {
      "cell_type": "markdown",
      "source": [
        "#### We investigate 2 feature selection methods. the first approach is based on manuel analysis of the data which serve it as a baseline for our feature selection methods. then for the second approach we conducted an automatic feature slection method. these 2 methods are explained in the following:"
      ],
      "metadata": {
        "id": "78qkePDYRNh8"
      }
    },
    {
      "cell_type": "markdown",
      "source": [
        "## Method 1 - Manual Feature Selection"
      ],
      "metadata": {
        "id": "0lztQhlnaT0n"
      }
    },
    {
      "cell_type": "code",
      "source": [
        "taxis = sns.load_dataset('taxis')\n",
        "taxis_x = taxis.loc[:,['passengers','distance',\t'fare',\t'tip',\t'tolls']]\n",
        "taxis_y = taxis['total']"
      ],
      "metadata": {
        "id": "C-vqs0t1bWtN"
      },
      "execution_count": 91,
      "outputs": []
    },
    {
      "cell_type": "code",
      "source": [
        "corr_mat = taxis.corr(method = 'spearman')\n",
        "plt.figure(figsize=(18,12))\n",
        "heatmap = sns.heatmap(corr_mat, vmin=-1, vmax=1, annot=True,cmap=sns.cubehelix_palette(as_cmap=True))\n",
        "heatmap.set_title('Correlation Heatmap', fontdict={'fontsize':12}, pad=12);"
      ],
      "metadata": {
        "colab": {
          "base_uri": "https://localhost:8080/",
          "height": 722
        },
        "id": "oFn5zXxea-B_",
        "outputId": "1f68a45e-8f78-4bba-e411-2e846ddce1d0"
      },
      "execution_count": 87,
      "outputs": [
        {
          "output_type": "display_data",
          "data": {
            "text/plain": [
              "<Figure size 1296x864 with 2 Axes>"
            ],
            "image/png": "[encoded data removed]"
          },
          "metadata": {
            "needs_background": "light"
          }
        }
      ]
    },
    {
      "cell_type": "markdown",
      "source": [
        "### In this approach we just considered the numerical features.by considering these features, we have the highest correlation with the \"total\" ascendingly: <br>\"fare\"(0.95), \"distance\"(0.87), \"tip\"(0.5), \"tolls\"(0.38) and \"passengers\"(0.025)<br>amongst these features \"fare\" & \"distance\" have a really high correlation(0.93) with each other, so I choose -> \"fare\"<br>then \"tips\" and \"tolls\". <br> \"passengers\" have almost no linear correlation with \"total\", so I won't choose it for now\n",
        "### my chosen features are: \"fare\", \"tips\", \"tolls\""
      ],
      "metadata": {
        "id": "eqCvTT3Yai_I"
      }
    },
    {
      "cell_type": "markdown",
      "source": [
        "## Method 2 - Automatic Feature Selection"
      ],
      "metadata": {
        "id": "Cx6bwjf0aOSC"
      }
    },
    {
      "cell_type": "markdown",
      "source": [
        "#### after preprocessing the data with the function below, we calculate correlation matrix & group strongly correalted features (with a predefined threshold i.e. corr= 0.9) together.<br>Then we want to select one feature from each group & drop others. to do so, we calculate feature importance of each feature using `permutation feature importance` method where `Linear Regressin Model` is used as a base classifier.<br>Afterward, we select the feature with the highest feature imporatnce from each group.<br> additionally, we set drop the features with a permutation importance value lower than an specified threshold. "
      ],
      "metadata": {
        "id": "mFSko7QxaaEI"
      }
    },
    {
      "cell_type": "code",
      "source": [
        "# this function loads the data & preprocess it as we want(we can remove some columns, define what we want to predict, whether we want to normalize the data,\n",
        "# and if we want to OneHot encode the categorical features)\n",
        "\n",
        "def load_and_preprocess(forbidden_cols=[],target='total',minmax_scaler=True,onehot=True):\n",
        "    taxis = sns.load_dataset('taxis')\n",
        "    taxis = taxis.dropna()\n",
        "\n",
        "    cats = ['color', 'payment', 'pickup_zone', 'dropoff_zone', 'pickup_borough', 'dropoff_borough']\n",
        "    target_col_name = target\n",
        "    y = taxis[target_col_name]\n",
        "    X = taxis.drop([target_col_name] +forbidden_cols, axis=1)\n",
        "\n",
        "    if 'pickup' not in forbidden_cols:\n",
        "        X.pickup = pd.to_datetime(X.pickup)\n",
        "        X['pickup_hour'] = X['pickup'].dt.hour\n",
        "        X[\"pickup_day\"] = X.pickup.dt.day_name().astype(\"category\")\n",
        "        cats += [\"pickup_day\"]\n",
        "\n",
        "    if 'dropoff' not in forbidden_cols:\n",
        "        X.dropoff = pd.to_datetime(X.dropoff)\n",
        "        X['dropoff_hour'] = X['dropoff'].dt.hour\n",
        "        X[\"dropoff_day\"] = X.dropoff.dt.day_name().astype(\"category\")\n",
        "        cats += [\"dropoff_day\"]\n",
        "\n",
        "    cats = list(set(cats).difference(forbidden_cols))\n",
        "    for item in cats:\n",
        "        X[item] = X[item].astype(\"category\")\n",
        "\n",
        "    X = X.drop(list(set(['dropoff', 'pickup']).difference(forbidden_cols)), axis=1)\n",
        "\n",
        "    if onehot:\n",
        "       X = pd.get_dummies(X, columns=cats, dtype=np.float64, prefix_sep='_')\n",
        "    X.columns = [c.replace(\" \", \"_\") for c in X.columns]\n",
        "    cols=X.columns\n",
        "    if minmax_scaler:\n",
        "      scaler = StandardScaler().fit(X)\n",
        "      X = scaler.transform(X)\n",
        "    if X is not pandas.core.frame.DataFrame:\n",
        "        X=pd.DataFrame(X,columns=cols)\n",
        "    return X,y"
      ],
      "metadata": {
        "id": "ySElLXV4J9o_"
      },
      "execution_count": 22,
      "outputs": []
    },
    {
      "cell_type": "code",
      "source": [
        "all_cols=set(['pickup','dropoff','passengers','distance','fare','tip','tolls','color','payment','pickup_zone','dropoff_zone','pickup_borough','dropoff_borough'])\n",
        "X,y=load_and_preprocess(onehot=True,minmax_scaler=True,forbidden_cols=['passengers'])"
      ],
      "metadata": {
        "id": "rLpgMRMdKrAy"
      },
      "execution_count": 65,
      "outputs": []
    },
    {
      "cell_type": "code",
      "source": [
        "# this function groups strongly correlated features together with respect to the given threshold\n",
        "\n",
        "def group_correlated_feats(corr_mat,threshold=0.9):\n",
        "        features_to_drop_ = set()\n",
        "        _examined_features = set()\n",
        "        correlated_feature_sets_ = []\n",
        "\n",
        "        # for each feature in the dataset (columns of the correlation matrix)\n",
        "        for feature in corr_mat.columns:\n",
        "\n",
        "            if feature not in _examined_features:\n",
        "\n",
        "                # append so we can exclude when we create the combinations\n",
        "                _examined_features.add(feature)\n",
        "\n",
        "                # here we collect potentially correlated features\n",
        "                # we need this for the correlated groups sets\n",
        "                _temp_set = set([feature])\n",
        "\n",
        "                # features that have not been examined, are not currently examined and\n",
        "                # were not found correlated\n",
        "                _features_to_compare = [\n",
        "                    f for f in corr_mat.columns if f not in _examined_features\n",
        "                ]\n",
        "\n",
        "                # create combinations:\n",
        "                for f2 in _features_to_compare:\n",
        "\n",
        "                    # if the correlation is higher than the threshold\n",
        "                    # we are interested in absolute correlation coefficient value\n",
        "                    if abs(corr_mat.loc[f2, feature]) > threshold:\n",
        "\n",
        "                        # add feature (f2) to our correlated set\n",
        "                        features_to_drop_.add(f2)\n",
        "                        _temp_set.add(f2)\n",
        "                        _examined_features.add(f2)\n",
        "\n",
        "                # if there are correlated features\n",
        "                if len(_temp_set) > 1:\n",
        "                    correlated_feature_sets_.append(_temp_set)\n",
        "\n",
        "        # save input features\n",
        "        return correlated_feature_sets_"
      ],
      "metadata": {
        "id": "nerzm5-7MlQT"
      },
      "execution_count": 66,
      "outputs": []
    },
    {
      "cell_type": "code",
      "source": [
        "gcf = group_correlated_feats(X.corr(method='spearman'))\n",
        "gcf"
      ],
      "metadata": {
        "colab": {
          "base_uri": "https://localhost:8080/"
        },
        "id": "4M2DtFdEPRTm",
        "outputId": "3807d1c4-4d46-47f4-e315-1417a59d1095"
      },
      "execution_count": 67,
      "outputs": [
        {
          "output_type": "execute_result",
          "data": {
            "text/plain": [
              "[{'distance', 'fare'},\n",
              " {'dropoff_hour', 'pickup_hour'},\n",
              " {'dropoff_zone_Auburndale', 'pickup_zone_Whitestone'},\n",
              " {'dropoff_zone_Jamaica_Estates', 'pickup_zone_Crotona_Park_East'},\n",
              " {'dropoff_zone_Ozone_Park', 'pickup_zone_Queens_Village'},\n",
              " {'color_green', 'color_yellow'},\n",
              " {'payment_cash', 'payment_credit_card'},\n",
              " {'dropoff_day_Friday', 'pickup_day_Friday'},\n",
              " {'dropoff_day_Monday', 'pickup_day_Monday'},\n",
              " {'dropoff_day_Saturday', 'pickup_day_Saturday'},\n",
              " {'dropoff_day_Sunday', 'pickup_day_Sunday'},\n",
              " {'dropoff_day_Thursday', 'pickup_day_Thursday'},\n",
              " {'dropoff_day_Tuesday', 'pickup_day_Tuesday'},\n",
              " {'dropoff_day_Wednesday', 'pickup_day_Wednesday'}]"
            ]
          },
          "metadata": {},
          "execution_count": 67
        }
      ]
    },
    {
      "cell_type": "code",
      "source": [
        "def NormalizeData(data):\n",
        "    return (data - np.min(data)) / (np.max(data) - np.min(data))"
      ],
      "metadata": {
        "id": "FLrhS1zAQQDQ"
      },
      "execution_count": 68,
      "outputs": []
    },
    {
      "cell_type": "code",
      "source": [
        "# this cell calculates the permutation importance of each feature based on Linear Regression Model & Root Mean Square metric\n",
        "\n",
        "from sklearn.inspection import permutation_importance\n",
        "from sklearn.linear_model import LinearRegression\n",
        "\n",
        "result = permutation_importance(LinearRegression().fit(X,y), X, y, n_repeats=10,random_state=42,scoring=make_scorer(mean_squared_error, squared=True))\n",
        "feat_imp = pd.DataFrame(NormalizeData(result.importances).T,columns=list(X.columns))\n",
        "feat_imp_mean = feat_imp.mean(axis=0)\n",
        "feat_imp_mean = feat_imp_mean.sort_values(ascending=False)\n",
        "feat_imp_mean"
      ],
      "metadata": {
        "colab": {
          "base_uri": "https://localhost:8080/"
        },
        "id": "GDJ_9agMP2BJ",
        "outputId": "4d8db44a-a68a-42b3-9c9c-728b2046e5a0"
      },
      "execution_count": 69,
      "outputs": [
        {
          "output_type": "execute_result",
          "data": {
            "text/plain": [
              "distance                         1.000000\n",
              "tip                              1.000000\n",
              "tolls                            1.000000\n",
              "pickup_hour                      1.000000\n",
              "dropoff_hour                     1.000000\n",
              "                                   ...   \n",
              "dropoff_zone_Stapleton           0.845407\n",
              "pickup_borough_Brooklyn          0.781933\n",
              "dropoff_borough_Staten_Island    0.690968\n",
              "payment_credit_card              0.015068\n",
              "payment_cash                     0.015068\n",
              "Length: 430, dtype: float64"
            ]
          },
          "metadata": {},
          "execution_count": 69
        }
      ]
    },
    {
      "cell_type": "code",
      "source": [
        "# this cell selects the most important feature from each group of correlated features\n",
        "\n",
        "all_feats=list(X.columns)\n",
        "feats_to_drop = []\n",
        "for g in gcf:\n",
        "  feats = list(g)\n",
        "  selected_feat = feat_imp_mean[feats].index[0]\n",
        "  drop_feats = g.difference(set([selected_feat]))\n",
        "  feats_to_drop += list(drop_feats)\n",
        "\n",
        "X=X.loc[:,list(set(all_feats).difference(set(feats_to_drop)))]\n",
        "X.head(5)"
      ],
      "metadata": {
        "colab": {
          "base_uri": "https://localhost:8080/",
          "height": 206
        },
        "id": "CKx2EmRxJNiv",
        "outputId": "6f2499dc-0b9a-4115-c069-d6746434de09"
      },
      "execution_count": 85,
      "outputs": [
        {
          "output_type": "execute_result",
          "data": {
            "text/plain": [
              "   dropoff_hour       tip      fare     tolls\n",
              "0      0.988807  0.075071 -0.549175 -0.229932\n",
              "1      0.336019 -0.835286 -0.735718 -0.229932\n",
              "2      0.662413  0.163990 -0.502540 -0.229932\n",
              "3     -2.111935  1.768759  1.316252 -0.229932\n",
              "4     -0.153571 -0.369522 -0.362633 -0.229932"
            ],
            "text/html": [
              "\n",
              "  <div id=\"df-9a90a2d9-1190-4846-9767-3d4ffedfe1a8\">\n",
              "    <div class=\"colab-df-container\">\n",
              "      <div>\n",
              "<style scoped>\n",
              "    .dataframe tbody tr th:only-of-type {\n",
              "        vertical-align: middle;\n",
              "    }\n",
              "\n",
              "    .dataframe tbody tr th {\n",
              "        vertical-align: top;\n",
              "    }\n",
              "\n",
              "    .dataframe thead th {\n",
              "        text-align: right;\n",
              "    }\n",
              "</style>\n",
              "<table border=\"1\" class=\"dataframe\">\n",
              "  <thead>\n",
              "    <tr style=\"text-align: right;\">\n",
              "      <th></th>\n",
              "      <th>dropoff_hour</th>\n",
              "      <th>tip</th>\n",
              "      <th>fare</th>\n",
              "      <th>tolls</th>\n",
              "    </tr>\n",
              "  </thead>\n",
              "  <tbody>\n",
              "    <tr>\n",
              "      <th>0</th>\n",
              "      <td>0.988807</td>\n",
              "      <td>0.075071</td>\n",
              "      <td>-0.549175</td>\n",
              "      <td>-0.229932</td>\n",
              "    </tr>\n",
              "    <tr>\n",
              "      <th>1</th>\n",
              "      <td>0.336019</td>\n",
              "      <td>-0.835286</td>\n",
              "      <td>-0.735718</td>\n",
              "      <td>-0.229932</td>\n",
              "    </tr>\n",
              "    <tr>\n",
              "      <th>2</th>\n",
              "      <td>0.662413</td>\n",
              "      <td>0.163990</td>\n",
              "      <td>-0.502540</td>\n",
              "      <td>-0.229932</td>\n",
              "    </tr>\n",
              "    <tr>\n",
              "      <th>3</th>\n",
              "      <td>-2.111935</td>\n",
              "      <td>1.768759</td>\n",
              "      <td>1.316252</td>\n",
              "      <td>-0.229932</td>\n",
              "    </tr>\n",
              "    <tr>\n",
              "      <th>4</th>\n",
              "      <td>-0.153571</td>\n",
              "      <td>-0.369522</td>\n",
              "      <td>-0.362633</td>\n",
              "      <td>-0.229932</td>\n",
              "    </tr>\n",
              "  </tbody>\n",
              "</table>\n",
              "</div>\n",
              "      <button class=\"colab-df-convert\" onclick=\"convertToInteractive('df-9a90a2d9-1190-4846-9767-3d4ffedfe1a8')\"\n",
              "              title=\"Convert this dataframe to an interactive table.\"\n",
              "              style=\"display:none;\">\n",
              "        \n",
              "  <svg xmlns=\"http://www.w3.org/2000/svg\" height=\"24px\"viewBox=\"0 0 24 24\"\n",
              "       width=\"24px\">\n",
              "    <path d=\"M0 0h24v24H0V0z\" fill=\"none\"/>\n",
              "    <path d=\"M18.56 5.44l.94 2.06.94-2.06 2.06-.94-2.06-.94-.94-2.06-.94 2.06-2.06.94zm-11 1L8.5 8.5l.94-2.06 2.06-.94-2.06-.94L8.5 2.5l-.94 2.06-2.06.94zm10 10l.94 2.06.94-2.06 2.06-.94-2.06-.94-.94-2.06-.94 2.06-2.06.94z\"/><path d=\"M17.41 7.96l-1.37-1.37c-.4-.4-.92-.59-1.43-.59-.52 0-1.04.2-1.43.59L10.3 9.45l-7.72 7.72c-.78.78-.78 2.05 0 2.83L4 21.41c.39.39.9.59 1.41.59.51 0 1.02-.2 1.41-.59l7.78-7.78 2.81-2.81c.8-.78.8-2.07 0-2.86zM5.41 20L4 18.59l7.72-7.72 1.47 1.35L5.41 20z\"/>\n",
              "  </svg>\n",
              "      </button>\n",
              "      \n",
              "  <style>\n",
              "    .colab-df-container {\n",
              "      display:flex;\n",
              "      flex-wrap:wrap;\n",
              "      gap: 12px;\n",
              "    }\n",
              "\n",
              "    .colab-df-convert {\n",
              "      background-color: #E8F0FE;\n",
              "      border: none;\n",
              "      border-radius: 50%;\n",
              "      cursor: pointer;\n",
              "      display: none;\n",
              "      fill: #1967D2;\n",
              "      height: 32px;\n",
              "      padding: 0 0 0 0;\n",
              "      width: 32px;\n",
              "    }\n",
              "\n",
              "    .colab-df-convert:hover {\n",
              "      background-color: #E2EBFA;\n",
              "      box-shadow: 0px 1px 2px rgba(60, 64, 67, 0.3), 0px 1px 3px 1px rgba(60, 64, 67, 0.15);\n",
              "      fill: #174EA6;\n",
              "    }\n",
              "\n",
              "    [theme=dark] .colab-df-convert {\n",
              "      background-color: #3B4455;\n",
              "      fill: #D2E3FC;\n",
              "    }\n",
              "\n",
              "    [theme=dark] .colab-df-convert:hover {\n",
              "      background-color: #434B5C;\n",
              "      box-shadow: 0px 1px 3px 1px rgba(0, 0, 0, 0.15);\n",
              "      filter: drop-shadow(0px 1px 2px rgba(0, 0, 0, 0.3));\n",
              "      fill: #FFFFFF;\n",
              "    }\n",
              "  </style>\n",
              "\n",
              "      <script>\n",
              "        const buttonEl =\n",
              "          document.querySelector('#df-9a90a2d9-1190-4846-9767-3d4ffedfe1a8 button.colab-df-convert');\n",
              "        buttonEl.style.display =\n",
              "          google.colab.kernel.accessAllowed ? 'block' : 'none';\n",
              "\n",
              "        async function convertToInteractive(key) {\n",
              "          const element = document.querySelector('#df-9a90a2d9-1190-4846-9767-3d4ffedfe1a8');\n",
              "          const dataTable =\n",
              "            await google.colab.kernel.invokeFunction('convertToInteractive',\n",
              "                                                     [key], {});\n",
              "          if (!dataTable) return;\n",
              "\n",
              "          const docLinkHtml = 'Like what you see? Visit the ' +\n",
              "            '<a target=\"_blank\" href=https://colab.research.google.com/notebooks/data_table.ipynb>data table notebook</a>'\n",
              "            + ' to learn more about interactive tables.';\n",
              "          element.innerHTML = '';\n",
              "          dataTable['output_type'] = 'display_data';\n",
              "          await google.colab.output.renderOutput(dataTable, element);\n",
              "          const docLink = document.createElement('div');\n",
              "          docLink.innerHTML = docLinkHtml;\n",
              "          element.appendChild(docLink);\n",
              "        }\n",
              "      </script>\n",
              "    </div>\n",
              "  </div>\n",
              "  "
            ]
          },
          "metadata": {},
          "execution_count": 85
        }
      ]
    },
    {
      "cell_type": "code",
      "source": [
        "# this cell selects features with high feature importance from the remained features\n",
        "\n",
        "feat_imp_thr = 1\n",
        "X = X.loc[:,list(set(feat_imp_mean[feat_imp_mean.values >= feat_imp_thr].index).intersection(set(X.columns)))]\n",
        "X.head(5)"
      ],
      "metadata": {
        "colab": {
          "base_uri": "https://localhost:8080/",
          "height": 206
        },
        "id": "mzSyShFnV-Ff",
        "outputId": "24bb13b6-e38f-48e7-ffe9-311b317bbcfe"
      },
      "execution_count": 84,
      "outputs": [
        {
          "output_type": "execute_result",
          "data": {
            "text/plain": [
              "   dropoff_hour       tip      fare     tolls\n",
              "0      0.988807  0.075071 -0.549175 -0.229932\n",
              "1      0.336019 -0.835286 -0.735718 -0.229932\n",
              "2      0.662413  0.163990 -0.502540 -0.229932\n",
              "3     -2.111935  1.768759  1.316252 -0.229932\n",
              "4     -0.153571 -0.369522 -0.362633 -0.229932"
            ],
            "text/html": [
              "\n",
              "  <div id=\"df-f609620a-a198-4e21-8fbb-70762dd3fc68\">\n",
              "    <div class=\"colab-df-container\">\n",
              "      <div>\n",
              "<style scoped>\n",
              "    .dataframe tbody tr th:only-of-type {\n",
              "        vertical-align: middle;\n",
              "    }\n",
              "\n",
              "    .dataframe tbody tr th {\n",
              "        vertical-align: top;\n",
              "    }\n",
              "\n",
              "    .dataframe thead th {\n",
              "        text-align: right;\n",
              "    }\n",
              "</style>\n",
              "<table border=\"1\" class=\"dataframe\">\n",
              "  <thead>\n",
              "    <tr style=\"text-align: right;\">\n",
              "      <th></th>\n",
              "      <th>dropoff_hour</th>\n",
              "      <th>tip</th>\n",
              "      <th>fare</th>\n",
              "      <th>tolls</th>\n",
              "    </tr>\n",
              "  </thead>\n",
              "  <tbody>\n",
              "    <tr>\n",
              "      <th>0</th>\n",
              "      <td>0.988807</td>\n",
              "      <td>0.075071</td>\n",
              "      <td>-0.549175</td>\n",
              "      <td>-0.229932</td>\n",
              "    </tr>\n",
              "    <tr>\n",
              "      <th>1</th>\n",
              "      <td>0.336019</td>\n",
              "      <td>-0.835286</td>\n",
              "      <td>-0.735718</td>\n",
              "      <td>-0.229932</td>\n",
              "    </tr>\n",
              "    <tr>\n",
              "      <th>2</th>\n",
              "      <td>0.662413</td>\n",
              "      <td>0.163990</td>\n",
              "      <td>-0.502540</td>\n",
              "      <td>-0.229932</td>\n",
              "    </tr>\n",
              "    <tr>\n",
              "      <th>3</th>\n",
              "      <td>-2.111935</td>\n",
              "      <td>1.768759</td>\n",
              "      <td>1.316252</td>\n",
              "      <td>-0.229932</td>\n",
              "    </tr>\n",
              "    <tr>\n",
              "      <th>4</th>\n",
              "      <td>-0.153571</td>\n",
              "      <td>-0.369522</td>\n",
              "      <td>-0.362633</td>\n",
              "      <td>-0.229932</td>\n",
              "    </tr>\n",
              "  </tbody>\n",
              "</table>\n",
              "</div>\n",
              "      <button class=\"colab-df-convert\" onclick=\"convertToInteractive('df-f609620a-a198-4e21-8fbb-70762dd3fc68')\"\n",
              "              title=\"Convert this dataframe to an interactive table.\"\n",
              "              style=\"display:none;\">\n",
              "        \n",
              "  <svg xmlns=\"http://www.w3.org/2000/svg\" height=\"24px\"viewBox=\"0 0 24 24\"\n",
              "       width=\"24px\">\n",
              "    <path d=\"M0 0h24v24H0V0z\" fill=\"none\"/>\n",
              "    <path d=\"M18.56 5.44l.94 2.06.94-2.06 2.06-.94-2.06-.94-.94-2.06-.94 2.06-2.06.94zm-11 1L8.5 8.5l.94-2.06 2.06-.94-2.06-.94L8.5 2.5l-.94 2.06-2.06.94zm10 10l.94 2.06.94-2.06 2.06-.94-2.06-.94-.94-2.06-.94 2.06-2.06.94z\"/><path d=\"M17.41 7.96l-1.37-1.37c-.4-.4-.92-.59-1.43-.59-.52 0-1.04.2-1.43.59L10.3 9.45l-7.72 7.72c-.78.78-.78 2.05 0 2.83L4 21.41c.39.39.9.59 1.41.59.51 0 1.02-.2 1.41-.59l7.78-7.78 2.81-2.81c.8-.78.8-2.07 0-2.86zM5.41 20L4 18.59l7.72-7.72 1.47 1.35L5.41 20z\"/>\n",
              "  </svg>\n",
              "      </button>\n",
              "      \n",
              "  <style>\n",
              "    .colab-df-container {\n",
              "      display:flex;\n",
              "      flex-wrap:wrap;\n",
              "      gap: 12px;\n",
              "    }\n",
              "\n",
              "    .colab-df-convert {\n",
              "      background-color: #E8F0FE;\n",
              "      border: none;\n",
              "      border-radius: 50%;\n",
              "      cursor: pointer;\n",
              "      display: none;\n",
              "      fill: #1967D2;\n",
              "      height: 32px;\n",
              "      padding: 0 0 0 0;\n",
              "      width: 32px;\n",
              "    }\n",
              "\n",
              "    .colab-df-convert:hover {\n",
              "      background-color: #E2EBFA;\n",
              "      box-shadow: 0px 1px 2px rgba(60, 64, 67, 0.3), 0px 1px 3px 1px rgba(60, 64, 67, 0.15);\n",
              "      fill: #174EA6;\n",
              "    }\n",
              "\n",
              "    [theme=dark] .colab-df-convert {\n",
              "      background-color: #3B4455;\n",
              "      fill: #D2E3FC;\n",
              "    }\n",
              "\n",
              "    [theme=dark] .colab-df-convert:hover {\n",
              "      background-color: #434B5C;\n",
              "      box-shadow: 0px 1px 3px 1px rgba(0, 0, 0, 0.15);\n",
              "      filter: drop-shadow(0px 1px 2px rgba(0, 0, 0, 0.3));\n",
              "      fill: #FFFFFF;\n",
              "    }\n",
              "  </style>\n",
              "\n",
              "      <script>\n",
              "        const buttonEl =\n",
              "          document.querySelector('#df-f609620a-a198-4e21-8fbb-70762dd3fc68 button.colab-df-convert');\n",
              "        buttonEl.style.display =\n",
              "          google.colab.kernel.accessAllowed ? 'block' : 'none';\n",
              "\n",
              "        async function convertToInteractive(key) {\n",
              "          const element = document.querySelector('#df-f609620a-a198-4e21-8fbb-70762dd3fc68');\n",
              "          const dataTable =\n",
              "            await google.colab.kernel.invokeFunction('convertToInteractive',\n",
              "                                                     [key], {});\n",
              "          if (!dataTable) return;\n",
              "\n",
              "          const docLinkHtml = 'Like what you see? Visit the ' +\n",
              "            '<a target=\"_blank\" href=https://colab.research.google.com/notebooks/data_table.ipynb>data table notebook</a>'\n",
              "            + ' to learn more about interactive tables.';\n",
              "          element.innerHTML = '';\n",
              "          dataTable['output_type'] = 'display_data';\n",
              "          await google.colab.output.renderOutput(dataTable, element);\n",
              "          const docLink = document.createElement('div');\n",
              "          docLink.innerHTML = docLinkHtml;\n",
              "          element.appendChild(docLink);\n",
              "        }\n",
              "      </script>\n",
              "    </div>\n",
              "  </div>\n",
              "  "
            ]
          },
          "metadata": {},
          "execution_count": 84
        }
      ]
    },
    {
      "cell_type": "markdown",
      "source": [
        "### the selected features by this method are: 'dropoff_hour', 'tip', 'fare', 'tolls'"
      ],
      "metadata": {
        "id": "2_tt1iSWbCSC"
      }
    },
    {
      "cell_type": "markdown",
      "source": [
        "### PCA"
      ],
      "metadata": {
        "id": "kyvynTxaqjG-"
      }
    },
    {
      "cell_type": "markdown",
      "source": [
        "### we performed PCA with just the numerical features (so in the next section, I'm gonna compare feature selection using method 1 with PCA)"
      ],
      "metadata": {
        "id": "pC3ewWTgcGvk"
      }
    },
    {
      "cell_type": "code",
      "source": [
        "# PCA\n",
        "from sklearn.decomposition import PCA\n",
        "plt.figure(figsize=(10,8))\n",
        "pca = PCA().fit(taxis_x)\n",
        "X_transformed=pca.transform(taxis_x)\n",
        "plot=plt.scatter(X_transformed[:,0],X_transformed[:,1],c=taxis_y,alpha=0.7)\n",
        "plt.colorbar()\n",
        "plt.xlabel('PC1')\n",
        "plt.ylabel('PC2')\n",
        "plt.title('plot based one the first 2 principle components');"
      ],
      "metadata": {
        "id": "tsmj9bqZq1xn",
        "colab": {
          "base_uri": "https://localhost:8080/",
          "height": 513
        },
        "outputId": "36bf4f6e-031b-4fd2-9c09-9c35017ef099"
      },
      "execution_count": 12,
      "outputs": [
        {
          "output_type": "display_data",
          "data": {
            "text/plain": [
              "<Figure size 720x576 with 2 Axes>"
            ],
            "image/png": "[encoded data removed]"
          },
          "metadata": {
            "needs_background": "light"
          }
        }
      ]
    },
    {
      "cell_type": "code",
      "source": [
        "plt.figure(figsize=(10,8))\n",
        "plt.plot(np.cumsum(pca.explained_variance_ratio_),marker='*')\n",
        "plt.xlim(0,4,1)\n",
        "plt.xticks(range(1,5))\n",
        "plt.xlabel('number of components')\n",
        "plt.ylabel('cumulative explained variance')\n",
        "plt.title('Explained Variance for PCA')"
      ],
      "metadata": {
        "colab": {
          "base_uri": "https://localhost:8080/",
          "height": 530
        },
        "id": "EApFSvudMD9E",
        "outputId": "3dc635af-3fb2-47d8-9796-890f0f0efd33"
      },
      "execution_count": 104,
      "outputs": [
        {
          "output_type": "execute_result",
          "data": {
            "text/plain": [
              "Text(0.5, 1.0, 'Explained Variance for PCA')"
            ]
          },
          "metadata": {},
          "execution_count": 104
        },
        {
          "output_type": "display_data",
          "data": {
            "text/plain": [
              "<Figure size 720x576 with 1 Axes>"
            ],
            "image/png": "[encoded data removed]"
          },
          "metadata": {
            "needs_background": "light"
          }
        }
      ]
    },
    {
      "cell_type": "markdown",
      "source": [
        "#### by looking the \"explained variance\" plot, with 2 components, 97% of the variance of the numerical features can be explained. so choosing 2 PCs, would be good. "
      ],
      "metadata": {
        "id": "LNqJPZAjifzl"
      }
    },
    {
      "cell_type": "markdown",
      "source": [
        "### part C"
      ],
      "metadata": {
        "id": "rKK5pQP0c3Co"
      }
    },
    {
      "cell_type": "markdown",
      "source": [
        "#### it is done in the PCA code ( `X_transformed=pca.transform(taxis_x)`)"
      ],
      "metadata": {
        "id": "k1tfVqRfc7Id"
      }
    },
    {
      "cell_type": "markdown",
      "source": [
        "# Q3"
      ],
      "metadata": {
        "id": "4k9dNFLodOaG"
      }
    },
    {
      "cell_type": "markdown",
      "source": [
        "#### both these method were explained in their own section. now for comparing them we did:<br> 1. trained 2 `Regression Model`s with their selected features<br>2. we examined the trained models with respect to Mean Root Square Error<br>3. we observed that simple Linear models can predict the response variable (`total`) with small error<br>4. thereforfe, we concluded that the response variable enjoys the linear relationship with explanatory variables<br>5. all in all, PCA , Manual feature selection & Automatic feature selection methods achieve almost the same performance<br>6. so, we prefer PCA because it suffices our needs & it's simple"
      ],
      "metadata": {
        "id": "PAwoi0dIdQ-P"
      }
    },
    {
      "cell_type": "markdown",
      "source": [
        "I"
      ],
      "metadata": {
        "id": "MD_O1n3yjDVY"
      }
    },
    {
      "cell_type": "markdown",
      "source": [
        "## Part3 - Using Figure"
      ],
      "metadata": {
        "id": "TMO0VrSgoq_d"
      }
    },
    {
      "cell_type": "code",
      "source": [
        "#Plot\n",
        "fig , ax = plt.subplots(figsize=(10,10))\n",
        "ax.hist(taxis.tip, bins = [0, 5, 10, 15, 20, 25, 30])\n",
        "ax.set_xlabel('tip')\n",
        "ax.set_ylabel('count')\n",
        "ax.set_title('histogram')\n",
        "ax.annotate('Common tip',xytext = (10, 5500),xy = (4.5, len(taxis[taxis.tip <= 5])-1),arrowprops = { 'facecolor' : 'black', 'shrink' : 0.05 })\n",
        "l, b, h, w = .48, .45, .25, .35\n",
        "ax2 = fig.add_axes([l, b, w, h])\n",
        "ax2.hist(taxis.total, bins = [0, 25, 50, 75, 100, 125, 150, 175])\n",
        "ax2.set_xlabel('total')\n",
        "ax2.set_ylabel('count')\n",
        "ax2.set_title('histogram');\n"
      ],
      "metadata": {
        "id": "LdzTLLu5q9tU",
        "colab": {
          "base_uri": "https://localhost:8080/",
          "height": 621
        },
        "outputId": "f9468f5c-f44f-4754-a78e-9ab421b94978"
      },
      "execution_count": 11,
      "outputs": [
        {
          "output_type": "display_data",
          "data": {
            "text/plain": [
              "<Figure size 720x720 with 2 Axes>"
            ],
            "image/png": "[encoded data removed]"
          },
          "metadata": {
            "needs_background": "light"
          }
        }
      ]
    },
    {
      "cell_type": "code",
      "source": [],
      "metadata": {
        "id": "2LEU4ENiytlH"
      },
      "execution_count": null,
      "outputs": []
    }
  ],
  "metadata": {
    "kernelspec": {
      "display_name": "Python 3.8.10 64-bit",
      "language": "python",
      "name": "python3"
    },
    "language_info": {
      "name": "python",
      "version": "3.8.10"
    },
    "orig_nbformat": 4,
    "vscode": {
      "interpreter": {
        "hash": "916dbcbb3f70747c44a77c7bcd40155683ae19c65e1c03b4aa3499c5328201f1"
      }
    },
    "colab": {
      "provenance": [],
      "collapsed_sections": []
    }
  },
  "nbformat": 4,
  "nbformat_minor": 0
}