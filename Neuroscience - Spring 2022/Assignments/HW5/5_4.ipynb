{
  "cells": [
    {
      "cell_type": "code",
      "execution_count": 1,
      "metadata": {
        "id": "fmvpsLSIAhF3"
      },
      "outputs": [],
      "source": [
        "from sklearn.model_selection import train_test_split\n",
        "from sklearn.metrics import recall_score\n",
        "from sklearn.preprocessing import MinMaxScaler, StandardScaler\n",
        "from sklearn.svm import SVC\n",
        "import scipy.io as sio\n",
        "import numpy as np\n",
        "import matplotlib.pyplot as plt\n",
        "from copy import deepcopy\n",
        "%matplotlib inline"
      ]
    },
    {
      "cell_type": "markdown",
      "metadata": {
        "id": "YPouzTHFNSZH"
      },
      "source": [
        "## Angle"
      ]
    },
    {
      "cell_type": "code",
      "execution_count": 15,
      "metadata": {
        "id": "2AFptnowlwkd"
      },
      "outputs": [],
      "source": [
        "n1 = sio.loadmat('SpikeActBZ1.mat')\n",
        "n2 = sio.loadmat('SpikeActBZ2.mat')\n",
        "n3 = sio.loadmat('SpikeActBZ3.mat')\n",
        "n4 = sio.loadmat('SpikeActBZ4.mat')\n",
        "n5 = sio.loadmat('SpikeActBZ5.mat')\n",
        "n6 = sio.loadmat('SpikeActBZ6.mat')\n",
        "n7 = sio.loadmat('SpikeActBZ7.mat')\n",
        "n8 = sio.loadmat('SpikeActBZ8.mat')\n",
        "n9 = sio.loadmat('SpikeActBZ9.mat')\n",
        "n10 = sio.loadmat('SpikeActBZ10.mat')\n",
        "n11 = sio.loadmat('SpikeActBZ11.mat')\n",
        "n12 = sio.loadmat('SpikeActBZ12.mat')\n",
        "n13 = sio.loadmat('SpikeActBZ13.mat')\n",
        "n14 = sio.loadmat('SpikeActBZ14.mat')\n",
        "n15 = sio.loadmat('SpikeActBZ15.mat')\n",
        "n16 = sio.loadmat('SpikeActBZ16.mat')\n",
        "cond = sio.loadmat('cond.mat')\n",
        "\n"
      ]
    },
    {
      "cell_type": "code",
      "execution_count": 16,
      "metadata": {
        "colab": {
          "base_uri": "https://localhost:8080/"
        },
        "id": "XEyaEHVDEX-H",
        "outputId": "e831704a-edc6-483d-d28a-6daa1e178e54"
      },
      "outputs": [
        {
          "name": "stdout",
          "output_type": "stream",
          "text": [
            "labels: [0 1 2 3 4 5 6 7]\n"
          ]
        }
      ],
      "source": [
        "cond = cond['Cond'].ravel()\n",
        "cond_copy = deepcopy(cond)\n",
        "for i in range(8):\n",
        "    cond_copy[np.where((cond_copy==i+1) | (cond_copy==i+1+8))[0]] = i\n",
        "unique_labels = np.unique(cond_copy)\n",
        "print(\"labels:\", unique_labels)"
      ]
    },
    {
      "cell_type": "code",
      "execution_count": 17,
      "metadata": {
        "id": "AkpVYW3c5hOi"
      },
      "outputs": [],
      "source": [
        "n = [n1,n2,n3,n4,n5,n6,n7,n8,n9,n10,n11,n12,n13,n14,n15,n16]\n",
        "su_dic = {}\n",
        "list_su = [1, 2, 3, 5, 8, 9, 11, 13]\n",
        "for i in list_su:\n",
        "    mat = n[i-1]\n",
        "    su_dic[str(i)] = mat['su'][0][0][:, 2500:5500].astype(float)"
      ]
    },
    {
      "cell_type": "code",
      "execution_count": 18,
      "metadata": {
        "id": "ayoHfkJO5hO6"
      },
      "outputs": [],
      "source": [
        "neuron_list = ['1', '2', '3', '5', '8', '9', '11', '13']\n",
        "su_move = {}\n",
        "stride = 15\n",
        "win_size = 40\n",
        "for idx in neuron_list:\n",
        "    i = 0\n",
        "    mean_list = []\n",
        "    while True:\n",
        "        if (i*stride)+win_size > 3000:\n",
        "            break\n",
        "        mean_list.append(np.mean(su_dic[idx][:, i*stride:(i*stride)+win_size], axis=1))\n",
        "        i += 1\n",
        "    su_move[idx] = np.array(mean_list).T\n",
        "            \n"
      ]
    },
    {
      "cell_type": "code",
      "execution_count": 19,
      "metadata": {
        "id": "HlJ7DIW36rtG"
      },
      "outputs": [],
      "source": [
        "recall_matrix = []\n",
        "for i in range(su_move['1'].shape[1]):\n",
        "    dataset = []\n",
        "    for idx in neuron_list:\n",
        "        dataset.append(su_move[idx][:, i])\n",
        "    dataset = np.array(dataset).T\n",
        "    recall_class_list = []\n",
        "    for rs in range(0, 800, 20):\n",
        "        X_train, X_test, y_train, y_test = train_test_split(dataset, cond_copy, test_size=0.2, random_state=rs)\n",
        "        t = StandardScaler()\n",
        "        X_train = t.fit_transform(X_train)\n",
        "        X_test = t.transform(X_test)\n",
        "        model = SVC(kernel='linear', probability=True)\n",
        "        model.fit(X_train, y_train)\n",
        "        y_pred = model.predict(X_test)\n",
        "        recall_class_list.append(recall_score(y_test, y_pred, average=None).tolist())\n",
        "    recall_matrix.append(np.mean(np.array(recall_class_list), axis=0))\n",
        "recall_matrix = np.array(recall_matrix).T"
      ]
    },
    {
      "cell_type": "code",
      "execution_count": 28,
      "metadata": {
        "colab": {
          "base_uri": "https://localhost:8080/",
          "height": 272
        },
        "id": "F2TZiwFc6rmn",
        "outputId": "4a8d4d4a-ffdc-45b0-dbac-46b854fe9419"
      },
      "outputs": [
        {
          "data": {
            "image/png": "[encoded data removed]",
            "text/plain": [
              "<Figure size 1080x1080 with 1 Axes>"
            ]
          },
          "metadata": {
            "needs_background": "light"
          },
          "output_type": "display_data"
        }
      ],
      "source": [
        "fig, ax = plt.subplots(figsize=(15,15))\n",
        "ax.imshow(recall_matrix, aspect=5)\n",
        "plt.yticks(np.arange(8))\n",
        "plt.show()"
      ]
    },
    {
      "cell_type": "markdown",
      "metadata": {
        "id": "QUxGI2F1KR2h"
      },
      "source": [
        "## Radius"
      ]
    },
    {
      "cell_type": "code",
      "execution_count": 29,
      "metadata": {
        "colab": {
          "base_uri": "https://localhost:8080/"
        },
        "id": "qMfx0IjCK_sJ",
        "outputId": "1a730e36-326a-4ef9-f098-858310b1bba4"
      },
      "outputs": [
        {
          "name": "stdout",
          "output_type": "stream",
          "text": [
            "labels: [0 1]\n"
          ]
        }
      ],
      "source": [
        "cond_radius = deepcopy(cond)\n",
        "\n",
        "cond_radius[np.where(cond<=8)[0]] = 0\n",
        "cond_radius[np.where(cond>8)[0]] = 1\n",
        "unique_labels = np.unique(cond_radius)\n",
        "print(\"labels:\", unique_labels)"
      ]
    },
    {
      "cell_type": "code",
      "execution_count": 30,
      "metadata": {
        "id": "-v2utd_HK_sM"
      },
      "outputs": [],
      "source": [
        "recall_matrix_r = []\n",
        "for i in range(su_move['1'].shape[1]):\n",
        "    dataset = []\n",
        "    for idx in neuron_list:\n",
        "        dataset.append(su_move[idx][:, i])\n",
        "    dataset = np.array(dataset).T\n",
        "    recall_class_list = []\n",
        "    for rs in range(0, 800, 20):\n",
        "        X_train, X_test, y_train, y_test = train_test_split(dataset, cond_radius, test_size=0.2, random_state=rs)\n",
        "        t = StandardScaler()\n",
        "        X_train = t.fit_transform(X_train)\n",
        "        X_test = t.transform(X_test)\n",
        "        model = SVC(kernel='linear', probability=True)\n",
        "        model.fit(X_train, y_train)\n",
        "        y_pred = model.predict(X_test)\n",
        "        recall_class_list.append(recall_score(y_test, y_pred, average=None).tolist())\n",
        "    recall_matrix_r.append(np.mean(np.array(recall_class_list), axis=0))\n",
        "recall_matrix_r = np.array(recall_matrix_r).T"
      ]
    },
    {
      "cell_type": "code",
      "execution_count": 31,
      "metadata": {
        "colab": {
          "base_uri": "https://localhost:8080/",
          "height": 119
        },
        "id": "y7Bw4FFeKU0P",
        "outputId": "6f92b906-e057-4610-da75-71187a484e93"
      },
      "outputs": [
        {
          "data": {
            "image/png": "[encoded data removed]",
            "text/plain": [
              "<Figure size 1080x360 with 1 Axes>"
            ]
          },
          "metadata": {
            "needs_background": "light"
          },
          "output_type": "display_data"
        }
      ],
      "source": [
        "fig, ax = plt.subplots(figsize=(15, 8))\n",
        "ax.imshow(recall_matrix_r, aspect=5)\n",
        "plt.yticks([0, 1])\n",
        "plt.show()"
      ]
    }
  ],
  "metadata": {
    "colab": {
      "collapsed_sections": [],
      "name": "Question_4.ipynb",
      "provenance": []
    },
    "kernelspec": {
      "display_name": "Python 3.10.5 64-bit",
      "language": "python",
      "name": "python3"
    },
    "language_info": {
      "codemirror_mode": {
        "name": "ipython",
        "version": 3
      },
      "file_extension": ".py",
      "mimetype": "text/x-python",
      "name": "python",
      "nbconvert_exporter": "python",
      "pygments_lexer": "ipython3",
      "version": "3.10.5"
    },
    "vscode": {
      "interpreter": {
        "hash": "98a70705198618b40757f4d0e0cd81e920cd534dd864d2ad541ce8c6b4f10eed"
      }
    }
  },
  "nbformat": 4,
  "nbformat_minor": 0
}
